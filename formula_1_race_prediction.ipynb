{
 "cells": [
  {
   "cell_type": "markdown",
   "id": "f7bf9dd4",
   "metadata": {},
   "source": [
    "# Formula 1 Race Prediction"
   ]
  },
  {
   "cell_type": "code",
   "execution_count": 1,
   "id": "34d4e9e6",
   "metadata": {},
   "outputs": [],
   "source": [
    "import numpy as np\n",
    "import pandas as pd\n",
    "import matplotlib.pyplot as plt\n",
    "import seaborn as sns"
   ]
  },
  {
   "cell_type": "markdown",
   "id": "dd7ce7f7",
   "metadata": {},
   "source": [
    "## Roadmap\n",
    "#### 1. Data Structure Overview\n",
    "#### 2. Exploratory Data Analysis\n",
    "#### 3. Predict top 3, 6, 10 finish by categorical models\n",
    "#### 4. Predict head-to-head result\n",
    "#### 5. Predict finishing order based on head-to-head result\n",
    "#### 6. Probability of an event\n",
    "#### 7. Evaluation & Conclusion"
   ]
  },
  {
   "cell_type": "markdown",
   "id": "7d97dafc",
   "metadata": {},
   "source": [
    "## 1. Data Structure Overview\n",
    "import dataframes"
   ]
  },
  {
   "cell_type": "code",
   "execution_count": 2,
   "id": "3beda134",
   "metadata": {},
   "outputs": [],
   "source": [
    "circuits = pd.read_csv('data/circuits.csv')\n",
    "c_results = pd.read_csv('data/constructor_results.csv')\n",
    "c_standings = pd.read_csv('data/constructor_standings.csv')\n",
    "c = pd.read_csv('data/constructors.csv')\n",
    "d_standings = pd.read_csv('data/driver_standings.csv')\n",
    "d = pd.read_csv('data/drivers.csv')\n",
    "lap = pd.read_csv('data/lap_times.csv')\n",
    "pit = pd.read_csv('data/pit_stops.csv')\n",
    "quali = pd.read_csv('data/qualifying.csv')\n",
    "race = pd.read_csv('data/races.csv')\n",
    "results = pd.read_csv('data/results.csv')\n",
    "seasons = pd.read_csv('data/seasons.csv')\n",
    "sprint = pd.read_csv('data/sprint_results.csv')\n",
    "status = pd.read_csv('data/status.csv')"
   ]
  },
  {
   "cell_type": "markdown",
   "id": "1198b7ec",
   "metadata": {},
   "source": [
    "Check out dataframe structure. Note that the leftmost column is a meaningless index column"
   ]
  },
  {
   "cell_type": "code",
   "execution_count": 3,
   "id": "0b6fc4a7",
   "metadata": {},
   "outputs": [
    {
     "data": {
      "text/html": [
       "<div>\n",
       "<style scoped>\n",
       "    .dataframe tbody tr th:only-of-type {\n",
       "        vertical-align: middle;\n",
       "    }\n",
       "\n",
       "    .dataframe tbody tr th {\n",
       "        vertical-align: top;\n",
       "    }\n",
       "\n",
       "    .dataframe thead th {\n",
       "        text-align: right;\n",
       "    }\n",
       "</style>\n",
       "<table border=\"1\" class=\"dataframe\">\n",
       "  <thead>\n",
       "    <tr style=\"text-align: right;\">\n",
       "      <th></th>\n",
       "      <th>circuitId</th>\n",
       "      <th>circuitRef</th>\n",
       "      <th>name</th>\n",
       "      <th>location</th>\n",
       "      <th>country</th>\n",
       "      <th>lat</th>\n",
       "      <th>lng</th>\n",
       "      <th>alt</th>\n",
       "      <th>url</th>\n",
       "    </tr>\n",
       "  </thead>\n",
       "  <tbody>\n",
       "    <tr>\n",
       "      <th>0</th>\n",
       "      <td>1</td>\n",
       "      <td>albert_park</td>\n",
       "      <td>Albert Park Grand Prix Circuit</td>\n",
       "      <td>Melbourne</td>\n",
       "      <td>Australia</td>\n",
       "      <td>-37.84970</td>\n",
       "      <td>144.96800</td>\n",
       "      <td>10</td>\n",
       "      <td>http://en.wikipedia.org/wiki/Melbourne_Grand_P...</td>\n",
       "    </tr>\n",
       "    <tr>\n",
       "      <th>1</th>\n",
       "      <td>2</td>\n",
       "      <td>sepang</td>\n",
       "      <td>Sepang International Circuit</td>\n",
       "      <td>Kuala Lumpur</td>\n",
       "      <td>Malaysia</td>\n",
       "      <td>2.76083</td>\n",
       "      <td>101.73800</td>\n",
       "      <td>18</td>\n",
       "      <td>http://en.wikipedia.org/wiki/Sepang_Internatio...</td>\n",
       "    </tr>\n",
       "    <tr>\n",
       "      <th>2</th>\n",
       "      <td>3</td>\n",
       "      <td>bahrain</td>\n",
       "      <td>Bahrain International Circuit</td>\n",
       "      <td>Sakhir</td>\n",
       "      <td>Bahrain</td>\n",
       "      <td>26.03250</td>\n",
       "      <td>50.51060</td>\n",
       "      <td>7</td>\n",
       "      <td>http://en.wikipedia.org/wiki/Bahrain_Internati...</td>\n",
       "    </tr>\n",
       "    <tr>\n",
       "      <th>3</th>\n",
       "      <td>4</td>\n",
       "      <td>catalunya</td>\n",
       "      <td>Circuit de Barcelona-Catalunya</td>\n",
       "      <td>Montmeló</td>\n",
       "      <td>Spain</td>\n",
       "      <td>41.57000</td>\n",
       "      <td>2.26111</td>\n",
       "      <td>109</td>\n",
       "      <td>http://en.wikipedia.org/wiki/Circuit_de_Barcel...</td>\n",
       "    </tr>\n",
       "    <tr>\n",
       "      <th>4</th>\n",
       "      <td>5</td>\n",
       "      <td>istanbul</td>\n",
       "      <td>Istanbul Park</td>\n",
       "      <td>Istanbul</td>\n",
       "      <td>Turkey</td>\n",
       "      <td>40.95170</td>\n",
       "      <td>29.40500</td>\n",
       "      <td>130</td>\n",
       "      <td>http://en.wikipedia.org/wiki/Istanbul_Park</td>\n",
       "    </tr>\n",
       "  </tbody>\n",
       "</table>\n",
       "</div>"
      ],
      "text/plain": [
       "   circuitId   circuitRef                            name      location  \\\n",
       "0          1  albert_park  Albert Park Grand Prix Circuit     Melbourne   \n",
       "1          2       sepang    Sepang International Circuit  Kuala Lumpur   \n",
       "2          3      bahrain   Bahrain International Circuit        Sakhir   \n",
       "3          4    catalunya  Circuit de Barcelona-Catalunya      Montmeló   \n",
       "4          5     istanbul                   Istanbul Park      Istanbul   \n",
       "\n",
       "     country       lat        lng  alt  \\\n",
       "0  Australia -37.84970  144.96800   10   \n",
       "1   Malaysia   2.76083  101.73800   18   \n",
       "2    Bahrain  26.03250   50.51060    7   \n",
       "3      Spain  41.57000    2.26111  109   \n",
       "4     Turkey  40.95170   29.40500  130   \n",
       "\n",
       "                                                 url  \n",
       "0  http://en.wikipedia.org/wiki/Melbourne_Grand_P...  \n",
       "1  http://en.wikipedia.org/wiki/Sepang_Internatio...  \n",
       "2  http://en.wikipedia.org/wiki/Bahrain_Internati...  \n",
       "3  http://en.wikipedia.org/wiki/Circuit_de_Barcel...  \n",
       "4         http://en.wikipedia.org/wiki/Istanbul_Park  "
      ]
     },
     "execution_count": 3,
     "metadata": {},
     "output_type": "execute_result"
    }
   ],
   "source": [
    "circuits.head()"
   ]
  },
  {
   "cell_type": "code",
   "execution_count": 4,
   "id": "769e5c98",
   "metadata": {},
   "outputs": [
    {
     "data": {
      "text/html": [
       "<div>\n",
       "<style scoped>\n",
       "    .dataframe tbody tr th:only-of-type {\n",
       "        vertical-align: middle;\n",
       "    }\n",
       "\n",
       "    .dataframe tbody tr th {\n",
       "        vertical-align: top;\n",
       "    }\n",
       "\n",
       "    .dataframe thead th {\n",
       "        text-align: right;\n",
       "    }\n",
       "</style>\n",
       "<table border=\"1\" class=\"dataframe\">\n",
       "  <thead>\n",
       "    <tr style=\"text-align: right;\">\n",
       "      <th></th>\n",
       "      <th>driverId</th>\n",
       "      <th>driverRef</th>\n",
       "      <th>number</th>\n",
       "      <th>code</th>\n",
       "      <th>forename</th>\n",
       "      <th>surname</th>\n",
       "      <th>dob</th>\n",
       "      <th>nationality</th>\n",
       "      <th>url</th>\n",
       "    </tr>\n",
       "  </thead>\n",
       "  <tbody>\n",
       "    <tr>\n",
       "      <th>0</th>\n",
       "      <td>1</td>\n",
       "      <td>hamilton</td>\n",
       "      <td>44</td>\n",
       "      <td>HAM</td>\n",
       "      <td>Lewis</td>\n",
       "      <td>Hamilton</td>\n",
       "      <td>1985-01-07</td>\n",
       "      <td>British</td>\n",
       "      <td>http://en.wikipedia.org/wiki/Lewis_Hamilton</td>\n",
       "    </tr>\n",
       "    <tr>\n",
       "      <th>1</th>\n",
       "      <td>2</td>\n",
       "      <td>heidfeld</td>\n",
       "      <td>\\N</td>\n",
       "      <td>HEI</td>\n",
       "      <td>Nick</td>\n",
       "      <td>Heidfeld</td>\n",
       "      <td>1977-05-10</td>\n",
       "      <td>German</td>\n",
       "      <td>http://en.wikipedia.org/wiki/Nick_Heidfeld</td>\n",
       "    </tr>\n",
       "    <tr>\n",
       "      <th>2</th>\n",
       "      <td>3</td>\n",
       "      <td>rosberg</td>\n",
       "      <td>6</td>\n",
       "      <td>ROS</td>\n",
       "      <td>Nico</td>\n",
       "      <td>Rosberg</td>\n",
       "      <td>1985-06-27</td>\n",
       "      <td>German</td>\n",
       "      <td>http://en.wikipedia.org/wiki/Nico_Rosberg</td>\n",
       "    </tr>\n",
       "    <tr>\n",
       "      <th>3</th>\n",
       "      <td>4</td>\n",
       "      <td>alonso</td>\n",
       "      <td>14</td>\n",
       "      <td>ALO</td>\n",
       "      <td>Fernando</td>\n",
       "      <td>Alonso</td>\n",
       "      <td>1981-07-29</td>\n",
       "      <td>Spanish</td>\n",
       "      <td>http://en.wikipedia.org/wiki/Fernando_Alonso</td>\n",
       "    </tr>\n",
       "    <tr>\n",
       "      <th>4</th>\n",
       "      <td>5</td>\n",
       "      <td>kovalainen</td>\n",
       "      <td>\\N</td>\n",
       "      <td>KOV</td>\n",
       "      <td>Heikki</td>\n",
       "      <td>Kovalainen</td>\n",
       "      <td>1981-10-19</td>\n",
       "      <td>Finnish</td>\n",
       "      <td>http://en.wikipedia.org/wiki/Heikki_Kovalainen</td>\n",
       "    </tr>\n",
       "  </tbody>\n",
       "</table>\n",
       "</div>"
      ],
      "text/plain": [
       "   driverId   driverRef number code  forename     surname         dob  \\\n",
       "0         1    hamilton     44  HAM     Lewis    Hamilton  1985-01-07   \n",
       "1         2    heidfeld     \\N  HEI      Nick    Heidfeld  1977-05-10   \n",
       "2         3     rosberg      6  ROS      Nico     Rosberg  1985-06-27   \n",
       "3         4      alonso     14  ALO  Fernando      Alonso  1981-07-29   \n",
       "4         5  kovalainen     \\N  KOV    Heikki  Kovalainen  1981-10-19   \n",
       "\n",
       "  nationality                                             url  \n",
       "0     British     http://en.wikipedia.org/wiki/Lewis_Hamilton  \n",
       "1      German      http://en.wikipedia.org/wiki/Nick_Heidfeld  \n",
       "2      German       http://en.wikipedia.org/wiki/Nico_Rosberg  \n",
       "3     Spanish    http://en.wikipedia.org/wiki/Fernando_Alonso  \n",
       "4     Finnish  http://en.wikipedia.org/wiki/Heikki_Kovalainen  "
      ]
     },
     "execution_count": 4,
     "metadata": {},
     "output_type": "execute_result"
    }
   ],
   "source": [
    "d.head()"
   ]
  },
  {
   "cell_type": "code",
   "execution_count": 5,
   "id": "c6f9d590",
   "metadata": {},
   "outputs": [
    {
     "data": {
      "text/html": [
       "<div>\n",
       "<style scoped>\n",
       "    .dataframe tbody tr th:only-of-type {\n",
       "        vertical-align: middle;\n",
       "    }\n",
       "\n",
       "    .dataframe tbody tr th {\n",
       "        vertical-align: top;\n",
       "    }\n",
       "\n",
       "    .dataframe thead th {\n",
       "        text-align: right;\n",
       "    }\n",
       "</style>\n",
       "<table border=\"1\" class=\"dataframe\">\n",
       "  <thead>\n",
       "    <tr style=\"text-align: right;\">\n",
       "      <th></th>\n",
       "      <th>constructorResultsId</th>\n",
       "      <th>raceId</th>\n",
       "      <th>constructorId</th>\n",
       "      <th>points</th>\n",
       "      <th>status</th>\n",
       "    </tr>\n",
       "  </thead>\n",
       "  <tbody>\n",
       "    <tr>\n",
       "      <th>0</th>\n",
       "      <td>1</td>\n",
       "      <td>18</td>\n",
       "      <td>1</td>\n",
       "      <td>14.0</td>\n",
       "      <td>\\N</td>\n",
       "    </tr>\n",
       "    <tr>\n",
       "      <th>1</th>\n",
       "      <td>2</td>\n",
       "      <td>18</td>\n",
       "      <td>2</td>\n",
       "      <td>8.0</td>\n",
       "      <td>\\N</td>\n",
       "    </tr>\n",
       "    <tr>\n",
       "      <th>2</th>\n",
       "      <td>3</td>\n",
       "      <td>18</td>\n",
       "      <td>3</td>\n",
       "      <td>9.0</td>\n",
       "      <td>\\N</td>\n",
       "    </tr>\n",
       "    <tr>\n",
       "      <th>3</th>\n",
       "      <td>4</td>\n",
       "      <td>18</td>\n",
       "      <td>4</td>\n",
       "      <td>5.0</td>\n",
       "      <td>\\N</td>\n",
       "    </tr>\n",
       "    <tr>\n",
       "      <th>4</th>\n",
       "      <td>5</td>\n",
       "      <td>18</td>\n",
       "      <td>5</td>\n",
       "      <td>2.0</td>\n",
       "      <td>\\N</td>\n",
       "    </tr>\n",
       "  </tbody>\n",
       "</table>\n",
       "</div>"
      ],
      "text/plain": [
       "   constructorResultsId  raceId  constructorId  points status\n",
       "0                     1      18              1    14.0     \\N\n",
       "1                     2      18              2     8.0     \\N\n",
       "2                     3      18              3     9.0     \\N\n",
       "3                     4      18              4     5.0     \\N\n",
       "4                     5      18              5     2.0     \\N"
      ]
     },
     "execution_count": 5,
     "metadata": {},
     "output_type": "execute_result"
    }
   ],
   "source": [
    "c_results.head()"
   ]
  },
  {
   "cell_type": "markdown",
   "id": "0e93fd4a",
   "metadata": {},
   "source": [
    "Driver standings include the points and standing of each driver after each race"
   ]
  },
  {
   "cell_type": "code",
   "execution_count": 6,
   "id": "7c7ee020",
   "metadata": {},
   "outputs": [
    {
     "data": {
      "text/html": [
       "<div>\n",
       "<style scoped>\n",
       "    .dataframe tbody tr th:only-of-type {\n",
       "        vertical-align: middle;\n",
       "    }\n",
       "\n",
       "    .dataframe tbody tr th {\n",
       "        vertical-align: top;\n",
       "    }\n",
       "\n",
       "    .dataframe thead th {\n",
       "        text-align: right;\n",
       "    }\n",
       "</style>\n",
       "<table border=\"1\" class=\"dataframe\">\n",
       "  <thead>\n",
       "    <tr style=\"text-align: right;\">\n",
       "      <th></th>\n",
       "      <th>driverStandingsId</th>\n",
       "      <th>raceId</th>\n",
       "      <th>driverId</th>\n",
       "      <th>points</th>\n",
       "      <th>position</th>\n",
       "      <th>positionText</th>\n",
       "      <th>wins</th>\n",
       "    </tr>\n",
       "  </thead>\n",
       "  <tbody>\n",
       "    <tr>\n",
       "      <th>100</th>\n",
       "      <td>101</td>\n",
       "      <td>23</td>\n",
       "      <td>17</td>\n",
       "      <td>15.0</td>\n",
       "      <td>7</td>\n",
       "      <td>7</td>\n",
       "      <td>0</td>\n",
       "    </tr>\n",
       "    <tr>\n",
       "      <th>101</th>\n",
       "      <td>102</td>\n",
       "      <td>23</td>\n",
       "      <td>14</td>\n",
       "      <td>0.0</td>\n",
       "      <td>16</td>\n",
       "      <td>16</td>\n",
       "      <td>0</td>\n",
       "    </tr>\n",
       "    <tr>\n",
       "      <th>102</th>\n",
       "      <td>103</td>\n",
       "      <td>23</td>\n",
       "      <td>18</td>\n",
       "      <td>3.0</td>\n",
       "      <td>13</td>\n",
       "      <td>13</td>\n",
       "      <td>0</td>\n",
       "    </tr>\n",
       "    <tr>\n",
       "      <th>103</th>\n",
       "      <td>104</td>\n",
       "      <td>23</td>\n",
       "      <td>12</td>\n",
       "      <td>0.0</td>\n",
       "      <td>19</td>\n",
       "      <td>19</td>\n",
       "      <td>0</td>\n",
       "    </tr>\n",
       "    <tr>\n",
       "      <th>104</th>\n",
       "      <td>105</td>\n",
       "      <td>23</td>\n",
       "      <td>21</td>\n",
       "      <td>0.0</td>\n",
       "      <td>18</td>\n",
       "      <td>18</td>\n",
       "      <td>0</td>\n",
       "    </tr>\n",
       "  </tbody>\n",
       "</table>\n",
       "</div>"
      ],
      "text/plain": [
       "     driverStandingsId  raceId  driverId  points  position positionText  wins\n",
       "100                101      23        17    15.0         7            7     0\n",
       "101                102      23        14     0.0        16           16     0\n",
       "102                103      23        18     3.0        13           13     0\n",
       "103                104      23        12     0.0        19           19     0\n",
       "104                105      23        21     0.0        18           18     0"
      ]
     },
     "execution_count": 6,
     "metadata": {},
     "output_type": "execute_result"
    }
   ],
   "source": [
    "d_standings.iloc[100:105]"
   ]
  },
  {
   "cell_type": "code",
   "execution_count": 7,
   "id": "3d46aae8",
   "metadata": {},
   "outputs": [
    {
     "data": {
      "text/html": [
       "<div>\n",
       "<style scoped>\n",
       "    .dataframe tbody tr th:only-of-type {\n",
       "        vertical-align: middle;\n",
       "    }\n",
       "\n",
       "    .dataframe tbody tr th {\n",
       "        vertical-align: top;\n",
       "    }\n",
       "\n",
       "    .dataframe thead th {\n",
       "        text-align: right;\n",
       "    }\n",
       "</style>\n",
       "<table border=\"1\" class=\"dataframe\">\n",
       "  <thead>\n",
       "    <tr style=\"text-align: right;\">\n",
       "      <th></th>\n",
       "      <th>raceId</th>\n",
       "      <th>driverId</th>\n",
       "      <th>lap</th>\n",
       "      <th>position</th>\n",
       "      <th>time</th>\n",
       "      <th>milliseconds</th>\n",
       "    </tr>\n",
       "  </thead>\n",
       "  <tbody>\n",
       "    <tr>\n",
       "      <th>0</th>\n",
       "      <td>841</td>\n",
       "      <td>20</td>\n",
       "      <td>1</td>\n",
       "      <td>1</td>\n",
       "      <td>1:38.109</td>\n",
       "      <td>98109</td>\n",
       "    </tr>\n",
       "    <tr>\n",
       "      <th>1</th>\n",
       "      <td>841</td>\n",
       "      <td>20</td>\n",
       "      <td>2</td>\n",
       "      <td>1</td>\n",
       "      <td>1:33.006</td>\n",
       "      <td>93006</td>\n",
       "    </tr>\n",
       "    <tr>\n",
       "      <th>2</th>\n",
       "      <td>841</td>\n",
       "      <td>20</td>\n",
       "      <td>3</td>\n",
       "      <td>1</td>\n",
       "      <td>1:32.713</td>\n",
       "      <td>92713</td>\n",
       "    </tr>\n",
       "    <tr>\n",
       "      <th>3</th>\n",
       "      <td>841</td>\n",
       "      <td>20</td>\n",
       "      <td>4</td>\n",
       "      <td>1</td>\n",
       "      <td>1:32.803</td>\n",
       "      <td>92803</td>\n",
       "    </tr>\n",
       "    <tr>\n",
       "      <th>4</th>\n",
       "      <td>841</td>\n",
       "      <td>20</td>\n",
       "      <td>5</td>\n",
       "      <td>1</td>\n",
       "      <td>1:32.342</td>\n",
       "      <td>92342</td>\n",
       "    </tr>\n",
       "  </tbody>\n",
       "</table>\n",
       "</div>"
      ],
      "text/plain": [
       "   raceId  driverId  lap  position      time  milliseconds\n",
       "0     841        20    1         1  1:38.109         98109\n",
       "1     841        20    2         1  1:33.006         93006\n",
       "2     841        20    3         1  1:32.713         92713\n",
       "3     841        20    4         1  1:32.803         92803\n",
       "4     841        20    5         1  1:32.342         92342"
      ]
     },
     "execution_count": 7,
     "metadata": {},
     "output_type": "execute_result"
    }
   ],
   "source": [
    "lap.head()"
   ]
  },
  {
   "cell_type": "markdown",
   "id": "a9b1971d",
   "metadata": {},
   "source": [
    "Pit time is the total time in the box and through the pitlane"
   ]
  },
  {
   "cell_type": "code",
   "execution_count": 8,
   "id": "a405c745",
   "metadata": {},
   "outputs": [
    {
     "data": {
      "text/html": [
       "<div>\n",
       "<style scoped>\n",
       "    .dataframe tbody tr th:only-of-type {\n",
       "        vertical-align: middle;\n",
       "    }\n",
       "\n",
       "    .dataframe tbody tr th {\n",
       "        vertical-align: top;\n",
       "    }\n",
       "\n",
       "    .dataframe thead th {\n",
       "        text-align: right;\n",
       "    }\n",
       "</style>\n",
       "<table border=\"1\" class=\"dataframe\">\n",
       "  <thead>\n",
       "    <tr style=\"text-align: right;\">\n",
       "      <th></th>\n",
       "      <th>raceId</th>\n",
       "      <th>driverId</th>\n",
       "      <th>stop</th>\n",
       "      <th>lap</th>\n",
       "      <th>time</th>\n",
       "      <th>duration</th>\n",
       "      <th>milliseconds</th>\n",
       "    </tr>\n",
       "  </thead>\n",
       "  <tbody>\n",
       "    <tr>\n",
       "      <th>0</th>\n",
       "      <td>841</td>\n",
       "      <td>153</td>\n",
       "      <td>1</td>\n",
       "      <td>1</td>\n",
       "      <td>17:05:23</td>\n",
       "      <td>26.898</td>\n",
       "      <td>26898</td>\n",
       "    </tr>\n",
       "    <tr>\n",
       "      <th>1</th>\n",
       "      <td>841</td>\n",
       "      <td>30</td>\n",
       "      <td>1</td>\n",
       "      <td>1</td>\n",
       "      <td>17:05:52</td>\n",
       "      <td>25.021</td>\n",
       "      <td>25021</td>\n",
       "    </tr>\n",
       "    <tr>\n",
       "      <th>2</th>\n",
       "      <td>841</td>\n",
       "      <td>17</td>\n",
       "      <td>1</td>\n",
       "      <td>11</td>\n",
       "      <td>17:20:48</td>\n",
       "      <td>23.426</td>\n",
       "      <td>23426</td>\n",
       "    </tr>\n",
       "    <tr>\n",
       "      <th>3</th>\n",
       "      <td>841</td>\n",
       "      <td>4</td>\n",
       "      <td>1</td>\n",
       "      <td>12</td>\n",
       "      <td>17:22:34</td>\n",
       "      <td>23.251</td>\n",
       "      <td>23251</td>\n",
       "    </tr>\n",
       "    <tr>\n",
       "      <th>4</th>\n",
       "      <td>841</td>\n",
       "      <td>13</td>\n",
       "      <td>1</td>\n",
       "      <td>13</td>\n",
       "      <td>17:24:10</td>\n",
       "      <td>23.842</td>\n",
       "      <td>23842</td>\n",
       "    </tr>\n",
       "  </tbody>\n",
       "</table>\n",
       "</div>"
      ],
      "text/plain": [
       "   raceId  driverId  stop  lap      time duration  milliseconds\n",
       "0     841       153     1    1  17:05:23   26.898         26898\n",
       "1     841        30     1    1  17:05:52   25.021         25021\n",
       "2     841        17     1   11  17:20:48   23.426         23426\n",
       "3     841         4     1   12  17:22:34   23.251         23251\n",
       "4     841        13     1   13  17:24:10   23.842         23842"
      ]
     },
     "execution_count": 8,
     "metadata": {},
     "output_type": "execute_result"
    }
   ],
   "source": [
    "pit.head()"
   ]
  },
  {
   "cell_type": "code",
   "execution_count": 9,
   "id": "0fba8160",
   "metadata": {},
   "outputs": [
    {
     "data": {
      "text/html": [
       "<div>\n",
       "<style scoped>\n",
       "    .dataframe tbody tr th:only-of-type {\n",
       "        vertical-align: middle;\n",
       "    }\n",
       "\n",
       "    .dataframe tbody tr th {\n",
       "        vertical-align: top;\n",
       "    }\n",
       "\n",
       "    .dataframe thead th {\n",
       "        text-align: right;\n",
       "    }\n",
       "</style>\n",
       "<table border=\"1\" class=\"dataframe\">\n",
       "  <thead>\n",
       "    <tr style=\"text-align: right;\">\n",
       "      <th></th>\n",
       "      <th>qualifyId</th>\n",
       "      <th>raceId</th>\n",
       "      <th>driverId</th>\n",
       "      <th>constructorId</th>\n",
       "      <th>number</th>\n",
       "      <th>position</th>\n",
       "      <th>q1</th>\n",
       "      <th>q2</th>\n",
       "      <th>q3</th>\n",
       "    </tr>\n",
       "  </thead>\n",
       "  <tbody>\n",
       "    <tr>\n",
       "      <th>0</th>\n",
       "      <td>1</td>\n",
       "      <td>18</td>\n",
       "      <td>1</td>\n",
       "      <td>1</td>\n",
       "      <td>22</td>\n",
       "      <td>1</td>\n",
       "      <td>1:26.572</td>\n",
       "      <td>1:25.187</td>\n",
       "      <td>1:26.714</td>\n",
       "    </tr>\n",
       "    <tr>\n",
       "      <th>1</th>\n",
       "      <td>2</td>\n",
       "      <td>18</td>\n",
       "      <td>9</td>\n",
       "      <td>2</td>\n",
       "      <td>4</td>\n",
       "      <td>2</td>\n",
       "      <td>1:26.103</td>\n",
       "      <td>1:25.315</td>\n",
       "      <td>1:26.869</td>\n",
       "    </tr>\n",
       "    <tr>\n",
       "      <th>2</th>\n",
       "      <td>3</td>\n",
       "      <td>18</td>\n",
       "      <td>5</td>\n",
       "      <td>1</td>\n",
       "      <td>23</td>\n",
       "      <td>3</td>\n",
       "      <td>1:25.664</td>\n",
       "      <td>1:25.452</td>\n",
       "      <td>1:27.079</td>\n",
       "    </tr>\n",
       "    <tr>\n",
       "      <th>3</th>\n",
       "      <td>4</td>\n",
       "      <td>18</td>\n",
       "      <td>13</td>\n",
       "      <td>6</td>\n",
       "      <td>2</td>\n",
       "      <td>4</td>\n",
       "      <td>1:25.994</td>\n",
       "      <td>1:25.691</td>\n",
       "      <td>1:27.178</td>\n",
       "    </tr>\n",
       "    <tr>\n",
       "      <th>4</th>\n",
       "      <td>5</td>\n",
       "      <td>18</td>\n",
       "      <td>2</td>\n",
       "      <td>2</td>\n",
       "      <td>3</td>\n",
       "      <td>5</td>\n",
       "      <td>1:25.960</td>\n",
       "      <td>1:25.518</td>\n",
       "      <td>1:27.236</td>\n",
       "    </tr>\n",
       "  </tbody>\n",
       "</table>\n",
       "</div>"
      ],
      "text/plain": [
       "   qualifyId  raceId  driverId  constructorId  number  position        q1  \\\n",
       "0          1      18         1              1      22         1  1:26.572   \n",
       "1          2      18         9              2       4         2  1:26.103   \n",
       "2          3      18         5              1      23         3  1:25.664   \n",
       "3          4      18        13              6       2         4  1:25.994   \n",
       "4          5      18         2              2       3         5  1:25.960   \n",
       "\n",
       "         q2        q3  \n",
       "0  1:25.187  1:26.714  \n",
       "1  1:25.315  1:26.869  \n",
       "2  1:25.452  1:27.079  \n",
       "3  1:25.691  1:27.178  \n",
       "4  1:25.518  1:27.236  "
      ]
     },
     "execution_count": 9,
     "metadata": {},
     "output_type": "execute_result"
    }
   ],
   "source": [
    "quali.head()"
   ]
  },
  {
   "cell_type": "markdown",
   "id": "85c1cbbe",
   "metadata": {},
   "source": [
    "Races are NOT sorted by chronological order in the original dataframe"
   ]
  },
  {
   "cell_type": "code",
   "execution_count": 10,
   "id": "54d37dea",
   "metadata": {},
   "outputs": [
    {
     "data": {
      "text/html": [
       "<div>\n",
       "<style scoped>\n",
       "    .dataframe tbody tr th:only-of-type {\n",
       "        vertical-align: middle;\n",
       "    }\n",
       "\n",
       "    .dataframe tbody tr th {\n",
       "        vertical-align: top;\n",
       "    }\n",
       "\n",
       "    .dataframe thead th {\n",
       "        text-align: right;\n",
       "    }\n",
       "</style>\n",
       "<table border=\"1\" class=\"dataframe\">\n",
       "  <thead>\n",
       "    <tr style=\"text-align: right;\">\n",
       "      <th></th>\n",
       "      <th>raceId</th>\n",
       "      <th>year</th>\n",
       "      <th>round</th>\n",
       "      <th>circuitId</th>\n",
       "      <th>name</th>\n",
       "      <th>date</th>\n",
       "      <th>time</th>\n",
       "      <th>url</th>\n",
       "      <th>fp1_date</th>\n",
       "      <th>fp1_time</th>\n",
       "      <th>fp2_date</th>\n",
       "      <th>fp2_time</th>\n",
       "      <th>fp3_date</th>\n",
       "      <th>fp3_time</th>\n",
       "      <th>quali_date</th>\n",
       "      <th>quali_time</th>\n",
       "      <th>sprint_date</th>\n",
       "      <th>sprint_time</th>\n",
       "    </tr>\n",
       "  </thead>\n",
       "  <tbody>\n",
       "    <tr>\n",
       "      <th>838</th>\n",
       "      <td>839</td>\n",
       "      <td>1950</td>\n",
       "      <td>7</td>\n",
       "      <td>14</td>\n",
       "      <td>Italian Grand Prix</td>\n",
       "      <td>1950-09-03</td>\n",
       "      <td>\\N</td>\n",
       "      <td>http://en.wikipedia.org/wiki/1950_Italian_Gran...</td>\n",
       "      <td>\\N</td>\n",
       "      <td>\\N</td>\n",
       "      <td>\\N</td>\n",
       "      <td>\\N</td>\n",
       "      <td>\\N</td>\n",
       "      <td>\\N</td>\n",
       "      <td>\\N</td>\n",
       "      <td>\\N</td>\n",
       "      <td>\\N</td>\n",
       "      <td>\\N</td>\n",
       "    </tr>\n",
       "    <tr>\n",
       "      <th>837</th>\n",
       "      <td>838</td>\n",
       "      <td>1950</td>\n",
       "      <td>6</td>\n",
       "      <td>55</td>\n",
       "      <td>French Grand Prix</td>\n",
       "      <td>1950-07-02</td>\n",
       "      <td>\\N</td>\n",
       "      <td>http://en.wikipedia.org/wiki/1950_French_Grand...</td>\n",
       "      <td>\\N</td>\n",
       "      <td>\\N</td>\n",
       "      <td>\\N</td>\n",
       "      <td>\\N</td>\n",
       "      <td>\\N</td>\n",
       "      <td>\\N</td>\n",
       "      <td>\\N</td>\n",
       "      <td>\\N</td>\n",
       "      <td>\\N</td>\n",
       "      <td>\\N</td>\n",
       "    </tr>\n",
       "    <tr>\n",
       "      <th>836</th>\n",
       "      <td>837</td>\n",
       "      <td>1950</td>\n",
       "      <td>5</td>\n",
       "      <td>13</td>\n",
       "      <td>Belgian Grand Prix</td>\n",
       "      <td>1950-06-18</td>\n",
       "      <td>\\N</td>\n",
       "      <td>http://en.wikipedia.org/wiki/1950_Belgian_Gran...</td>\n",
       "      <td>\\N</td>\n",
       "      <td>\\N</td>\n",
       "      <td>\\N</td>\n",
       "      <td>\\N</td>\n",
       "      <td>\\N</td>\n",
       "      <td>\\N</td>\n",
       "      <td>\\N</td>\n",
       "      <td>\\N</td>\n",
       "      <td>\\N</td>\n",
       "      <td>\\N</td>\n",
       "    </tr>\n",
       "    <tr>\n",
       "      <th>835</th>\n",
       "      <td>836</td>\n",
       "      <td>1950</td>\n",
       "      <td>4</td>\n",
       "      <td>66</td>\n",
       "      <td>Swiss Grand Prix</td>\n",
       "      <td>1950-06-04</td>\n",
       "      <td>\\N</td>\n",
       "      <td>http://en.wikipedia.org/wiki/1950_Swiss_Grand_...</td>\n",
       "      <td>\\N</td>\n",
       "      <td>\\N</td>\n",
       "      <td>\\N</td>\n",
       "      <td>\\N</td>\n",
       "      <td>\\N</td>\n",
       "      <td>\\N</td>\n",
       "      <td>\\N</td>\n",
       "      <td>\\N</td>\n",
       "      <td>\\N</td>\n",
       "      <td>\\N</td>\n",
       "    </tr>\n",
       "    <tr>\n",
       "      <th>834</th>\n",
       "      <td>835</td>\n",
       "      <td>1950</td>\n",
       "      <td>3</td>\n",
       "      <td>19</td>\n",
       "      <td>Indianapolis 500</td>\n",
       "      <td>1950-05-30</td>\n",
       "      <td>\\N</td>\n",
       "      <td>http://en.wikipedia.org/wiki/1950_Indianapolis...</td>\n",
       "      <td>\\N</td>\n",
       "      <td>\\N</td>\n",
       "      <td>\\N</td>\n",
       "      <td>\\N</td>\n",
       "      <td>\\N</td>\n",
       "      <td>\\N</td>\n",
       "      <td>\\N</td>\n",
       "      <td>\\N</td>\n",
       "      <td>\\N</td>\n",
       "      <td>\\N</td>\n",
       "    </tr>\n",
       "  </tbody>\n",
       "</table>\n",
       "</div>"
      ],
      "text/plain": [
       "     raceId  year  round  circuitId                name        date time  \\\n",
       "838     839  1950      7         14  Italian Grand Prix  1950-09-03   \\N   \n",
       "837     838  1950      6         55   French Grand Prix  1950-07-02   \\N   \n",
       "836     837  1950      5         13  Belgian Grand Prix  1950-06-18   \\N   \n",
       "835     836  1950      4         66    Swiss Grand Prix  1950-06-04   \\N   \n",
       "834     835  1950      3         19    Indianapolis 500  1950-05-30   \\N   \n",
       "\n",
       "                                                   url fp1_date fp1_time  \\\n",
       "838  http://en.wikipedia.org/wiki/1950_Italian_Gran...       \\N       \\N   \n",
       "837  http://en.wikipedia.org/wiki/1950_French_Grand...       \\N       \\N   \n",
       "836  http://en.wikipedia.org/wiki/1950_Belgian_Gran...       \\N       \\N   \n",
       "835  http://en.wikipedia.org/wiki/1950_Swiss_Grand_...       \\N       \\N   \n",
       "834  http://en.wikipedia.org/wiki/1950_Indianapolis...       \\N       \\N   \n",
       "\n",
       "    fp2_date fp2_time fp3_date fp3_time quali_date quali_time sprint_date  \\\n",
       "838       \\N       \\N       \\N       \\N         \\N         \\N          \\N   \n",
       "837       \\N       \\N       \\N       \\N         \\N         \\N          \\N   \n",
       "836       \\N       \\N       \\N       \\N         \\N         \\N          \\N   \n",
       "835       \\N       \\N       \\N       \\N         \\N         \\N          \\N   \n",
       "834       \\N       \\N       \\N       \\N         \\N         \\N          \\N   \n",
       "\n",
       "    sprint_time  \n",
       "838          \\N  \n",
       "837          \\N  \n",
       "836          \\N  \n",
       "835          \\N  \n",
       "834          \\N  "
      ]
     },
     "execution_count": 10,
     "metadata": {},
     "output_type": "execute_result"
    }
   ],
   "source": [
    "race.sort_values('year').head()"
   ]
  },
  {
   "cell_type": "code",
   "execution_count": 11,
   "id": "bcc40a18",
   "metadata": {},
   "outputs": [
    {
     "name": "stdout",
     "output_type": "stream",
     "text": [
      "<class 'pandas.core.frame.DataFrame'>\n",
      "RangeIndex: 1125 entries, 0 to 1124\n",
      "Data columns (total 18 columns):\n",
      " #   Column       Non-Null Count  Dtype \n",
      "---  ------       --------------  ----- \n",
      " 0   raceId       1125 non-null   int64 \n",
      " 1   year         1125 non-null   int64 \n",
      " 2   round        1125 non-null   int64 \n",
      " 3   circuitId    1125 non-null   int64 \n",
      " 4   name         1125 non-null   object\n",
      " 5   date         1125 non-null   object\n",
      " 6   time         1125 non-null   object\n",
      " 7   url          1125 non-null   object\n",
      " 8   fp1_date     1125 non-null   object\n",
      " 9   fp1_time     1125 non-null   object\n",
      " 10  fp2_date     1125 non-null   object\n",
      " 11  fp2_time     1125 non-null   object\n",
      " 12  fp3_date     1125 non-null   object\n",
      " 13  fp3_time     1125 non-null   object\n",
      " 14  quali_date   1125 non-null   object\n",
      " 15  quali_time   1125 non-null   object\n",
      " 16  sprint_date  1125 non-null   object\n",
      " 17  sprint_time  1125 non-null   object\n",
      "dtypes: int64(4), object(14)\n",
      "memory usage: 158.3+ KB\n"
     ]
    }
   ],
   "source": [
    "race.info()"
   ]
  },
  {
   "cell_type": "code",
   "execution_count": 12,
   "id": "153dc4f7",
   "metadata": {},
   "outputs": [
    {
     "data": {
      "text/html": [
       "<div>\n",
       "<style scoped>\n",
       "    .dataframe tbody tr th:only-of-type {\n",
       "        vertical-align: middle;\n",
       "    }\n",
       "\n",
       "    .dataframe tbody tr th {\n",
       "        vertical-align: top;\n",
       "    }\n",
       "\n",
       "    .dataframe thead th {\n",
       "        text-align: right;\n",
       "    }\n",
       "</style>\n",
       "<table border=\"1\" class=\"dataframe\">\n",
       "  <thead>\n",
       "    <tr style=\"text-align: right;\">\n",
       "      <th></th>\n",
       "      <th>resultId</th>\n",
       "      <th>raceId</th>\n",
       "      <th>driverId</th>\n",
       "      <th>constructorId</th>\n",
       "      <th>number</th>\n",
       "      <th>grid</th>\n",
       "      <th>position</th>\n",
       "      <th>positionText</th>\n",
       "      <th>positionOrder</th>\n",
       "      <th>points</th>\n",
       "      <th>laps</th>\n",
       "      <th>time</th>\n",
       "      <th>milliseconds</th>\n",
       "      <th>fastestLap</th>\n",
       "      <th>rank</th>\n",
       "      <th>fastestLapTime</th>\n",
       "      <th>fastestLapSpeed</th>\n",
       "      <th>statusId</th>\n",
       "    </tr>\n",
       "  </thead>\n",
       "  <tbody>\n",
       "    <tr>\n",
       "      <th>0</th>\n",
       "      <td>1</td>\n",
       "      <td>18</td>\n",
       "      <td>1</td>\n",
       "      <td>1</td>\n",
       "      <td>22</td>\n",
       "      <td>1</td>\n",
       "      <td>1</td>\n",
       "      <td>1</td>\n",
       "      <td>1</td>\n",
       "      <td>10.0</td>\n",
       "      <td>58</td>\n",
       "      <td>1:34:50.616</td>\n",
       "      <td>5690616</td>\n",
       "      <td>39</td>\n",
       "      <td>2</td>\n",
       "      <td>1:27.452</td>\n",
       "      <td>218.300</td>\n",
       "      <td>1</td>\n",
       "    </tr>\n",
       "    <tr>\n",
       "      <th>1</th>\n",
       "      <td>2</td>\n",
       "      <td>18</td>\n",
       "      <td>2</td>\n",
       "      <td>2</td>\n",
       "      <td>3</td>\n",
       "      <td>5</td>\n",
       "      <td>2</td>\n",
       "      <td>2</td>\n",
       "      <td>2</td>\n",
       "      <td>8.0</td>\n",
       "      <td>58</td>\n",
       "      <td>+5.478</td>\n",
       "      <td>5696094</td>\n",
       "      <td>41</td>\n",
       "      <td>3</td>\n",
       "      <td>1:27.739</td>\n",
       "      <td>217.586</td>\n",
       "      <td>1</td>\n",
       "    </tr>\n",
       "    <tr>\n",
       "      <th>2</th>\n",
       "      <td>3</td>\n",
       "      <td>18</td>\n",
       "      <td>3</td>\n",
       "      <td>3</td>\n",
       "      <td>7</td>\n",
       "      <td>7</td>\n",
       "      <td>3</td>\n",
       "      <td>3</td>\n",
       "      <td>3</td>\n",
       "      <td>6.0</td>\n",
       "      <td>58</td>\n",
       "      <td>+8.163</td>\n",
       "      <td>5698779</td>\n",
       "      <td>41</td>\n",
       "      <td>5</td>\n",
       "      <td>1:28.090</td>\n",
       "      <td>216.719</td>\n",
       "      <td>1</td>\n",
       "    </tr>\n",
       "    <tr>\n",
       "      <th>3</th>\n",
       "      <td>4</td>\n",
       "      <td>18</td>\n",
       "      <td>4</td>\n",
       "      <td>4</td>\n",
       "      <td>5</td>\n",
       "      <td>11</td>\n",
       "      <td>4</td>\n",
       "      <td>4</td>\n",
       "      <td>4</td>\n",
       "      <td>5.0</td>\n",
       "      <td>58</td>\n",
       "      <td>+17.181</td>\n",
       "      <td>5707797</td>\n",
       "      <td>58</td>\n",
       "      <td>7</td>\n",
       "      <td>1:28.603</td>\n",
       "      <td>215.464</td>\n",
       "      <td>1</td>\n",
       "    </tr>\n",
       "    <tr>\n",
       "      <th>4</th>\n",
       "      <td>5</td>\n",
       "      <td>18</td>\n",
       "      <td>5</td>\n",
       "      <td>1</td>\n",
       "      <td>23</td>\n",
       "      <td>3</td>\n",
       "      <td>5</td>\n",
       "      <td>5</td>\n",
       "      <td>5</td>\n",
       "      <td>4.0</td>\n",
       "      <td>58</td>\n",
       "      <td>+18.014</td>\n",
       "      <td>5708630</td>\n",
       "      <td>43</td>\n",
       "      <td>1</td>\n",
       "      <td>1:27.418</td>\n",
       "      <td>218.385</td>\n",
       "      <td>1</td>\n",
       "    </tr>\n",
       "  </tbody>\n",
       "</table>\n",
       "</div>"
      ],
      "text/plain": [
       "   resultId  raceId  driverId  constructorId number  grid position  \\\n",
       "0         1      18         1              1     22     1        1   \n",
       "1         2      18         2              2      3     5        2   \n",
       "2         3      18         3              3      7     7        3   \n",
       "3         4      18         4              4      5    11        4   \n",
       "4         5      18         5              1     23     3        5   \n",
       "\n",
       "  positionText  positionOrder  points  laps         time milliseconds  \\\n",
       "0            1              1    10.0    58  1:34:50.616      5690616   \n",
       "1            2              2     8.0    58       +5.478      5696094   \n",
       "2            3              3     6.0    58       +8.163      5698779   \n",
       "3            4              4     5.0    58      +17.181      5707797   \n",
       "4            5              5     4.0    58      +18.014      5708630   \n",
       "\n",
       "  fastestLap rank fastestLapTime fastestLapSpeed  statusId  \n",
       "0         39    2       1:27.452         218.300         1  \n",
       "1         41    3       1:27.739         217.586         1  \n",
       "2         41    5       1:28.090         216.719         1  \n",
       "3         58    7       1:28.603         215.464         1  \n",
       "4         43    1       1:27.418         218.385         1  "
      ]
     },
     "execution_count": 12,
     "metadata": {},
     "output_type": "execute_result"
    }
   ],
   "source": [
    "results.head()"
   ]
  },
  {
   "cell_type": "markdown",
   "id": "4a6288e9",
   "metadata": {},
   "source": [
    "Merge results and race to get date and circuit for each race. The time column in race is dropped because it conflicts with the total race time in results."
   ]
  },
  {
   "cell_type": "code",
   "execution_count": 13,
   "id": "3f3ea061",
   "metadata": {},
   "outputs": [
    {
     "data": {
      "text/html": [
       "<div>\n",
       "<style scoped>\n",
       "    .dataframe tbody tr th:only-of-type {\n",
       "        vertical-align: middle;\n",
       "    }\n",
       "\n",
       "    .dataframe tbody tr th {\n",
       "        vertical-align: top;\n",
       "    }\n",
       "\n",
       "    .dataframe thead th {\n",
       "        text-align: right;\n",
       "    }\n",
       "</style>\n",
       "<table border=\"1\" class=\"dataframe\">\n",
       "  <thead>\n",
       "    <tr style=\"text-align: right;\">\n",
       "      <th></th>\n",
       "      <th>year</th>\n",
       "      <th>round</th>\n",
       "      <th>circuitId</th>\n",
       "      <th>resultId</th>\n",
       "      <th>raceId</th>\n",
       "      <th>driverId</th>\n",
       "      <th>constructorId</th>\n",
       "      <th>number</th>\n",
       "      <th>grid</th>\n",
       "      <th>position</th>\n",
       "      <th>...</th>\n",
       "      <th>positionOrder</th>\n",
       "      <th>points</th>\n",
       "      <th>laps</th>\n",
       "      <th>time</th>\n",
       "      <th>milliseconds</th>\n",
       "      <th>fastestLap</th>\n",
       "      <th>rank</th>\n",
       "      <th>fastestLapTime</th>\n",
       "      <th>fastestLapSpeed</th>\n",
       "      <th>statusId</th>\n",
       "    </tr>\n",
       "  </thead>\n",
       "  <tbody>\n",
       "    <tr>\n",
       "      <th>20619</th>\n",
       "      <td>1950</td>\n",
       "      <td>1</td>\n",
       "      <td>9</td>\n",
       "      <td>20025</td>\n",
       "      <td>833</td>\n",
       "      <td>642</td>\n",
       "      <td>51</td>\n",
       "      <td>2</td>\n",
       "      <td>1</td>\n",
       "      <td>1</td>\n",
       "      <td>...</td>\n",
       "      <td>1</td>\n",
       "      <td>9.0</td>\n",
       "      <td>70</td>\n",
       "      <td>2:13:23.6</td>\n",
       "      <td>8003600</td>\n",
       "      <td>\\N</td>\n",
       "      <td>\\N</td>\n",
       "      <td>\\N</td>\n",
       "      <td>\\N</td>\n",
       "      <td>1</td>\n",
       "    </tr>\n",
       "    <tr>\n",
       "      <th>20620</th>\n",
       "      <td>1950</td>\n",
       "      <td>1</td>\n",
       "      <td>9</td>\n",
       "      <td>20026</td>\n",
       "      <td>833</td>\n",
       "      <td>786</td>\n",
       "      <td>51</td>\n",
       "      <td>3</td>\n",
       "      <td>2</td>\n",
       "      <td>2</td>\n",
       "      <td>...</td>\n",
       "      <td>2</td>\n",
       "      <td>6.0</td>\n",
       "      <td>70</td>\n",
       "      <td>+2.6</td>\n",
       "      <td>8006200</td>\n",
       "      <td>\\N</td>\n",
       "      <td>\\N</td>\n",
       "      <td>\\N</td>\n",
       "      <td>\\N</td>\n",
       "      <td>1</td>\n",
       "    </tr>\n",
       "    <tr>\n",
       "      <th>20621</th>\n",
       "      <td>1950</td>\n",
       "      <td>1</td>\n",
       "      <td>9</td>\n",
       "      <td>20027</td>\n",
       "      <td>833</td>\n",
       "      <td>686</td>\n",
       "      <td>51</td>\n",
       "      <td>4</td>\n",
       "      <td>4</td>\n",
       "      <td>3</td>\n",
       "      <td>...</td>\n",
       "      <td>3</td>\n",
       "      <td>4.0</td>\n",
       "      <td>70</td>\n",
       "      <td>+52.0</td>\n",
       "      <td>8055600</td>\n",
       "      <td>\\N</td>\n",
       "      <td>\\N</td>\n",
       "      <td>\\N</td>\n",
       "      <td>\\N</td>\n",
       "      <td>1</td>\n",
       "    </tr>\n",
       "    <tr>\n",
       "      <th>20622</th>\n",
       "      <td>1950</td>\n",
       "      <td>1</td>\n",
       "      <td>9</td>\n",
       "      <td>20028</td>\n",
       "      <td>833</td>\n",
       "      <td>704</td>\n",
       "      <td>154</td>\n",
       "      <td>14</td>\n",
       "      <td>6</td>\n",
       "      <td>4</td>\n",
       "      <td>...</td>\n",
       "      <td>4</td>\n",
       "      <td>3.0</td>\n",
       "      <td>68</td>\n",
       "      <td>\\N</td>\n",
       "      <td>\\N</td>\n",
       "      <td>\\N</td>\n",
       "      <td>\\N</td>\n",
       "      <td>\\N</td>\n",
       "      <td>\\N</td>\n",
       "      <td>12</td>\n",
       "    </tr>\n",
       "    <tr>\n",
       "      <th>20623</th>\n",
       "      <td>1950</td>\n",
       "      <td>1</td>\n",
       "      <td>9</td>\n",
       "      <td>20029</td>\n",
       "      <td>833</td>\n",
       "      <td>627</td>\n",
       "      <td>154</td>\n",
       "      <td>15</td>\n",
       "      <td>9</td>\n",
       "      <td>5</td>\n",
       "      <td>...</td>\n",
       "      <td>5</td>\n",
       "      <td>2.0</td>\n",
       "      <td>68</td>\n",
       "      <td>\\N</td>\n",
       "      <td>\\N</td>\n",
       "      <td>\\N</td>\n",
       "      <td>\\N</td>\n",
       "      <td>\\N</td>\n",
       "      <td>\\N</td>\n",
       "      <td>12</td>\n",
       "    </tr>\n",
       "  </tbody>\n",
       "</table>\n",
       "<p>5 rows × 21 columns</p>\n",
       "</div>"
      ],
      "text/plain": [
       "       year  round  circuitId  resultId  raceId  driverId  constructorId  \\\n",
       "20619  1950      1          9     20025     833       642             51   \n",
       "20620  1950      1          9     20026     833       786             51   \n",
       "20621  1950      1          9     20027     833       686             51   \n",
       "20622  1950      1          9     20028     833       704            154   \n",
       "20623  1950      1          9     20029     833       627            154   \n",
       "\n",
       "      number  grid position  ... positionOrder  points  laps       time  \\\n",
       "20619      2     1        1  ...             1     9.0    70  2:13:23.6   \n",
       "20620      3     2        2  ...             2     6.0    70       +2.6   \n",
       "20621      4     4        3  ...             3     4.0    70      +52.0   \n",
       "20622     14     6        4  ...             4     3.0    68         \\N   \n",
       "20623     15     9        5  ...             5     2.0    68         \\N   \n",
       "\n",
       "      milliseconds fastestLap rank fastestLapTime fastestLapSpeed statusId  \n",
       "20619      8003600         \\N   \\N             \\N              \\N        1  \n",
       "20620      8006200         \\N   \\N             \\N              \\N        1  \n",
       "20621      8055600         \\N   \\N             \\N              \\N        1  \n",
       "20622           \\N         \\N   \\N             \\N              \\N       12  \n",
       "20623           \\N         \\N   \\N             \\N              \\N       12  \n",
       "\n",
       "[5 rows x 21 columns]"
      ]
     },
     "execution_count": 13,
     "metadata": {},
     "output_type": "execute_result"
    }
   ],
   "source": [
    "raceresults = pd.merge(race.drop('time', axis = 1), results, how = 'inner', on = 'raceId')[['year', 'round', 'circuitId']+list(results.columns)].sort_values(['year', 'round', 'positionOrder'], ascending = True)\n",
    "raceresults.head()"
   ]
  },
  {
   "cell_type": "markdown",
   "id": "85bc8fad",
   "metadata": {},
   "source": [
    "Get championship results of each year. We find it by determining the last race (max round) of each year from raceresults dataframe and match it in the d_standings dataframe."
   ]
  },
  {
   "cell_type": "code",
   "execution_count": 14,
   "id": "307d78e5",
   "metadata": {},
   "outputs": [
    {
     "data": {
      "text/html": [
       "<div>\n",
       "<style scoped>\n",
       "    .dataframe tbody tr th:only-of-type {\n",
       "        vertical-align: middle;\n",
       "    }\n",
       "\n",
       "    .dataframe tbody tr th {\n",
       "        vertical-align: top;\n",
       "    }\n",
       "\n",
       "    .dataframe thead th {\n",
       "        text-align: right;\n",
       "    }\n",
       "</style>\n",
       "<table border=\"1\" class=\"dataframe\">\n",
       "  <thead>\n",
       "    <tr style=\"text-align: right;\">\n",
       "      <th></th>\n",
       "      <th>year</th>\n",
       "      <th>round</th>\n",
       "    </tr>\n",
       "  </thead>\n",
       "  <tbody>\n",
       "    <tr>\n",
       "      <th>0</th>\n",
       "      <td>1950</td>\n",
       "      <td>7</td>\n",
       "    </tr>\n",
       "    <tr>\n",
       "      <th>1</th>\n",
       "      <td>1951</td>\n",
       "      <td>8</td>\n",
       "    </tr>\n",
       "    <tr>\n",
       "      <th>2</th>\n",
       "      <td>1952</td>\n",
       "      <td>8</td>\n",
       "    </tr>\n",
       "    <tr>\n",
       "      <th>3</th>\n",
       "      <td>1953</td>\n",
       "      <td>9</td>\n",
       "    </tr>\n",
       "    <tr>\n",
       "      <th>4</th>\n",
       "      <td>1954</td>\n",
       "      <td>9</td>\n",
       "    </tr>\n",
       "  </tbody>\n",
       "</table>\n",
       "</div>"
      ],
      "text/plain": [
       "   year  round\n",
       "0  1950      7\n",
       "1  1951      8\n",
       "2  1952      8\n",
       "3  1953      9\n",
       "4  1954      9"
      ]
     },
     "execution_count": 14,
     "metadata": {},
     "output_type": "execute_result"
    }
   ],
   "source": [
    "max_round = raceresults.groupby('year')['round'].max().reset_index()\n",
    "max_round.head()"
   ]
  },
  {
   "cell_type": "code",
   "execution_count": 15,
   "id": "a3ad5fde",
   "metadata": {},
   "outputs": [
    {
     "data": {
      "text/html": [
       "<div>\n",
       "<style scoped>\n",
       "    .dataframe tbody tr th:only-of-type {\n",
       "        vertical-align: middle;\n",
       "    }\n",
       "\n",
       "    .dataframe tbody tr th {\n",
       "        vertical-align: top;\n",
       "    }\n",
       "\n",
       "    .dataframe thead th {\n",
       "        text-align: right;\n",
       "    }\n",
       "</style>\n",
       "<table border=\"1\" class=\"dataframe\">\n",
       "  <thead>\n",
       "    <tr style=\"text-align: right;\">\n",
       "      <th></th>\n",
       "      <th>year</th>\n",
       "      <th>raceId</th>\n",
       "    </tr>\n",
       "  </thead>\n",
       "  <tbody>\n",
       "    <tr>\n",
       "      <th>0</th>\n",
       "      <td>1950</td>\n",
       "      <td>839</td>\n",
       "    </tr>\n",
       "    <tr>\n",
       "      <th>1</th>\n",
       "      <td>1951</td>\n",
       "      <td>832</td>\n",
       "    </tr>\n",
       "    <tr>\n",
       "      <th>2</th>\n",
       "      <td>1952</td>\n",
       "      <td>824</td>\n",
       "    </tr>\n",
       "    <tr>\n",
       "      <th>3</th>\n",
       "      <td>1953</td>\n",
       "      <td>816</td>\n",
       "    </tr>\n",
       "    <tr>\n",
       "      <th>4</th>\n",
       "      <td>1954</td>\n",
       "      <td>807</td>\n",
       "    </tr>\n",
       "  </tbody>\n",
       "</table>\n",
       "</div>"
      ],
      "text/plain": [
       "   year  raceId\n",
       "0  1950     839\n",
       "1  1951     832\n",
       "2  1952     824\n",
       "3  1953     816\n",
       "4  1954     807"
      ]
     },
     "execution_count": 15,
     "metadata": {},
     "output_type": "execute_result"
    }
   ],
   "source": [
    "last_race = max_round.merge(race, how = 'left', on = ['year', 'round'])[['year', 'raceId']]\n",
    "last_race.head()"
   ]
  },
  {
   "cell_type": "code",
   "execution_count": 16,
   "id": "7ead226e",
   "metadata": {},
   "outputs": [
    {
     "data": {
      "text/html": [
       "<div>\n",
       "<style scoped>\n",
       "    .dataframe tbody tr th:only-of-type {\n",
       "        vertical-align: middle;\n",
       "    }\n",
       "\n",
       "    .dataframe tbody tr th {\n",
       "        vertical-align: top;\n",
       "    }\n",
       "\n",
       "    .dataframe thead th {\n",
       "        text-align: right;\n",
       "    }\n",
       "</style>\n",
       "<table border=\"1\" class=\"dataframe\">\n",
       "  <thead>\n",
       "    <tr style=\"text-align: right;\">\n",
       "      <th></th>\n",
       "      <th>year</th>\n",
       "      <th>driverId</th>\n",
       "      <th>points</th>\n",
       "      <th>position</th>\n",
       "      <th>positionText</th>\n",
       "      <th>wins</th>\n",
       "      <th>surname</th>\n",
       "    </tr>\n",
       "  </thead>\n",
       "  <tbody>\n",
       "    <tr>\n",
       "      <th>0</th>\n",
       "      <td>1950</td>\n",
       "      <td>642</td>\n",
       "      <td>30.0</td>\n",
       "      <td>1</td>\n",
       "      <td>1</td>\n",
       "      <td>3</td>\n",
       "      <td>Farina</td>\n",
       "    </tr>\n",
       "    <tr>\n",
       "      <th>1</th>\n",
       "      <td>1950</td>\n",
       "      <td>579</td>\n",
       "      <td>27.0</td>\n",
       "      <td>2</td>\n",
       "      <td>2</td>\n",
       "      <td>3</td>\n",
       "      <td>Fangio</td>\n",
       "    </tr>\n",
       "    <tr>\n",
       "      <th>2</th>\n",
       "      <td>1950</td>\n",
       "      <td>786</td>\n",
       "      <td>24.0</td>\n",
       "      <td>3</td>\n",
       "      <td>3</td>\n",
       "      <td>0</td>\n",
       "      <td>Fagioli</td>\n",
       "    </tr>\n",
       "    <tr>\n",
       "      <th>3</th>\n",
       "      <td>1950</td>\n",
       "      <td>627</td>\n",
       "      <td>13.0</td>\n",
       "      <td>4</td>\n",
       "      <td>4</td>\n",
       "      <td>0</td>\n",
       "      <td>Rosier</td>\n",
       "    </tr>\n",
       "    <tr>\n",
       "      <th>4</th>\n",
       "      <td>1950</td>\n",
       "      <td>647</td>\n",
       "      <td>11.0</td>\n",
       "      <td>5</td>\n",
       "      <td>5</td>\n",
       "      <td>0</td>\n",
       "      <td>Ascari</td>\n",
       "    </tr>\n",
       "  </tbody>\n",
       "</table>\n",
       "</div>"
      ],
      "text/plain": [
       "   year  driverId  points  position positionText  wins  surname\n",
       "0  1950       642    30.0         1            1     3   Farina\n",
       "1  1950       579    27.0         2            2     3   Fangio\n",
       "2  1950       786    24.0         3            3     0  Fagioli\n",
       "3  1950       627    13.0         4            4     0   Rosier\n",
       "4  1950       647    11.0         5            5     0   Ascari"
      ]
     },
     "execution_count": 16,
     "metadata": {},
     "output_type": "execute_result"
    }
   ],
   "source": [
    "final_standings = last_race.merge(d_standings.sort_values('position'), how = 'left', on = 'raceId').drop(['raceId', 'driverStandingsId'], axis = 1)\n",
    "final_standings.merge(d[['driverId', 'surname']], how = 'left', on = 'driverId').head()"
   ]
  },
  {
   "cell_type": "code",
   "execution_count": 17,
   "id": "e257f69d",
   "metadata": {},
   "outputs": [
    {
     "data": {
      "text/html": [
       "<div>\n",
       "<style scoped>\n",
       "    .dataframe tbody tr th:only-of-type {\n",
       "        vertical-align: middle;\n",
       "    }\n",
       "\n",
       "    .dataframe tbody tr th {\n",
       "        vertical-align: top;\n",
       "    }\n",
       "\n",
       "    .dataframe thead th {\n",
       "        text-align: right;\n",
       "    }\n",
       "</style>\n",
       "<table border=\"1\" class=\"dataframe\">\n",
       "  <thead>\n",
       "    <tr style=\"text-align: right;\">\n",
       "      <th></th>\n",
       "      <th>year</th>\n",
       "      <th>constructorId</th>\n",
       "      <th>points</th>\n",
       "      <th>position</th>\n",
       "      <th>positionText</th>\n",
       "      <th>wins</th>\n",
       "      <th>name</th>\n",
       "    </tr>\n",
       "  </thead>\n",
       "  <tbody>\n",
       "    <tr>\n",
       "      <th>0</th>\n",
       "      <td>1958</td>\n",
       "      <td>118.0</td>\n",
       "      <td>48.0</td>\n",
       "      <td>1.0</td>\n",
       "      <td>1</td>\n",
       "      <td>6.0</td>\n",
       "      <td>Vanwall</td>\n",
       "    </tr>\n",
       "    <tr>\n",
       "      <th>1</th>\n",
       "      <td>1958</td>\n",
       "      <td>6.0</td>\n",
       "      <td>40.0</td>\n",
       "      <td>2.0</td>\n",
       "      <td>2</td>\n",
       "      <td>2.0</td>\n",
       "      <td>Ferrari</td>\n",
       "    </tr>\n",
       "    <tr>\n",
       "      <th>2</th>\n",
       "      <td>1958</td>\n",
       "      <td>87.0</td>\n",
       "      <td>31.0</td>\n",
       "      <td>3.0</td>\n",
       "      <td>3</td>\n",
       "      <td>2.0</td>\n",
       "      <td>Cooper</td>\n",
       "    </tr>\n",
       "    <tr>\n",
       "      <th>3</th>\n",
       "      <td>1958</td>\n",
       "      <td>66.0</td>\n",
       "      <td>18.0</td>\n",
       "      <td>4.0</td>\n",
       "      <td>4</td>\n",
       "      <td>0.0</td>\n",
       "      <td>BRM</td>\n",
       "    </tr>\n",
       "    <tr>\n",
       "      <th>4</th>\n",
       "      <td>1958</td>\n",
       "      <td>105.0</td>\n",
       "      <td>6.0</td>\n",
       "      <td>5.0</td>\n",
       "      <td>5</td>\n",
       "      <td>0.0</td>\n",
       "      <td>Maserati</td>\n",
       "    </tr>\n",
       "  </tbody>\n",
       "</table>\n",
       "</div>"
      ],
      "text/plain": [
       "   year  constructorId  points  position positionText  wins      name\n",
       "0  1958          118.0    48.0       1.0            1   6.0   Vanwall\n",
       "1  1958            6.0    40.0       2.0            2   2.0   Ferrari\n",
       "2  1958           87.0    31.0       3.0            3   2.0    Cooper\n",
       "3  1958           66.0    18.0       4.0            4   0.0       BRM\n",
       "4  1958          105.0     6.0       5.0            5   0.0  Maserati"
      ]
     },
     "execution_count": 17,
     "metadata": {},
     "output_type": "execute_result"
    }
   ],
   "source": [
    "final_c_standings = last_race.merge(c_standings.sort_values('position'), how = 'left', on = 'raceId').drop(['raceId', 'constructorStandingsId'], axis = 1)\n",
    "# No constructor standings before 1958\n",
    "final_c_standings = final_c_standings[final_c_standings['year'] >= 1958]\n",
    "final_c_standings.merge(c[['constructorId', 'name']], how = 'left', on = 'constructorId').head()"
   ]
  },
  {
   "cell_type": "markdown",
   "id": "40d3c281",
   "metadata": {},
   "source": [
    "The status dataframe matches statusId with race-finishing status. However, there are overlaps. We shall only use it attentively.\n",
    "All collisions/accidents are marked as driver errors. All mechanical failures are marked as constructor errors."
   ]
  },
  {
   "cell_type": "code",
   "execution_count": 18,
   "id": "d584c4fc",
   "metadata": {},
   "outputs": [
    {
     "data": {
      "text/html": [
       "<div>\n",
       "<style scoped>\n",
       "    .dataframe tbody tr th:only-of-type {\n",
       "        vertical-align: middle;\n",
       "    }\n",
       "\n",
       "    .dataframe tbody tr th {\n",
       "        vertical-align: top;\n",
       "    }\n",
       "\n",
       "    .dataframe thead th {\n",
       "        text-align: right;\n",
       "    }\n",
       "</style>\n",
       "<table border=\"1\" class=\"dataframe\">\n",
       "  <thead>\n",
       "    <tr style=\"text-align: right;\">\n",
       "      <th></th>\n",
       "      <th>statusId</th>\n",
       "      <th>status</th>\n",
       "    </tr>\n",
       "  </thead>\n",
       "  <tbody>\n",
       "    <tr>\n",
       "      <th>0</th>\n",
       "      <td>1</td>\n",
       "      <td>Finished</td>\n",
       "    </tr>\n",
       "    <tr>\n",
       "      <th>1</th>\n",
       "      <td>2</td>\n",
       "      <td>Disqualified</td>\n",
       "    </tr>\n",
       "    <tr>\n",
       "      <th>2</th>\n",
       "      <td>3</td>\n",
       "      <td>Accident</td>\n",
       "    </tr>\n",
       "    <tr>\n",
       "      <th>3</th>\n",
       "      <td>4</td>\n",
       "      <td>Collision</td>\n",
       "    </tr>\n",
       "    <tr>\n",
       "      <th>4</th>\n",
       "      <td>5</td>\n",
       "      <td>Engine</td>\n",
       "    </tr>\n",
       "  </tbody>\n",
       "</table>\n",
       "</div>"
      ],
      "text/plain": [
       "   statusId        status\n",
       "0         1      Finished\n",
       "1         2  Disqualified\n",
       "2         3      Accident\n",
       "3         4     Collision\n",
       "4         5        Engine"
      ]
     },
     "execution_count": 18,
     "metadata": {},
     "output_type": "execute_result"
    }
   ],
   "source": [
    "status.head()"
   ]
  },
  {
   "cell_type": "markdown",
   "id": "73078114",
   "metadata": {},
   "source": [
    "## 2. Exploratory Data Analysis"
   ]
  },
  {
   "cell_type": "code",
   "execution_count": 19,
   "id": "de156cb0",
   "metadata": {},
   "outputs": [],
   "source": [
    "def merge_d_name(df):\n",
    "    return df.merge(d[['driverId', 'surname']], how = 'left', on = 'driverId')\n",
    "\n",
    "def merge_c_name(df):\n",
    "    return df.merge(c[['constructorId', 'name']], how = 'left', on = 'constructorId')"
   ]
  },
  {
   "cell_type": "markdown",
   "id": "ca4f9bed",
   "metadata": {},
   "source": [
    "Number of drivers each year"
   ]
  },
  {
   "cell_type": "code",
   "execution_count": 20,
   "id": "66b7707e",
   "metadata": {},
   "outputs": [
    {
     "data": {
      "text/plain": [
       "Text(0, 0.5, 'Number of Drivers')"
      ]
     },
     "execution_count": 20,
     "metadata": {},
     "output_type": "execute_result"
    },
    {
     "data": {
      "image/png": "[encoded data removed]",
      "text/plain": [
       "<Figure size 432x288 with 1 Axes>"
      ]
     },
     "metadata": {
      "needs_background": "light"
     },
     "output_type": "display_data"
    }
   ],
   "source": [
    "driver_num = final_standings.groupby('year')['driverId'].count().reset_index()\n",
    "sns.lineplot(x = 'year', y = 'driverId', data = driver_num)\n",
    "plt.ylabel('Number of Drivers')"
   ]
  },
  {
   "cell_type": "markdown",
   "id": "d69c5d1f",
   "metadata": {},
   "source": [
    "Most race wins"
   ]
  },
  {
   "cell_type": "code",
   "execution_count": 21,
   "id": "b642777b",
   "metadata": {},
   "outputs": [],
   "source": [
    "total_wins_by_Id = results[results['positionOrder'] == 1].groupby('driverId')['resultId'].count().sort_values(ascending = False).reset_index().rename({'resultId' : 'total_wins'}, axis = 1)"
   ]
  },
  {
   "cell_type": "code",
   "execution_count": 22,
   "id": "d65744be",
   "metadata": {},
   "outputs": [
    {
     "data": {
      "text/html": [
       "<div>\n",
       "<style scoped>\n",
       "    .dataframe tbody tr th:only-of-type {\n",
       "        vertical-align: middle;\n",
       "    }\n",
       "\n",
       "    .dataframe tbody tr th {\n",
       "        vertical-align: top;\n",
       "    }\n",
       "\n",
       "    .dataframe thead th {\n",
       "        text-align: right;\n",
       "    }\n",
       "</style>\n",
       "<table border=\"1\" class=\"dataframe\">\n",
       "  <thead>\n",
       "    <tr style=\"text-align: right;\">\n",
       "      <th></th>\n",
       "      <th>driverId</th>\n",
       "      <th>total_wins</th>\n",
       "      <th>surname</th>\n",
       "    </tr>\n",
       "  </thead>\n",
       "  <tbody>\n",
       "    <tr>\n",
       "      <th>0</th>\n",
       "      <td>1</td>\n",
       "      <td>103</td>\n",
       "      <td>Hamilton</td>\n",
       "    </tr>\n",
       "    <tr>\n",
       "      <th>1</th>\n",
       "      <td>30</td>\n",
       "      <td>91</td>\n",
       "      <td>Schumacher</td>\n",
       "    </tr>\n",
       "    <tr>\n",
       "      <th>2</th>\n",
       "      <td>830</td>\n",
       "      <td>57</td>\n",
       "      <td>Verstappen</td>\n",
       "    </tr>\n",
       "    <tr>\n",
       "      <th>3</th>\n",
       "      <td>20</td>\n",
       "      <td>53</td>\n",
       "      <td>Vettel</td>\n",
       "    </tr>\n",
       "    <tr>\n",
       "      <th>4</th>\n",
       "      <td>117</td>\n",
       "      <td>51</td>\n",
       "      <td>Prost</td>\n",
       "    </tr>\n",
       "    <tr>\n",
       "      <th>5</th>\n",
       "      <td>102</td>\n",
       "      <td>41</td>\n",
       "      <td>Senna</td>\n",
       "    </tr>\n",
       "    <tr>\n",
       "      <th>6</th>\n",
       "      <td>4</td>\n",
       "      <td>32</td>\n",
       "      <td>Alonso</td>\n",
       "    </tr>\n",
       "    <tr>\n",
       "      <th>7</th>\n",
       "      <td>95</td>\n",
       "      <td>31</td>\n",
       "      <td>Mansell</td>\n",
       "    </tr>\n",
       "    <tr>\n",
       "      <th>8</th>\n",
       "      <td>328</td>\n",
       "      <td>27</td>\n",
       "      <td>Stewart</td>\n",
       "    </tr>\n",
       "    <tr>\n",
       "      <th>9</th>\n",
       "      <td>182</td>\n",
       "      <td>25</td>\n",
       "      <td>Lauda</td>\n",
       "    </tr>\n",
       "  </tbody>\n",
       "</table>\n",
       "</div>"
      ],
      "text/plain": [
       "   driverId  total_wins     surname\n",
       "0         1         103    Hamilton\n",
       "1        30          91  Schumacher\n",
       "2       830          57  Verstappen\n",
       "3        20          53      Vettel\n",
       "4       117          51       Prost\n",
       "5       102          41       Senna\n",
       "6         4          32      Alonso\n",
       "7        95          31     Mansell\n",
       "8       328          27     Stewart\n",
       "9       182          25       Lauda"
      ]
     },
     "execution_count": 22,
     "metadata": {},
     "output_type": "execute_result"
    }
   ],
   "source": [
    "total_wins_by_driver = merge_d_name(total_wins_by_Id)\n",
    "total_wins_by_driver.head(10)"
   ]
  },
  {
   "cell_type": "markdown",
   "id": "39363ee6",
   "metadata": {},
   "source": [
    "Most championship wins"
   ]
  },
  {
   "cell_type": "code",
   "execution_count": 23,
   "id": "a0305c1a",
   "metadata": {},
   "outputs": [],
   "source": [
    "total_wdc_by_Id = final_standings[final_standings['position'] == 1].groupby('driverId')['wins'].count().sort_values(ascending = False).reset_index()"
   ]
  },
  {
   "cell_type": "code",
   "execution_count": 24,
   "id": "db3ef93c",
   "metadata": {},
   "outputs": [
    {
     "data": {
      "text/html": [
       "<div>\n",
       "<style scoped>\n",
       "    .dataframe tbody tr th:only-of-type {\n",
       "        vertical-align: middle;\n",
       "    }\n",
       "\n",
       "    .dataframe tbody tr th {\n",
       "        vertical-align: top;\n",
       "    }\n",
       "\n",
       "    .dataframe thead th {\n",
       "        text-align: right;\n",
       "    }\n",
       "</style>\n",
       "<table border=\"1\" class=\"dataframe\">\n",
       "  <thead>\n",
       "    <tr style=\"text-align: right;\">\n",
       "      <th></th>\n",
       "      <th>driverId</th>\n",
       "      <th>total_wins</th>\n",
       "      <th>surname</th>\n",
       "    </tr>\n",
       "  </thead>\n",
       "  <tbody>\n",
       "    <tr>\n",
       "      <th>0</th>\n",
       "      <td>1</td>\n",
       "      <td>103</td>\n",
       "      <td>Hamilton</td>\n",
       "    </tr>\n",
       "    <tr>\n",
       "      <th>1</th>\n",
       "      <td>30</td>\n",
       "      <td>91</td>\n",
       "      <td>Schumacher</td>\n",
       "    </tr>\n",
       "    <tr>\n",
       "      <th>2</th>\n",
       "      <td>830</td>\n",
       "      <td>57</td>\n",
       "      <td>Verstappen</td>\n",
       "    </tr>\n",
       "    <tr>\n",
       "      <th>3</th>\n",
       "      <td>20</td>\n",
       "      <td>53</td>\n",
       "      <td>Vettel</td>\n",
       "    </tr>\n",
       "    <tr>\n",
       "      <th>4</th>\n",
       "      <td>117</td>\n",
       "      <td>51</td>\n",
       "      <td>Prost</td>\n",
       "    </tr>\n",
       "  </tbody>\n",
       "</table>\n",
       "</div>"
      ],
      "text/plain": [
       "   driverId  total_wins     surname\n",
       "0         1         103    Hamilton\n",
       "1        30          91  Schumacher\n",
       "2       830          57  Verstappen\n",
       "3        20          53      Vettel\n",
       "4       117          51       Prost"
      ]
     },
     "execution_count": 24,
     "metadata": {},
     "output_type": "execute_result"
    }
   ],
   "source": [
    "total_wdc_by_driver = merge_d_name(total_wins_by_Id)\n",
    "total_wdc_by_driver.head()"
   ]
  },
  {
   "cell_type": "markdown",
   "id": "45e31fe8",
   "metadata": {},
   "source": [
    "Total races entered by driver"
   ]
  },
  {
   "cell_type": "code",
   "execution_count": 25,
   "id": "909aeb9c",
   "metadata": {},
   "outputs": [
    {
     "data": {
      "text/html": [
       "<div>\n",
       "<style scoped>\n",
       "    .dataframe tbody tr th:only-of-type {\n",
       "        vertical-align: middle;\n",
       "    }\n",
       "\n",
       "    .dataframe tbody tr th {\n",
       "        vertical-align: top;\n",
       "    }\n",
       "\n",
       "    .dataframe thead th {\n",
       "        text-align: right;\n",
       "    }\n",
       "</style>\n",
       "<table border=\"1\" class=\"dataframe\">\n",
       "  <thead>\n",
       "    <tr style=\"text-align: right;\">\n",
       "      <th></th>\n",
       "      <th>driverId</th>\n",
       "      <th>total_races</th>\n",
       "      <th>surname</th>\n",
       "    </tr>\n",
       "  </thead>\n",
       "  <tbody>\n",
       "    <tr>\n",
       "      <th>0</th>\n",
       "      <td>4</td>\n",
       "      <td>384</td>\n",
       "      <td>Alonso</td>\n",
       "    </tr>\n",
       "    <tr>\n",
       "      <th>1</th>\n",
       "      <td>8</td>\n",
       "      <td>352</td>\n",
       "      <td>Räikkönen</td>\n",
       "    </tr>\n",
       "    <tr>\n",
       "      <th>2</th>\n",
       "      <td>1</td>\n",
       "      <td>336</td>\n",
       "      <td>Hamilton</td>\n",
       "    </tr>\n",
       "    <tr>\n",
       "      <th>3</th>\n",
       "      <td>22</td>\n",
       "      <td>326</td>\n",
       "      <td>Barrichello</td>\n",
       "    </tr>\n",
       "    <tr>\n",
       "      <th>4</th>\n",
       "      <td>18</td>\n",
       "      <td>309</td>\n",
       "      <td>Button</td>\n",
       "    </tr>\n",
       "  </tbody>\n",
       "</table>\n",
       "</div>"
      ],
      "text/plain": [
       "   driverId  total_races      surname\n",
       "0         4          384       Alonso\n",
       "1         8          352    Räikkönen\n",
       "2         1          336     Hamilton\n",
       "3        22          326  Barrichello\n",
       "4        18          309       Button"
      ]
     },
     "execution_count": 25,
     "metadata": {},
     "output_type": "execute_result"
    }
   ],
   "source": [
    "total_races_driver = results.groupby('driverId')['raceId'].count().sort_values(ascending = False).reset_index().rename({'raceId' : 'total_races'}, axis = 1)\n",
    "total_races_driver = merge_d_name(total_races_driver)\n",
    "total_races_driver.head()"
   ]
  },
  {
   "cell_type": "markdown",
   "id": "704f595f",
   "metadata": {},
   "source": [
    "Total races entered by constructor"
   ]
  },
  {
   "cell_type": "code",
   "execution_count": 26,
   "id": "191f9a7e",
   "metadata": {},
   "outputs": [
    {
     "data": {
      "text/plain": [
       "(array([0, 1, 2, 3, 4, 5, 6, 7, 8, 9]),\n",
       " [Text(0, 0, 'Ferrari'),\n",
       "  Text(1, 0, 'McLaren'),\n",
       "  Text(2, 0, 'Williams'),\n",
       "  Text(3, 0, 'Tyrrell'),\n",
       "  Text(4, 0, 'Renault'),\n",
       "  Text(5, 0, 'Sauber'),\n",
       "  Text(6, 0, 'Team Lotus'),\n",
       "  Text(7, 0, 'Red Bull'),\n",
       "  Text(8, 0, 'Minardi'),\n",
       "  Text(9, 0, 'Ligier')])"
      ]
     },
     "execution_count": 26,
     "metadata": {},
     "output_type": "execute_result"
    },
    {
     "data": {
      "image/png": "[encoded data removed]",
      "text/plain": [
       "<Figure size 432x288 with 1 Axes>"
      ]
     },
     "metadata": {
      "needs_background": "light"
     },
     "output_type": "display_data"
    }
   ],
   "source": [
    "total_races_constructor = c_results.groupby('constructorId')['raceId'].count().reset_index().rename({'raceId' : 'total_races'}, axis = 1).sort_values('total_races', ascending = False)\n",
    "total_races_constructor = merge_c_name(total_races_constructor)\n",
    "sns.barplot(x = 'name', y = 'total_races', data = total_races_constructor.head(10))\n",
    "plt.xticks(rotation=90)"
   ]
  },
  {
   "cell_type": "markdown",
   "id": "339f34a3",
   "metadata": {},
   "source": [
    "Pole-to-win ratio (for drivers with more than 5 poles)"
   ]
  },
  {
   "cell_type": "code",
   "execution_count": 27,
   "id": "11ce7d0c",
   "metadata": {},
   "outputs": [],
   "source": [
    "polesitters = quali[quali['position'] == 1][['raceId', 'driverId']]\n",
    "# Select drivers with more than 5 poles\n",
    "total_poles = polesitters.groupby('driverId')['raceId'].count().reset_index().rename({'raceId' : 'total_poles'}, axis = 1)\n",
    "total_poles = total_poles[total_poles['total_poles'] > 5]\n",
    "polesitters = polesitters[polesitters['driverId'].isin(total_poles['driverId'])]\n",
    "winners = results[results['positionOrder'] == 1][['raceId', 'driverId']]"
   ]
  },
  {
   "cell_type": "code",
   "execution_count": 28,
   "id": "977dab5a",
   "metadata": {},
   "outputs": [
    {
     "data": {
      "text/plain": [
       "(array([ 0,  1,  2,  3,  4,  5,  6,  7,  8,  9, 10, 11, 12, 13, 14, 15, 16]),\n",
       " [Text(0, 0, 'Verstappen'),\n",
       "  Text(1, 0, 'Schumacher'),\n",
       "  Text(2, 0, 'Button'),\n",
       "  Text(3, 0, 'Alonso'),\n",
       "  Text(4, 0, 'Hamilton'),\n",
       "  Text(5, 0, 'Villeneuve'),\n",
       "  Text(6, 0, 'Vettel'),\n",
       "  Text(7, 0, 'Rosberg'),\n",
       "  Text(8, 0, 'Massa'),\n",
       "  Text(9, 0, 'Barrichello'),\n",
       "  Text(10, 0, 'Häkkinen'),\n",
       "  Text(11, 0, 'Hill'),\n",
       "  Text(12, 0, 'Räikkönen'),\n",
       "  Text(13, 0, 'Bottas'),\n",
       "  Text(14, 0, 'Webber'),\n",
       "  Text(15, 0, 'Leclerc'),\n",
       "  Text(16, 0, 'Coulthard')])"
      ]
     },
     "execution_count": 28,
     "metadata": {},
     "output_type": "execute_result"
    },
    {
     "data": {
      "image/png": "[encoded data removed]",
      "text/plain": [
       "<Figure size 432x288 with 1 Axes>"
      ]
     },
     "metadata": {
      "needs_background": "light"
     },
     "output_type": "display_data"
    }
   ],
   "source": [
    "ptw = polesitters.merge(winners, how = 'left', on = 'raceId').rename({'driverId_x' : 'pole', 'driverId_y' : 'winner'}, axis = 1)\n",
    "ptw['ptw'] = ptw['pole'] == ptw['winner']\n",
    "ptw = ptw.groupby('pole')['ptw'].mean().sort_values(ascending = False).reset_index().rename({'pole' : 'driverId', 'ptw' : 'ptw_pct'}, axis = 1)\n",
    "ptw = merge_d_name(ptw)\n",
    "sns.barplot(x = 'surname', y = 'ptw_pct', data = ptw)\n",
    "plt.xticks(rotation=90)"
   ]
  },
  {
   "cell_type": "markdown",
   "id": "08dfa57d",
   "metadata": {},
   "source": [
    "Most front row lock-outs"
   ]
  },
  {
   "cell_type": "code",
   "execution_count": 29,
   "id": "9729982e",
   "metadata": {},
   "outputs": [
    {
     "data": {
      "text/html": [
       "<div>\n",
       "<style scoped>\n",
       "    .dataframe tbody tr th:only-of-type {\n",
       "        vertical-align: middle;\n",
       "    }\n",
       "\n",
       "    .dataframe tbody tr th {\n",
       "        vertical-align: top;\n",
       "    }\n",
       "\n",
       "    .dataframe thead th {\n",
       "        text-align: right;\n",
       "    }\n",
       "</style>\n",
       "<table border=\"1\" class=\"dataframe\">\n",
       "  <thead>\n",
       "    <tr style=\"text-align: right;\">\n",
       "      <th></th>\n",
       "      <th>constructorId</th>\n",
       "      <th>lockout</th>\n",
       "      <th>name</th>\n",
       "    </tr>\n",
       "  </thead>\n",
       "  <tbody>\n",
       "    <tr>\n",
       "      <th>0</th>\n",
       "      <td>131</td>\n",
       "      <td>83</td>\n",
       "      <td>Mercedes</td>\n",
       "    </tr>\n",
       "    <tr>\n",
       "      <th>1</th>\n",
       "      <td>6</td>\n",
       "      <td>33</td>\n",
       "      <td>Ferrari</td>\n",
       "    </tr>\n",
       "    <tr>\n",
       "      <th>2</th>\n",
       "      <td>9</td>\n",
       "      <td>26</td>\n",
       "      <td>Red Bull</td>\n",
       "    </tr>\n",
       "    <tr>\n",
       "      <th>3</th>\n",
       "      <td>1</td>\n",
       "      <td>22</td>\n",
       "      <td>McLaren</td>\n",
       "    </tr>\n",
       "    <tr>\n",
       "      <th>4</th>\n",
       "      <td>3</td>\n",
       "      <td>19</td>\n",
       "      <td>Williams</td>\n",
       "    </tr>\n",
       "  </tbody>\n",
       "</table>\n",
       "</div>"
      ],
      "text/plain": [
       "   constructorId  lockout      name\n",
       "0            131       83  Mercedes\n",
       "1              6       33   Ferrari\n",
       "2              9       26  Red Bull\n",
       "3              1       22   McLaren\n",
       "4              3       19  Williams"
      ]
     },
     "execution_count": 29,
     "metadata": {},
     "output_type": "execute_result"
    }
   ],
   "source": [
    "P1c = quali[quali['position'] == 1][['raceId', 'constructorId']]\n",
    "P2c = quali[quali['position'] == 2][['raceId', 'constructorId']]\n",
    "front_row = P1c.merge(P2c, on = 'raceId').rename({'constructorId_x' : 'P1c', 'constructorId_y' : 'P2c'}, axis = 1)\n",
    "front_row['lockout'] = front_row['P1c'] == front_row['P2c']\n",
    "front_row = front_row.rename({'P1c' : 'constructorId'}, axis = 1).groupby('constructorId')['lockout'].sum().sort_values(ascending = False).reset_index()\n",
    "front_row = merge_c_name(front_row)\n",
    "front_row.head()"
   ]
  },
  {
   "cell_type": "markdown",
   "id": "25e1c4b1",
   "metadata": {},
   "source": [
    "Reliability retirement probability of constructors (with more than 100 races).\n",
    "Most reliable constructors are new constructors because old F1 cars are unreliable"
   ]
  },
  {
   "cell_type": "code",
   "execution_count": 30,
   "id": "5817b8e1",
   "metadata": {},
   "outputs": [],
   "source": [
    "resultstatus = results.merge(status, how = 'left', on = 'statusId')"
   ]
  },
  {
   "cell_type": "code",
   "execution_count": 31,
   "id": "a197f500",
   "metadata": {},
   "outputs": [
    {
     "ename": "KeyError",
     "evalue": "'type'",
     "output_type": "error",
     "traceback": [
      "\u001b[0;31m---------------------------------------------------------------------------\u001b[0m",
      "\u001b[0;31mKeyError\u001b[0m                                  Traceback (most recent call last)",
      "File \u001b[0;32m~/opt/anaconda3/lib/python3.9/site-packages/pandas/core/indexes/base.py:3621\u001b[0m, in \u001b[0;36mIndex.get_loc\u001b[0;34m(self, key, method, tolerance)\u001b[0m\n\u001b[1;32m   3620\u001b[0m \u001b[38;5;28;01mtry\u001b[39;00m:\n\u001b[0;32m-> 3621\u001b[0m     \u001b[38;5;28;01mreturn\u001b[39;00m \u001b[38;5;28;43mself\u001b[39;49m\u001b[38;5;241;43m.\u001b[39;49m\u001b[43m_engine\u001b[49m\u001b[38;5;241;43m.\u001b[39;49m\u001b[43mget_loc\u001b[49m\u001b[43m(\u001b[49m\u001b[43mcasted_key\u001b[49m\u001b[43m)\u001b[49m\n\u001b[1;32m   3622\u001b[0m \u001b[38;5;28;01mexcept\u001b[39;00m \u001b[38;5;167;01mKeyError\u001b[39;00m \u001b[38;5;28;01mas\u001b[39;00m err:\n",
      "File \u001b[0;32m~/opt/anaconda3/lib/python3.9/site-packages/pandas/_libs/index.pyx:136\u001b[0m, in \u001b[0;36mpandas._libs.index.IndexEngine.get_loc\u001b[0;34m()\u001b[0m\n",
      "File \u001b[0;32m~/opt/anaconda3/lib/python3.9/site-packages/pandas/_libs/index.pyx:163\u001b[0m, in \u001b[0;36mpandas._libs.index.IndexEngine.get_loc\u001b[0;34m()\u001b[0m\n",
      "File \u001b[0;32mpandas/_libs/hashtable_class_helper.pxi:5198\u001b[0m, in \u001b[0;36mpandas._libs.hashtable.PyObjectHashTable.get_item\u001b[0;34m()\u001b[0m\n",
      "File \u001b[0;32mpandas/_libs/hashtable_class_helper.pxi:5206\u001b[0m, in \u001b[0;36mpandas._libs.hashtable.PyObjectHashTable.get_item\u001b[0;34m()\u001b[0m\n",
      "\u001b[0;31mKeyError\u001b[0m: 'type'",
      "\nThe above exception was the direct cause of the following exception:\n",
      "\u001b[0;31mKeyError\u001b[0m                                  Traceback (most recent call last)",
      "Input \u001b[0;32mIn [31]\u001b[0m, in \u001b[0;36m<cell line: 3>\u001b[0;34m()\u001b[0m\n\u001b[1;32m      1\u001b[0m c_resultstatus \u001b[38;5;241m=\u001b[39m resultstatus[resultstatus[\u001b[38;5;124m'\u001b[39m\u001b[38;5;124mconstructorId\u001b[39m\u001b[38;5;124m'\u001b[39m]\u001b[38;5;241m.\u001b[39misin(\n\u001b[1;32m      2\u001b[0m     total_races_constructor[total_races_constructor[\u001b[38;5;124m'\u001b[39m\u001b[38;5;124mtotal_races\u001b[39m\u001b[38;5;124m'\u001b[39m] \u001b[38;5;241m>\u001b[39m \u001b[38;5;241m100\u001b[39m][\u001b[38;5;124m'\u001b[39m\u001b[38;5;124mconstructorId\u001b[39m\u001b[38;5;124m'\u001b[39m])]\n\u001b[0;32m----> 3\u001b[0m c_resultstatus[\u001b[38;5;124m'\u001b[39m\u001b[38;5;124mteam_error\u001b[39m\u001b[38;5;124m'\u001b[39m] \u001b[38;5;241m=\u001b[39m \u001b[43mc_resultstatus\u001b[49m\u001b[43m[\u001b[49m\u001b[38;5;124;43m'\u001b[39;49m\u001b[38;5;124;43mtype\u001b[39;49m\u001b[38;5;124;43m'\u001b[39;49m\u001b[43m]\u001b[49m \u001b[38;5;241m==\u001b[39m \u001b[38;5;124m'\u001b[39m\u001b[38;5;124mc\u001b[39m\u001b[38;5;124m'\u001b[39m\n\u001b[1;32m      4\u001b[0m c_resultstatus\u001b[38;5;241m.\u001b[39mhead()\n\u001b[1;32m      5\u001b[0m team_retirement \u001b[38;5;241m=\u001b[39m c_resultstatus\u001b[38;5;241m.\u001b[39mgroupby(\u001b[38;5;124m'\u001b[39m\u001b[38;5;124mconstructorId\u001b[39m\u001b[38;5;124m'\u001b[39m)[\u001b[38;5;124m'\u001b[39m\u001b[38;5;124mteam_error\u001b[39m\u001b[38;5;124m'\u001b[39m]\u001b[38;5;241m.\u001b[39mmean()\u001b[38;5;241m.\u001b[39msort_values(ascending \u001b[38;5;241m=\u001b[39m \u001b[38;5;28;01mTrue\u001b[39;00m)\u001b[38;5;241m.\u001b[39mreset_index()\n",
      "File \u001b[0;32m~/opt/anaconda3/lib/python3.9/site-packages/pandas/core/frame.py:3505\u001b[0m, in \u001b[0;36mDataFrame.__getitem__\u001b[0;34m(self, key)\u001b[0m\n\u001b[1;32m   3503\u001b[0m \u001b[38;5;28;01mif\u001b[39;00m \u001b[38;5;28mself\u001b[39m\u001b[38;5;241m.\u001b[39mcolumns\u001b[38;5;241m.\u001b[39mnlevels \u001b[38;5;241m>\u001b[39m \u001b[38;5;241m1\u001b[39m:\n\u001b[1;32m   3504\u001b[0m     \u001b[38;5;28;01mreturn\u001b[39;00m \u001b[38;5;28mself\u001b[39m\u001b[38;5;241m.\u001b[39m_getitem_multilevel(key)\n\u001b[0;32m-> 3505\u001b[0m indexer \u001b[38;5;241m=\u001b[39m \u001b[38;5;28;43mself\u001b[39;49m\u001b[38;5;241;43m.\u001b[39;49m\u001b[43mcolumns\u001b[49m\u001b[38;5;241;43m.\u001b[39;49m\u001b[43mget_loc\u001b[49m\u001b[43m(\u001b[49m\u001b[43mkey\u001b[49m\u001b[43m)\u001b[49m\n\u001b[1;32m   3506\u001b[0m \u001b[38;5;28;01mif\u001b[39;00m is_integer(indexer):\n\u001b[1;32m   3507\u001b[0m     indexer \u001b[38;5;241m=\u001b[39m [indexer]\n",
      "File \u001b[0;32m~/opt/anaconda3/lib/python3.9/site-packages/pandas/core/indexes/base.py:3623\u001b[0m, in \u001b[0;36mIndex.get_loc\u001b[0;34m(self, key, method, tolerance)\u001b[0m\n\u001b[1;32m   3621\u001b[0m     \u001b[38;5;28;01mreturn\u001b[39;00m \u001b[38;5;28mself\u001b[39m\u001b[38;5;241m.\u001b[39m_engine\u001b[38;5;241m.\u001b[39mget_loc(casted_key)\n\u001b[1;32m   3622\u001b[0m \u001b[38;5;28;01mexcept\u001b[39;00m \u001b[38;5;167;01mKeyError\u001b[39;00m \u001b[38;5;28;01mas\u001b[39;00m err:\n\u001b[0;32m-> 3623\u001b[0m     \u001b[38;5;28;01mraise\u001b[39;00m \u001b[38;5;167;01mKeyError\u001b[39;00m(key) \u001b[38;5;28;01mfrom\u001b[39;00m \u001b[38;5;21;01merr\u001b[39;00m\n\u001b[1;32m   3624\u001b[0m \u001b[38;5;28;01mexcept\u001b[39;00m \u001b[38;5;167;01mTypeError\u001b[39;00m:\n\u001b[1;32m   3625\u001b[0m     \u001b[38;5;66;03m# If we have a listlike key, _check_indexing_error will raise\u001b[39;00m\n\u001b[1;32m   3626\u001b[0m     \u001b[38;5;66;03m#  InvalidIndexError. Otherwise we fall through and re-raise\u001b[39;00m\n\u001b[1;32m   3627\u001b[0m     \u001b[38;5;66;03m#  the TypeError.\u001b[39;00m\n\u001b[1;32m   3628\u001b[0m     \u001b[38;5;28mself\u001b[39m\u001b[38;5;241m.\u001b[39m_check_indexing_error(key)\n",
      "\u001b[0;31mKeyError\u001b[0m: 'type'"
     ]
    }
   ],
   "source": [
    "c_resultstatus = resultstatus[resultstatus['constructorId'].isin(\n",
    "    total_races_constructor[total_races_constructor['total_races'] > 100]['constructorId'])]\n",
    "c_resultstatus['team_error'] = c_resultstatus['type'] == 'c'\n",
    "c_resultstatus.head()\n",
    "team_retirement = c_resultstatus.groupby('constructorId')['team_error'].mean().sort_values(ascending = True).reset_index()\n",
    "team_retirement = merge_c_name(team_retirement)\n",
    "team_retirement.head()"
   ]
  },
  {
   "cell_type": "markdown",
   "id": "96ba9da6",
   "metadata": {},
   "source": [
    "Driver error retirement probability of drivers with more than 50 races"
   ]
  },
  {
   "cell_type": "code",
   "execution_count": null,
   "id": "228563a8",
   "metadata": {},
   "outputs": [],
   "source": [
    "d_resultstatus = resultstatus[resultstatus['driverId'].isin(\n",
    "    total_races_driver[total_races_driver['total_races'] > 50]['driverId'])]\n",
    "d_resultstatus['driver_error'] = d_resultstatus['type'] == 'd'\n",
    "driver_retirement = d_resultstatus.groupby('driverId')['driver_error'].mean().sort_values(ascending = True).reset_index()\n",
    "driver_retirement = merge_d_name(driver_retirement)\n",
    "driver_retirement.head()"
   ]
  },
  {
   "cell_type": "markdown",
   "id": "f8758f22",
   "metadata": {},
   "source": [
    "## 3. Prediction of top 3, 6, 10 finish"
   ]
  },
  {
   "cell_type": "markdown",
   "id": "48963a94",
   "metadata": {},
   "source": [
    "Method inspired by \"Formula 1 Race Prediction\", https://www.kaggle.com/code/yanrogerweng/formula-1-race-prediction#Data-Science-Models-to-predict-F1-podiums."
   ]
  },
  {
   "cell_type": "markdown",
   "id": "01e27160",
   "metadata": {},
   "source": [
    "### 3.0 Select years"
   ]
  },
  {
   "cell_type": "markdown",
   "id": "d42aaefb",
   "metadata": {},
   "source": [
    "Historic Formula 1 cars and races differ from modern ones in reliability, aerodynamics, and race rules, so some outdated data should be dropped. The ground-effect era of Formula 1 ended in 1982. In 1983, cars are drastically different. Hence, we drop all data prior to 1983."
   ]
  },
  {
   "cell_type": "code",
   "execution_count": null,
   "id": "a7ab7a3c",
   "metadata": {},
   "outputs": [],
   "source": [
    "MIN_YEAR = 1983"
   ]
  },
  {
   "cell_type": "code",
   "execution_count": null,
   "id": "31320ce7",
   "metadata": {},
   "outputs": [],
   "source": [
    "df = raceresults.copy()\n",
    "df = df[df['year'] >= MIN_YEAR]\n",
    "df.head()"
   ]
  },
  {
   "cell_type": "markdown",
   "id": "bae67cbb",
   "metadata": {},
   "source": [
    "### 3.1 Feature Engineering"
   ]
  },
  {
   "cell_type": "markdown",
   "id": "7e4a44f9",
   "metadata": {},
   "source": [
    "Construct a new dataframe"
   ]
  },
  {
   "cell_type": "code",
   "execution_count": null,
   "id": "c367c4dc",
   "metadata": {},
   "outputs": [],
   "source": [
    "df = df.drop('points', axis = 1).merge(d_standings.drop(['driverStandingsId', 'positionText'], axis = 1).rename(\n",
    "    {'position' : 'standing'}, axis = 1), how = 'left', on = ['raceId', 'driverId'])\n",
    "df = df.merge(c_standings[['raceId', 'constructorId', 'position']].rename({'position' : 'c_standing'}, axis = 1),\n",
    "              how = 'left', on = ['raceId', 'constructorId'])\n",
    "df.columns"
   ]
  },
  {
   "cell_type": "markdown",
   "id": "0356b033",
   "metadata": {},
   "source": [
    "Drop all retirements"
   ]
  },
  {
   "cell_type": "code",
   "execution_count": null,
   "id": "a7c46229",
   "metadata": {},
   "outputs": [],
   "source": [
    "df = df[df.merge(status, how = 'left', on = 'statusId')['type'] == 'o']"
   ]
  },
  {
   "cell_type": "markdown",
   "id": "39a6a9ee",
   "metadata": {},
   "source": [
    "Target variables: top3, top6, top10"
   ]
  },
  {
   "cell_type": "code",
   "execution_count": null,
   "id": "6d9386de",
   "metadata": {
    "scrolled": true
   },
   "outputs": [],
   "source": [
    "df['top3'] = (df['positionOrder'] <= 3).astype(int)\n",
    "df['top6'] = ((df['positionOrder'] <= 6) & (df['positionOrder'] > 3)).astype(int)\n",
    "df['top10'] = ((df['positionOrder'] <= 10) & (df['positionOrder'] > 6)).astype(int)"
   ]
  },
  {
   "cell_type": "markdown",
   "id": "696fce9d",
   "metadata": {},
   "source": [
    "Add lagged variables"
   ]
  },
  {
   "cell_type": "code",
   "execution_count": null,
   "id": "4eaff9a5",
   "metadata": {},
   "outputs": [],
   "source": [
    "df['prev_standing'] = df.groupby('driverId')['standing'].transform(lambda x: x.shift(1))\n",
    "df['prev_1race'] = df.groupby('driverId')['positionOrder'].transform(lambda x: x.shift(1))\n",
    "df['prev_2race'] = df.groupby('driverId')['positionOrder'].transform(lambda x: x.shift(2))\n",
    "df['prev_3race'] = df.groupby('driverId')['positionOrder'].transform(lambda x: x.shift(3))"
   ]
  },
  {
   "cell_type": "markdown",
   "id": "29026c4b",
   "metadata": {},
   "source": [
    "Additional feature: whether a driver is currently top 3, 6, or 10 in driver's standings with one-hot encoding. top3stand, top6stand, top10stand. If first race of the year, take result from the last year. Set to all 0 for rookie drivers."
   ]
  },
  {
   "cell_type": "code",
   "execution_count": null,
   "id": "f4f30d5b",
   "metadata": {},
   "outputs": [],
   "source": [
    "df['top3stand'] = (df['prev_standing'] <= 3).astype(int)\n",
    "df['top6stand'] = ((df['prev_standing'] > 3) & (df['prev_standing'] <= 6)).astype(int)\n",
    "df['top10stand'] = ((df['prev_standing'] > 6) & (df['prev_standing'] <= 10)).astype(int)\n",
    "df.head()"
   ]
  },
  {
   "cell_type": "markdown",
   "id": "d7fcba89",
   "metadata": {},
   "source": [
    "Additional feature: whether a constructor is currently top 1, 3, or 5 in constructor's standings. top1cstand, top3cstand, top5cstand. If first race of the year, take result from the last year. Set to all 0 for new constructors."
   ]
  },
  {
   "cell_type": "code",
   "execution_count": null,
   "id": "4d52da47",
   "metadata": {},
   "outputs": [],
   "source": [
    "df['top1cstand'] = (df['c_standing'] == 1).astype(int)\n",
    "df['top3cstand'] = ((df['c_standing'] > 1) & (df['c_standing'] <= 3)).astype(int)\n",
    "df['top5cstand'] = ((df['c_standing'] > 3) & (df['c_standing'] <= 5)).astype(int)"
   ]
  },
  {
   "cell_type": "markdown",
   "id": "6ad462d2",
   "metadata": {},
   "source": [
    "Other 16 features: (average finishing position, percentage of top 3, 6, 10 finishes) * (last year, this year) * (driver, constructors)"
   ]
  },
  {
   "cell_type": "markdown",
   "id": "fbc50d60",
   "metadata": {},
   "source": [
    "Average finishing position of driver in their last season"
   ]
  },
  {
   "cell_type": "code",
   "execution_count": null,
   "id": "e1105b45",
   "metadata": {},
   "outputs": [],
   "source": [
    "# Average finishing position of the current year\n",
    "avg_year = df.groupby(['driverId', 'year'])['positionOrder'].mean().reset_index()\n",
    "avg_year['avg_prev_d'] = avg_year.groupby('driverId')['positionOrder'].transform(lambda x: x.shift(1))\n",
    "# Drop column to prevent data leakage\n",
    "df = df.merge(avg_year.drop('positionOrder', axis = 1), how = 'left', on = ['driverId', 'year'])"
   ]
  },
  {
   "cell_type": "markdown",
   "id": "be1ca035",
   "metadata": {},
   "source": [
    "Average finishing position of driver in the current season up to the current race"
   ]
  },
  {
   "cell_type": "code",
   "execution_count": null,
   "id": "9928bc69",
   "metadata": {},
   "outputs": [],
   "source": [
    "df['avg_curr_d'] = df.groupby(['driverId', 'year'])['positionOrder'].transform(lambda x: (x.cumsum()/np.arange(1, len(x)+1)).shift(1))"
   ]
  },
  {
   "cell_type": "markdown",
   "id": "338f7999",
   "metadata": {},
   "source": [
    "Average finishing position of constructor (average among two drivers) in their last season"
   ]
  },
  {
   "cell_type": "code",
   "execution_count": null,
   "id": "8c9945fe",
   "metadata": {},
   "outputs": [],
   "source": [
    "# Average finishing position of the current year\n",
    "c_avg_year = df.groupby(['constructorId', 'year'])['positionOrder'].mean().reset_index()\n",
    "c_avg_year['avg_prev_c'] = c_avg_year.groupby('constructorId')['positionOrder'].transform(lambda x: x.shift(1))\n",
    "df = df.merge(c_avg_year.drop('positionOrder', axis = 1), how = 'left', on = ['constructorId', 'year'])"
   ]
  },
  {
   "cell_type": "markdown",
   "id": "ce0a0e2b",
   "metadata": {},
   "source": [
    "Average finishing position of constructor in the current season up to the current race"
   ]
  },
  {
   "cell_type": "code",
   "execution_count": null,
   "id": "616df66e",
   "metadata": {},
   "outputs": [],
   "source": [
    "constructor_raceres = df.groupby(['constructorId', 'year', 'round'])['positionOrder'].mean().reset_index()\n",
    "constructor_raceres['avg_curr_c'] = constructor_raceres.groupby(['constructorId', 'year'])['positionOrder'].transform(\n",
    "    lambda x: (x.cumsum()/np.arange(1, len(x)+1)).shift(1))\n",
    "df = df.merge(constructor_raceres.drop('positionOrder', axis = 1), how = 'left', on = ['constructorId', 'year', 'round'])"
   ]
  },
  {
   "cell_type": "markdown",
   "id": "8809c6ca",
   "metadata": {},
   "source": [
    "Percentage of drivers' top 3, 6, 10 finishes past year"
   ]
  },
  {
   "cell_type": "code",
   "execution_count": null,
   "id": "d103bf38",
   "metadata": {},
   "outputs": [],
   "source": [
    "top3pct_prev_d = df.groupby(['driverId', 'year'])[['top3', 'top6', 'top10']].mean().reset_index()\n",
    "top3pct_prev_d[['top3pct_prev_d', 'top6pct_prev_d', 'top10pct_prev_d']] = top3pct_prev_d.groupby(\n",
    "    'driverId')[['top3', 'top6', 'top10']].transform(lambda x: x.shift(1))\n",
    "df = df.merge(top3pct_prev_d.drop(['top3', 'top6', 'top10'], axis = 1), how = 'left', on = ['driverId', 'year'])"
   ]
  },
  {
   "cell_type": "markdown",
   "id": "d08a2674",
   "metadata": {},
   "source": [
    "Percentage of drivers' top 3, 6, 10 finishes in the current season up to the current race"
   ]
  },
  {
   "cell_type": "code",
   "execution_count": null,
   "id": "86a7d1d6",
   "metadata": {},
   "outputs": [],
   "source": [
    "df[['top3pct_curr_d', 'top6pct_curr_d', 'top10pct_curr_d']] = df.groupby(['driverId', 'year'])[['top3', 'top6', 'top10']].transform(lambda x: (x.cumsum()/np.arange(1, len(x)+1)).shift(1))"
   ]
  },
  {
   "cell_type": "markdown",
   "id": "456a87b0",
   "metadata": {},
   "source": [
    "Percentage of constructors' top 1, 3, 5 finishes are strongly correlated with drivers' finishes. Hence omitted."
   ]
  },
  {
   "cell_type": "code",
   "execution_count": null,
   "id": "75c34ebe",
   "metadata": {},
   "outputs": [],
   "source": [
    "df.columns"
   ]
  },
  {
   "cell_type": "markdown",
   "id": "f9366420",
   "metadata": {},
   "source": [
    "Check correlation matrix"
   ]
  },
  {
   "cell_type": "code",
   "execution_count": null,
   "id": "1b422236",
   "metadata": {},
   "outputs": [],
   "source": [
    "df_features = pd.DataFrame(index = df['resultId'], data = df[['top3', 'top6', 'top10', 'prev_standing', 'prev_1race',\n",
    "       'prev_2race', 'prev_3race', 'top3stand', 'top6stand', 'top10stand',\n",
    "       'top1cstand', 'top3cstand', 'top5cstand', 'avg_prev_d', 'avg_curr_d',\n",
    "       'avg_prev_c', 'avg_curr_c', 'top3pct_prev_d', 'top6pct_prev_d',\n",
    "       'top10pct_prev_d', 'top3pct_curr_d', 'top6pct_curr_d',\n",
    "       'top10pct_curr_d']])"
   ]
  },
  {
   "cell_type": "code",
   "execution_count": null,
   "id": "3449fb74",
   "metadata": {},
   "outputs": [],
   "source": [
    "plt.figure(figsize=(13,10))\n",
    "sns.heatmap(df_features.corr(), annot=True, mask = False, annot_kws={\"size\": 7})\n",
    "plt.show()"
   ]
  },
  {
   "cell_type": "markdown",
   "id": "aa0679b5",
   "metadata": {},
   "source": [
    "### 3.2 One-Hot Encoding for circuit, driver, and constructor"
   ]
  },
  {
   "cell_type": "markdown",
   "id": "8a842159",
   "metadata": {},
   "source": [
    "Accounts for the intrinsic variations in circuit, driver, and constructor characteristics"
   ]
  },
  {
   "cell_type": "code",
   "execution_count": null,
   "id": "a1a7707a",
   "metadata": {},
   "outputs": [],
   "source": [
    "encoded = pd.get_dummies(pd.DataFrame(index = df['resultId'], data = df[['circuitId', 'driverId', 'constructorId']]),\n",
    "                         columns=['circuitId', 'driverId', 'constructorId'])"
   ]
  },
  {
   "cell_type": "markdown",
   "id": "74bd9231",
   "metadata": {},
   "source": [
    "Build final DataFrame for model"
   ]
  },
  {
   "cell_type": "code",
   "execution_count": null,
   "id": "898182f3",
   "metadata": {},
   "outputs": [],
   "source": [
    "df_final = df_features.merge(encoded, left_index=True, right_index=True)\n",
    "df_final.dropna(inplace = True)"
   ]
  },
  {
   "cell_type": "markdown",
   "id": "ac05382b",
   "metadata": {},
   "source": [
    "### 3.3 Model Training and Prediction"
   ]
  },
  {
   "cell_type": "code",
   "execution_count": null,
   "id": "13c648de",
   "metadata": {},
   "outputs": [],
   "source": [
    "# Set proportions of training, validation, and testing data\n",
    "TRAIN_FRAC = 0.8\n",
    "VALIDATION_FRAC = 0.1"
   ]
  },
  {
   "cell_type": "code",
   "execution_count": null,
   "id": "3ed2292a",
   "metadata": {},
   "outputs": [],
   "source": [
    "from sklearn.preprocessing import StandardScaler\n",
    "import joblib\n",
    "from sklearn.linear_model import LogisticRegression\n",
    "from sklearn.naive_bayes import GaussianNB\n",
    "from sklearn.neighbors import KNeighborsClassifier\n",
    "from sklearn.svm import SVC\n",
    "from sklearn.ensemble import RandomForestClassifier\n",
    "from sklearn.tree import DecisionTreeClassifier\n",
    "from sklearn.metrics import accuracy_score, ConfusionMatrixDisplay\n",
    "from sklearn.metrics import f1_score, ConfusionMatrixDisplay  # Import f1_score\n",
    "import matplotlib.pyplot as plt\n",
    "from sklearn.model_selection import ParameterGrid\n",
    "from sklearn.metrics import roc_auc_score\n",
    "from sklearn.metrics import roc_curve, auc"
   ]
  },
  {
   "cell_type": "code",
   "execution_count": null,
   "id": "72ef751e",
   "metadata": {},
   "outputs": [],
   "source": [
    "# Ignore convergence and future warnings\n",
    "from warnings import simplefilter\n",
    "from sklearn.exceptions import ConvergenceWarning\n",
    "simplefilter(\"ignore\", category=ConvergenceWarning)\n",
    "simplefilter(\"ignore\", category=FutureWarning)"
   ]
  },
  {
   "cell_type": "markdown",
   "id": "dcdc2a98",
   "metadata": {},
   "source": [
    "Note that the dataset has no time-series dependence. Therefore, we can shuffle the data to split between training, validation, and testing data sets."
   ]
  },
  {
   "cell_type": "code",
   "execution_count": null,
   "id": "bbef2d14",
   "metadata": {},
   "outputs": [],
   "source": [
    "# shuffle the DataFrame rows\n",
    "df_final = df_final.sample(frac = 1).reset_index(drop = True)\n",
    "df_final.head()"
   ]
  },
  {
   "cell_type": "code",
   "execution_count": null,
   "id": "b480889d",
   "metadata": {},
   "outputs": [],
   "source": [
    "import math\n",
    "n = len(df_final)\n",
    "train_ind = math.floor(n * TRAIN_FRAC)\n",
    "valid_ind = math.floor(n * (TRAIN_FRAC + VALIDATION_FRAC))"
   ]
  },
  {
   "cell_type": "code",
   "execution_count": null,
   "id": "63849c20",
   "metadata": {},
   "outputs": [],
   "source": [
    "train_df = df_final.iloc[:train_ind, :]\n",
    "val_df = df_final.iloc[train_ind:valid_ind, :]\n",
    "test_df = df_final.iloc[valid_ind:, :]"
   ]
  },
  {
   "cell_type": "code",
   "execution_count": null,
   "id": "628a545f",
   "metadata": {},
   "outputs": [],
   "source": [
    "# First 3 columns are target variables, hence not selected for training data set\n",
    "X_train = train_df.iloc[:, 3:].values\n",
    "y3_train = train_df['top3'].values\n",
    "y6_train = train_df['top6'].values\n",
    "y10_train = train_df['top10'].values\n",
    "X_val = val_df.iloc[:, 3:].values\n",
    "y3_val = val_df['top3'].values\n",
    "y6_train = val_df['top6'].values\n",
    "y10_train = val_df['top10'].values\n",
    "X_test = test_df.iloc[:, 3:].values\n",
    "y3_test = test_df['top3'].values\n",
    "y6_test = test_df['top6'].values\n",
    "y10_test = test_df['top10'].values"
   ]
  },
  {
   "cell_type": "code",
   "execution_count": null,
   "id": "4a7883b6",
   "metadata": {},
   "outputs": [],
   "source": [
    "# Dictionary to store the best model and test accuracy for each algorithm\n",
    "model_accuracy_info = {}"
   ]
  },
  {
   "cell_type": "code",
   "execution_count": null,
   "id": "aefe5beb",
   "metadata": {},
   "outputs": [],
   "source": [
    "# Define the hyperparameter grid for each model\n",
    "param_grid = {\n",
    "    'LogisticRegression': {'C': [0.001, 0.01, 0.1, 1, 10, 100], 'random_state': [42]},\n",
    "    'KNeighborsClassifier': {'n_neighbors': [3, 5, 7, 10, 12, 13, 15, 20]},\n",
    "    'SVC': {'C': [0.1, 1, 10], 'kernel': ['rbf', 'linear'], 'gamma': ['scale', 'auto'], 'random_state': [42], 'probability': [True]},\n",
    "    'RandomForestClassifier': {'n_estimators': [10, 50, 100], 'max_depth': [None, 10, 20, 30], 'random_state': [42]},\n",
    "    'DecisionTreeClassifier': {'max_depth': [None, 5, 10, 20], 'random_state': [42]},\n",
    "    'GaussianNB': {'var_smoothing': [1e-9, 1e-8, 1e-7, 1e-6, 1e-5, 1e-4, 1e-3, 1e-2, 1e-1]}\n",
    "}"
   ]
  },
  {
   "cell_type": "code",
   "execution_count": null,
   "id": "a2778569",
   "metadata": {},
   "outputs": [],
   "source": [
    "# Initialize models\n",
    "models = {\n",
    "    'LogisticRegression': LogisticRegression(),\n",
    "    'KNeighborsClassifier': KNeighborsClassifier(),\n",
    "    'SVC': SVC(),\n",
    "    'RandomForestClassifier': RandomForestClassifier(),\n",
    "    'DecisionTreeClassifier': DecisionTreeClassifier(),\n",
    "    'GaussianNB': GaussianNB(),\n",
    "}"
   ]
  },
  {
   "cell_type": "code",
   "execution_count": null,
   "id": "e7555d30",
   "metadata": {},
   "outputs": [],
   "source": [
    "# Function to manually tune hyperparameters\n",
    "def tune_hyperparameters(model, params, X_train, y_train, X_val, y_val):\n",
    "    best_model = None\n",
    "    best_params = {}\n",
    "    best_auc = 0  # Use AUC-ROC instead of F1 score\n",
    "    for param in ParameterGrid(params):\n",
    "        model.set_params(**param)\n",
    "        model.fit(X_train, y_train)\n",
    "        probabilities = model.predict_proba(X_val)\n",
    "        auc = roc_auc_score(y_val, probabilities[:, 1])  # Calculate AUC-ROC\n",
    "        if auc > best_auc:\n",
    "            best_auc = auc\n",
    "            best_model = model\n",
    "            best_params = param\n",
    "    return best_model, best_params"
   ]
  },
  {
   "cell_type": "code",
   "execution_count": null,
   "id": "2b906683",
   "metadata": {},
   "outputs": [],
   "source": [
    "for name, model in models.items():\n",
    "    print(f\"Model: {name}\")\n",
    "    if name in param_grid:\n",
    "        # Tune hyperparameters\n",
    "        best_model, best_params = tune_hyperparameters(model, param_grid[name], X_train, y3_train, X_val, y3_val)\n",
    "        print(f\"Best parameters for {name}: {best_params}\")\n",
    "        model = best_model\n",
    "\n",
    "    # Predict and evaluate on test data using AUC-ROC\n",
    "    pred_test = model.predict_proba(X_test)\n",
    "    auc_test = roc_auc_score(y3_test, pred_test[:, 1])  # Calculate AUC-ROC\n",
    "    accuracy_test = accuracy_score(y3_test, pred_test[:, 1] >= 0.5)  # Calculate accuracy\n",
    "\n",
    "    print(f\"Test AUC-ROC for {name}: {auc_test:.4f}\\n\")\n",
    "    model_filename = f\"{name}_model_V1.joblib\"\n",
    "    joblib.dump(model, model_filename)\n",
    "    model_accuracy_info[name] = {\n",
    "        'model': model_filename,\n",
    "        'auc_roc': auc_test,  # Store AUC-ROC\n",
    "        'accuracy': accuracy_test\n",
    "    }\n",
    "\n",
    "    # Calculate ROC curve and AUC for each model\n",
    "    fpr, tpr, thresholds = roc_curve(y3_test, pred_test[:, 1])\n",
    "    roc_auc = auc(fpr, tpr)\n",
    "\n",
    "    # Plot the ROC curve\n",
    "    plt.plot(fpr, tpr, label=f'{name} (area = {roc_auc:.2f})')\n",
    "    \n",
    "plt.plot([0, 1], [0, 1], 'k--')  # Add a diagonal dashed line\n",
    "plt.xlim([0.0, 1.0])\n",
    "plt.ylim([0.0, 1.05])\n",
    "plt.xlabel('False Positive Rate')\n",
    "plt.ylabel('True Positive Rate')\n",
    "plt.title('Receiver Operating Characteristic (ROC) Curves')\n",
    "plt.legend(loc=\"lower right\")\n",
    "plt.show()"
   ]
  },
  {
   "cell_type": "code",
   "execution_count": null,
   "id": "d788c6b8",
   "metadata": {},
   "outputs": [],
   "source": [
    "# Print model and F1 score info\n",
    "for model_name, info in model_accuracy_info.items():\n",
    "    print(f\"Model: {model_name}, File: {info['model']}, Test AUC-ROC: {info['auc_roc']:.4f}, Test Accuracy: {info['accuracy']:.4f}\")"
   ]
  },
  {
   "cell_type": "markdown",
   "id": "d2208d18",
   "metadata": {},
   "source": [
    "We use logistic regression from now on."
   ]
  },
  {
   "cell_type": "code",
   "execution_count": null,
   "id": "7c39862c",
   "metadata": {},
   "outputs": [],
   "source": [
    "podium_model = joblib.load('LogisticRegression_model_V1.joblib')"
   ]
  },
  {
   "cell_type": "code",
   "execution_count": null,
   "id": "d31dd845",
   "metadata": {},
   "outputs": [],
   "source": [
    "podium_model.predict_proba(df_final.iloc[-1,3:])"
   ]
  },
  {
   "cell_type": "markdown",
   "id": "344b84e0",
   "metadata": {},
   "source": [
    "Read the sportsbook data"
   ]
  },
  {
   "cell_type": "code",
   "execution_count": null,
   "id": "43ddcc0e",
   "metadata": {},
   "outputs": [],
   "source": [
    "sb = pd.read_csv('sportsbook_data/fanduel.csv')"
   ]
  },
  {
   "cell_type": "code",
   "execution_count": null,
   "id": "dc5a3608",
   "metadata": {},
   "outputs": [],
   "source": [
    "def american_to_prob(american_odds):\n",
    "    sign = american_odds < 0\n",
    "    mask = -sign * 2 + 1 # 1 for positive, -1 for negative\n",
    "    return 100 / (american_odds * mask + 100) * mask + sign"
   ]
  },
  {
   "cell_type": "code",
   "execution_count": null,
   "id": "5aa9a23b",
   "metadata": {},
   "outputs": [],
   "source": [
    "sb['Breakeven_Prob'] = [american_to_prob(v) for v in sb['Value']]"
   ]
  },
  {
   "cell_type": "code",
   "execution_count": null,
   "id": "2423f518",
   "metadata": {},
   "outputs": [],
   "source": [
    "sb['Juiceless_Prob']=sb.groupby(['Time','Item'])['Breakeven_Prob'].transform(lambda x: x/x.sum())"
   ]
  },
  {
   "cell_type": "code",
   "execution_count": null,
   "id": "f0bd7618",
   "metadata": {},
   "outputs": [],
   "source": [
    "sb.head()"
   ]
  },
  {
   "cell_type": "code",
   "execution_count": null,
   "id": "5995c1cd",
   "metadata": {},
   "outputs": [],
   "source": []
  }
 ],
 "metadata": {
  "kernelspec": {
   "display_name": "Python 3 (ipykernel)",
   "language": "python",
   "name": "python3"
  },
  "language_info": {
   "codemirror_mode": {
    "name": "ipython",
    "version": 3
   },
   "file_extension": ".py",
   "mimetype": "text/x-python",
   "name": "python",
   "nbconvert_exporter": "python",
   "pygments_lexer": "ipython3",
   "version": "3.9.12"
  }
 },
 "nbformat": 4,
 "nbformat_minor": 5
}
