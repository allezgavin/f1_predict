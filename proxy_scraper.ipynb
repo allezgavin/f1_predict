{
 "cells": [
  {
   "cell_type": "code",
   "execution_count": 1,
   "id": "5845b880",
   "metadata": {},
   "outputs": [
    {
     "name": "stdout",
     "output_type": "stream",
     "text": [
      "Intel MKL WARNING: Support of Intel(R) Streaming SIMD Extensions 4.2 (Intel(R) SSE4.2) enabled only processors has been deprecated. Intel oneAPI Math Kernel Library 2025.0 will require Intel(R) Advanced Vector Extensions (Intel(R) AVX) instructions.\n",
      "Intel MKL WARNING: Support of Intel(R) Streaming SIMD Extensions 4.2 (Intel(R) SSE4.2) enabled only processors has been deprecated. Intel oneAPI Math Kernel Library 2025.0 will require Intel(R) Advanced Vector Extensions (Intel(R) AVX) instructions.\n"
     ]
    }
   ],
   "source": [
    "import csv\n",
    "import numpy as np\n",
    "import pandas as pd\n",
    "import datetime"
   ]
  },
  {
   "cell_type": "code",
   "execution_count": 2,
   "id": "aeda3f12",
   "metadata": {},
   "outputs": [],
   "source": [
    "MINIMUM_UPDATE_INTERVAL = datetime.timedelta(days=1)\n",
    "src = 'sportsbook_data/fanduel.csv'"
   ]
  },
  {
   "cell_type": "code",
   "execution_count": 3,
   "id": "803fbcc6",
   "metadata": {},
   "outputs": [],
   "source": [
    "from seleniumwire import webdriver\n",
    "from selenium.webdriver.chrome.service import Service\n",
    "from selenium.webdriver.common.by import By\n",
    "from selenium.webdriver.common.keys import Keys\n",
    "from selenium.common.exceptions import NoSuchElementException\n",
    "from time import sleep"
   ]
  },
  {
   "cell_type": "code",
   "execution_count": 4,
   "id": "c8cfe369",
   "metadata": {},
   "outputs": [],
   "source": [
    "import json\n",
    "with open('config.json', 'r') as file:\n",
    "    proxy_options = json.load(file)['proxy']"
   ]
  },
  {
   "cell_type": "code",
   "execution_count": 5,
   "id": "e708794a",
   "metadata": {},
   "outputs": [],
   "source": [
    "def read_last_line(file_path):\n",
    "    with open(file_path, mode='r') as file:\n",
    "        # Using a CSV reader to read the file\n",
    "        reader = csv.reader(file)\n",
    "        # Convert reader to list and return the last row\n",
    "        lines = list(reader)\n",
    "        return lines[-1]"
   ]
  },
  {
   "cell_type": "code",
   "execution_count": 6,
   "id": "a5d076f4",
   "metadata": {},
   "outputs": [],
   "source": [
    "def calculate_elapsed_time(last_update_time):\n",
    "    # Assuming last_update_time is a string in ISO 8601 format\n",
    "    last_update_datetime = datetime.datetime.fromisoformat(last_update_time)\n",
    "    current_datetime = datetime.datetime.now()\n",
    "    elapsed_time = current_datetime - last_update_datetime\n",
    "    return elapsed_time"
   ]
  },
  {
   "cell_type": "code",
   "execution_count": 7,
   "id": "e26b3d03",
   "metadata": {},
   "outputs": [],
   "source": [
    "def starts_with_any(string, substrings):\n",
    "    for substring in substrings:\n",
    "        if string.startswith(substring):\n",
    "            return True\n",
    "    return False"
   ]
  },
  {
   "cell_type": "code",
   "execution_count": 8,
   "id": "9437904a",
   "metadata": {},
   "outputs": [],
   "source": [
    "def update1_src(sel_driver, file_path, url = 'https://sportsbook.fanduel.com/motorsport?tab=formula-1'):\n",
    "    sel_driver.get(url)\n",
    "    sel_driver.implicitly_wait(10)\n",
    "\n",
    "    show_more_buttons = sel_driver.find_elements('xpath', '//div[@aria-label=\"Show more\"]')\n",
    "    for button in show_more_buttons:\n",
    "        button.click()\n",
    "\n",
    "# Grand Prix-specific outright betting may not be available immediately. Hence we relax the condition a bit.\n",
    "#     tab = sel_driver.find_element('xpath',\n",
    "#                               '//ul[contains(., \" Grand Prix\") and contains(., \"F1 Outrights\")][not(.//ul)]')\n",
    "    tab = sel_driver.find_element('xpath',\n",
    "                              '//ul[contains(., \"F1 Outrights\")][not(.//ul)]')\n",
    "    \n",
    "    rates_text = tab.text.split('\\n')\n",
    "    #print(rates_text)\n",
    "    \n",
    "    with open(file_path, mode='a', newline='') as file:\n",
    "        writer = csv.writer(file)\n",
    "        time = pd.Timestamp.now()\n",
    "        race = rates_text[0]\n",
    "        i = 0\n",
    "        \n",
    "        if rates_text[1] == 'Outright Betting':\n",
    "            i += 2\n",
    "            while (i < len(rates_text)) and not rates_text[i+1].startswith('Show'):\n",
    "                driver = rates_text[i]\n",
    "                value = rates_text[i+1]\n",
    "                try:\n",
    "                    value = float(value)\n",
    "                except Exception as e:\n",
    "                    print(\"Invalid value:\\n\", value)\n",
    "                    break\n",
    "                new_row = [race, 'win', time, driver, value]\n",
    "                writer.writerow(new_row)\n",
    "                i += 2\n",
    "                \n",
    "            print(\"Fanduel outright betting data updated successfully.\")\n",
    "            i += 2\n",
    "        \n",
    "        if rates_text[i] == 'F1 Outrights':\n",
    "            outright_items = ['F1 Drivers Championship','F1 Constructors Championship', 'Betting Without']\n",
    "            item = ''\n",
    "            i += 1\n",
    "            while (i < len(rates_text)) and not rates_text[i].startswith('Overall H2H'):\n",
    "                if rates_text[i+1].startswith('Show'):\n",
    "                    i += 2\n",
    "                    continue\n",
    "                if starts_with_any(rates_text[i], outright_items):\n",
    "                    item = rates_text[i]\n",
    "                    i += 1\n",
    "                    continue\n",
    "                driver = rates_text[i]\n",
    "                value = rates_text[i+1]\n",
    "                try:\n",
    "                    value = float(value)\n",
    "                except Exception as e:\n",
    "                    print(\"Invalid value:\\n\", value)\n",
    "                    break\n",
    "                new_row = [race, item, time, driver, value]\n",
    "                writer.writerow(new_row)\n",
    "                i += 2\n",
    "                \n",
    "            print(\"Fanduel season-long data updated successfully.\")\n",
    "                \n",
    "        if rates_text[i].startswith('Overall H2H'):\n",
    "            while (i+5 < len(rates_text)):\n",
    "                item = rates_text[i]\n",
    "                \n",
    "                driver = rates_text[i+2]\n",
    "                value = rates_text[i+3]\n",
    "                try:\n",
    "                    value = float(value)\n",
    "                except Exception as e:\n",
    "                    print(\"Invalid value:\\n\", value)\n",
    "                    break\n",
    "                new_row = [race, item, time, driver, value]\n",
    "                writer.writerow(new_row)\n",
    "                \n",
    "                driver = rates_text[i+4]\n",
    "                value = rates_text[i+5]\n",
    "                try:\n",
    "                    value = float(value)\n",
    "                except Exception as e:\n",
    "                    print(\"Invalid value:\\n\", value)\n",
    "                    break\n",
    "                new_row = [race, item, time, driver, value]\n",
    "                writer.writerow(new_row)\n",
    "                \n",
    "                i += 7\n",
    "    \n",
    "            print('Fanduel H2H data updated successfully.')"
   ]
  },
  {
   "cell_type": "code",
   "execution_count": 9,
   "id": "75999dff",
   "metadata": {},
   "outputs": [],
   "source": [
    "# This may not be available immediately after the last Grand Prix finishes\n",
    "def update2_src(sel_driver, file_path, url = 'https://sportsbook.fanduel.com/motorsport?tab=f1-race-props'):\n",
    "    try:\n",
    "        sel_driver.get(url)\n",
    "        sel_driver.implicitly_wait(10) # Wait for dynamically loaded content\n",
    "        sel_driver.find_element('xpath', '//div[@aria-label=\"Show more\"]').click()\n",
    "        tab = sel_driver.find_element('xpath',\n",
    "                                  '//ul[contains(., \" Grand Prix\") and contains(., \"Podium Finish\")][not(.//ul)]')\n",
    "        podium_texts = tab.text.split('\\n')\n",
    "        race = podium_texts[0]\n",
    "        podium_texts = podium_texts[2:-2]\n",
    "\n",
    "    except NoSuchElementException as n:\n",
    "        print('Cannot find the element. Error message as below:\\n', n)\n",
    "\n",
    "    except Exception as e:\n",
    "        print(\"An error occurred:\\n\", e)\n",
    "        \n",
    "    with open(file_path, mode='a', newline='') as file:\n",
    "        writer = csv.writer(file)\n",
    "        time = pd.Timestamp.now()\n",
    "        \n",
    "        for i in range(len(podium_texts)//2):\n",
    "            driver = podium_texts[2*i]\n",
    "            value = podium_texts[2*i+1]\n",
    "            try:\n",
    "                value = float(value)\n",
    "            except Exception as e:\n",
    "                print(\"Invalid value:\\n\", value)\n",
    "                break\n",
    "            new_row = [race, 'podium finish', time, driver, value]\n",
    "            writer.writerow(new_row)\n",
    "\n",
    "    print(\"Fanduel podium finish data updated successfully.\")\n",
    "    # pd.read_csv(src).tail()"
   ]
  },
  {
   "cell_type": "code",
   "execution_count": 10,
   "id": "707c2cef",
   "metadata": {},
   "outputs": [],
   "source": [
    "def update_src_all(file_path):\n",
    "    # We use sel_driver instead of the usual nomenclature driver to avoid conflict with racing driver\n",
    "    sel_driver = webdriver.Chrome(seleniumwire_options={'proxy': proxy_options})\n",
    "    \n",
    "    # Must use the same driver, or the \"options\" dictionary would be mutated and reset.\n",
    "    update1_src(sel_driver, file_path)\n",
    "    update2_src(sel_driver, file_path)\n",
    "    \n",
    "    sel_driver.quit()"
   ]
  },
  {
   "cell_type": "code",
   "execution_count": 11,
   "id": "fc95854e",
   "metadata": {},
   "outputs": [
    {
     "name": "stdout",
     "output_type": "stream",
     "text": [
      "Fanduel outright betting data updated successfully.\n",
      "Cannot find the element. Error message as below:\n",
      " Message: no such element: Unable to locate element: {\"method\":\"xpath\",\"selector\":\"//div[@aria-label=\"Show more\"]\"}\n",
      "  (Session info: chrome=126.0.6478.127); For documentation on this error, please visit: https://www.selenium.dev/documentation/webdriver/troubleshooting/errors#no-such-element-exception\n",
      "Stacktrace:\n",
      "0   chromedriver                        0x0000000100d66a80 chromedriver + 4385408\n",
      "1   chromedriver                        0x0000000100d5f38c chromedriver + 4354956\n",
      "2   chromedriver                        0x000000010097cb0c chromedriver + 281356\n",
      "3   chromedriver                        0x00000001009bf2f8 chromedriver + 553720\n",
      "4   chromedriver                        0x00000001009f7d24 chromedriver + 785700\n",
      "5   chromedriver                        0x00000001009b3eec chromedriver + 507628\n",
      "6   chromedriver                        0x00000001009b48c4 chromedriver + 510148\n",
      "7   chromedriver                        0x0000000100d2e43c chromedriver + 4154428\n",
      "8   chromedriver                        0x0000000100d32ea0 chromedriver + 4173472\n",
      "9   chromedriver                        0x0000000100d13ff8 chromedriver + 4046840\n",
      "10  chromedriver                        0x0000000100d3378c chromedriver + 4175756\n",
      "11  chromedriver                        0x0000000100d06fb8 chromedriver + 3993528\n",
      "12  chromedriver                        0x0000000100d5121c chromedriver + 4297244\n",
      "13  chromedriver                        0x0000000100d51398 chromedriver + 4297624\n",
      "14  chromedriver                        0x0000000100d5ef84 chromedriver + 4353924\n",
      "15  libsystem_pthread.dylib             0x00000001a62fbfa8 _pthread_start + 148\n",
      "16  libsystem_pthread.dylib             0x00000001a62f6da0 thread_start + 8\n",
      "\n"
     ]
    },
    {
     "ename": "UnboundLocalError",
     "evalue": "cannot access local variable 'podium_texts' where it is not associated with a value",
     "output_type": "error",
     "traceback": [
      "\u001b[0;31m---------------------------------------------------------------------------\u001b[0m",
      "\u001b[0;31mUnboundLocalError\u001b[0m                         Traceback (most recent call last)",
      "Cell \u001b[0;32mIn[11], line 13\u001b[0m\n\u001b[1;32m     10\u001b[0m elapsed_time \u001b[38;5;241m=\u001b[39m calculate_elapsed_time(last_update_time)\n\u001b[1;32m     12\u001b[0m \u001b[38;5;28;01mif\u001b[39;00m elapsed_time \u001b[38;5;241m>\u001b[39m\u001b[38;5;241m=\u001b[39m MINIMUM_UPDATE_INTERVAL:\n\u001b[0;32m---> 13\u001b[0m     update_src_all(src)\n\u001b[1;32m     15\u001b[0m \u001b[38;5;28;01melse\u001b[39;00m:\n\u001b[1;32m     16\u001b[0m     \u001b[38;5;28mprint\u001b[39m(\u001b[38;5;124m\"\u001b[39m\u001b[38;5;124mNo need to update the CSV files.\u001b[39m\u001b[38;5;124m\"\u001b[39m)\n",
      "Cell \u001b[0;32mIn[10], line 7\u001b[0m, in \u001b[0;36mupdate_src_all\u001b[0;34m(file_path)\u001b[0m\n\u001b[1;32m      5\u001b[0m \u001b[38;5;66;03m# Must use the same driver, or the \"options\" dictionary would be mutated and reset.\u001b[39;00m\n\u001b[1;32m      6\u001b[0m update1_src(sel_driver, file_path)\n\u001b[0;32m----> 7\u001b[0m update2_src(sel_driver, file_path)\n\u001b[1;32m      9\u001b[0m sel_driver\u001b[38;5;241m.\u001b[39mquit()\n",
      "Cell \u001b[0;32mIn[9], line 23\u001b[0m, in \u001b[0;36mupdate2_src\u001b[0;34m(sel_driver, file_path, url)\u001b[0m\n\u001b[1;32m     20\u001b[0m writer \u001b[38;5;241m=\u001b[39m csv\u001b[38;5;241m.\u001b[39mwriter(file)\n\u001b[1;32m     21\u001b[0m time \u001b[38;5;241m=\u001b[39m pd\u001b[38;5;241m.\u001b[39mTimestamp\u001b[38;5;241m.\u001b[39mnow()\n\u001b[0;32m---> 23\u001b[0m \u001b[38;5;28;01mfor\u001b[39;00m i \u001b[38;5;129;01min\u001b[39;00m \u001b[38;5;28mrange\u001b[39m(\u001b[38;5;28mlen\u001b[39m(podium_texts)\u001b[38;5;241m/\u001b[39m\u001b[38;5;241m/\u001b[39m\u001b[38;5;241m2\u001b[39m):\n\u001b[1;32m     24\u001b[0m     driver \u001b[38;5;241m=\u001b[39m podium_texts[\u001b[38;5;241m2\u001b[39m\u001b[38;5;241m*\u001b[39mi]\n\u001b[1;32m     25\u001b[0m     value \u001b[38;5;241m=\u001b[39m podium_texts[\u001b[38;5;241m2\u001b[39m\u001b[38;5;241m*\u001b[39mi\u001b[38;5;241m+\u001b[39m\u001b[38;5;241m1\u001b[39m]\n",
      "\u001b[0;31mUnboundLocalError\u001b[0m: cannot access local variable 'podium_texts' where it is not associated with a value"
     ]
    }
   ],
   "source": [
    "test_mode = False\n",
    "\n",
    "if test_mode:\n",
    "    src = 'sportsbook_data/fanduel_test.csv'\n",
    "    update_src_all(src) # forced update\n",
    "\n",
    "else:\n",
    "    last_line = read_last_line(src)\n",
    "    last_update_time = last_line[2]\n",
    "    elapsed_time = calculate_elapsed_time(last_update_time)\n",
    "\n",
    "    if elapsed_time >= MINIMUM_UPDATE_INTERVAL:\n",
    "        update_src_all(src)\n",
    "\n",
    "    else:\n",
    "        print(\"No need to update the CSV files.\")"
   ]
  },
  {
   "cell_type": "markdown",
   "id": "2c047ede",
   "metadata": {},
   "source": [
    "Run this in the command line to compile the .py file for task scheduling\n",
    "\n",
    "jupyter nbconvert --to script proxy_scraper.ipynb"
   ]
  },
  {
   "cell_type": "code",
   "execution_count": 16,
   "id": "cb7002c0",
   "metadata": {},
   "outputs": [
    {
     "ename": "NoSuchElementException",
     "evalue": "Message: no such element: Unable to locate element: {\"method\":\"xpath\",\"selector\":\"//ul[contains(., \"F1 Outrights\")][not(.//ul)]\"}\n  (Session info: chrome=126.0.6478.127); For documentation on this error, please visit: https://www.selenium.dev/documentation/webdriver/troubleshooting/errors#no-such-element-exception\nStacktrace:\n0   chromedriver                        0x00000001025bea80 chromedriver + 4385408\n1   chromedriver                        0x00000001025b738c chromedriver + 4354956\n2   chromedriver                        0x00000001021d4b0c chromedriver + 281356\n3   chromedriver                        0x00000001022172f8 chromedriver + 553720\n4   chromedriver                        0x000000010224fd24 chromedriver + 785700\n5   chromedriver                        0x000000010220beec chromedriver + 507628\n6   chromedriver                        0x000000010220c8c4 chromedriver + 510148\n7   chromedriver                        0x000000010258643c chromedriver + 4154428\n8   chromedriver                        0x000000010258aea0 chromedriver + 4173472\n9   chromedriver                        0x000000010256bff8 chromedriver + 4046840\n10  chromedriver                        0x000000010258b78c chromedriver + 4175756\n11  chromedriver                        0x000000010255efb8 chromedriver + 3993528\n12  chromedriver                        0x00000001025a921c chromedriver + 4297244\n13  chromedriver                        0x00000001025a9398 chromedriver + 4297624\n14  chromedriver                        0x00000001025b6f84 chromedriver + 4353924\n15  libsystem_pthread.dylib             0x00000001a62fbfa8 _pthread_start + 148\n16  libsystem_pthread.dylib             0x00000001a62f6da0 thread_start + 8\n",
     "output_type": "error",
     "traceback": [
      "\u001b[0;31m---------------------------------------------------------------------------\u001b[0m",
      "\u001b[0;31mNoSuchElementException\u001b[0m                    Traceback (most recent call last)",
      "Cell \u001b[0;32mIn[16], line 3\u001b[0m\n\u001b[1;32m      1\u001b[0m sel_driver \u001b[38;5;241m=\u001b[39m webdriver\u001b[38;5;241m.\u001b[39mChrome(seleniumwire_options\u001b[38;5;241m=\u001b[39m{\u001b[38;5;124m'\u001b[39m\u001b[38;5;124mproxy\u001b[39m\u001b[38;5;124m'\u001b[39m: proxy_options})\n\u001b[1;32m      2\u001b[0m sel_driver \u001b[38;5;241m=\u001b[39m webdriver\u001b[38;5;241m.\u001b[39mChrome()\n\u001b[0;32m----> 3\u001b[0m update1_src(sel_driver, \u001b[38;5;124m'\u001b[39m\u001b[38;5;124msportsbook_data/fanduel_test.csv\u001b[39m\u001b[38;5;124m'\u001b[39m)\n",
      "Cell \u001b[0;32mIn[8], line 12\u001b[0m, in \u001b[0;36mupdate1_src\u001b[0;34m(sel_driver, file_path, url)\u001b[0m\n\u001b[1;32m      7\u001b[0m         button\u001b[38;5;241m.\u001b[39mclick()\n\u001b[1;32m      9\u001b[0m \u001b[38;5;66;03m# Grand Prix-specific outright betting may not be available immediately. Hence we relax the condition a bit.\u001b[39;00m\n\u001b[1;32m     10\u001b[0m \u001b[38;5;66;03m#     tab = sel_driver.find_element('xpath',\u001b[39;00m\n\u001b[1;32m     11\u001b[0m \u001b[38;5;66;03m#                               '//ul[contains(., \" Grand Prix\") and contains(., \"F1 Outrights\")][not(.//ul)]')\u001b[39;00m\n\u001b[0;32m---> 12\u001b[0m     tab \u001b[38;5;241m=\u001b[39m sel_driver\u001b[38;5;241m.\u001b[39mfind_element(\u001b[38;5;124m'\u001b[39m\u001b[38;5;124mxpath\u001b[39m\u001b[38;5;124m'\u001b[39m,\n\u001b[1;32m     13\u001b[0m                               \u001b[38;5;124m'\u001b[39m\u001b[38;5;124m//ul[contains(., \u001b[39m\u001b[38;5;124m\"\u001b[39m\u001b[38;5;124mF1 Outrights\u001b[39m\u001b[38;5;124m\"\u001b[39m\u001b[38;5;124m)][not(.//ul)]\u001b[39m\u001b[38;5;124m'\u001b[39m)\n\u001b[1;32m     15\u001b[0m     rates_text \u001b[38;5;241m=\u001b[39m tab\u001b[38;5;241m.\u001b[39mtext\u001b[38;5;241m.\u001b[39msplit(\u001b[38;5;124m'\u001b[39m\u001b[38;5;130;01m\\n\u001b[39;00m\u001b[38;5;124m'\u001b[39m)\n\u001b[1;32m     16\u001b[0m     \u001b[38;5;66;03m#print(rates_text)\u001b[39;00m\n",
      "File \u001b[0;32m~/opt/anaconda3/envs/f1_predict/lib/python3.12/site-packages/selenium/webdriver/remote/webdriver.py:748\u001b[0m, in \u001b[0;36mWebDriver.find_element\u001b[0;34m(self, by, value)\u001b[0m\n\u001b[1;32m    745\u001b[0m     by \u001b[38;5;241m=\u001b[39m By\u001b[38;5;241m.\u001b[39mCSS_SELECTOR\n\u001b[1;32m    746\u001b[0m     value \u001b[38;5;241m=\u001b[39m \u001b[38;5;124mf\u001b[39m\u001b[38;5;124m'\u001b[39m\u001b[38;5;124m[name=\u001b[39m\u001b[38;5;124m\"\u001b[39m\u001b[38;5;132;01m{\u001b[39;00mvalue\u001b[38;5;132;01m}\u001b[39;00m\u001b[38;5;124m\"\u001b[39m\u001b[38;5;124m]\u001b[39m\u001b[38;5;124m'\u001b[39m\n\u001b[0;32m--> 748\u001b[0m \u001b[38;5;28;01mreturn\u001b[39;00m \u001b[38;5;28mself\u001b[39m\u001b[38;5;241m.\u001b[39mexecute(Command\u001b[38;5;241m.\u001b[39mFIND_ELEMENT, {\u001b[38;5;124m\"\u001b[39m\u001b[38;5;124musing\u001b[39m\u001b[38;5;124m\"\u001b[39m: by, \u001b[38;5;124m\"\u001b[39m\u001b[38;5;124mvalue\u001b[39m\u001b[38;5;124m\"\u001b[39m: value})[\u001b[38;5;124m\"\u001b[39m\u001b[38;5;124mvalue\u001b[39m\u001b[38;5;124m\"\u001b[39m]\n",
      "File \u001b[0;32m~/opt/anaconda3/envs/f1_predict/lib/python3.12/site-packages/selenium/webdriver/remote/webdriver.py:354\u001b[0m, in \u001b[0;36mWebDriver.execute\u001b[0;34m(self, driver_command, params)\u001b[0m\n\u001b[1;32m    352\u001b[0m response \u001b[38;5;241m=\u001b[39m \u001b[38;5;28mself\u001b[39m\u001b[38;5;241m.\u001b[39mcommand_executor\u001b[38;5;241m.\u001b[39mexecute(driver_command, params)\n\u001b[1;32m    353\u001b[0m \u001b[38;5;28;01mif\u001b[39;00m response:\n\u001b[0;32m--> 354\u001b[0m     \u001b[38;5;28mself\u001b[39m\u001b[38;5;241m.\u001b[39merror_handler\u001b[38;5;241m.\u001b[39mcheck_response(response)\n\u001b[1;32m    355\u001b[0m     response[\u001b[38;5;124m\"\u001b[39m\u001b[38;5;124mvalue\u001b[39m\u001b[38;5;124m\"\u001b[39m] \u001b[38;5;241m=\u001b[39m \u001b[38;5;28mself\u001b[39m\u001b[38;5;241m.\u001b[39m_unwrap_value(response\u001b[38;5;241m.\u001b[39mget(\u001b[38;5;124m\"\u001b[39m\u001b[38;5;124mvalue\u001b[39m\u001b[38;5;124m\"\u001b[39m, \u001b[38;5;28;01mNone\u001b[39;00m))\n\u001b[1;32m    356\u001b[0m     \u001b[38;5;28;01mreturn\u001b[39;00m response\n",
      "File \u001b[0;32m~/opt/anaconda3/envs/f1_predict/lib/python3.12/site-packages/selenium/webdriver/remote/errorhandler.py:229\u001b[0m, in \u001b[0;36mErrorHandler.check_response\u001b[0;34m(self, response)\u001b[0m\n\u001b[1;32m    227\u001b[0m         alert_text \u001b[38;5;241m=\u001b[39m value[\u001b[38;5;124m\"\u001b[39m\u001b[38;5;124malert\u001b[39m\u001b[38;5;124m\"\u001b[39m]\u001b[38;5;241m.\u001b[39mget(\u001b[38;5;124m\"\u001b[39m\u001b[38;5;124mtext\u001b[39m\u001b[38;5;124m\"\u001b[39m)\n\u001b[1;32m    228\u001b[0m     \u001b[38;5;28;01mraise\u001b[39;00m exception_class(message, screen, stacktrace, alert_text)  \u001b[38;5;66;03m# type: ignore[call-arg]  # mypy is not smart enough here\u001b[39;00m\n\u001b[0;32m--> 229\u001b[0m \u001b[38;5;28;01mraise\u001b[39;00m exception_class(message, screen, stacktrace)\n",
      "\u001b[0;31mNoSuchElementException\u001b[0m: Message: no such element: Unable to locate element: {\"method\":\"xpath\",\"selector\":\"//ul[contains(., \"F1 Outrights\")][not(.//ul)]\"}\n  (Session info: chrome=126.0.6478.127); For documentation on this error, please visit: https://www.selenium.dev/documentation/webdriver/troubleshooting/errors#no-such-element-exception\nStacktrace:\n0   chromedriver                        0x00000001025bea80 chromedriver + 4385408\n1   chromedriver                        0x00000001025b738c chromedriver + 4354956\n2   chromedriver                        0x00000001021d4b0c chromedriver + 281356\n3   chromedriver                        0x00000001022172f8 chromedriver + 553720\n4   chromedriver                        0x000000010224fd24 chromedriver + 785700\n5   chromedriver                        0x000000010220beec chromedriver + 507628\n6   chromedriver                        0x000000010220c8c4 chromedriver + 510148\n7   chromedriver                        0x000000010258643c chromedriver + 4154428\n8   chromedriver                        0x000000010258aea0 chromedriver + 4173472\n9   chromedriver                        0x000000010256bff8 chromedriver + 4046840\n10  chromedriver                        0x000000010258b78c chromedriver + 4175756\n11  chromedriver                        0x000000010255efb8 chromedriver + 3993528\n12  chromedriver                        0x00000001025a921c chromedriver + 4297244\n13  chromedriver                        0x00000001025a9398 chromedriver + 4297624\n14  chromedriver                        0x00000001025b6f84 chromedriver + 4353924\n15  libsystem_pthread.dylib             0x00000001a62fbfa8 _pthread_start + 148\n16  libsystem_pthread.dylib             0x00000001a62f6da0 thread_start + 8\n"
     ]
    }
   ],
   "source": [
    "sel_driver = webdriver.Chrome(seleniumwire_options={'proxy': proxy_options})\n",
    "sel_driver = webdriver.Chrome()\n",
    "update1_src(sel_driver, 'sportsbook_data/fanduel_test.csv')"
   ]
  },
  {
   "cell_type": "code",
   "execution_count": null,
   "id": "83c0728d-8daf-42a2-bd16-b66b5abc29ad",
   "metadata": {},
   "outputs": [],
   "source": []
  }
 ],
 "metadata": {
  "kernelspec": {
   "display_name": "Python 3 (ipykernel)",
   "language": "python",
   "name": "python3"
  },
  "language_info": {
   "codemirror_mode": {
    "name": "ipython",
    "version": 3
   },
   "file_extension": ".py",
   "mimetype": "text/x-python",
   "name": "python",
   "nbconvert_exporter": "python",
   "pygments_lexer": "ipython3",
   "version": "3.12.4"
  }
 },
 "nbformat": 4,
 "nbformat_minor": 5
}
