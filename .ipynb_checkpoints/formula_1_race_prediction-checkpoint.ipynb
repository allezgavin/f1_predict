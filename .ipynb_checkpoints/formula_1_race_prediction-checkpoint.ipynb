{
 "cells": [
  {
   "cell_type": "markdown",
   "id": "f7bf9dd4",
   "metadata": {},
   "source": [
    "# Formula 1 Race Prediction and Betting"
   ]
  },
  {
   "cell_type": "markdown",
   "id": "a74a53cf",
   "metadata": {},
   "source": [
    "This model aims at predicting F1 races and place bets accordingly. Race data are retrieved with the Ergast API, and the historical sports betting odds data are from official news reports (https://www.formula1.com/en/latest/tags/betting.4DAHW78TqpGtu00QvfHuzk.)"
   ]
  },
  {
   "cell_type": "code",
   "execution_count": 1,
   "id": "bcb5fdd5-d4c0-4f20-8682-5d46eb26cf14",
   "metadata": {},
   "outputs": [],
   "source": [
    "import os\n",
    "os.environ['MKL_SERVICE_FORCE_INTEL'] = '1'"
   ]
  },
  {
   "cell_type": "code",
   "execution_count": 2,
   "id": "34d4e9e6",
   "metadata": {},
   "outputs": [],
   "source": [
    "import numpy as np\n",
    "import pandas as pd\n",
    "import matplotlib.pyplot as plt\n",
    "import seaborn as sns"
   ]
  },
  {
   "cell_type": "code",
   "execution_count": 3,
   "id": "e5b8f804-42da-4680-b942-c2f34160f563",
   "metadata": {},
   "outputs": [],
   "source": [
    "import warnings\n",
    "warnings.filterwarnings(\"ignore\", message=\"Intel MKL WARNING\")"
   ]
  },
  {
   "cell_type": "markdown",
   "id": "dd7ce7f7",
   "metadata": {},
   "source": [
    "## Roadmap\n",
    "#### 1. Data Structure Overview\n",
    "#### 2. Exploratory Data Analysis\n",
    "#### 3. Prediction of Podium Finish\n",
    "#### 4. Backtesting"
   ]
  },
  {
   "cell_type": "markdown",
   "id": "7d97dafc",
   "metadata": {},
   "source": [
    "## 1. Data Structure Overview\n",
    "Import downloaded dataframes"
   ]
  },
  {
   "cell_type": "code",
   "execution_count": 4,
   "id": "3beda134",
   "metadata": {},
   "outputs": [],
   "source": [
    "circuits = pd.read_csv('updated_data/circuits.csv')\n",
    "c_results = pd.read_csv('updated_data/constructor_results.csv')\n",
    "c_standings = pd.read_csv('updated_data/constructor_standings.csv')\n",
    "c = pd.read_csv('updated_data/constructors.csv')\n",
    "d_standings = pd.read_csv('updated_data/driver_standings.csv')\n",
    "d = pd.read_csv('updated_data/drivers.csv')\n",
    "lap = pd.read_csv('updated_data/lap_times.csv')\n",
    "pit = pd.read_csv('updated_data/pit_stops.csv')\n",
    "quali = pd.read_csv('updated_data/qualifying.csv')\n",
    "race = pd.read_csv('updated_data/races.csv')\n",
    "results = pd.read_csv('updated_data/results.csv')\n",
    "seasons = pd.read_csv('updated_data/seasons.csv')\n",
    "sprint = pd.read_csv('updated_data/sprint_results.csv')\n",
    "status = pd.read_csv('permanent_data/status.csv')"
   ]
  },
  {
   "cell_type": "markdown",
   "id": "1198b7ec",
   "metadata": {},
   "source": [
    "Check out dataframe structure. Note that the leftmost column is a meaningless index column"
   ]
  },
  {
   "cell_type": "code",
   "execution_count": 5,
   "id": "0b6fc4a7",
   "metadata": {},
   "outputs": [
    {
     "data": {
      "text/html": [
       "<div>\n",
       "<style scoped>\n",
       "    .dataframe tbody tr th:only-of-type {\n",
       "        vertical-align: middle;\n",
       "    }\n",
       "\n",
       "    .dataframe tbody tr th {\n",
       "        vertical-align: top;\n",
       "    }\n",
       "\n",
       "    .dataframe thead th {\n",
       "        text-align: right;\n",
       "    }\n",
       "</style>\n",
       "<table border=\"1\" class=\"dataframe\">\n",
       "  <thead>\n",
       "    <tr style=\"text-align: right;\">\n",
       "      <th></th>\n",
       "      <th>circuitId</th>\n",
       "      <th>circuitRef</th>\n",
       "      <th>name</th>\n",
       "      <th>location</th>\n",
       "      <th>country</th>\n",
       "      <th>lat</th>\n",
       "      <th>lng</th>\n",
       "      <th>alt</th>\n",
       "      <th>url</th>\n",
       "    </tr>\n",
       "  </thead>\n",
       "  <tbody>\n",
       "    <tr>\n",
       "      <th>0</th>\n",
       "      <td>1</td>\n",
       "      <td>albert_park</td>\n",
       "      <td>Albert Park Grand Prix Circuit</td>\n",
       "      <td>Melbourne</td>\n",
       "      <td>Australia</td>\n",
       "      <td>-37.84970</td>\n",
       "      <td>144.96800</td>\n",
       "      <td>10</td>\n",
       "      <td>http://en.wikipedia.org/wiki/Melbourne_Grand_P...</td>\n",
       "    </tr>\n",
       "    <tr>\n",
       "      <th>1</th>\n",
       "      <td>2</td>\n",
       "      <td>sepang</td>\n",
       "      <td>Sepang International Circuit</td>\n",
       "      <td>Kuala Lumpur</td>\n",
       "      <td>Malaysia</td>\n",
       "      <td>2.76083</td>\n",
       "      <td>101.73800</td>\n",
       "      <td>18</td>\n",
       "      <td>http://en.wikipedia.org/wiki/Sepang_Internatio...</td>\n",
       "    </tr>\n",
       "    <tr>\n",
       "      <th>2</th>\n",
       "      <td>3</td>\n",
       "      <td>bahrain</td>\n",
       "      <td>Bahrain International Circuit</td>\n",
       "      <td>Sakhir</td>\n",
       "      <td>Bahrain</td>\n",
       "      <td>26.03250</td>\n",
       "      <td>50.51060</td>\n",
       "      <td>7</td>\n",
       "      <td>http://en.wikipedia.org/wiki/Bahrain_Internati...</td>\n",
       "    </tr>\n",
       "    <tr>\n",
       "      <th>3</th>\n",
       "      <td>4</td>\n",
       "      <td>catalunya</td>\n",
       "      <td>Circuit de Barcelona-Catalunya</td>\n",
       "      <td>Montmeló</td>\n",
       "      <td>Spain</td>\n",
       "      <td>41.57000</td>\n",
       "      <td>2.26111</td>\n",
       "      <td>109</td>\n",
       "      <td>http://en.wikipedia.org/wiki/Circuit_de_Barcel...</td>\n",
       "    </tr>\n",
       "    <tr>\n",
       "      <th>4</th>\n",
       "      <td>5</td>\n",
       "      <td>istanbul</td>\n",
       "      <td>Istanbul Park</td>\n",
       "      <td>Istanbul</td>\n",
       "      <td>Turkey</td>\n",
       "      <td>40.95170</td>\n",
       "      <td>29.40500</td>\n",
       "      <td>130</td>\n",
       "      <td>http://en.wikipedia.org/wiki/Istanbul_Park</td>\n",
       "    </tr>\n",
       "  </tbody>\n",
       "</table>\n",
       "</div>"
      ],
      "text/plain": [
       "   circuitId   circuitRef                            name      location  \\\n",
       "0          1  albert_park  Albert Park Grand Prix Circuit     Melbourne   \n",
       "1          2       sepang    Sepang International Circuit  Kuala Lumpur   \n",
       "2          3      bahrain   Bahrain International Circuit        Sakhir   \n",
       "3          4    catalunya  Circuit de Barcelona-Catalunya      Montmeló   \n",
       "4          5     istanbul                   Istanbul Park      Istanbul   \n",
       "\n",
       "     country       lat        lng  alt  \\\n",
       "0  Australia -37.84970  144.96800   10   \n",
       "1   Malaysia   2.76083  101.73800   18   \n",
       "2    Bahrain  26.03250   50.51060    7   \n",
       "3      Spain  41.57000    2.26111  109   \n",
       "4     Turkey  40.95170   29.40500  130   \n",
       "\n",
       "                                                 url  \n",
       "0  http://en.wikipedia.org/wiki/Melbourne_Grand_P...  \n",
       "1  http://en.wikipedia.org/wiki/Sepang_Internatio...  \n",
       "2  http://en.wikipedia.org/wiki/Bahrain_Internati...  \n",
       "3  http://en.wikipedia.org/wiki/Circuit_de_Barcel...  \n",
       "4         http://en.wikipedia.org/wiki/Istanbul_Park  "
      ]
     },
     "execution_count": 5,
     "metadata": {},
     "output_type": "execute_result"
    }
   ],
   "source": [
    "circuits.head()"
   ]
  },
  {
   "cell_type": "code",
   "execution_count": 6,
   "id": "769e5c98",
   "metadata": {},
   "outputs": [
    {
     "data": {
      "text/html": [
       "<div>\n",
       "<style scoped>\n",
       "    .dataframe tbody tr th:only-of-type {\n",
       "        vertical-align: middle;\n",
       "    }\n",
       "\n",
       "    .dataframe tbody tr th {\n",
       "        vertical-align: top;\n",
       "    }\n",
       "\n",
       "    .dataframe thead th {\n",
       "        text-align: right;\n",
       "    }\n",
       "</style>\n",
       "<table border=\"1\" class=\"dataframe\">\n",
       "  <thead>\n",
       "    <tr style=\"text-align: right;\">\n",
       "      <th></th>\n",
       "      <th>driverId</th>\n",
       "      <th>driverRef</th>\n",
       "      <th>number</th>\n",
       "      <th>code</th>\n",
       "      <th>forename</th>\n",
       "      <th>surname</th>\n",
       "      <th>dob</th>\n",
       "      <th>nationality</th>\n",
       "      <th>url</th>\n",
       "    </tr>\n",
       "  </thead>\n",
       "  <tbody>\n",
       "    <tr>\n",
       "      <th>0</th>\n",
       "      <td>1</td>\n",
       "      <td>hamilton</td>\n",
       "      <td>44</td>\n",
       "      <td>HAM</td>\n",
       "      <td>Lewis</td>\n",
       "      <td>Hamilton</td>\n",
       "      <td>1985-01-07</td>\n",
       "      <td>British</td>\n",
       "      <td>http://en.wikipedia.org/wiki/Lewis_Hamilton</td>\n",
       "    </tr>\n",
       "    <tr>\n",
       "      <th>1</th>\n",
       "      <td>2</td>\n",
       "      <td>heidfeld</td>\n",
       "      <td>\\N</td>\n",
       "      <td>HEI</td>\n",
       "      <td>Nick</td>\n",
       "      <td>Heidfeld</td>\n",
       "      <td>1977-05-10</td>\n",
       "      <td>German</td>\n",
       "      <td>http://en.wikipedia.org/wiki/Nick_Heidfeld</td>\n",
       "    </tr>\n",
       "    <tr>\n",
       "      <th>2</th>\n",
       "      <td>3</td>\n",
       "      <td>rosberg</td>\n",
       "      <td>6</td>\n",
       "      <td>ROS</td>\n",
       "      <td>Nico</td>\n",
       "      <td>Rosberg</td>\n",
       "      <td>1985-06-27</td>\n",
       "      <td>German</td>\n",
       "      <td>http://en.wikipedia.org/wiki/Nico_Rosberg</td>\n",
       "    </tr>\n",
       "    <tr>\n",
       "      <th>3</th>\n",
       "      <td>4</td>\n",
       "      <td>alonso</td>\n",
       "      <td>14</td>\n",
       "      <td>ALO</td>\n",
       "      <td>Fernando</td>\n",
       "      <td>Alonso</td>\n",
       "      <td>1981-07-29</td>\n",
       "      <td>Spanish</td>\n",
       "      <td>http://en.wikipedia.org/wiki/Fernando_Alonso</td>\n",
       "    </tr>\n",
       "    <tr>\n",
       "      <th>4</th>\n",
       "      <td>5</td>\n",
       "      <td>kovalainen</td>\n",
       "      <td>\\N</td>\n",
       "      <td>KOV</td>\n",
       "      <td>Heikki</td>\n",
       "      <td>Kovalainen</td>\n",
       "      <td>1981-10-19</td>\n",
       "      <td>Finnish</td>\n",
       "      <td>http://en.wikipedia.org/wiki/Heikki_Kovalainen</td>\n",
       "    </tr>\n",
       "  </tbody>\n",
       "</table>\n",
       "</div>"
      ],
      "text/plain": [
       "   driverId   driverRef number code  forename     surname         dob  \\\n",
       "0         1    hamilton     44  HAM     Lewis    Hamilton  1985-01-07   \n",
       "1         2    heidfeld     \\N  HEI      Nick    Heidfeld  1977-05-10   \n",
       "2         3     rosberg      6  ROS      Nico     Rosberg  1985-06-27   \n",
       "3         4      alonso     14  ALO  Fernando      Alonso  1981-07-29   \n",
       "4         5  kovalainen     \\N  KOV    Heikki  Kovalainen  1981-10-19   \n",
       "\n",
       "  nationality                                             url  \n",
       "0     British     http://en.wikipedia.org/wiki/Lewis_Hamilton  \n",
       "1      German      http://en.wikipedia.org/wiki/Nick_Heidfeld  \n",
       "2      German       http://en.wikipedia.org/wiki/Nico_Rosberg  \n",
       "3     Spanish    http://en.wikipedia.org/wiki/Fernando_Alonso  \n",
       "4     Finnish  http://en.wikipedia.org/wiki/Heikki_Kovalainen  "
      ]
     },
     "execution_count": 6,
     "metadata": {},
     "output_type": "execute_result"
    }
   ],
   "source": [
    "d.head()"
   ]
  },
  {
   "cell_type": "code",
   "execution_count": 7,
   "id": "c6f9d590",
   "metadata": {},
   "outputs": [
    {
     "data": {
      "text/html": [
       "<div>\n",
       "<style scoped>\n",
       "    .dataframe tbody tr th:only-of-type {\n",
       "        vertical-align: middle;\n",
       "    }\n",
       "\n",
       "    .dataframe tbody tr th {\n",
       "        vertical-align: top;\n",
       "    }\n",
       "\n",
       "    .dataframe thead th {\n",
       "        text-align: right;\n",
       "    }\n",
       "</style>\n",
       "<table border=\"1\" class=\"dataframe\">\n",
       "  <thead>\n",
       "    <tr style=\"text-align: right;\">\n",
       "      <th></th>\n",
       "      <th>constructorResultsId</th>\n",
       "      <th>raceId</th>\n",
       "      <th>constructorId</th>\n",
       "      <th>points</th>\n",
       "      <th>status</th>\n",
       "    </tr>\n",
       "  </thead>\n",
       "  <tbody>\n",
       "    <tr>\n",
       "      <th>0</th>\n",
       "      <td>1</td>\n",
       "      <td>18</td>\n",
       "      <td>1</td>\n",
       "      <td>14.0</td>\n",
       "      <td>\\N</td>\n",
       "    </tr>\n",
       "    <tr>\n",
       "      <th>1</th>\n",
       "      <td>2</td>\n",
       "      <td>18</td>\n",
       "      <td>2</td>\n",
       "      <td>8.0</td>\n",
       "      <td>\\N</td>\n",
       "    </tr>\n",
       "    <tr>\n",
       "      <th>2</th>\n",
       "      <td>3</td>\n",
       "      <td>18</td>\n",
       "      <td>3</td>\n",
       "      <td>9.0</td>\n",
       "      <td>\\N</td>\n",
       "    </tr>\n",
       "    <tr>\n",
       "      <th>3</th>\n",
       "      <td>4</td>\n",
       "      <td>18</td>\n",
       "      <td>4</td>\n",
       "      <td>5.0</td>\n",
       "      <td>\\N</td>\n",
       "    </tr>\n",
       "    <tr>\n",
       "      <th>4</th>\n",
       "      <td>5</td>\n",
       "      <td>18</td>\n",
       "      <td>5</td>\n",
       "      <td>2.0</td>\n",
       "      <td>\\N</td>\n",
       "    </tr>\n",
       "  </tbody>\n",
       "</table>\n",
       "</div>"
      ],
      "text/plain": [
       "   constructorResultsId  raceId  constructorId  points status\n",
       "0                     1      18              1    14.0     \\N\n",
       "1                     2      18              2     8.0     \\N\n",
       "2                     3      18              3     9.0     \\N\n",
       "3                     4      18              4     5.0     \\N\n",
       "4                     5      18              5     2.0     \\N"
      ]
     },
     "execution_count": 7,
     "metadata": {},
     "output_type": "execute_result"
    }
   ],
   "source": [
    "c_results.head()"
   ]
  },
  {
   "cell_type": "markdown",
   "id": "0e93fd4a",
   "metadata": {},
   "source": [
    "Driver standings include the points and standing of each driver after each race"
   ]
  },
  {
   "cell_type": "code",
   "execution_count": 8,
   "id": "7c7ee020",
   "metadata": {},
   "outputs": [
    {
     "data": {
      "text/html": [
       "<div>\n",
       "<style scoped>\n",
       "    .dataframe tbody tr th:only-of-type {\n",
       "        vertical-align: middle;\n",
       "    }\n",
       "\n",
       "    .dataframe tbody tr th {\n",
       "        vertical-align: top;\n",
       "    }\n",
       "\n",
       "    .dataframe thead th {\n",
       "        text-align: right;\n",
       "    }\n",
       "</style>\n",
       "<table border=\"1\" class=\"dataframe\">\n",
       "  <thead>\n",
       "    <tr style=\"text-align: right;\">\n",
       "      <th></th>\n",
       "      <th>driverStandingsId</th>\n",
       "      <th>raceId</th>\n",
       "      <th>driverId</th>\n",
       "      <th>points</th>\n",
       "      <th>position</th>\n",
       "      <th>positionText</th>\n",
       "      <th>wins</th>\n",
       "    </tr>\n",
       "  </thead>\n",
       "  <tbody>\n",
       "    <tr>\n",
       "      <th>100</th>\n",
       "      <td>101</td>\n",
       "      <td>23</td>\n",
       "      <td>17</td>\n",
       "      <td>15.0</td>\n",
       "      <td>7</td>\n",
       "      <td>7</td>\n",
       "      <td>0</td>\n",
       "    </tr>\n",
       "    <tr>\n",
       "      <th>101</th>\n",
       "      <td>102</td>\n",
       "      <td>23</td>\n",
       "      <td>14</td>\n",
       "      <td>0.0</td>\n",
       "      <td>16</td>\n",
       "      <td>16</td>\n",
       "      <td>0</td>\n",
       "    </tr>\n",
       "    <tr>\n",
       "      <th>102</th>\n",
       "      <td>103</td>\n",
       "      <td>23</td>\n",
       "      <td>18</td>\n",
       "      <td>3.0</td>\n",
       "      <td>13</td>\n",
       "      <td>13</td>\n",
       "      <td>0</td>\n",
       "    </tr>\n",
       "    <tr>\n",
       "      <th>103</th>\n",
       "      <td>104</td>\n",
       "      <td>23</td>\n",
       "      <td>12</td>\n",
       "      <td>0.0</td>\n",
       "      <td>19</td>\n",
       "      <td>19</td>\n",
       "      <td>0</td>\n",
       "    </tr>\n",
       "    <tr>\n",
       "      <th>104</th>\n",
       "      <td>105</td>\n",
       "      <td>23</td>\n",
       "      <td>21</td>\n",
       "      <td>0.0</td>\n",
       "      <td>18</td>\n",
       "      <td>18</td>\n",
       "      <td>0</td>\n",
       "    </tr>\n",
       "  </tbody>\n",
       "</table>\n",
       "</div>"
      ],
      "text/plain": [
       "     driverStandingsId  raceId  driverId  points  position positionText  wins\n",
       "100                101      23        17    15.0         7            7     0\n",
       "101                102      23        14     0.0        16           16     0\n",
       "102                103      23        18     3.0        13           13     0\n",
       "103                104      23        12     0.0        19           19     0\n",
       "104                105      23        21     0.0        18           18     0"
      ]
     },
     "execution_count": 8,
     "metadata": {},
     "output_type": "execute_result"
    }
   ],
   "source": [
    "d_standings.iloc[100:105]"
   ]
  },
  {
   "cell_type": "code",
   "execution_count": 9,
   "id": "3d46aae8",
   "metadata": {},
   "outputs": [
    {
     "data": {
      "text/html": [
       "<div>\n",
       "<style scoped>\n",
       "    .dataframe tbody tr th:only-of-type {\n",
       "        vertical-align: middle;\n",
       "    }\n",
       "\n",
       "    .dataframe tbody tr th {\n",
       "        vertical-align: top;\n",
       "    }\n",
       "\n",
       "    .dataframe thead th {\n",
       "        text-align: right;\n",
       "    }\n",
       "</style>\n",
       "<table border=\"1\" class=\"dataframe\">\n",
       "  <thead>\n",
       "    <tr style=\"text-align: right;\">\n",
       "      <th></th>\n",
       "      <th>raceId</th>\n",
       "      <th>driverId</th>\n",
       "      <th>lap</th>\n",
       "      <th>position</th>\n",
       "      <th>time</th>\n",
       "      <th>milliseconds</th>\n",
       "    </tr>\n",
       "  </thead>\n",
       "  <tbody>\n",
       "    <tr>\n",
       "      <th>0</th>\n",
       "      <td>841</td>\n",
       "      <td>20</td>\n",
       "      <td>1</td>\n",
       "      <td>1</td>\n",
       "      <td>1:38.109</td>\n",
       "      <td>98109</td>\n",
       "    </tr>\n",
       "    <tr>\n",
       "      <th>1</th>\n",
       "      <td>841</td>\n",
       "      <td>20</td>\n",
       "      <td>2</td>\n",
       "      <td>1</td>\n",
       "      <td>1:33.006</td>\n",
       "      <td>93006</td>\n",
       "    </tr>\n",
       "    <tr>\n",
       "      <th>2</th>\n",
       "      <td>841</td>\n",
       "      <td>20</td>\n",
       "      <td>3</td>\n",
       "      <td>1</td>\n",
       "      <td>1:32.713</td>\n",
       "      <td>92713</td>\n",
       "    </tr>\n",
       "    <tr>\n",
       "      <th>3</th>\n",
       "      <td>841</td>\n",
       "      <td>20</td>\n",
       "      <td>4</td>\n",
       "      <td>1</td>\n",
       "      <td>1:32.803</td>\n",
       "      <td>92803</td>\n",
       "    </tr>\n",
       "    <tr>\n",
       "      <th>4</th>\n",
       "      <td>841</td>\n",
       "      <td>20</td>\n",
       "      <td>5</td>\n",
       "      <td>1</td>\n",
       "      <td>1:32.342</td>\n",
       "      <td>92342</td>\n",
       "    </tr>\n",
       "  </tbody>\n",
       "</table>\n",
       "</div>"
      ],
      "text/plain": [
       "   raceId  driverId  lap  position      time  milliseconds\n",
       "0     841        20    1         1  1:38.109         98109\n",
       "1     841        20    2         1  1:33.006         93006\n",
       "2     841        20    3         1  1:32.713         92713\n",
       "3     841        20    4         1  1:32.803         92803\n",
       "4     841        20    5         1  1:32.342         92342"
      ]
     },
     "execution_count": 9,
     "metadata": {},
     "output_type": "execute_result"
    }
   ],
   "source": [
    "lap.head()"
   ]
  },
  {
   "cell_type": "markdown",
   "id": "a9b1971d",
   "metadata": {},
   "source": [
    "Pit time is the total time in the box and through the pitlane"
   ]
  },
  {
   "cell_type": "code",
   "execution_count": 10,
   "id": "a405c745",
   "metadata": {},
   "outputs": [
    {
     "data": {
      "text/html": [
       "<div>\n",
       "<style scoped>\n",
       "    .dataframe tbody tr th:only-of-type {\n",
       "        vertical-align: middle;\n",
       "    }\n",
       "\n",
       "    .dataframe tbody tr th {\n",
       "        vertical-align: top;\n",
       "    }\n",
       "\n",
       "    .dataframe thead th {\n",
       "        text-align: right;\n",
       "    }\n",
       "</style>\n",
       "<table border=\"1\" class=\"dataframe\">\n",
       "  <thead>\n",
       "    <tr style=\"text-align: right;\">\n",
       "      <th></th>\n",
       "      <th>raceId</th>\n",
       "      <th>driverId</th>\n",
       "      <th>stop</th>\n",
       "      <th>lap</th>\n",
       "      <th>time</th>\n",
       "      <th>duration</th>\n",
       "      <th>milliseconds</th>\n",
       "    </tr>\n",
       "  </thead>\n",
       "  <tbody>\n",
       "    <tr>\n",
       "      <th>0</th>\n",
       "      <td>841</td>\n",
       "      <td>153</td>\n",
       "      <td>1</td>\n",
       "      <td>1</td>\n",
       "      <td>17:05:23</td>\n",
       "      <td>26.898</td>\n",
       "      <td>26898</td>\n",
       "    </tr>\n",
       "    <tr>\n",
       "      <th>1</th>\n",
       "      <td>841</td>\n",
       "      <td>30</td>\n",
       "      <td>1</td>\n",
       "      <td>1</td>\n",
       "      <td>17:05:52</td>\n",
       "      <td>25.021</td>\n",
       "      <td>25021</td>\n",
       "    </tr>\n",
       "    <tr>\n",
       "      <th>2</th>\n",
       "      <td>841</td>\n",
       "      <td>17</td>\n",
       "      <td>1</td>\n",
       "      <td>11</td>\n",
       "      <td>17:20:48</td>\n",
       "      <td>23.426</td>\n",
       "      <td>23426</td>\n",
       "    </tr>\n",
       "    <tr>\n",
       "      <th>3</th>\n",
       "      <td>841</td>\n",
       "      <td>4</td>\n",
       "      <td>1</td>\n",
       "      <td>12</td>\n",
       "      <td>17:22:34</td>\n",
       "      <td>23.251</td>\n",
       "      <td>23251</td>\n",
       "    </tr>\n",
       "    <tr>\n",
       "      <th>4</th>\n",
       "      <td>841</td>\n",
       "      <td>13</td>\n",
       "      <td>1</td>\n",
       "      <td>13</td>\n",
       "      <td>17:24:10</td>\n",
       "      <td>23.842</td>\n",
       "      <td>23842</td>\n",
       "    </tr>\n",
       "  </tbody>\n",
       "</table>\n",
       "</div>"
      ],
      "text/plain": [
       "   raceId  driverId  stop  lap      time duration  milliseconds\n",
       "0     841       153     1    1  17:05:23   26.898         26898\n",
       "1     841        30     1    1  17:05:52   25.021         25021\n",
       "2     841        17     1   11  17:20:48   23.426         23426\n",
       "3     841         4     1   12  17:22:34   23.251         23251\n",
       "4     841        13     1   13  17:24:10   23.842         23842"
      ]
     },
     "execution_count": 10,
     "metadata": {},
     "output_type": "execute_result"
    }
   ],
   "source": [
    "pit.head()"
   ]
  },
  {
   "cell_type": "code",
   "execution_count": 11,
   "id": "0fba8160",
   "metadata": {},
   "outputs": [
    {
     "data": {
      "text/html": [
       "<div>\n",
       "<style scoped>\n",
       "    .dataframe tbody tr th:only-of-type {\n",
       "        vertical-align: middle;\n",
       "    }\n",
       "\n",
       "    .dataframe tbody tr th {\n",
       "        vertical-align: top;\n",
       "    }\n",
       "\n",
       "    .dataframe thead th {\n",
       "        text-align: right;\n",
       "    }\n",
       "</style>\n",
       "<table border=\"1\" class=\"dataframe\">\n",
       "  <thead>\n",
       "    <tr style=\"text-align: right;\">\n",
       "      <th></th>\n",
       "      <th>qualifyId</th>\n",
       "      <th>raceId</th>\n",
       "      <th>driverId</th>\n",
       "      <th>constructorId</th>\n",
       "      <th>number</th>\n",
       "      <th>position</th>\n",
       "      <th>q1</th>\n",
       "      <th>q2</th>\n",
       "      <th>q3</th>\n",
       "    </tr>\n",
       "  </thead>\n",
       "  <tbody>\n",
       "    <tr>\n",
       "      <th>0</th>\n",
       "      <td>1</td>\n",
       "      <td>18</td>\n",
       "      <td>1</td>\n",
       "      <td>1</td>\n",
       "      <td>22</td>\n",
       "      <td>1</td>\n",
       "      <td>1:26.572</td>\n",
       "      <td>1:25.187</td>\n",
       "      <td>1:26.714</td>\n",
       "    </tr>\n",
       "    <tr>\n",
       "      <th>1</th>\n",
       "      <td>2</td>\n",
       "      <td>18</td>\n",
       "      <td>9</td>\n",
       "      <td>2</td>\n",
       "      <td>4</td>\n",
       "      <td>2</td>\n",
       "      <td>1:26.103</td>\n",
       "      <td>1:25.315</td>\n",
       "      <td>1:26.869</td>\n",
       "    </tr>\n",
       "    <tr>\n",
       "      <th>2</th>\n",
       "      <td>3</td>\n",
       "      <td>18</td>\n",
       "      <td>5</td>\n",
       "      <td>1</td>\n",
       "      <td>23</td>\n",
       "      <td>3</td>\n",
       "      <td>1:25.664</td>\n",
       "      <td>1:25.452</td>\n",
       "      <td>1:27.079</td>\n",
       "    </tr>\n",
       "    <tr>\n",
       "      <th>3</th>\n",
       "      <td>4</td>\n",
       "      <td>18</td>\n",
       "      <td>13</td>\n",
       "      <td>6</td>\n",
       "      <td>2</td>\n",
       "      <td>4</td>\n",
       "      <td>1:25.994</td>\n",
       "      <td>1:25.691</td>\n",
       "      <td>1:27.178</td>\n",
       "    </tr>\n",
       "    <tr>\n",
       "      <th>4</th>\n",
       "      <td>5</td>\n",
       "      <td>18</td>\n",
       "      <td>2</td>\n",
       "      <td>2</td>\n",
       "      <td>3</td>\n",
       "      <td>5</td>\n",
       "      <td>1:25.960</td>\n",
       "      <td>1:25.518</td>\n",
       "      <td>1:27.236</td>\n",
       "    </tr>\n",
       "  </tbody>\n",
       "</table>\n",
       "</div>"
      ],
      "text/plain": [
       "   qualifyId  raceId  driverId  constructorId  number  position        q1  \\\n",
       "0          1      18         1              1      22         1  1:26.572   \n",
       "1          2      18         9              2       4         2  1:26.103   \n",
       "2          3      18         5              1      23         3  1:25.664   \n",
       "3          4      18        13              6       2         4  1:25.994   \n",
       "4          5      18         2              2       3         5  1:25.960   \n",
       "\n",
       "         q2        q3  \n",
       "0  1:25.187  1:26.714  \n",
       "1  1:25.315  1:26.869  \n",
       "2  1:25.452  1:27.079  \n",
       "3  1:25.691  1:27.178  \n",
       "4  1:25.518  1:27.236  "
      ]
     },
     "execution_count": 11,
     "metadata": {},
     "output_type": "execute_result"
    }
   ],
   "source": [
    "quali.head()"
   ]
  },
  {
   "cell_type": "markdown",
   "id": "85c1cbbe",
   "metadata": {},
   "source": [
    "Races are NOT sorted by chronological order in the original dataframe"
   ]
  },
  {
   "cell_type": "code",
   "execution_count": 12,
   "id": "54d37dea",
   "metadata": {},
   "outputs": [
    {
     "data": {
      "text/html": [
       "<div>\n",
       "<style scoped>\n",
       "    .dataframe tbody tr th:only-of-type {\n",
       "        vertical-align: middle;\n",
       "    }\n",
       "\n",
       "    .dataframe tbody tr th {\n",
       "        vertical-align: top;\n",
       "    }\n",
       "\n",
       "    .dataframe thead th {\n",
       "        text-align: right;\n",
       "    }\n",
       "</style>\n",
       "<table border=\"1\" class=\"dataframe\">\n",
       "  <thead>\n",
       "    <tr style=\"text-align: right;\">\n",
       "      <th></th>\n",
       "      <th>raceId</th>\n",
       "      <th>year</th>\n",
       "      <th>round</th>\n",
       "      <th>circuitId</th>\n",
       "      <th>name</th>\n",
       "      <th>date</th>\n",
       "      <th>time</th>\n",
       "      <th>url</th>\n",
       "      <th>fp1_date</th>\n",
       "      <th>fp1_time</th>\n",
       "      <th>fp2_date</th>\n",
       "      <th>fp2_time</th>\n",
       "      <th>fp3_date</th>\n",
       "      <th>fp3_time</th>\n",
       "      <th>quali_date</th>\n",
       "      <th>quali_time</th>\n",
       "      <th>sprint_date</th>\n",
       "      <th>sprint_time</th>\n",
       "    </tr>\n",
       "  </thead>\n",
       "  <tbody>\n",
       "    <tr>\n",
       "      <th>838</th>\n",
       "      <td>839</td>\n",
       "      <td>1950</td>\n",
       "      <td>7</td>\n",
       "      <td>14</td>\n",
       "      <td>Italian Grand Prix</td>\n",
       "      <td>1950-09-03</td>\n",
       "      <td>\\N</td>\n",
       "      <td>http://en.wikipedia.org/wiki/1950_Italian_Gran...</td>\n",
       "      <td>\\N</td>\n",
       "      <td>\\N</td>\n",
       "      <td>\\N</td>\n",
       "      <td>\\N</td>\n",
       "      <td>\\N</td>\n",
       "      <td>\\N</td>\n",
       "      <td>\\N</td>\n",
       "      <td>\\N</td>\n",
       "      <td>\\N</td>\n",
       "      <td>\\N</td>\n",
       "    </tr>\n",
       "    <tr>\n",
       "      <th>837</th>\n",
       "      <td>838</td>\n",
       "      <td>1950</td>\n",
       "      <td>6</td>\n",
       "      <td>55</td>\n",
       "      <td>French Grand Prix</td>\n",
       "      <td>1950-07-02</td>\n",
       "      <td>\\N</td>\n",
       "      <td>http://en.wikipedia.org/wiki/1950_French_Grand...</td>\n",
       "      <td>\\N</td>\n",
       "      <td>\\N</td>\n",
       "      <td>\\N</td>\n",
       "      <td>\\N</td>\n",
       "      <td>\\N</td>\n",
       "      <td>\\N</td>\n",
       "      <td>\\N</td>\n",
       "      <td>\\N</td>\n",
       "      <td>\\N</td>\n",
       "      <td>\\N</td>\n",
       "    </tr>\n",
       "    <tr>\n",
       "      <th>836</th>\n",
       "      <td>837</td>\n",
       "      <td>1950</td>\n",
       "      <td>5</td>\n",
       "      <td>13</td>\n",
       "      <td>Belgian Grand Prix</td>\n",
       "      <td>1950-06-18</td>\n",
       "      <td>\\N</td>\n",
       "      <td>http://en.wikipedia.org/wiki/1950_Belgian_Gran...</td>\n",
       "      <td>\\N</td>\n",
       "      <td>\\N</td>\n",
       "      <td>\\N</td>\n",
       "      <td>\\N</td>\n",
       "      <td>\\N</td>\n",
       "      <td>\\N</td>\n",
       "      <td>\\N</td>\n",
       "      <td>\\N</td>\n",
       "      <td>\\N</td>\n",
       "      <td>\\N</td>\n",
       "    </tr>\n",
       "    <tr>\n",
       "      <th>835</th>\n",
       "      <td>836</td>\n",
       "      <td>1950</td>\n",
       "      <td>4</td>\n",
       "      <td>66</td>\n",
       "      <td>Swiss Grand Prix</td>\n",
       "      <td>1950-06-04</td>\n",
       "      <td>\\N</td>\n",
       "      <td>http://en.wikipedia.org/wiki/1950_Swiss_Grand_...</td>\n",
       "      <td>\\N</td>\n",
       "      <td>\\N</td>\n",
       "      <td>\\N</td>\n",
       "      <td>\\N</td>\n",
       "      <td>\\N</td>\n",
       "      <td>\\N</td>\n",
       "      <td>\\N</td>\n",
       "      <td>\\N</td>\n",
       "      <td>\\N</td>\n",
       "      <td>\\N</td>\n",
       "    </tr>\n",
       "    <tr>\n",
       "      <th>834</th>\n",
       "      <td>835</td>\n",
       "      <td>1950</td>\n",
       "      <td>3</td>\n",
       "      <td>19</td>\n",
       "      <td>Indianapolis 500</td>\n",
       "      <td>1950-05-30</td>\n",
       "      <td>\\N</td>\n",
       "      <td>http://en.wikipedia.org/wiki/1950_Indianapolis...</td>\n",
       "      <td>\\N</td>\n",
       "      <td>\\N</td>\n",
       "      <td>\\N</td>\n",
       "      <td>\\N</td>\n",
       "      <td>\\N</td>\n",
       "      <td>\\N</td>\n",
       "      <td>\\N</td>\n",
       "      <td>\\N</td>\n",
       "      <td>\\N</td>\n",
       "      <td>\\N</td>\n",
       "    </tr>\n",
       "  </tbody>\n",
       "</table>\n",
       "</div>"
      ],
      "text/plain": [
       "     raceId  year  round  circuitId                name        date time  \\\n",
       "838     839  1950      7         14  Italian Grand Prix  1950-09-03   \\N   \n",
       "837     838  1950      6         55   French Grand Prix  1950-07-02   \\N   \n",
       "836     837  1950      5         13  Belgian Grand Prix  1950-06-18   \\N   \n",
       "835     836  1950      4         66    Swiss Grand Prix  1950-06-04   \\N   \n",
       "834     835  1950      3         19    Indianapolis 500  1950-05-30   \\N   \n",
       "\n",
       "                                                   url fp1_date fp1_time  \\\n",
       "838  http://en.wikipedia.org/wiki/1950_Italian_Gran...       \\N       \\N   \n",
       "837  http://en.wikipedia.org/wiki/1950_French_Grand...       \\N       \\N   \n",
       "836  http://en.wikipedia.org/wiki/1950_Belgian_Gran...       \\N       \\N   \n",
       "835  http://en.wikipedia.org/wiki/1950_Swiss_Grand_...       \\N       \\N   \n",
       "834  http://en.wikipedia.org/wiki/1950_Indianapolis...       \\N       \\N   \n",
       "\n",
       "    fp2_date fp2_time fp3_date fp3_time quali_date quali_time sprint_date  \\\n",
       "838       \\N       \\N       \\N       \\N         \\N         \\N          \\N   \n",
       "837       \\N       \\N       \\N       \\N         \\N         \\N          \\N   \n",
       "836       \\N       \\N       \\N       \\N         \\N         \\N          \\N   \n",
       "835       \\N       \\N       \\N       \\N         \\N         \\N          \\N   \n",
       "834       \\N       \\N       \\N       \\N         \\N         \\N          \\N   \n",
       "\n",
       "    sprint_time  \n",
       "838          \\N  \n",
       "837          \\N  \n",
       "836          \\N  \n",
       "835          \\N  \n",
       "834          \\N  "
      ]
     },
     "execution_count": 12,
     "metadata": {},
     "output_type": "execute_result"
    }
   ],
   "source": [
    "race.sort_values('year').head()"
   ]
  },
  {
   "cell_type": "code",
   "execution_count": 13,
   "id": "153dc4f7",
   "metadata": {},
   "outputs": [
    {
     "data": {
      "text/html": [
       "<div>\n",
       "<style scoped>\n",
       "    .dataframe tbody tr th:only-of-type {\n",
       "        vertical-align: middle;\n",
       "    }\n",
       "\n",
       "    .dataframe tbody tr th {\n",
       "        vertical-align: top;\n",
       "    }\n",
       "\n",
       "    .dataframe thead th {\n",
       "        text-align: right;\n",
       "    }\n",
       "</style>\n",
       "<table border=\"1\" class=\"dataframe\">\n",
       "  <thead>\n",
       "    <tr style=\"text-align: right;\">\n",
       "      <th></th>\n",
       "      <th>resultId</th>\n",
       "      <th>raceId</th>\n",
       "      <th>driverId</th>\n",
       "      <th>constructorId</th>\n",
       "      <th>number</th>\n",
       "      <th>grid</th>\n",
       "      <th>position</th>\n",
       "      <th>positionText</th>\n",
       "      <th>positionOrder</th>\n",
       "      <th>points</th>\n",
       "      <th>laps</th>\n",
       "      <th>time</th>\n",
       "      <th>milliseconds</th>\n",
       "      <th>fastestLap</th>\n",
       "      <th>rank</th>\n",
       "      <th>fastestLapTime</th>\n",
       "      <th>fastestLapSpeed</th>\n",
       "      <th>statusId</th>\n",
       "    </tr>\n",
       "  </thead>\n",
       "  <tbody>\n",
       "    <tr>\n",
       "      <th>0</th>\n",
       "      <td>1</td>\n",
       "      <td>18</td>\n",
       "      <td>1</td>\n",
       "      <td>1</td>\n",
       "      <td>22</td>\n",
       "      <td>1</td>\n",
       "      <td>1</td>\n",
       "      <td>1</td>\n",
       "      <td>1</td>\n",
       "      <td>10.0</td>\n",
       "      <td>58</td>\n",
       "      <td>1:34:50.616</td>\n",
       "      <td>5690616</td>\n",
       "      <td>39</td>\n",
       "      <td>2</td>\n",
       "      <td>1:27.452</td>\n",
       "      <td>218.300</td>\n",
       "      <td>1</td>\n",
       "    </tr>\n",
       "    <tr>\n",
       "      <th>1</th>\n",
       "      <td>2</td>\n",
       "      <td>18</td>\n",
       "      <td>2</td>\n",
       "      <td>2</td>\n",
       "      <td>3</td>\n",
       "      <td>5</td>\n",
       "      <td>2</td>\n",
       "      <td>2</td>\n",
       "      <td>2</td>\n",
       "      <td>8.0</td>\n",
       "      <td>58</td>\n",
       "      <td>+5.478</td>\n",
       "      <td>5696094</td>\n",
       "      <td>41</td>\n",
       "      <td>3</td>\n",
       "      <td>1:27.739</td>\n",
       "      <td>217.586</td>\n",
       "      <td>1</td>\n",
       "    </tr>\n",
       "    <tr>\n",
       "      <th>2</th>\n",
       "      <td>3</td>\n",
       "      <td>18</td>\n",
       "      <td>3</td>\n",
       "      <td>3</td>\n",
       "      <td>7</td>\n",
       "      <td>7</td>\n",
       "      <td>3</td>\n",
       "      <td>3</td>\n",
       "      <td>3</td>\n",
       "      <td>6.0</td>\n",
       "      <td>58</td>\n",
       "      <td>+8.163</td>\n",
       "      <td>5698779</td>\n",
       "      <td>41</td>\n",
       "      <td>5</td>\n",
       "      <td>1:28.090</td>\n",
       "      <td>216.719</td>\n",
       "      <td>1</td>\n",
       "    </tr>\n",
       "    <tr>\n",
       "      <th>3</th>\n",
       "      <td>4</td>\n",
       "      <td>18</td>\n",
       "      <td>4</td>\n",
       "      <td>4</td>\n",
       "      <td>5</td>\n",
       "      <td>11</td>\n",
       "      <td>4</td>\n",
       "      <td>4</td>\n",
       "      <td>4</td>\n",
       "      <td>5.0</td>\n",
       "      <td>58</td>\n",
       "      <td>+17.181</td>\n",
       "      <td>5707797</td>\n",
       "      <td>58</td>\n",
       "      <td>7</td>\n",
       "      <td>1:28.603</td>\n",
       "      <td>215.464</td>\n",
       "      <td>1</td>\n",
       "    </tr>\n",
       "    <tr>\n",
       "      <th>4</th>\n",
       "      <td>5</td>\n",
       "      <td>18</td>\n",
       "      <td>5</td>\n",
       "      <td>1</td>\n",
       "      <td>23</td>\n",
       "      <td>3</td>\n",
       "      <td>5</td>\n",
       "      <td>5</td>\n",
       "      <td>5</td>\n",
       "      <td>4.0</td>\n",
       "      <td>58</td>\n",
       "      <td>+18.014</td>\n",
       "      <td>5708630</td>\n",
       "      <td>43</td>\n",
       "      <td>1</td>\n",
       "      <td>1:27.418</td>\n",
       "      <td>218.385</td>\n",
       "      <td>1</td>\n",
       "    </tr>\n",
       "  </tbody>\n",
       "</table>\n",
       "</div>"
      ],
      "text/plain": [
       "   resultId  raceId  driverId  constructorId number  grid position  \\\n",
       "0         1      18         1              1     22     1        1   \n",
       "1         2      18         2              2      3     5        2   \n",
       "2         3      18         3              3      7     7        3   \n",
       "3         4      18         4              4      5    11        4   \n",
       "4         5      18         5              1     23     3        5   \n",
       "\n",
       "  positionText  positionOrder  points  laps         time milliseconds  \\\n",
       "0            1              1    10.0    58  1:34:50.616      5690616   \n",
       "1            2              2     8.0    58       +5.478      5696094   \n",
       "2            3              3     6.0    58       +8.163      5698779   \n",
       "3            4              4     5.0    58      +17.181      5707797   \n",
       "4            5              5     4.0    58      +18.014      5708630   \n",
       "\n",
       "  fastestLap rank fastestLapTime fastestLapSpeed  statusId  \n",
       "0         39    2       1:27.452         218.300         1  \n",
       "1         41    3       1:27.739         217.586         1  \n",
       "2         41    5       1:28.090         216.719         1  \n",
       "3         58    7       1:28.603         215.464         1  \n",
       "4         43    1       1:27.418         218.385         1  "
      ]
     },
     "execution_count": 13,
     "metadata": {},
     "output_type": "execute_result"
    }
   ],
   "source": [
    "results.head()"
   ]
  },
  {
   "cell_type": "markdown",
   "id": "4a6288e9",
   "metadata": {},
   "source": [
    "Merge results and race to get date and circuit for each race. The time column in race is dropped because it conflicts with the total race time in results."
   ]
  },
  {
   "cell_type": "code",
   "execution_count": 14,
   "id": "3f3ea061",
   "metadata": {},
   "outputs": [
    {
     "data": {
      "text/html": [
       "<div>\n",
       "<style scoped>\n",
       "    .dataframe tbody tr th:only-of-type {\n",
       "        vertical-align: middle;\n",
       "    }\n",
       "\n",
       "    .dataframe tbody tr th {\n",
       "        vertical-align: top;\n",
       "    }\n",
       "\n",
       "    .dataframe thead th {\n",
       "        text-align: right;\n",
       "    }\n",
       "</style>\n",
       "<table border=\"1\" class=\"dataframe\">\n",
       "  <thead>\n",
       "    <tr style=\"text-align: right;\">\n",
       "      <th></th>\n",
       "      <th>year</th>\n",
       "      <th>round</th>\n",
       "      <th>circuitId</th>\n",
       "      <th>resultId</th>\n",
       "      <th>raceId</th>\n",
       "      <th>driverId</th>\n",
       "      <th>constructorId</th>\n",
       "      <th>number</th>\n",
       "      <th>grid</th>\n",
       "      <th>position</th>\n",
       "      <th>...</th>\n",
       "      <th>positionOrder</th>\n",
       "      <th>points</th>\n",
       "      <th>laps</th>\n",
       "      <th>time</th>\n",
       "      <th>milliseconds</th>\n",
       "      <th>fastestLap</th>\n",
       "      <th>rank</th>\n",
       "      <th>fastestLapTime</th>\n",
       "      <th>fastestLapSpeed</th>\n",
       "      <th>statusId</th>\n",
       "    </tr>\n",
       "  </thead>\n",
       "  <tbody>\n",
       "    <tr>\n",
       "      <th>26474</th>\n",
       "      <td>2024</td>\n",
       "      <td>10</td>\n",
       "      <td>4</td>\n",
       "      <td>26480</td>\n",
       "      <td>1130</td>\n",
       "      <td>822.0</td>\n",
       "      <td>15.0</td>\n",
       "      <td>77</td>\n",
       "      <td>12.0</td>\n",
       "      <td>16</td>\n",
       "      <td>...</td>\n",
       "      <td>16.0</td>\n",
       "      <td>0.0</td>\n",
       "      <td>65.0</td>\n",
       "      <td>\\N</td>\n",
       "      <td>\\N</td>\n",
       "      <td>13</td>\n",
       "      <td>18</td>\n",
       "      <td>1:19.608</td>\n",
       "      <td>210.596</td>\n",
       "      <td>11.0</td>\n",
       "    </tr>\n",
       "    <tr>\n",
       "      <th>26475</th>\n",
       "      <td>2024</td>\n",
       "      <td>10</td>\n",
       "      <td>4</td>\n",
       "      <td>26481</td>\n",
       "      <td>1130</td>\n",
       "      <td>825.0</td>\n",
       "      <td>210.0</td>\n",
       "      <td>20</td>\n",
       "      <td>16.0</td>\n",
       "      <td>17</td>\n",
       "      <td>...</td>\n",
       "      <td>17.0</td>\n",
       "      <td>0.0</td>\n",
       "      <td>65.0</td>\n",
       "      <td>\\N</td>\n",
       "      <td>\\N</td>\n",
       "      <td>33</td>\n",
       "      <td>19</td>\n",
       "      <td>1:19.805</td>\n",
       "      <td>210.077</td>\n",
       "      <td>11.0</td>\n",
       "    </tr>\n",
       "    <tr>\n",
       "      <th>26476</th>\n",
       "      <td>2024</td>\n",
       "      <td>10</td>\n",
       "      <td>4</td>\n",
       "      <td>26482</td>\n",
       "      <td>1130</td>\n",
       "      <td>848.0</td>\n",
       "      <td>3.0</td>\n",
       "      <td>23</td>\n",
       "      <td>0.0</td>\n",
       "      <td>18</td>\n",
       "      <td>...</td>\n",
       "      <td>18.0</td>\n",
       "      <td>0.0</td>\n",
       "      <td>65.0</td>\n",
       "      <td>\\N</td>\n",
       "      <td>\\N</td>\n",
       "      <td>45</td>\n",
       "      <td>14</td>\n",
       "      <td>1:19.132</td>\n",
       "      <td>211.863</td>\n",
       "      <td>11.0</td>\n",
       "    </tr>\n",
       "    <tr>\n",
       "      <th>26477</th>\n",
       "      <td>2024</td>\n",
       "      <td>10</td>\n",
       "      <td>4</td>\n",
       "      <td>26483</td>\n",
       "      <td>1130</td>\n",
       "      <td>852.0</td>\n",
       "      <td>215.0</td>\n",
       "      <td>22</td>\n",
       "      <td>17.0</td>\n",
       "      <td>19</td>\n",
       "      <td>...</td>\n",
       "      <td>19.0</td>\n",
       "      <td>0.0</td>\n",
       "      <td>65.0</td>\n",
       "      <td>\\N</td>\n",
       "      <td>\\N</td>\n",
       "      <td>56</td>\n",
       "      <td>16</td>\n",
       "      <td>1:19.447</td>\n",
       "      <td>211.023</td>\n",
       "      <td>11.0</td>\n",
       "    </tr>\n",
       "    <tr>\n",
       "      <th>26478</th>\n",
       "      <td>2024</td>\n",
       "      <td>10</td>\n",
       "      <td>4</td>\n",
       "      <td>26484</td>\n",
       "      <td>1130</td>\n",
       "      <td>858.0</td>\n",
       "      <td>3.0</td>\n",
       "      <td>2</td>\n",
       "      <td>19.0</td>\n",
       "      <td>20</td>\n",
       "      <td>...</td>\n",
       "      <td>20.0</td>\n",
       "      <td>0.0</td>\n",
       "      <td>64.0</td>\n",
       "      <td>\\N</td>\n",
       "      <td>\\N</td>\n",
       "      <td>38</td>\n",
       "      <td>20</td>\n",
       "      <td>1:20.172</td>\n",
       "      <td>209.115</td>\n",
       "      <td>12.0</td>\n",
       "    </tr>\n",
       "  </tbody>\n",
       "</table>\n",
       "<p>5 rows × 21 columns</p>\n",
       "</div>"
      ],
      "text/plain": [
       "       year  round  circuitId  resultId  raceId  driverId  constructorId  \\\n",
       "26474  2024     10          4     26480    1130     822.0           15.0   \n",
       "26475  2024     10          4     26481    1130     825.0          210.0   \n",
       "26476  2024     10          4     26482    1130     848.0            3.0   \n",
       "26477  2024     10          4     26483    1130     852.0          215.0   \n",
       "26478  2024     10          4     26484    1130     858.0            3.0   \n",
       "\n",
       "      number  grid position  ... positionOrder  points  laps  time  \\\n",
       "26474     77  12.0       16  ...          16.0     0.0  65.0    \\N   \n",
       "26475     20  16.0       17  ...          17.0     0.0  65.0    \\N   \n",
       "26476     23   0.0       18  ...          18.0     0.0  65.0    \\N   \n",
       "26477     22  17.0       19  ...          19.0     0.0  65.0    \\N   \n",
       "26478      2  19.0       20  ...          20.0     0.0  64.0    \\N   \n",
       "\n",
       "      milliseconds fastestLap rank fastestLapTime fastestLapSpeed statusId  \n",
       "26474           \\N         13   18       1:19.608         210.596     11.0  \n",
       "26475           \\N         33   19       1:19.805         210.077     11.0  \n",
       "26476           \\N         45   14       1:19.132         211.863     11.0  \n",
       "26477           \\N         56   16       1:19.447         211.023     11.0  \n",
       "26478           \\N         38   20       1:20.172         209.115     12.0  \n",
       "\n",
       "[5 rows x 21 columns]"
      ]
     },
     "execution_count": 14,
     "metadata": {},
     "output_type": "execute_result"
    }
   ],
   "source": [
    "raceresults = pd.merge(race.drop('time', axis = 1), results, how = 'left', on = 'raceId')[['year', 'round', 'circuitId']+list(results.columns)].sort_values(['year', 'round', 'positionOrder'], ascending = True)\n",
    "raceresults.dropna(subset='resultId', inplace = True)\n",
    "raceresults['resultId'] = raceresults['resultId'].astype('int')\n",
    "raceresults.tail()"
   ]
  },
  {
   "cell_type": "markdown",
   "id": "85bc8fad",
   "metadata": {},
   "source": [
    "Get championship results of each year. We find it by determining the last race (max round) of each year from raceresults dataframe and match it in the d_standings dataframe."
   ]
  },
  {
   "cell_type": "code",
   "execution_count": 15,
   "id": "307d78e5",
   "metadata": {},
   "outputs": [],
   "source": [
    "max_round = raceresults.groupby('year')['round'].max().reset_index()\n",
    "last_race = max_round.merge(race, how = 'left', on = ['year', 'round'])[['year', 'raceId']]"
   ]
  },
  {
   "cell_type": "code",
   "execution_count": 16,
   "id": "7ead226e",
   "metadata": {},
   "outputs": [
    {
     "data": {
      "text/html": [
       "<div>\n",
       "<style scoped>\n",
       "    .dataframe tbody tr th:only-of-type {\n",
       "        vertical-align: middle;\n",
       "    }\n",
       "\n",
       "    .dataframe tbody tr th {\n",
       "        vertical-align: top;\n",
       "    }\n",
       "\n",
       "    .dataframe thead th {\n",
       "        text-align: right;\n",
       "    }\n",
       "</style>\n",
       "<table border=\"1\" class=\"dataframe\">\n",
       "  <thead>\n",
       "    <tr style=\"text-align: right;\">\n",
       "      <th></th>\n",
       "      <th>year</th>\n",
       "      <th>driverId</th>\n",
       "      <th>points</th>\n",
       "      <th>position</th>\n",
       "      <th>positionText</th>\n",
       "      <th>wins</th>\n",
       "      <th>surname</th>\n",
       "    </tr>\n",
       "  </thead>\n",
       "  <tbody>\n",
       "    <tr>\n",
       "      <th>0</th>\n",
       "      <td>1950</td>\n",
       "      <td>642</td>\n",
       "      <td>30.0</td>\n",
       "      <td>1</td>\n",
       "      <td>1</td>\n",
       "      <td>3</td>\n",
       "      <td>Farina</td>\n",
       "    </tr>\n",
       "    <tr>\n",
       "      <th>1</th>\n",
       "      <td>1950</td>\n",
       "      <td>579</td>\n",
       "      <td>27.0</td>\n",
       "      <td>2</td>\n",
       "      <td>2</td>\n",
       "      <td>3</td>\n",
       "      <td>Fangio</td>\n",
       "    </tr>\n",
       "    <tr>\n",
       "      <th>2</th>\n",
       "      <td>1950</td>\n",
       "      <td>786</td>\n",
       "      <td>24.0</td>\n",
       "      <td>3</td>\n",
       "      <td>3</td>\n",
       "      <td>0</td>\n",
       "      <td>Fagioli</td>\n",
       "    </tr>\n",
       "    <tr>\n",
       "      <th>3</th>\n",
       "      <td>1950</td>\n",
       "      <td>627</td>\n",
       "      <td>13.0</td>\n",
       "      <td>4</td>\n",
       "      <td>4</td>\n",
       "      <td>0</td>\n",
       "      <td>Rosier</td>\n",
       "    </tr>\n",
       "    <tr>\n",
       "      <th>4</th>\n",
       "      <td>1950</td>\n",
       "      <td>647</td>\n",
       "      <td>11.0</td>\n",
       "      <td>5</td>\n",
       "      <td>5</td>\n",
       "      <td>0</td>\n",
       "      <td>Ascari</td>\n",
       "    </tr>\n",
       "  </tbody>\n",
       "</table>\n",
       "</div>"
      ],
      "text/plain": [
       "   year  driverId  points  position positionText  wins  surname\n",
       "0  1950       642    30.0         1            1     3   Farina\n",
       "1  1950       579    27.0         2            2     3   Fangio\n",
       "2  1950       786    24.0         3            3     0  Fagioli\n",
       "3  1950       627    13.0         4            4     0   Rosier\n",
       "4  1950       647    11.0         5            5     0   Ascari"
      ]
     },
     "execution_count": 16,
     "metadata": {},
     "output_type": "execute_result"
    }
   ],
   "source": [
    "final_standings = last_race.merge(d_standings.sort_values('position'), how = 'left', on = 'raceId').drop(['raceId', 'driverStandingsId'], axis = 1)\n",
    "final_standings.merge(d[['driverId', 'surname']], how = 'left', on = 'driverId').head()"
   ]
  },
  {
   "cell_type": "code",
   "execution_count": 17,
   "id": "e257f69d",
   "metadata": {},
   "outputs": [
    {
     "data": {
      "text/html": [
       "<div>\n",
       "<style scoped>\n",
       "    .dataframe tbody tr th:only-of-type {\n",
       "        vertical-align: middle;\n",
       "    }\n",
       "\n",
       "    .dataframe tbody tr th {\n",
       "        vertical-align: top;\n",
       "    }\n",
       "\n",
       "    .dataframe thead th {\n",
       "        text-align: right;\n",
       "    }\n",
       "</style>\n",
       "<table border=\"1\" class=\"dataframe\">\n",
       "  <thead>\n",
       "    <tr style=\"text-align: right;\">\n",
       "      <th></th>\n",
       "      <th>year</th>\n",
       "      <th>constructorId</th>\n",
       "      <th>points</th>\n",
       "      <th>position</th>\n",
       "      <th>positionText</th>\n",
       "      <th>wins</th>\n",
       "      <th>name</th>\n",
       "    </tr>\n",
       "  </thead>\n",
       "  <tbody>\n",
       "    <tr>\n",
       "      <th>0</th>\n",
       "      <td>1958</td>\n",
       "      <td>118.0</td>\n",
       "      <td>48.0</td>\n",
       "      <td>1.0</td>\n",
       "      <td>1</td>\n",
       "      <td>6.0</td>\n",
       "      <td>Vanwall</td>\n",
       "    </tr>\n",
       "    <tr>\n",
       "      <th>1</th>\n",
       "      <td>1958</td>\n",
       "      <td>6.0</td>\n",
       "      <td>40.0</td>\n",
       "      <td>2.0</td>\n",
       "      <td>2</td>\n",
       "      <td>2.0</td>\n",
       "      <td>Ferrari</td>\n",
       "    </tr>\n",
       "    <tr>\n",
       "      <th>2</th>\n",
       "      <td>1958</td>\n",
       "      <td>87.0</td>\n",
       "      <td>31.0</td>\n",
       "      <td>3.0</td>\n",
       "      <td>3</td>\n",
       "      <td>2.0</td>\n",
       "      <td>Cooper</td>\n",
       "    </tr>\n",
       "    <tr>\n",
       "      <th>3</th>\n",
       "      <td>1958</td>\n",
       "      <td>66.0</td>\n",
       "      <td>18.0</td>\n",
       "      <td>4.0</td>\n",
       "      <td>4</td>\n",
       "      <td>0.0</td>\n",
       "      <td>BRM</td>\n",
       "    </tr>\n",
       "    <tr>\n",
       "      <th>4</th>\n",
       "      <td>1958</td>\n",
       "      <td>105.0</td>\n",
       "      <td>6.0</td>\n",
       "      <td>5.0</td>\n",
       "      <td>5</td>\n",
       "      <td>0.0</td>\n",
       "      <td>Maserati</td>\n",
       "    </tr>\n",
       "  </tbody>\n",
       "</table>\n",
       "</div>"
      ],
      "text/plain": [
       "   year  constructorId  points  position positionText  wins      name\n",
       "0  1958          118.0    48.0       1.0            1   6.0   Vanwall\n",
       "1  1958            6.0    40.0       2.0            2   2.0   Ferrari\n",
       "2  1958           87.0    31.0       3.0            3   2.0    Cooper\n",
       "3  1958           66.0    18.0       4.0            4   0.0       BRM\n",
       "4  1958          105.0     6.0       5.0            5   0.0  Maserati"
      ]
     },
     "execution_count": 17,
     "metadata": {},
     "output_type": "execute_result"
    }
   ],
   "source": [
    "final_c_standings = last_race.merge(c_standings.sort_values('position'), how = 'left', on = 'raceId').drop(['raceId', 'constructorStandingsId'], axis = 1)\n",
    "# No constructor standings before 1958\n",
    "final_c_standings = final_c_standings[final_c_standings['year'] >= 1958]\n",
    "final_c_standings.merge(c[['constructorId', 'name']], how = 'left', on = 'constructorId').head()"
   ]
  },
  {
   "cell_type": "markdown",
   "id": "40d3c281",
   "metadata": {},
   "source": [
    "The status dataframe matches statusId with race-finishing status. However, there are overlaps. We shall only use it attentively.\n",
    "All collisions/accidents are marked as driver errors. All mechanical failures are marked as constructor errors."
   ]
  },
  {
   "cell_type": "code",
   "execution_count": 18,
   "id": "d584c4fc",
   "metadata": {},
   "outputs": [
    {
     "data": {
      "text/html": [
       "<div>\n",
       "<style scoped>\n",
       "    .dataframe tbody tr th:only-of-type {\n",
       "        vertical-align: middle;\n",
       "    }\n",
       "\n",
       "    .dataframe tbody tr th {\n",
       "        vertical-align: top;\n",
       "    }\n",
       "\n",
       "    .dataframe thead th {\n",
       "        text-align: right;\n",
       "    }\n",
       "</style>\n",
       "<table border=\"1\" class=\"dataframe\">\n",
       "  <thead>\n",
       "    <tr style=\"text-align: right;\">\n",
       "      <th></th>\n",
       "      <th>statusId</th>\n",
       "      <th>status</th>\n",
       "      <th>type</th>\n",
       "    </tr>\n",
       "  </thead>\n",
       "  <tbody>\n",
       "    <tr>\n",
       "      <th>0</th>\n",
       "      <td>1</td>\n",
       "      <td>Finished</td>\n",
       "      <td>o</td>\n",
       "    </tr>\n",
       "    <tr>\n",
       "      <th>1</th>\n",
       "      <td>2</td>\n",
       "      <td>Disqualified</td>\n",
       "      <td>o</td>\n",
       "    </tr>\n",
       "    <tr>\n",
       "      <th>2</th>\n",
       "      <td>3</td>\n",
       "      <td>Accident</td>\n",
       "      <td>d</td>\n",
       "    </tr>\n",
       "    <tr>\n",
       "      <th>3</th>\n",
       "      <td>4</td>\n",
       "      <td>Collision</td>\n",
       "      <td>d</td>\n",
       "    </tr>\n",
       "    <tr>\n",
       "      <th>4</th>\n",
       "      <td>5</td>\n",
       "      <td>Engine</td>\n",
       "      <td>c</td>\n",
       "    </tr>\n",
       "  </tbody>\n",
       "</table>\n",
       "</div>"
      ],
      "text/plain": [
       "   statusId        status type\n",
       "0         1      Finished    o\n",
       "1         2  Disqualified    o\n",
       "2         3      Accident    d\n",
       "3         4     Collision    d\n",
       "4         5        Engine    c"
      ]
     },
     "execution_count": 18,
     "metadata": {},
     "output_type": "execute_result"
    }
   ],
   "source": [
    "status.head()"
   ]
  },
  {
   "cell_type": "markdown",
   "id": "73078114",
   "metadata": {},
   "source": [
    "## 2. Exploratory Data Analysis"
   ]
  },
  {
   "cell_type": "code",
   "execution_count": 19,
   "id": "de156cb0",
   "metadata": {},
   "outputs": [],
   "source": [
    "def merge_d_name(df):\n",
    "    return df.merge(d[['driverId', 'surname']], how = 'left', on = 'driverId')\n",
    "\n",
    "def merge_c_name(df):\n",
    "    return df.merge(c[['constructorId', 'name']], how = 'left', on = 'constructorId')"
   ]
  },
  {
   "cell_type": "markdown",
   "id": "ca4f9bed",
   "metadata": {},
   "source": [
    "Number of drivers each year"
   ]
  },
  {
   "cell_type": "code",
   "execution_count": 20,
   "id": "66b7707e",
   "metadata": {},
   "outputs": [
    {
     "data": {
      "text/plain": [
       "Text(0, 0.5, 'Number of Drivers')"
      ]
     },
     "execution_count": 20,
     "metadata": {},
     "output_type": "execute_result"
    },
    {
     "data": {
      "image/png": "[encoded data removed]",
      "text/plain": [
       "<Figure size 432x288 with 1 Axes>"
      ]
     },
     "metadata": {
      "needs_background": "light"
     },
     "output_type": "display_data"
    }
   ],
   "source": [
    "driver_num = final_standings.groupby('year')['driverId'].count().reset_index()\n",
    "sns.lineplot(x = 'year', y = 'driverId', data = driver_num)\n",
    "plt.ylabel('Number of Drivers')"
   ]
  },
  {
   "cell_type": "markdown",
   "id": "d69c5d1f",
   "metadata": {},
   "source": [
    "Most race wins"
   ]
  },
  {
   "cell_type": "code",
   "execution_count": 21,
   "id": "b642777b",
   "metadata": {},
   "outputs": [],
   "source": [
    "total_wins_by_Id = results[results['positionOrder'] == 1].groupby('driverId')['resultId'].count().sort_values(ascending = False).reset_index().rename({'resultId' : 'total_wins'}, axis = 1)"
   ]
  },
  {
   "cell_type": "code",
   "execution_count": 22,
   "id": "d65744be",
   "metadata": {},
   "outputs": [
    {
     "data": {
      "text/html": [
       "<div>\n",
       "<style scoped>\n",
       "    .dataframe tbody tr th:only-of-type {\n",
       "        vertical-align: middle;\n",
       "    }\n",
       "\n",
       "    .dataframe tbody tr th {\n",
       "        vertical-align: top;\n",
       "    }\n",
       "\n",
       "    .dataframe thead th {\n",
       "        text-align: right;\n",
       "    }\n",
       "</style>\n",
       "<table border=\"1\" class=\"dataframe\">\n",
       "  <thead>\n",
       "    <tr style=\"text-align: right;\">\n",
       "      <th></th>\n",
       "      <th>driverId</th>\n",
       "      <th>total_wins</th>\n",
       "      <th>surname</th>\n",
       "    </tr>\n",
       "  </thead>\n",
       "  <tbody>\n",
       "    <tr>\n",
       "      <th>0</th>\n",
       "      <td>1</td>\n",
       "      <td>103</td>\n",
       "      <td>Hamilton</td>\n",
       "    </tr>\n",
       "    <tr>\n",
       "      <th>1</th>\n",
       "      <td>30</td>\n",
       "      <td>91</td>\n",
       "      <td>Schumacher</td>\n",
       "    </tr>\n",
       "    <tr>\n",
       "      <th>2</th>\n",
       "      <td>830</td>\n",
       "      <td>61</td>\n",
       "      <td>Verstappen</td>\n",
       "    </tr>\n",
       "    <tr>\n",
       "      <th>3</th>\n",
       "      <td>20</td>\n",
       "      <td>53</td>\n",
       "      <td>Vettel</td>\n",
       "    </tr>\n",
       "    <tr>\n",
       "      <th>4</th>\n",
       "      <td>117</td>\n",
       "      <td>51</td>\n",
       "      <td>Prost</td>\n",
       "    </tr>\n",
       "    <tr>\n",
       "      <th>5</th>\n",
       "      <td>102</td>\n",
       "      <td>41</td>\n",
       "      <td>Senna</td>\n",
       "    </tr>\n",
       "    <tr>\n",
       "      <th>6</th>\n",
       "      <td>4</td>\n",
       "      <td>32</td>\n",
       "      <td>Alonso</td>\n",
       "    </tr>\n",
       "    <tr>\n",
       "      <th>7</th>\n",
       "      <td>95</td>\n",
       "      <td>31</td>\n",
       "      <td>Mansell</td>\n",
       "    </tr>\n",
       "    <tr>\n",
       "      <th>8</th>\n",
       "      <td>328</td>\n",
       "      <td>27</td>\n",
       "      <td>Stewart</td>\n",
       "    </tr>\n",
       "    <tr>\n",
       "      <th>9</th>\n",
       "      <td>373</td>\n",
       "      <td>25</td>\n",
       "      <td>Clark</td>\n",
       "    </tr>\n",
       "  </tbody>\n",
       "</table>\n",
       "</div>"
      ],
      "text/plain": [
       "   driverId  total_wins     surname\n",
       "0         1         103    Hamilton\n",
       "1        30          91  Schumacher\n",
       "2       830          61  Verstappen\n",
       "3        20          53      Vettel\n",
       "4       117          51       Prost\n",
       "5       102          41       Senna\n",
       "6         4          32      Alonso\n",
       "7        95          31     Mansell\n",
       "8       328          27     Stewart\n",
       "9       373          25       Clark"
      ]
     },
     "execution_count": 22,
     "metadata": {},
     "output_type": "execute_result"
    }
   ],
   "source": [
    "total_wins_by_driver = merge_d_name(total_wins_by_Id)\n",
    "total_wins_by_driver.head(10)"
   ]
  },
  {
   "cell_type": "markdown",
   "id": "39363ee6",
   "metadata": {},
   "source": [
    "Most championship wins"
   ]
  },
  {
   "cell_type": "code",
   "execution_count": 23,
   "id": "a0305c1a",
   "metadata": {},
   "outputs": [],
   "source": [
    "total_wdc_by_Id = final_standings[final_standings['position'] == 1].groupby('driverId')['wins'].count().sort_values(ascending = False).reset_index()"
   ]
  },
  {
   "cell_type": "code",
   "execution_count": 24,
   "id": "db3ef93c",
   "metadata": {},
   "outputs": [
    {
     "data": {
      "text/html": [
       "<div>\n",
       "<style scoped>\n",
       "    .dataframe tbody tr th:only-of-type {\n",
       "        vertical-align: middle;\n",
       "    }\n",
       "\n",
       "    .dataframe tbody tr th {\n",
       "        vertical-align: top;\n",
       "    }\n",
       "\n",
       "    .dataframe thead th {\n",
       "        text-align: right;\n",
       "    }\n",
       "</style>\n",
       "<table border=\"1\" class=\"dataframe\">\n",
       "  <thead>\n",
       "    <tr style=\"text-align: right;\">\n",
       "      <th></th>\n",
       "      <th>driverId</th>\n",
       "      <th>total_wins</th>\n",
       "      <th>surname</th>\n",
       "    </tr>\n",
       "  </thead>\n",
       "  <tbody>\n",
       "    <tr>\n",
       "      <th>0</th>\n",
       "      <td>1</td>\n",
       "      <td>103</td>\n",
       "      <td>Hamilton</td>\n",
       "    </tr>\n",
       "    <tr>\n",
       "      <th>1</th>\n",
       "      <td>30</td>\n",
       "      <td>91</td>\n",
       "      <td>Schumacher</td>\n",
       "    </tr>\n",
       "    <tr>\n",
       "      <th>2</th>\n",
       "      <td>830</td>\n",
       "      <td>61</td>\n",
       "      <td>Verstappen</td>\n",
       "    </tr>\n",
       "    <tr>\n",
       "      <th>3</th>\n",
       "      <td>20</td>\n",
       "      <td>53</td>\n",
       "      <td>Vettel</td>\n",
       "    </tr>\n",
       "    <tr>\n",
       "      <th>4</th>\n",
       "      <td>117</td>\n",
       "      <td>51</td>\n",
       "      <td>Prost</td>\n",
       "    </tr>\n",
       "  </tbody>\n",
       "</table>\n",
       "</div>"
      ],
      "text/plain": [
       "   driverId  total_wins     surname\n",
       "0         1         103    Hamilton\n",
       "1        30          91  Schumacher\n",
       "2       830          61  Verstappen\n",
       "3        20          53      Vettel\n",
       "4       117          51       Prost"
      ]
     },
     "execution_count": 24,
     "metadata": {},
     "output_type": "execute_result"
    }
   ],
   "source": [
    "total_wdc_by_driver = merge_d_name(total_wins_by_Id)\n",
    "total_wdc_by_driver.head()"
   ]
  },
  {
   "cell_type": "markdown",
   "id": "45e31fe8",
   "metadata": {},
   "source": [
    "Total races entered by driver"
   ]
  },
  {
   "cell_type": "code",
   "execution_count": 25,
   "id": "909aeb9c",
   "metadata": {},
   "outputs": [
    {
     "data": {
      "text/html": [
       "<div>\n",
       "<style scoped>\n",
       "    .dataframe tbody tr th:only-of-type {\n",
       "        vertical-align: middle;\n",
       "    }\n",
       "\n",
       "    .dataframe tbody tr th {\n",
       "        vertical-align: top;\n",
       "    }\n",
       "\n",
       "    .dataframe thead th {\n",
       "        text-align: right;\n",
       "    }\n",
       "</style>\n",
       "<table border=\"1\" class=\"dataframe\">\n",
       "  <thead>\n",
       "    <tr style=\"text-align: right;\">\n",
       "      <th></th>\n",
       "      <th>driverId</th>\n",
       "      <th>total_races</th>\n",
       "      <th>surname</th>\n",
       "    </tr>\n",
       "  </thead>\n",
       "  <tbody>\n",
       "    <tr>\n",
       "      <th>0</th>\n",
       "      <td>4</td>\n",
       "      <td>390</td>\n",
       "      <td>Alonso</td>\n",
       "    </tr>\n",
       "    <tr>\n",
       "      <th>1</th>\n",
       "      <td>8</td>\n",
       "      <td>352</td>\n",
       "      <td>Räikkönen</td>\n",
       "    </tr>\n",
       "    <tr>\n",
       "      <th>2</th>\n",
       "      <td>1</td>\n",
       "      <td>342</td>\n",
       "      <td>Hamilton</td>\n",
       "    </tr>\n",
       "    <tr>\n",
       "      <th>3</th>\n",
       "      <td>22</td>\n",
       "      <td>326</td>\n",
       "      <td>Barrichello</td>\n",
       "    </tr>\n",
       "    <tr>\n",
       "      <th>4</th>\n",
       "      <td>18</td>\n",
       "      <td>309</td>\n",
       "      <td>Button</td>\n",
       "    </tr>\n",
       "  </tbody>\n",
       "</table>\n",
       "</div>"
      ],
      "text/plain": [
       "   driverId  total_races      surname\n",
       "0         4          390       Alonso\n",
       "1         8          352    Räikkönen\n",
       "2         1          342     Hamilton\n",
       "3        22          326  Barrichello\n",
       "4        18          309       Button"
      ]
     },
     "execution_count": 25,
     "metadata": {},
     "output_type": "execute_result"
    }
   ],
   "source": [
    "total_races_driver = results.groupby('driverId')['raceId'].count().sort_values(ascending = False).reset_index().rename({'raceId' : 'total_races'}, axis = 1)\n",
    "total_races_driver = merge_d_name(total_races_driver)\n",
    "total_races_driver.head()"
   ]
  },
  {
   "cell_type": "markdown",
   "id": "704f595f",
   "metadata": {},
   "source": [
    "Total races entered by constructor"
   ]
  },
  {
   "cell_type": "code",
   "execution_count": 26,
   "id": "191f9a7e",
   "metadata": {},
   "outputs": [
    {
     "data": {
      "text/plain": [
       "(array([0, 1, 2, 3, 4, 5, 6, 7, 8, 9]),\n",
       " [Text(0, 0, 'Ferrari'),\n",
       "  Text(1, 0, 'McLaren'),\n",
       "  Text(2, 0, 'Williams'),\n",
       "  Text(3, 0, 'Tyrrell'),\n",
       "  Text(4, 0, 'Sauber'),\n",
       "  Text(5, 0, 'Renault'),\n",
       "  Text(6, 0, 'Team Lotus'),\n",
       "  Text(7, 0, 'Red Bull'),\n",
       "  Text(8, 0, 'Minardi'),\n",
       "  Text(9, 0, 'Ligier')])"
      ]
     },
     "execution_count": 26,
     "metadata": {},
     "output_type": "execute_result"
    },
    {
     "data": {
      "image/png": "[encoded data removed]",
      "text/plain": [
       "<Figure size 432x288 with 1 Axes>"
      ]
     },
     "metadata": {
      "needs_background": "light"
     },
     "output_type": "display_data"
    }
   ],
   "source": [
    "total_races_constructor = c_results.groupby('constructorId')['raceId'].count().reset_index().rename({'raceId' : 'total_races'}, axis = 1).sort_values('total_races', ascending = False)\n",
    "total_races_constructor = merge_c_name(total_races_constructor)\n",
    "sns.barplot(x = 'name', y = 'total_races', data = total_races_constructor.head(10))\n",
    "plt.xticks(rotation=90)"
   ]
  },
  {
   "cell_type": "markdown",
   "id": "339f34a3",
   "metadata": {},
   "source": [
    "Pole-to-win ratio (for drivers with more than 5 poles)"
   ]
  },
  {
   "cell_type": "code",
   "execution_count": 27,
   "id": "11ce7d0c",
   "metadata": {},
   "outputs": [],
   "source": [
    "polesitters = quali[quali['position'] == 1][['raceId', 'driverId']]\n",
    "# Select drivers with more than 5 poles\n",
    "total_poles = polesitters.groupby('driverId')['raceId'].count().reset_index().rename({'raceId' : 'total_poles'}, axis = 1)\n",
    "total_poles = total_poles[total_poles['total_poles'] > 5]\n",
    "polesitters = polesitters[polesitters['driverId'].isin(total_poles['driverId'])]\n",
    "winners = results[results['positionOrder'] == 1][['raceId', 'driverId']]"
   ]
  },
  {
   "cell_type": "code",
   "execution_count": 28,
   "id": "977dab5a",
   "metadata": {},
   "outputs": [
    {
     "data": {
      "text/plain": [
       "(array([ 0,  1,  2,  3,  4,  5,  6,  7,  8,  9, 10, 11, 12, 13, 14, 15, 16]),\n",
       " [Text(0, 0, 'Verstappen'),\n",
       "  Text(1, 0, 'Schumacher'),\n",
       "  Text(2, 0, 'Button'),\n",
       "  Text(3, 0, 'Alonso'),\n",
       "  Text(4, 0, 'Hamilton'),\n",
       "  Text(5, 0, 'Villeneuve'),\n",
       "  Text(6, 0, 'Vettel'),\n",
       "  Text(7, 0, 'Rosberg'),\n",
       "  Text(8, 0, 'Massa'),\n",
       "  Text(9, 0, 'Barrichello'),\n",
       "  Text(10, 0, 'Häkkinen'),\n",
       "  Text(11, 0, 'Hill'),\n",
       "  Text(12, 0, 'Räikkönen'),\n",
       "  Text(13, 0, 'Bottas'),\n",
       "  Text(14, 0, 'Webber'),\n",
       "  Text(15, 0, 'Leclerc'),\n",
       "  Text(16, 0, 'Coulthard')])"
      ]
     },
     "execution_count": 28,
     "metadata": {},
     "output_type": "execute_result"
    },
    {
     "data": {
      "image/png": "[encoded data removed]",
      "text/plain": [
       "<Figure size 432x288 with 1 Axes>"
      ]
     },
     "metadata": {
      "needs_background": "light"
     },
     "output_type": "display_data"
    }
   ],
   "source": [
    "ptw = polesitters.merge(winners, how = 'left', on = 'raceId').rename({'driverId_x' : 'pole', 'driverId_y' : 'winner'}, axis = 1)\n",
    "ptw['ptw'] = ptw['pole'] == ptw['winner']\n",
    "ptw = ptw.groupby('pole')['ptw'].mean().sort_values(ascending = False).reset_index().rename({'pole' : 'driverId', 'ptw' : 'ptw_pct'}, axis = 1)\n",
    "ptw = merge_d_name(ptw)\n",
    "sns.barplot(x = 'surname', y = 'ptw_pct', data = ptw)\n",
    "plt.xticks(rotation=90)"
   ]
  },
  {
   "cell_type": "markdown",
   "id": "08dfa57d",
   "metadata": {},
   "source": [
    "Most front row lock-outs"
   ]
  },
  {
   "cell_type": "code",
   "execution_count": 29,
   "id": "9729982e",
   "metadata": {},
   "outputs": [
    {
     "data": {
      "text/html": [
       "<div>\n",
       "<style scoped>\n",
       "    .dataframe tbody tr th:only-of-type {\n",
       "        vertical-align: middle;\n",
       "    }\n",
       "\n",
       "    .dataframe tbody tr th {\n",
       "        vertical-align: top;\n",
       "    }\n",
       "\n",
       "    .dataframe thead th {\n",
       "        text-align: right;\n",
       "    }\n",
       "</style>\n",
       "<table border=\"1\" class=\"dataframe\">\n",
       "  <thead>\n",
       "    <tr style=\"text-align: right;\">\n",
       "      <th></th>\n",
       "      <th>constructorId</th>\n",
       "      <th>lockout</th>\n",
       "      <th>name</th>\n",
       "    </tr>\n",
       "  </thead>\n",
       "  <tbody>\n",
       "    <tr>\n",
       "      <th>0</th>\n",
       "      <td>131</td>\n",
       "      <td>83</td>\n",
       "      <td>Mercedes</td>\n",
       "    </tr>\n",
       "    <tr>\n",
       "      <th>1</th>\n",
       "      <td>6</td>\n",
       "      <td>33</td>\n",
       "      <td>Ferrari</td>\n",
       "    </tr>\n",
       "    <tr>\n",
       "      <th>2</th>\n",
       "      <td>9</td>\n",
       "      <td>27</td>\n",
       "      <td>Red Bull</td>\n",
       "    </tr>\n",
       "    <tr>\n",
       "      <th>3</th>\n",
       "      <td>1</td>\n",
       "      <td>22</td>\n",
       "      <td>McLaren</td>\n",
       "    </tr>\n",
       "    <tr>\n",
       "      <th>4</th>\n",
       "      <td>3</td>\n",
       "      <td>19</td>\n",
       "      <td>Williams</td>\n",
       "    </tr>\n",
       "  </tbody>\n",
       "</table>\n",
       "</div>"
      ],
      "text/plain": [
       "   constructorId  lockout      name\n",
       "0            131       83  Mercedes\n",
       "1              6       33   Ferrari\n",
       "2              9       27  Red Bull\n",
       "3              1       22   McLaren\n",
       "4              3       19  Williams"
      ]
     },
     "execution_count": 29,
     "metadata": {},
     "output_type": "execute_result"
    }
   ],
   "source": [
    "P1c = quali[quali['position'] == 1][['raceId', 'constructorId']]\n",
    "P2c = quali[quali['position'] == 2][['raceId', 'constructorId']]\n",
    "front_row = P1c.merge(P2c, on = 'raceId').rename({'constructorId_x' : 'P1c', 'constructorId_y' : 'P2c'}, axis = 1)\n",
    "front_row['lockout'] = front_row['P1c'] == front_row['P2c']\n",
    "front_row = front_row.rename({'P1c' : 'constructorId'}, axis = 1).groupby('constructorId')['lockout'].sum().sort_values(ascending = False).reset_index()\n",
    "front_row = merge_c_name(front_row)\n",
    "front_row.head()"
   ]
  },
  {
   "cell_type": "markdown",
   "id": "25e1c4b1",
   "metadata": {},
   "source": [
    "Reliability retirement probability of constructors (with more than 100 races).\n",
    "Most reliable constructors are new constructors because old F1 cars are unreliable"
   ]
  },
  {
   "cell_type": "code",
   "execution_count": 30,
   "id": "5817b8e1",
   "metadata": {},
   "outputs": [],
   "source": [
    "resultstatus = results.merge(status, how = 'left', on = 'statusId')"
   ]
  },
  {
   "cell_type": "code",
   "execution_count": 31,
   "id": "a197f500",
   "metadata": {},
   "outputs": [
    {
     "name": "stderr",
     "output_type": "stream",
     "text": [
      "/var/folders/kr/cnpgsh614gv1nqx54q95w2y00000gn/T/ipykernel_39671/375113486.py:3: SettingWithCopyWarning: \n",
      "A value is trying to be set on a copy of a slice from a DataFrame.\n",
      "Try using .loc[row_indexer,col_indexer] = value instead\n",
      "\n",
      "See the caveats in the documentation: https://pandas.pydata.org/pandas-docs/stable/user_guide/indexing.html#returning-a-view-versus-a-copy\n",
      "  c_resultstatus['team_error'] = c_resultstatus['type'] == 'c'\n"
     ]
    },
    {
     "data": {
      "text/html": [
       "<div>\n",
       "<style scoped>\n",
       "    .dataframe tbody tr th:only-of-type {\n",
       "        vertical-align: middle;\n",
       "    }\n",
       "\n",
       "    .dataframe tbody tr th {\n",
       "        vertical-align: top;\n",
       "    }\n",
       "\n",
       "    .dataframe thead th {\n",
       "        text-align: right;\n",
       "    }\n",
       "</style>\n",
       "<table border=\"1\" class=\"dataframe\">\n",
       "  <thead>\n",
       "    <tr style=\"text-align: right;\">\n",
       "      <th></th>\n",
       "      <th>constructorId</th>\n",
       "      <th>team_error</th>\n",
       "      <th>name</th>\n",
       "    </tr>\n",
       "  </thead>\n",
       "  <tbody>\n",
       "    <tr>\n",
       "      <th>0</th>\n",
       "      <td>131</td>\n",
       "      <td>0.070513</td>\n",
       "      <td>Mercedes</td>\n",
       "    </tr>\n",
       "    <tr>\n",
       "      <th>1</th>\n",
       "      <td>10</td>\n",
       "      <td>0.084906</td>\n",
       "      <td>Force India</td>\n",
       "    </tr>\n",
       "    <tr>\n",
       "      <th>2</th>\n",
       "      <td>210</td>\n",
       "      <td>0.102273</td>\n",
       "      <td>Haas F1 Team</td>\n",
       "    </tr>\n",
       "    <tr>\n",
       "      <th>3</th>\n",
       "      <td>9</td>\n",
       "      <td>0.106579</td>\n",
       "      <td>Red Bull</td>\n",
       "    </tr>\n",
       "    <tr>\n",
       "      <th>4</th>\n",
       "      <td>5</td>\n",
       "      <td>0.164179</td>\n",
       "      <td>Toro Rosso</td>\n",
       "    </tr>\n",
       "  </tbody>\n",
       "</table>\n",
       "</div>"
      ],
      "text/plain": [
       "   constructorId  team_error          name\n",
       "0            131    0.070513      Mercedes\n",
       "1             10    0.084906   Force India\n",
       "2            210    0.102273  Haas F1 Team\n",
       "3              9    0.106579      Red Bull\n",
       "4              5    0.164179    Toro Rosso"
      ]
     },
     "execution_count": 31,
     "metadata": {},
     "output_type": "execute_result"
    }
   ],
   "source": [
    "c_resultstatus = resultstatus[resultstatus['constructorId'].isin(\n",
    "    total_races_constructor[total_races_constructor['total_races'] > 100]['constructorId'])]\n",
    "c_resultstatus['team_error'] = c_resultstatus['type'] == 'c'\n",
    "c_resultstatus.head()\n",
    "team_retirement = c_resultstatus.groupby('constructorId')['team_error'].mean().sort_values(ascending = True).reset_index()\n",
    "team_retirement = merge_c_name(team_retirement)\n",
    "team_retirement.head()"
   ]
  },
  {
   "cell_type": "markdown",
   "id": "96ba9da6",
   "metadata": {},
   "source": [
    "Driver error retirement probability of drivers with more than 50 races"
   ]
  },
  {
   "cell_type": "code",
   "execution_count": 32,
   "id": "228563a8",
   "metadata": {},
   "outputs": [
    {
     "name": "stderr",
     "output_type": "stream",
     "text": [
      "/var/folders/kr/cnpgsh614gv1nqx54q95w2y00000gn/T/ipykernel_39671/1949186413.py:3: SettingWithCopyWarning: \n",
      "A value is trying to be set on a copy of a slice from a DataFrame.\n",
      "Try using .loc[row_indexer,col_indexer] = value instead\n",
      "\n",
      "See the caveats in the documentation: https://pandas.pydata.org/pandas-docs/stable/user_guide/indexing.html#returning-a-view-versus-a-copy\n",
      "  d_resultstatus['driver_error'] = d_resultstatus['type'] == 'd'\n"
     ]
    },
    {
     "data": {
      "text/html": [
       "<div>\n",
       "<style scoped>\n",
       "    .dataframe tbody tr th:only-of-type {\n",
       "        vertical-align: middle;\n",
       "    }\n",
       "\n",
       "    .dataframe tbody tr th {\n",
       "        vertical-align: top;\n",
       "    }\n",
       "\n",
       "    .dataframe thead th {\n",
       "        text-align: right;\n",
       "    }\n",
       "</style>\n",
       "<table border=\"1\" class=\"dataframe\">\n",
       "  <thead>\n",
       "    <tr style=\"text-align: right;\">\n",
       "      <th></th>\n",
       "      <th>driverId</th>\n",
       "      <th>driver_error</th>\n",
       "      <th>surname</th>\n",
       "    </tr>\n",
       "  </thead>\n",
       "  <tbody>\n",
       "    <tr>\n",
       "      <th>0</th>\n",
       "      <td>579</td>\n",
       "      <td>0.017241</td>\n",
       "      <td>Fangio</td>\n",
       "    </tr>\n",
       "    <tr>\n",
       "      <th>1</th>\n",
       "      <td>219</td>\n",
       "      <td>0.018182</td>\n",
       "      <td>Jabouille</td>\n",
       "    </tr>\n",
       "    <tr>\n",
       "      <th>2</th>\n",
       "      <td>456</td>\n",
       "      <td>0.019608</td>\n",
       "      <td>Salvadori</td>\n",
       "    </tr>\n",
       "    <tr>\n",
       "      <th>3</th>\n",
       "      <td>364</td>\n",
       "      <td>0.022989</td>\n",
       "      <td>Gurney</td>\n",
       "    </tr>\n",
       "    <tr>\n",
       "      <th>4</th>\n",
       "      <td>373</td>\n",
       "      <td>0.027397</td>\n",
       "      <td>Clark</td>\n",
       "    </tr>\n",
       "  </tbody>\n",
       "</table>\n",
       "</div>"
      ],
      "text/plain": [
       "   driverId  driver_error    surname\n",
       "0       579      0.017241     Fangio\n",
       "1       219      0.018182  Jabouille\n",
       "2       456      0.019608  Salvadori\n",
       "3       364      0.022989     Gurney\n",
       "4       373      0.027397      Clark"
      ]
     },
     "execution_count": 32,
     "metadata": {},
     "output_type": "execute_result"
    }
   ],
   "source": [
    "d_resultstatus = resultstatus[resultstatus['driverId'].isin(\n",
    "    total_races_driver[total_races_driver['total_races'] > 50]['driverId'])]\n",
    "d_resultstatus['driver_error'] = d_resultstatus['type'] == 'd'\n",
    "driver_retirement = d_resultstatus.groupby('driverId')['driver_error'].mean().sort_values(ascending = True).reset_index()\n",
    "driver_retirement = merge_d_name(driver_retirement)\n",
    "driver_retirement.head()"
   ]
  },
  {
   "cell_type": "markdown",
   "id": "f8758f22",
   "metadata": {},
   "source": [
    "## 3. Prediction of Podium Finish"
   ]
  },
  {
   "cell_type": "markdown",
   "id": "48963a94",
   "metadata": {},
   "source": [
    "It'd be a good starting point to focus on betting whether a driver would finish on the podium because it is not as volatile as directly predicting the winner; meanwhile, the number of drivers that realistically have a chance to secure a podium is rather limited, making the model easier to implement and improve.\n",
    "\n",
    "Method inspired by \"Formula 1 Race Prediction\", https://www.kaggle.com/code/yanrogerweng/formula-1-race-prediction#Data-Science-Models-to-predict-F1-podiums."
   ]
  },
  {
   "cell_type": "markdown",
   "id": "01e27160",
   "metadata": {},
   "source": [
    "### 3.0 Select years"
   ]
  },
  {
   "cell_type": "markdown",
   "id": "676dd982-9c17-41d4-a8dc-188b00f1de95",
   "metadata": {},
   "source": [
    "Because we are mostly interested in the current F1 driver lineup, more recent years are selected. The most experienced driver on the grid, Fernando Alonso, Started racing full-time in 2003."
   ]
  },
  {
   "cell_type": "code",
   "execution_count": 33,
   "id": "db50db62-3d4d-466e-b851-a5794d0c11b1",
   "metadata": {},
   "outputs": [],
   "source": [
    "MIN_YEAR = 2003"
   ]
  },
  {
   "cell_type": "code",
   "execution_count": 34,
   "id": "a0cc5c11-3bcc-4e81-b89d-11d8a77008e8",
   "metadata": {},
   "outputs": [],
   "source": [
    "raceresults_untruncated = raceresults.copy()"
   ]
  },
  {
   "cell_type": "code",
   "execution_count": 35,
   "id": "28d61aed",
   "metadata": {},
   "outputs": [],
   "source": [
    "raceresults = raceresults[raceresults['year'] >= MIN_YEAR].reset_index(drop=True).dropna()"
   ]
  },
  {
   "cell_type": "markdown",
   "id": "4e7877e3",
   "metadata": {},
   "source": [
    "Target variables: top3, top6, top10"
   ]
  },
  {
   "cell_type": "code",
   "execution_count": 36,
   "id": "6d9386de",
   "metadata": {
    "scrolled": true
   },
   "outputs": [],
   "source": [
    "raceresults['top3'] = (raceresults['positionOrder'] <= 3).astype(int)\n",
    "raceresults['top6'] = ((raceresults['positionOrder'] <= 6) & (raceresults['positionOrder'] > 3)).astype(int)\n",
    "raceresults['top10'] = ((raceresults['positionOrder'] <= 10) & (raceresults['positionOrder'] > 6)).astype(int)"
   ]
  },
  {
   "cell_type": "markdown",
   "id": "bae67cbb",
   "metadata": {},
   "source": [
    "### 3.1 Feature Engineering"
   ]
  },
  {
   "cell_type": "markdown",
   "id": "9a66d64d-4525-43a8-9a4a-702ee5a614ee",
   "metadata": {},
   "source": [
    "Nomenclature:\n",
    "\n",
    "df: raceresults plus feature engineering\n",
    "\n",
    "df_features: features and target variables, resultId as index\n",
    "\n",
    "df_final: df_features plus one hot encoding"
   ]
  },
  {
   "cell_type": "code",
   "execution_count": 37,
   "id": "f81f5bdb",
   "metadata": {},
   "outputs": [],
   "source": [
    "df = raceresults.copy()"
   ]
  },
  {
   "cell_type": "code",
   "execution_count": 38,
   "id": "a7c46229",
   "metadata": {},
   "outputs": [],
   "source": [
    "# This drops all retirements\n",
    "# df = df[df.merge(status, how = 'left', on = 'statusId')['type'] == 'o']"
   ]
  },
  {
   "cell_type": "code",
   "execution_count": 39,
   "id": "c367c4dc",
   "metadata": {},
   "outputs": [
    {
     "data": {
      "text/plain": [
       "Index(['year', 'round', 'circuitId', 'resultId', 'raceId', 'driverId',\n",
       "       'constructorId', 'number', 'grid', 'position', 'positionText',\n",
       "       'positionOrder', 'laps', 'time', 'milliseconds', 'fastestLap', 'rank',\n",
       "       'fastestLapTime', 'fastestLapSpeed', 'statusId', 'top3', 'top6',\n",
       "       'top10', 'points', 'standing', 'wins', 'c_standing'],\n",
       "      dtype='object')"
      ]
     },
     "execution_count": 39,
     "metadata": {},
     "output_type": "execute_result"
    }
   ],
   "source": [
    "df = df.drop('points', axis = 1).merge(d_standings.drop(['driverStandingsId', 'positionText'], axis = 1).rename(\n",
    "    {'position' : 'standing'}, axis = 1), how = 'left', on = ['raceId', 'driverId'])\n",
    "df = df.merge(c_standings[['raceId', 'constructorId', 'position']].rename({'position' : 'c_standing'}, axis = 1),\n",
    "              how = 'left', on = ['raceId', 'constructorId'])\n",
    "df.columns"
   ]
  },
  {
   "cell_type": "code",
   "execution_count": 40,
   "id": "5d45853d",
   "metadata": {},
   "outputs": [],
   "source": [
    "race['date'] = pd.to_datetime(race['date'])"
   ]
  },
  {
   "cell_type": "code",
   "execution_count": 41,
   "id": "2992b8e8",
   "metadata": {},
   "outputs": [
    {
     "data": {
      "text/plain": [
       "1135"
      ]
     },
     "execution_count": 41,
     "metadata": {},
     "output_type": "execute_result"
    }
   ],
   "source": [
    "current_time = pd.Timestamp('now')\n",
    "nearest_future_index = (race['date'] > current_time).idxmax()\n",
    "next_raceId = race.loc[nearest_future_index]['raceId']\n",
    "next_raceId"
   ]
  },
  {
   "cell_type": "markdown",
   "id": "696fce9d",
   "metadata": {},
   "source": [
    "Add lagged variables"
   ]
  },
  {
   "cell_type": "code",
   "execution_count": 42,
   "id": "4eaff9a5",
   "metadata": {},
   "outputs": [],
   "source": [
    "df['prev_standing'] = df.groupby('driverId')['standing'].transform(lambda x: x.shift(1))\n",
    "df['prev_1race'] = df.groupby('driverId')['positionOrder'].transform(lambda x: x.shift(1))\n",
    "df['prev_2race'] = df.groupby('driverId')['positionOrder'].transform(lambda x: x.shift(2))\n",
    "df['prev_3race'] = df.groupby('driverId')['positionOrder'].transform(lambda x: x.shift(3))"
   ]
  },
  {
   "cell_type": "markdown",
   "id": "29026c4b",
   "metadata": {},
   "source": [
    "Additional feature: whether a driver is currently top 3, 6, or 10 in driver's standings with one-hot encoding. top3stand, top6stand, top10stand. If first race of the year, take result from the last year. Set to all 0 for rookie drivers."
   ]
  },
  {
   "cell_type": "code",
   "execution_count": 43,
   "id": "f4f30d5b",
   "metadata": {},
   "outputs": [],
   "source": [
    "df['top3stand'] = (df['prev_standing'] <= 3).astype(int)\n",
    "df['top6stand'] = ((df['prev_standing'] > 3) & (df['prev_standing'] <= 6)).astype(int)\n",
    "df['top10stand'] = ((df['prev_standing'] > 6) & (df['prev_standing'] <= 10)).astype(int)"
   ]
  },
  {
   "cell_type": "markdown",
   "id": "d7fcba89",
   "metadata": {},
   "source": [
    "Additional feature: whether a constructor is currently top 1, 3, or 5 in constructor's standings. top1cstand, top3cstand, top5cstand. If first race of the year, take result from the last year. Set to all 0 for new constructors."
   ]
  },
  {
   "cell_type": "code",
   "execution_count": 44,
   "id": "4d52da47",
   "metadata": {},
   "outputs": [],
   "source": [
    "df['top1cstand'] = (df['c_standing'] == 1).astype(int)\n",
    "df['top3cstand'] = ((df['c_standing'] > 1) & (df['c_standing'] <= 3)).astype(int)\n",
    "df['top5cstand'] = ((df['c_standing'] > 3) & (df['c_standing'] <= 5)).astype(int)"
   ]
  },
  {
   "cell_type": "markdown",
   "id": "6ad462d2",
   "metadata": {},
   "source": [
    "Other 16 features: (average finishing position, percentage of top 3, 6, 10 finishes) * (last year, this year) * (driver, constructors)"
   ]
  },
  {
   "cell_type": "markdown",
   "id": "fbc50d60",
   "metadata": {},
   "source": [
    "Average finishing position of driver in their last season"
   ]
  },
  {
   "cell_type": "code",
   "execution_count": 45,
   "id": "e1105b45",
   "metadata": {},
   "outputs": [],
   "source": [
    "# Average finishing position of the current year\n",
    "avg_year = df.groupby(['driverId', 'year'])['positionOrder'].mean().reset_index()\n",
    "avg_year['avg_prev_d'] = avg_year.groupby('driverId')['positionOrder'].transform(lambda x: x.shift(1))\n",
    "# Drop column to prevent data leakage\n",
    "df = df.merge(avg_year.drop('positionOrder', axis = 1), how = 'left', on = ['driverId', 'year'])"
   ]
  },
  {
   "cell_type": "markdown",
   "id": "be1ca035",
   "metadata": {},
   "source": [
    "Average finishing position of driver in the current season up to the current race"
   ]
  },
  {
   "cell_type": "code",
   "execution_count": 46,
   "id": "9928bc69",
   "metadata": {},
   "outputs": [],
   "source": [
    "df['avg_curr_d'] = df.groupby(['driverId', 'year'])['positionOrder'].transform(lambda x: (x.cumsum()/np.arange(1, len(x)+1)).shift(1))"
   ]
  },
  {
   "cell_type": "markdown",
   "id": "338f7999",
   "metadata": {},
   "source": [
    "Average finishing position of constructor (average among two drivers) in their last season"
   ]
  },
  {
   "cell_type": "code",
   "execution_count": 47,
   "id": "8c9945fe",
   "metadata": {},
   "outputs": [],
   "source": [
    "# Average finishing position of the current year\n",
    "c_avg_year = df.groupby(['constructorId', 'year'])['positionOrder'].mean().reset_index()\n",
    "c_avg_year['avg_prev_c'] = c_avg_year.groupby('constructorId')['positionOrder'].transform(lambda x: x.shift(1))\n",
    "df = df.merge(c_avg_year.drop('positionOrder', axis = 1), how = 'left', on = ['constructorId', 'year'])"
   ]
  },
  {
   "cell_type": "markdown",
   "id": "ce0a0e2b",
   "metadata": {},
   "source": [
    "Average finishing position of constructor in the current season up to the current race"
   ]
  },
  {
   "cell_type": "code",
   "execution_count": 48,
   "id": "616df66e",
   "metadata": {},
   "outputs": [],
   "source": [
    "constructor_raceres = df.groupby(['constructorId', 'year', 'round'])['positionOrder'].mean().reset_index()\n",
    "constructor_raceres['avg_curr_c'] = constructor_raceres.groupby(['constructorId', 'year'])['positionOrder'].transform(\n",
    "    lambda x: (x.cumsum()/np.arange(1, len(x)+1)).shift(1))\n",
    "df = df.merge(constructor_raceres.drop('positionOrder', axis = 1), how = 'left', on = ['constructorId', 'year', 'round'])"
   ]
  },
  {
   "cell_type": "markdown",
   "id": "8809c6ca",
   "metadata": {},
   "source": [
    "Percentage of drivers' top 3, 6, 10 finishes past year"
   ]
  },
  {
   "cell_type": "code",
   "execution_count": 49,
   "id": "d103bf38",
   "metadata": {},
   "outputs": [],
   "source": [
    "top3pct_prev_d = df.groupby(['driverId', 'year'])[['top3', 'top6', 'top10']].mean().reset_index()\n",
    "top3pct_prev_d[['top3pct_prev_d', 'top6pct_prev_d', 'top10pct_prev_d']] = top3pct_prev_d.groupby(\n",
    "    'driverId')[['top3', 'top6', 'top10']].transform(lambda x: x.shift(1))\n",
    "df = df.merge(top3pct_prev_d.drop(['top3', 'top6', 'top10'], axis = 1), how = 'left', on = ['driverId', 'year'])"
   ]
  },
  {
   "cell_type": "markdown",
   "id": "d08a2674",
   "metadata": {},
   "source": [
    "Percentage of drivers' top 3, 6, 10 finishes in the current season up to the current race"
   ]
  },
  {
   "cell_type": "code",
   "execution_count": 50,
   "id": "86a7d1d6",
   "metadata": {},
   "outputs": [],
   "source": [
    "df[['top3pct_curr_d', 'top6pct_curr_d', 'top10pct_curr_d']] = df.groupby(['driverId', 'year'])[['top3', 'top6', 'top10']].transform(lambda x: (x.cumsum()/np.arange(1, len(x)+1)).shift(1))"
   ]
  },
  {
   "cell_type": "markdown",
   "id": "456a87b0",
   "metadata": {},
   "source": [
    "Percentage of constructors' top 1, 3, 5 finishes are strongly correlated with drivers' finishes. Hence omitted."
   ]
  },
  {
   "cell_type": "code",
   "execution_count": 51,
   "id": "75c34ebe",
   "metadata": {},
   "outputs": [
    {
     "data": {
      "text/plain": [
       "Index(['year', 'round', 'circuitId', 'resultId', 'raceId', 'driverId',\n",
       "       'constructorId', 'number', 'grid', 'position', 'positionText',\n",
       "       'positionOrder', 'laps', 'time', 'milliseconds', 'fastestLap', 'rank',\n",
       "       'fastestLapTime', 'fastestLapSpeed', 'statusId', 'top3', 'top6',\n",
       "       'top10', 'points', 'standing', 'wins', 'c_standing', 'prev_standing',\n",
       "       'prev_1race', 'prev_2race', 'prev_3race', 'top3stand', 'top6stand',\n",
       "       'top10stand', 'top1cstand', 'top3cstand', 'top5cstand', 'avg_prev_d',\n",
       "       'avg_curr_d', 'avg_prev_c', 'avg_curr_c', 'top3pct_prev_d',\n",
       "       'top6pct_prev_d', 'top10pct_prev_d', 'top3pct_curr_d', 'top6pct_curr_d',\n",
       "       'top10pct_curr_d'],\n",
       "      dtype='object')"
      ]
     },
     "execution_count": 51,
     "metadata": {},
     "output_type": "execute_result"
    }
   ],
   "source": [
    "df.columns"
   ]
  },
  {
   "cell_type": "code",
   "execution_count": 52,
   "id": "1b422236",
   "metadata": {},
   "outputs": [
    {
     "name": "stdout",
     "output_type": "stream",
     "text": [
      "8690\n",
      "6058\n"
     ]
    }
   ],
   "source": [
    "df_features = df[['top3', 'top6', 'top10', 'prev_standing', 'prev_1race',\n",
    "       'prev_2race', 'prev_3race', 'top3stand', 'top6stand', 'top10stand',\n",
    "       'top1cstand', 'top3cstand', 'top5cstand', 'avg_prev_d', 'avg_curr_d',\n",
    "       'avg_prev_c', 'avg_curr_c', 'top3pct_prev_d', 'top6pct_prev_d',\n",
    "       'top10pct_prev_d', 'top3pct_curr_d', 'top6pct_curr_d',\n",
    "       'top10pct_curr_d','resultId']].set_index('resultId')\n",
    "df_features.dropna(subset=['top3'], inplace=True)\n",
    "print(len(df_features))\n",
    "print(len(df_features.dropna()))\n",
    "df_features.dropna(inplace=True)"
   ]
  },
  {
   "cell_type": "code",
   "execution_count": 53,
   "id": "3449fb74",
   "metadata": {},
   "outputs": [],
   "source": [
    "# plt.figure(figsize=(13,10))\n",
    "# sns.heatmap(df_features.corr(), annot=True, mask = False, annot_kws={\"size\": 7})\n",
    "# plt.show()"
   ]
  },
  {
   "cell_type": "markdown",
   "id": "aa0679b5",
   "metadata": {},
   "source": [
    "### 3.2 One-Hot Encoding for circuit, driver, and constructor"
   ]
  },
  {
   "cell_type": "markdown",
   "id": "8a842159",
   "metadata": {},
   "source": [
    "Some drivers, for example, are especially good at certain circuits. One-hot encoding accounts for the variations in circuit, driver, and constructor characteristics. "
   ]
  },
  {
   "cell_type": "code",
   "execution_count": 54,
   "id": "a1a7707a",
   "metadata": {},
   "outputs": [],
   "source": [
    "encoded = pd.get_dummies(pd.DataFrame(index = df['resultId'], data = df[['circuitId', 'driverId', 'constructorId']]),\n",
    "                         columns=['circuitId', 'driverId', 'constructorId'])"
   ]
  },
  {
   "cell_type": "markdown",
   "id": "74bd9231",
   "metadata": {},
   "source": [
    "Build final DataFrame for model"
   ]
  },
  {
   "cell_type": "code",
   "execution_count": 55,
   "id": "898182f3",
   "metadata": {},
   "outputs": [],
   "source": [
    "df_final = df_features.merge(encoded, left_index=True, right_index=True)"
   ]
  },
  {
   "cell_type": "markdown",
   "id": "ac05382b",
   "metadata": {},
   "source": [
    "### 3.3 Model Training and Prediction"
   ]
  },
  {
   "cell_type": "code",
   "execution_count": 56,
   "id": "13c648de",
   "metadata": {},
   "outputs": [],
   "source": [
    "# Set proportions of training, validation, and testing data\n",
    "VALIDATION_FRAC = 0.1\n",
    "TEST_FRAC = 0.1"
   ]
  },
  {
   "cell_type": "code",
   "execution_count": 57,
   "id": "3ed2292a",
   "metadata": {},
   "outputs": [],
   "source": [
    "from sklearn.preprocessing import StandardScaler\n",
    "import joblib\n",
    "from sklearn.linear_model import LogisticRegression\n",
    "from sklearn.naive_bayes import GaussianNB\n",
    "from sklearn.neighbors import KNeighborsClassifier\n",
    "from sklearn.svm import SVC\n",
    "from sklearn.ensemble import RandomForestClassifier\n",
    "from sklearn.tree import DecisionTreeClassifier\n",
    "from sklearn.metrics import accuracy_score, ConfusionMatrixDisplay\n",
    "from sklearn.metrics import f1_score, ConfusionMatrixDisplay  # Import f1_score\n",
    "import matplotlib.pyplot as plt\n",
    "from sklearn.model_selection import ParameterGrid\n",
    "from sklearn.metrics import roc_auc_score\n",
    "from sklearn.metrics import roc_curve, auc"
   ]
  },
  {
   "cell_type": "code",
   "execution_count": 58,
   "id": "9778b161",
   "metadata": {},
   "outputs": [],
   "source": [
    "from sklearn.linear_model import LinearRegression\n",
    "from sklearn.metrics import mean_squared_error, r2_score"
   ]
  },
  {
   "cell_type": "code",
   "execution_count": 59,
   "id": "ee24e066",
   "metadata": {},
   "outputs": [],
   "source": [
    "from sklearn.model_selection import train_test_split"
   ]
  },
  {
   "cell_type": "code",
   "execution_count": 60,
   "id": "72ef751e",
   "metadata": {},
   "outputs": [],
   "source": [
    "# Ignore convergence and future warnings\n",
    "from warnings import simplefilter\n",
    "from sklearn.exceptions import ConvergenceWarning\n",
    "simplefilter(\"ignore\", category=ConvergenceWarning)\n",
    "simplefilter(\"ignore\", category=FutureWarning)"
   ]
  },
  {
   "cell_type": "markdown",
   "id": "dcdc2a98",
   "metadata": {},
   "source": [
    "Note that the dataset has no time-series dependence. Therefore, we can shuffle the data to split between training, validation, and testing data sets."
   ]
  },
  {
   "cell_type": "code",
   "execution_count": 61,
   "id": "da9ef863-f242-401e-839a-df6faff39108",
   "metadata": {},
   "outputs": [],
   "source": [
    "X_train, X_val_and_test, y_train, y_val_and_test = train_test_split(df_final.iloc[:,3:], df_final.iloc[:,:3],\n",
    "                                                                    test_size = VALIDATION_FRAC+TEST_FRAC, random_state = 42)\n",
    "X_val, X_test, y_val, y_test = train_test_split(X_val_and_test, y_val_and_test,\n",
    "                                                test_size = TEST_FRAC/(TEST_FRAC+VALIDATION_FRAC), random_state = 42)"
   ]
  },
  {
   "cell_type": "code",
   "execution_count": 62,
   "id": "4a7883b6",
   "metadata": {},
   "outputs": [],
   "source": [
    "# Dictionary to store the best model and test accuracy for each algorithm\n",
    "model_accuracy_info = {}"
   ]
  },
  {
   "cell_type": "code",
   "execution_count": 63,
   "id": "aefe5beb",
   "metadata": {},
   "outputs": [],
   "source": [
    "# Define the hyperparameter grid for each model\n",
    "param_grid = {\n",
    "    'LogisticRegression': {'C': [0.001, 0.01, 0.1, 1, 10, 100], 'random_state': [42]},\n",
    "    'KNeighborsClassifier': {'n_neighbors': [3, 5, 7, 10, 12, 13, 15, 20]},\n",
    "    'SVC': {'C': [0.1, 1, 10], 'kernel': ['rbf', 'linear'], 'gamma': ['scale', 'auto'], 'random_state': [42], 'probability': [True]},\n",
    "    'RandomForestClassifier': {'n_estimators': [10, 50, 100], 'max_depth': [None, 10, 20, 30], 'random_state': [42]},\n",
    "    'DecisionTreeClassifier': {'max_depth': [None, 5, 10, 20], 'random_state': [42]},\n",
    "    'GaussianNB': {'var_smoothing': [1e-9, 1e-8, 1e-7, 1e-6, 1e-5, 1e-4, 1e-3, 1e-2, 1e-1]}\n",
    "}"
   ]
  },
  {
   "cell_type": "code",
   "execution_count": 64,
   "id": "a2778569",
   "metadata": {},
   "outputs": [],
   "source": [
    "# Initialize models\n",
    "models = {\n",
    "    'LogisticRegression': LogisticRegression(),\n",
    "    'KNeighborsClassifier': KNeighborsClassifier(),\n",
    "    #'SVC': SVC(),\n",
    "    'RandomForestClassifier': RandomForestClassifier(),\n",
    "    'DecisionTreeClassifier': DecisionTreeClassifier(),\n",
    "    'GaussianNB': GaussianNB(),\n",
    "}"
   ]
  },
  {
   "cell_type": "code",
   "execution_count": 65,
   "id": "e7555d30",
   "metadata": {},
   "outputs": [],
   "source": [
    "# Function to manually tune hyperparameters\n",
    "def tune_hyperparameters(model, params, X_train, y_train, X_val, y_val):\n",
    "    best_model = None\n",
    "    best_params = {}\n",
    "    best_auc = 0  # Use AUC-ROC instead of F1 score\n",
    "    for param in ParameterGrid(params):\n",
    "        model.set_params(**param)\n",
    "        model.fit(X_train, y_train)\n",
    "        probabilities = model.predict_proba(X_val)\n",
    "        auc = roc_auc_score(y_val, probabilities[:, 1])  # Calculate AUC-ROC\n",
    "        if auc > best_auc:\n",
    "            best_auc = auc\n",
    "            best_model = model\n",
    "            best_params = param\n",
    "    return best_model, best_params"
   ]
  },
  {
   "cell_type": "code",
   "execution_count": 66,
   "id": "2b906683",
   "metadata": {},
   "outputs": [
    {
     "name": "stdout",
     "output_type": "stream",
     "text": [
      "Model: LogisticRegression\n",
      "Best parameters for LogisticRegression: {'C': 100, 'random_state': 42}\n",
      "Test AUC-ROC for LogisticRegression: 0.8633\n",
      "\n",
      "Model: KNeighborsClassifier\n",
      "Best parameters for KNeighborsClassifier: {'n_neighbors': 15}\n",
      "Test AUC-ROC for KNeighborsClassifier: 0.8569\n",
      "\n",
      "Model: RandomForestClassifier\n",
      "Best parameters for RandomForestClassifier: {'max_depth': None, 'n_estimators': 100, 'random_state': 42}\n",
      "Test AUC-ROC for RandomForestClassifier: 0.8698\n",
      "\n",
      "Model: DecisionTreeClassifier\n",
      "Best parameters for DecisionTreeClassifier: {'max_depth': 5, 'random_state': 42}\n",
      "Test AUC-ROC for DecisionTreeClassifier: 0.6431\n",
      "\n",
      "Model: GaussianNB\n",
      "Best parameters for GaussianNB: {'var_smoothing': 0.001}\n",
      "Test AUC-ROC for GaussianNB: 0.8712\n",
      "\n"
     ]
    },
    {
     "data": {
      "image/png": "[encoded data removed]",
      "text/plain": [
       "<Figure size 432x288 with 1 Axes>"
      ]
     },
     "metadata": {
      "needs_background": "light"
     },
     "output_type": "display_data"
    }
   ],
   "source": [
    "for name, model in models.items():\n",
    "    print(f\"Model: {name}\")\n",
    "    if name in param_grid:\n",
    "        # Tune hyperparameters\n",
    "        best_model, best_params = tune_hyperparameters(model, param_grid[name], X_train, y_train['top3'], X_val, y_val['top3'])\n",
    "        print(f\"Best parameters for {name}: {best_params}\")\n",
    "        model = best_model\n",
    "\n",
    "    # Predict and evaluate on test data using AUC-ROC\n",
    "    pred_test = model.predict_proba(X_test)\n",
    "    auc_test = roc_auc_score(y_test['top3'], pred_test[:, 1])  # Calculate AUC-ROC\n",
    "    accuracy_test = accuracy_score(y_test['top3'], pred_test[:, 1] >= 0.5)  # Calculate accuracy\n",
    "\n",
    "    print(f\"Test AUC-ROC for {name}: {auc_test:.4f}\\n\")\n",
    "    model_filename = f\"{name}_model_V1.joblib\"\n",
    "    joblib.dump(model, model_filename)\n",
    "    model_accuracy_info[name] = {\n",
    "        'model': model_filename,\n",
    "        'auc_roc': auc_test,  # Store AUC-ROC\n",
    "        'accuracy': accuracy_test\n",
    "    }\n",
    "\n",
    "    # Calculate ROC curve and AUC for each model\n",
    "    fpr, tpr, thresholds = roc_curve(y_test['top3'], pred_test[:, 1])\n",
    "    roc_auc = auc(fpr, tpr)\n",
    "\n",
    "    # Plot the ROC curve\n",
    "    plt.plot(fpr, tpr, label=f'{name} (area = {roc_auc:.2f})')\n",
    "    \n",
    "plt.plot([0, 1], [0, 1], 'k--')  # Add a diagonal dashed line\n",
    "plt.xlim([0.0, 1.0])\n",
    "plt.ylim([0.0, 1.05])\n",
    "plt.xlabel('False Positive Rate')\n",
    "plt.ylabel('True Positive Rate')\n",
    "plt.title('Receiver Operating Characteristic (ROC) Curves')\n",
    "plt.legend(loc=\"lower right\")\n",
    "plt.show()"
   ]
  },
  {
   "cell_type": "markdown",
   "id": "3a315dc9-b10f-46ac-93fd-8c675e717c46",
   "metadata": {},
   "source": [
    "### 3.4 Additional Features"
   ]
  },
  {
   "cell_type": "markdown",
   "id": "8e526c04-5c7b-450f-a969-d3bdcf84e4c4",
   "metadata": {},
   "source": [
    "Some drivers and teams may perform better in back-to-back races (when a second race happens the next weekend after the first race). The tight schedule of back-to-back races require drivers to adjust to their best physical status and the team to transport the car, accessories, motor-home, etc. in time."
   ]
  },
  {
   "cell_type": "code",
   "execution_count": 67,
   "id": "ef2df6f2-7012-4b02-a20c-8a7471e0e12d",
   "metadata": {},
   "outputs": [
    {
     "name": "stdout",
     "output_type": "stream",
     "text": [
      "ROC-AUC score: 0.8480134606161769\n",
      "ROC-AUC score without B2B info: 0.851757730342919\n"
     ]
    }
   ],
   "source": [
    "race_date = race[['raceId','date']].sort_values('date')\n",
    "inter = race_date['date']-race_date['date'].shift(1)\n",
    "race_date['B2B'] = [diff.days <= 8 for diff in inter]\n",
    "\n",
    "drivers_encoded = pd.get_dummies(pd.DataFrame(raceresults['driverId']), columns=['driverId'])\n",
    "\n",
    "B2B_features = drivers_encoded.merge(\n",
    "    drivers_encoded & raceresults.merge(race_date, on='raceId')['B2B'].values[:, None],\n",
    "    left_index = True,\n",
    "    right_index = True,\n",
    "    suffixes = (\"\",\"&B2B\"))\n",
    "\n",
    "B2B_train, B2B_test, top3_train, top3_test = train_test_split(B2B_features.astype(float),\n",
    "                                                              raceresults['top3'].astype(float), test_size=0.2, random_state=42)\n",
    "ctrl_train, ctrl_test, top3_train, top3_test = train_test_split(drivers_encoded, raceresults['top3'], test_size=0.2, random_state=42)\n",
    "\n",
    "test_model = RandomForestClassifier()\n",
    "test_model.fit(B2B_train, top3_train)\n",
    "print(\"ROC-AUC score:\", roc_auc_score(top3_test, test_model.predict_proba(B2B_test)[:,1]))\n",
    "\n",
    "ctrl_model = RandomForestClassifier()\n",
    "ctrl_model.fit(ctrl_train, top3_train)\n",
    "print(\"ROC-AUC score without B2B info:\", roc_auc_score(top3_test, ctrl_model.predict_proba(ctrl_test)[:,1]))"
   ]
  },
  {
   "cell_type": "markdown",
   "id": "1bcb2873-18bb-471c-a5f5-59e921ce5d52",
   "metadata": {},
   "source": [
    "Drivers may perform better in a home race. This feature is added to the dataframe."
   ]
  },
  {
   "cell_type": "code",
   "execution_count": 68,
   "id": "9f1fcf2e-f60d-4a51-963a-1e2f5fd2b396",
   "metadata": {},
   "outputs": [
    {
     "name": "stdout",
     "output_type": "stream",
     "text": [
      "     nationality   country\n",
      "2139  Zimbabwean  Zimbabwe\n",
      "2140     Zintani    Zintan\n",
      "2141        Zulu  Zululand\n",
      "2142    Zuricher    Zurich\n",
      "2143   Ecuadoran   Ecuador\n"
     ]
    },
    {
     "name": "stderr",
     "output_type": "stream",
     "text": [
      "/var/folders/kr/cnpgsh614gv1nqx54q95w2y00000gn/T/ipykernel_39671/2119258057.py:15: SettingWithCopyWarning: \n",
      "A value is trying to be set on a copy of a slice from a DataFrame\n",
      "\n",
      "See the caveats in the documentation: https://pandas.pydata.org/pandas-docs/stable/user_guide/indexing.html#returning-a-view-versus-a-copy\n",
      "  home_results['diffFromAvg'][i] = home_results['positionOrder'][i]-driverAvgFinish[home_results['driverId'][i]]\n"
     ]
    }
   ],
   "source": [
    "demonyms = pd.read_csv('demonyms.csv', header = None)\n",
    "demonyms.columns = ['nationality','country']\n",
    "print(demonyms.tail())\n",
    "\n",
    "driver_country = d[['driverId','nationality']].merge(demonyms,on='nationality',how='left')\n",
    "driver_circuit_country = raceresults[['resultId','driverId','circuitId']].merge(driver_country[['driverId','country']],\n",
    "                                            on='driverId', how='left').merge(circuits[['circuitId','country']],\n",
    "                                                    on='circuitId',suffixes=(\"_driver\",\"_circuit\")).set_index('resultId')\n",
    "driver_circuit_country['home'] = driver_circuit_country['country_driver']==driver_circuit_country['country_circuit']\n",
    "\n",
    "driverAvgFinish = raceresults.groupby('driverId')['positionOrder'].mean()\n",
    "home_results = raceresults.copy()\n",
    "home_results['diffFromAvg'] = 0\n",
    "for i in range(len(raceresults)):\n",
    "    home_results['diffFromAvg'][i] = home_results['positionOrder'][i]-driverAvgFinish[home_results['driverId'][i]]\n",
    "    \n",
    "home_results = home_results.merge(driver_circuit_country[['home']], left_on = 'resultId', right_index = True)\n",
    "# sns.histplot(x = 'diffFromAvg', data = home_results, hue = 'home', stat = 'density', common_norm = False, binwidth=3)\n",
    "\n",
    "df_features = df_features.merge(driver_circuit_country[['home']], how='left', left_index=True, right_index=True) ##########"
   ]
  },
  {
   "cell_type": "markdown",
   "id": "5a0bdd71-7516-4835-b167-23475ed7bfab",
   "metadata": {},
   "source": [
    "The level of experience a driver has can affect their performance. Age and number of race-starts are two potential indicators."
   ]
  },
  {
   "cell_type": "code",
   "execution_count": 69,
   "id": "3c28cb77-31c3-47f6-9870-494b420784ec",
   "metadata": {},
   "outputs": [],
   "source": [
    "dob = pd.to_datetime(df.merge(d, how='left', on='driverId')['dob'])\n",
    "df['age'] = pd.to_datetime(df['year'],format='%Y')-dob\n",
    "\n",
    "df_features = df_features.merge(df[['resultId','age']].set_index('resultId'), how='left', left_index=True, right_index=True)\n",
    "df_features['age'] = df_features['age'].dt.days\n",
    "\n",
    "df.drop('age',axis=1,inplace=True)"
   ]
  },
  {
   "cell_type": "code",
   "execution_count": 70,
   "id": "57d9f44d-bccb-4422-829f-c7872deb79c5",
   "metadata": {},
   "outputs": [],
   "source": [
    "driver_racestarts = pd.DataFrame(raceresults_untruncated['resultId'])\n",
    "driver_racestarts['racestarts']=raceresults_untruncated.groupby('driverId')['resultId'].transform(lambda x: range(len(x)))\n",
    "\n",
    "df_features = df_features.merge(driver_racestarts.set_index('resultId'), how='left', left_index=True, right_index=True)"
   ]
  },
  {
   "cell_type": "markdown",
   "id": "9aaa023c-7538-4892-92e3-d30cc49e2ea1",
   "metadata": {},
   "source": [
    "Other potential factors include: Weather, Spotify Activity, News, Marital status, Street race.\n",
    "\n",
    "Weather could be implemented with reliable sources of historical data and forecast.\n",
    "Spotify Activity may reveal a driver's mental status (anxiety, excitement, etc.) before a race. It is however not easily accessible.\n",
    "Using NLP to interpret news articles opens doors for event-based strategies."
   ]
  },
  {
   "cell_type": "markdown",
   "id": "a9d9d484-ba94-4a2a-ab6e-da278f90becc",
   "metadata": {},
   "source": [
    "### 3.5 Feature Selection"
   ]
  },
  {
   "cell_type": "code",
   "execution_count": 71,
   "id": "d4cb7b56-2d5c-47f0-abbb-25d0b5413dae",
   "metadata": {},
   "outputs": [],
   "source": [
    "X_train, X_val_and_test, y_train, y_val_and_test = train_test_split(df_features.iloc[:,3:], df_features.iloc[:,0],\n",
    "                                                                    test_size = VALIDATION_FRAC+TEST_FRAC, random_state = 42)\n",
    "X_val, X_test, y_val, y_test = train_test_split(X_val_and_test, y_val_and_test,\n",
    "                                                test_size = TEST_FRAC/(TEST_FRAC+VALIDATION_FRAC), random_state = 42)\n",
    "\n",
    "features = list(df_features.columns[3:])"
   ]
  },
  {
   "cell_type": "code",
   "execution_count": 72,
   "id": "0bf5288a-e899-4a38-9823-cef395897085",
   "metadata": {},
   "outputs": [
    {
     "name": "stdout",
     "output_type": "stream",
     "text": [
      "Added feature: prev_standing\n",
      "Added feature: avg_curr_c\n",
      "Added feature: top3pct_prev_d\n",
      "Added feature: top10stand\n",
      "Added feature: avg_prev_d\n",
      "Added feature: top3stand\n",
      "Added feature: prev_1race\n"
     ]
    }
   ],
   "source": [
    "# Logistic is used here because it doesn't get stuck in a local minimum as easily\n",
    "test_model = LogisticRegression()\n",
    "\n",
    "selected = []\n",
    "unselected = features.copy()\n",
    "\n",
    "benchmark = 0\n",
    "\n",
    "while unselected:\n",
    "    feature_to_add = \"\"\n",
    "    for feature in unselected:\n",
    "        # print(\"Testing:\", feature)\n",
    "        test_model.fit(X_train[selected+[feature]],y_train)\n",
    "        score = roc_auc_score(y_val, test_model.predict_proba(X_val[selected+[feature]])[:,1])\n",
    "        if score > benchmark:\n",
    "            benchmark = score\n",
    "            feature_to_add = feature\n",
    "\n",
    "    if feature_to_add != \"\":\n",
    "        selected.append(feature_to_add)\n",
    "        unselected.remove(feature_to_add)\n",
    "        print(\"Added feature:\", feature_to_add)\n",
    "    else:\n",
    "        break"
   ]
  },
  {
   "cell_type": "code",
   "execution_count": 73,
   "id": "0fe5880f-1628-4e13-9063-6583d6557fb7",
   "metadata": {},
   "outputs": [
    {
     "data": {
      "text/plain": [
       "0.8805933332237005"
      ]
     },
     "execution_count": 73,
     "metadata": {},
     "output_type": "execute_result"
    }
   ],
   "source": [
    "test_model.fit(X_train[selected], y_train)\n",
    "roc_auc_score(y_test, test_model.predict_proba(X_test[selected])[:,1])"
   ]
  },
  {
   "cell_type": "code",
   "execution_count": 74,
   "id": "1787ea85-916e-4b21-98b6-761a7632aa5b",
   "metadata": {},
   "outputs": [],
   "source": [
    "# # Dropping features\n",
    "# test_model = LogisticRegression()\n",
    "\n",
    "# test_model.fit(X_train, y_train)\n",
    "# benchmark = roc_auc_score(y_test, test_model.predict_proba(X_test)[:,1])\n",
    "\n",
    "# feature_to_drop = \"\"\n",
    "# while len(features) > 1:\n",
    "#     for feature in features:\n",
    "#         # print(\"Testing:\", feature)\n",
    "#         test_model.fit(X_train.drop(feature,axis=1),y_train)\n",
    "#         score = roc_auc_score(y_val, test_model.predict_proba(X_val.drop(feature,axis=1))[:,1])\n",
    "#         if score > benchmark:\n",
    "#             benchmark = score\n",
    "#             feature_to_drop = feature\n",
    "    \n",
    "#     if feature_to_drop != \"\":\n",
    "#         features.remove(feature_to_drop)\n",
    "#         X_train.drop(feature_to_drop, axis=1, inplace=True)\n",
    "#         X_val.drop(feature_to_drop, axis=1, inplace=True)\n",
    "#         X_test.drop(feature_to_drop, axis=1, inplace=True)\n",
    "#         print(\"Dropped feature: \", feature_to_drop)\n",
    "#         feature_to_drop = \"\"\n",
    "#     else:\n",
    "#         break"
   ]
  },
  {
   "cell_type": "code",
   "execution_count": 75,
   "id": "9da52518-b5fa-453f-9c29-067d81f0acbd",
   "metadata": {},
   "outputs": [],
   "source": [
    "# Colinearity\n",
    "from statsmodels.stats.outliers_influence import variance_inflation_factor\n",
    "def calculate_vif(X):\n",
    "    vif_data = pd.DataFrame()\n",
    "    vif_data[\"Feature\"] = X.columns\n",
    "    vif_data[\"VIF\"] = [variance_inflation_factor(X.values.astype('float'), i) for i in range(X.shape[1])]\n",
    "    return vif_data"
   ]
  },
  {
   "cell_type": "code",
   "execution_count": 76,
   "id": "b81ed027-253a-4a1c-983d-e3aa149f146d",
   "metadata": {},
   "outputs": [
    {
     "data": {
      "text/html": [
       "<div>\n",
       "<style scoped>\n",
       "    .dataframe tbody tr th:only-of-type {\n",
       "        vertical-align: middle;\n",
       "    }\n",
       "\n",
       "    .dataframe tbody tr th {\n",
       "        vertical-align: top;\n",
       "    }\n",
       "\n",
       "    .dataframe thead th {\n",
       "        text-align: right;\n",
       "    }\n",
       "</style>\n",
       "<table border=\"1\" class=\"dataframe\">\n",
       "  <thead>\n",
       "    <tr style=\"text-align: right;\">\n",
       "      <th></th>\n",
       "      <th>Feature</th>\n",
       "      <th>VIF</th>\n",
       "    </tr>\n",
       "  </thead>\n",
       "  <tbody>\n",
       "    <tr>\n",
       "      <th>0</th>\n",
       "      <td>prev_standing</td>\n",
       "      <td>20.986032</td>\n",
       "    </tr>\n",
       "    <tr>\n",
       "      <th>1</th>\n",
       "      <td>avg_curr_c</td>\n",
       "      <td>33.811686</td>\n",
       "    </tr>\n",
       "    <tr>\n",
       "      <th>2</th>\n",
       "      <td>top3pct_prev_d</td>\n",
       "      <td>2.366107</td>\n",
       "    </tr>\n",
       "    <tr>\n",
       "      <th>3</th>\n",
       "      <td>top10stand</td>\n",
       "      <td>1.458177</td>\n",
       "    </tr>\n",
       "    <tr>\n",
       "      <th>4</th>\n",
       "      <td>avg_prev_d</td>\n",
       "      <td>14.476855</td>\n",
       "    </tr>\n",
       "    <tr>\n",
       "      <th>5</th>\n",
       "      <td>top3stand</td>\n",
       "      <td>2.338195</td>\n",
       "    </tr>\n",
       "    <tr>\n",
       "      <th>6</th>\n",
       "      <td>prev_1race</td>\n",
       "      <td>6.564400</td>\n",
       "    </tr>\n",
       "  </tbody>\n",
       "</table>\n",
       "</div>"
      ],
      "text/plain": [
       "          Feature        VIF\n",
       "0   prev_standing  20.986032\n",
       "1      avg_curr_c  33.811686\n",
       "2  top3pct_prev_d   2.366107\n",
       "3      top10stand   1.458177\n",
       "4      avg_prev_d  14.476855\n",
       "5       top3stand   2.338195\n",
       "6      prev_1race   6.564400"
      ]
     },
     "execution_count": 76,
     "metadata": {},
     "output_type": "execute_result"
    }
   ],
   "source": [
    "calculate_vif(X_train[selected])"
   ]
  },
  {
   "cell_type": "markdown",
   "id": "344b84e0",
   "metadata": {},
   "source": [
    "## 4. Backtesting"
   ]
  },
  {
   "cell_type": "markdown",
   "id": "93710560",
   "metadata": {},
   "source": [
    "This section develops a betting strategy based on the probabilities predicted by the model. Data up to 2022 are used for training, and 2023-2024 data are for backtesting."
   ]
  },
  {
   "cell_type": "code",
   "execution_count": 77,
   "id": "2379ab3a",
   "metadata": {},
   "outputs": [],
   "source": [
    "# podium_model = RandomForestClassifier()\n",
    "podium_model = LogisticRegression()"
   ]
  },
  {
   "cell_type": "markdown",
   "id": "4fc69dd0-58c5-4d2f-b976-896f762c241e",
   "metadata": {},
   "source": [
    "### 4.1 Sportsbook Data"
   ]
  },
  {
   "cell_type": "code",
   "execution_count": 78,
   "id": "dc5a3608",
   "metadata": {},
   "outputs": [],
   "source": [
    "def american_to_prob(american_odds):\n",
    "    sign = american_odds < 0\n",
    "    mask = -sign * 2 + 1 # 1 for positive, -1 for negative\n",
    "    return 100 / (american_odds * mask + 100) * mask + sign\n",
    "\n",
    "sb = pd.read_csv('sportsbook_data/fanduel.csv')\n",
    "sb['Breakeven_Prob'] = [american_to_prob(v) for v in sb['Value']]\n",
    "sb['Juiceless_Prob']=sb.groupby(['Time','Item'])['Breakeven_Prob'].transform(lambda x: 3*x/x.sum())"
   ]
  },
  {
   "cell_type": "markdown",
   "id": "d0a05726",
   "metadata": {},
   "source": [
    "sportsbook_data/ contains odds data crawled from sportsbook websites. However, the crawler is not robust or efficient (only 2 or 3 races take place each month) enough to support the backtesting. It is therefore only used as a validation of the formula1.com odds."
   ]
  },
  {
   "cell_type": "code",
   "execution_count": 79,
   "id": "25291e10",
   "metadata": {},
   "outputs": [
    {
     "data": {
      "text/html": [
       "<div>\n",
       "<style scoped>\n",
       "    .dataframe tbody tr th:only-of-type {\n",
       "        vertical-align: middle;\n",
       "    }\n",
       "\n",
       "    .dataframe tbody tr th {\n",
       "        vertical-align: top;\n",
       "    }\n",
       "\n",
       "    .dataframe thead th {\n",
       "        text-align: right;\n",
       "    }\n",
       "</style>\n",
       "<table border=\"1\" class=\"dataframe\">\n",
       "  <thead>\n",
       "    <tr style=\"text-align: right;\">\n",
       "      <th></th>\n",
       "      <th>Race</th>\n",
       "      <th>Item</th>\n",
       "      <th>Time</th>\n",
       "      <th>Driver</th>\n",
       "      <th>Value</th>\n",
       "      <th>Breakeven_Prob</th>\n",
       "      <th>Juiceless_Prob</th>\n",
       "    </tr>\n",
       "  </thead>\n",
       "  <tbody>\n",
       "    <tr>\n",
       "      <th>75</th>\n",
       "      <td>Japanese Grand Prix</td>\n",
       "      <td>podium finish</td>\n",
       "      <td>2024-04-01 05:55:27.466780</td>\n",
       "      <td>Max Verstappen</td>\n",
       "      <td>-650.0</td>\n",
       "      <td>0.866667</td>\n",
       "      <td>0.728960</td>\n",
       "    </tr>\n",
       "    <tr>\n",
       "      <th>76</th>\n",
       "      <td>Japanese Grand Prix</td>\n",
       "      <td>podium finish</td>\n",
       "      <td>2024-04-01 05:55:27.466780</td>\n",
       "      <td>Sergio Perez</td>\n",
       "      <td>-160.0</td>\n",
       "      <td>0.615385</td>\n",
       "      <td>0.517604</td>\n",
       "    </tr>\n",
       "    <tr>\n",
       "      <th>77</th>\n",
       "      <td>Japanese Grand Prix</td>\n",
       "      <td>podium finish</td>\n",
       "      <td>2024-04-01 05:55:27.466780</td>\n",
       "      <td>Charles Leclerc</td>\n",
       "      <td>-130.0</td>\n",
       "      <td>0.565217</td>\n",
       "      <td>0.475408</td>\n",
       "    </tr>\n",
       "    <tr>\n",
       "      <th>78</th>\n",
       "      <td>Japanese Grand Prix</td>\n",
       "      <td>podium finish</td>\n",
       "      <td>2024-04-01 05:55:27.466780</td>\n",
       "      <td>Carlos Sainz</td>\n",
       "      <td>-130.0</td>\n",
       "      <td>0.565217</td>\n",
       "      <td>0.475408</td>\n",
       "    </tr>\n",
       "    <tr>\n",
       "      <th>79</th>\n",
       "      <td>Japanese Grand Prix</td>\n",
       "      <td>podium finish</td>\n",
       "      <td>2024-04-01 05:55:27.466780</td>\n",
       "      <td>Lando Norris</td>\n",
       "      <td>230.0</td>\n",
       "      <td>0.303030</td>\n",
       "      <td>0.254881</td>\n",
       "    </tr>\n",
       "  </tbody>\n",
       "</table>\n",
       "</div>"
      ],
      "text/plain": [
       "                   Race           Item                        Time  \\\n",
       "75  Japanese Grand Prix  podium finish  2024-04-01 05:55:27.466780   \n",
       "76  Japanese Grand Prix  podium finish  2024-04-01 05:55:27.466780   \n",
       "77  Japanese Grand Prix  podium finish  2024-04-01 05:55:27.466780   \n",
       "78  Japanese Grand Prix  podium finish  2024-04-01 05:55:27.466780   \n",
       "79  Japanese Grand Prix  podium finish  2024-04-01 05:55:27.466780   \n",
       "\n",
       "             Driver  Value  Breakeven_Prob  Juiceless_Prob  \n",
       "75   Max Verstappen -650.0        0.866667        0.728960  \n",
       "76     Sergio Perez -160.0        0.615385        0.517604  \n",
       "77  Charles Leclerc -130.0        0.565217        0.475408  \n",
       "78     Carlos Sainz -130.0        0.565217        0.475408  \n",
       "79     Lando Norris  230.0        0.303030        0.254881  "
      ]
     },
     "execution_count": 79,
     "metadata": {},
     "output_type": "execute_result"
    }
   ],
   "source": [
    "sb[(sb['Race']=='Japanese Grand Prix') & (sb['Item']=='podium finish')].head()"
   ]
  },
  {
   "cell_type": "code",
   "execution_count": 80,
   "id": "5aa9a23b",
   "metadata": {},
   "outputs": [
    {
     "name": "stdout",
     "output_type": "stream",
     "text": [
      "        race           driver  podium_finish_odds  year  round\n",
      "0    Bahrain   Max Verstappen                1.25  2023      1\n",
      "1    Bahrain  Charles Leclerc                1.65  2023      1\n",
      "2    Bahrain     Sergio Perez                1.65  2023      1\n",
      "3    Bahrain     Carlos Sainz                2.50  2023      1\n",
      "4    Bahrain   Lewis Hamilton                2.80  2023      1\n",
      "..       ...              ...                 ...   ...    ...\n",
      "275  Belgium     Esteban Ocon              251.00  2024     14\n",
      "276  Belgium   Logan Sargeant              251.00  2024     14\n",
      "277  Belgium     Pierre Gasly              251.00  2024     14\n",
      "278  Belgium  Valtteri Bottas              251.00  2024     14\n",
      "279  Belgium      Zhou Guanyu              251.00  2024     14\n",
      "\n",
      "[719 rows x 5 columns]\n"
     ]
    }
   ],
   "source": [
    "odds_2024 = pd.read_csv('f1_2024_season_odds.csv')\n",
    "odds_2024['year'] = 2024\n",
    "odds_2023 = pd.read_csv('f1_2023_season_odds.csv')\n",
    "odds_2023['year'] = 2023\n",
    "odds = pd.concat((odds_2023, odds_2024))\n",
    "odds['round'] = odds.groupby('year')['race'].transform(lambda x: pd.factorize(x)[0]+1)"
   ]
  },
  {
   "cell_type": "code",
   "execution_count": 81,
   "id": "0f1b2ac7",
   "metadata": {},
   "outputs": [],
   "source": [
    "odds['breakeven_prob'] = 1/odds['podium_finish_odds']\n",
    "odds['juiceless_prob'] = odds.groupby(['year', 'round'])['breakeven_prob'].transform(lambda x:3*x/x.sum()) # There are 3 podium spots"
   ]
  },
  {
   "cell_type": "code",
   "execution_count": 82,
   "id": "8ecfe8b9",
   "metadata": {},
   "outputs": [],
   "source": [
    "# Ensure the correct format for name matching\n",
    "odds['driver'].replace({'Zhou Guanyu': 'Guanyu Zhou', 'Sergio Perez': 'Sergio Pérez'}, inplace=True)"
   ]
  },
  {
   "cell_type": "code",
   "execution_count": 83,
   "id": "16993a2e",
   "metadata": {},
   "outputs": [],
   "source": [
    "d['driver'] = d['forename'] + ' ' + d['surname']\n",
    "odds = odds.merge(d[['driver', 'driverId']],\n",
    "                  on='driver', how='left').merge(raceresults,\n",
    "                                     on=['year','round','driverId']).set_index('resultId')[odds.columns]"
   ]
  },
  {
   "cell_type": "code",
   "execution_count": 84,
   "id": "6edcc1f9",
   "metadata": {},
   "outputs": [
    {
     "data": {
      "text/html": [
       "<div>\n",
       "<style scoped>\n",
       "    .dataframe tbody tr th:only-of-type {\n",
       "        vertical-align: middle;\n",
       "    }\n",
       "\n",
       "    .dataframe tbody tr th {\n",
       "        vertical-align: top;\n",
       "    }\n",
       "\n",
       "    .dataframe thead th {\n",
       "        text-align: right;\n",
       "    }\n",
       "</style>\n",
       "<table border=\"1\" class=\"dataframe\">\n",
       "  <thead>\n",
       "    <tr style=\"text-align: right;\">\n",
       "      <th></th>\n",
       "      <th>race</th>\n",
       "      <th>driver</th>\n",
       "      <th>podium_finish_odds</th>\n",
       "      <th>year</th>\n",
       "      <th>round</th>\n",
       "      <th>breakeven_prob</th>\n",
       "      <th>juiceless_prob</th>\n",
       "    </tr>\n",
       "    <tr>\n",
       "      <th>resultId</th>\n",
       "      <th></th>\n",
       "      <th></th>\n",
       "      <th></th>\n",
       "      <th></th>\n",
       "      <th></th>\n",
       "      <th></th>\n",
       "      <th></th>\n",
       "    </tr>\n",
       "  </thead>\n",
       "  <tbody>\n",
       "    <tr>\n",
       "      <th>25846</th>\n",
       "      <td>Bahrain</td>\n",
       "      <td>Max Verstappen</td>\n",
       "      <td>1.25</td>\n",
       "      <td>2023</td>\n",
       "      <td>1</td>\n",
       "      <td>0.800000</td>\n",
       "      <td>0.675858</td>\n",
       "    </tr>\n",
       "    <tr>\n",
       "      <th>25864</th>\n",
       "      <td>Bahrain</td>\n",
       "      <td>Charles Leclerc</td>\n",
       "      <td>1.65</td>\n",
       "      <td>2023</td>\n",
       "      <td>1</td>\n",
       "      <td>0.606061</td>\n",
       "      <td>0.512013</td>\n",
       "    </tr>\n",
       "    <tr>\n",
       "      <th>25847</th>\n",
       "      <td>Bahrain</td>\n",
       "      <td>Sergio Pérez</td>\n",
       "      <td>1.65</td>\n",
       "      <td>2023</td>\n",
       "      <td>1</td>\n",
       "      <td>0.606061</td>\n",
       "      <td>0.512013</td>\n",
       "    </tr>\n",
       "    <tr>\n",
       "      <th>25849</th>\n",
       "      <td>Bahrain</td>\n",
       "      <td>Carlos Sainz</td>\n",
       "      <td>2.50</td>\n",
       "      <td>2023</td>\n",
       "      <td>1</td>\n",
       "      <td>0.400000</td>\n",
       "      <td>0.337929</td>\n",
       "    </tr>\n",
       "    <tr>\n",
       "      <th>25850</th>\n",
       "      <td>Bahrain</td>\n",
       "      <td>Lewis Hamilton</td>\n",
       "      <td>2.80</td>\n",
       "      <td>2023</td>\n",
       "      <td>1</td>\n",
       "      <td>0.357143</td>\n",
       "      <td>0.301722</td>\n",
       "    </tr>\n",
       "  </tbody>\n",
       "</table>\n",
       "</div>"
      ],
      "text/plain": [
       "             race           driver  podium_finish_odds  year  round  \\\n",
       "resultId                                                              \n",
       "25846     Bahrain   Max Verstappen                1.25  2023      1   \n",
       "25864     Bahrain  Charles Leclerc                1.65  2023      1   \n",
       "25847     Bahrain     Sergio Pérez                1.65  2023      1   \n",
       "25849     Bahrain     Carlos Sainz                2.50  2023      1   \n",
       "25850     Bahrain   Lewis Hamilton                2.80  2023      1   \n",
       "\n",
       "          breakeven_prob  juiceless_prob  \n",
       "resultId                                  \n",
       "25846           0.800000        0.675858  \n",
       "25864           0.606061        0.512013  \n",
       "25847           0.606061        0.512013  \n",
       "25849           0.400000        0.337929  \n",
       "25850           0.357143        0.301722  "
      ]
     },
     "execution_count": 84,
     "metadata": {},
     "output_type": "execute_result"
    }
   ],
   "source": [
    "odds.head(5)"
   ]
  },
  {
   "cell_type": "markdown",
   "id": "24007b3e",
   "metadata": {},
   "source": [
    "### 4.2 Betting with the Kelly Criterion"
   ]
  },
  {
   "cell_type": "markdown",
   "id": "c556a7c9",
   "metadata": {},
   "source": [
    "It is clear, from winter testing results, that only the teams of Red Bull, Mercedes, Ferrari, and McLaren have the potential to fight for podium. Hence, we may manually restrict our bets to the following drivers to limit model risk.\n",
    "\n",
    "Note that it is possible for drivers outside this list to win a podium, but it is probably due to rare accidents/weather that is beyond the capability of the model in the first place.\n",
    "\n",
    "McLaren driver Oscar Piastri is omitted from this list because he joins F1 in 2023, while the training dataset is up to 2022."
   ]
  },
  {
   "cell_type": "code",
   "execution_count": 85,
   "id": "4cd7271f",
   "metadata": {},
   "outputs": [],
   "source": [
    "betting_subset = ['Max Verstappen', 'Sergio Pérez', 'Lewis Hamilton', 'George Russell',\n",
    "                  'Charles Leclerc', 'Carlos Sainz', 'Lando Norris']"
   ]
  },
  {
   "cell_type": "code",
   "execution_count": 86,
   "id": "d2ca13e3",
   "metadata": {},
   "outputs": [],
   "source": [
    "odds = odds[odds['driver'].isin(betting_subset)]"
   ]
  },
  {
   "cell_type": "code",
   "execution_count": 87,
   "id": "7a2a8db6",
   "metadata": {},
   "outputs": [],
   "source": [
    "betting_id_subset = [d[d['driver']==driver_name].iloc[0]['driverId'] for driver_name in betting_subset]"
   ]
  },
  {
   "cell_type": "code",
   "execution_count": 88,
   "id": "b8a02306",
   "metadata": {},
   "outputs": [],
   "source": [
    "betting_resultId_subset = raceresults['resultId'][(raceresults['driverId'].isin(betting_id_subset))]"
   ]
  },
  {
   "cell_type": "code",
   "execution_count": 89,
   "id": "f5777ea4",
   "metadata": {},
   "outputs": [],
   "source": [
    "df_bet = df_final[df_final.index.isin(betting_resultId_subset)]"
   ]
  },
  {
   "cell_type": "code",
   "execution_count": 90,
   "id": "ad135f86",
   "metadata": {},
   "outputs": [],
   "source": [
    "backtest_indices = df_bet.index.intersection(odds.index)\n",
    "train_indices = df_bet.index.difference(odds.index)\n",
    "df_bet_train = df_bet.loc[train_indices]\n",
    "df_bet_backtest = df_bet.loc[backtest_indices]"
   ]
  },
  {
   "cell_type": "code",
   "execution_count": 91,
   "id": "d492d07d",
   "metadata": {},
   "outputs": [
    {
     "data": {
      "text/plain": [
       "LogisticRegression()"
      ]
     },
     "execution_count": 91,
     "metadata": {},
     "output_type": "execute_result"
    }
   ],
   "source": [
    "podium_model.fit(df_bet_train.iloc[:,3:], df_bet_train['top3'])"
   ]
  },
  {
   "cell_type": "markdown",
   "id": "8535c971",
   "metadata": {},
   "source": [
    "I multiply the predicted probability by a coefficient named BUFFER. Hence, the model only places a bet when its predicted probability is considerably higher than the breakeven probability.\n",
    "\n",
    "The rationale of the coefficient is two-fold:\n",
    "\n",
    "1. Drivers other than the 7 listed could secure a podium spot. The predicted probabilities are overestimated when normalized to unity.\n",
    "2. There are effects unaccounted by the model. The variance of the return is high. Setting a buffer limits the maximum drawdown to protect the model from significant losses."
   ]
  },
  {
   "cell_type": "code",
   "execution_count": 232,
   "id": "15e6cb3d",
   "metadata": {},
   "outputs": [],
   "source": [
    "BUFFER = 0.9"
   ]
  },
  {
   "cell_type": "markdown",
   "id": "48d8f0b0",
   "metadata": {},
   "source": [
    "The probability prediction should not solely rely on the model prediction but also the odds, according to Bayesian probability. I hereby assign a weight to the model prediction."
   ]
  },
  {
   "cell_type": "code",
   "execution_count": 236,
   "id": "b17a1d99",
   "metadata": {},
   "outputs": [],
   "source": [
    "model_weight = 0.4"
   ]
  },
  {
   "cell_type": "markdown",
   "id": "5db8a4bd",
   "metadata": {},
   "source": [
    "I use the Kelly Criterion for the optimal bet size:"
   ]
  },
  {
   "cell_type": "code",
   "execution_count": 234,
   "id": "b19dc44a",
   "metadata": {},
   "outputs": [
    {
     "name": "stdout",
     "output_type": "stream",
     "text": [
      "0.977\n",
      "1.058\n",
      "1.048\n",
      "1.039\n",
      "1.004\n",
      "1.105\n",
      "1.100\n",
      "1.106\n",
      "1.106\n",
      "1.083\n",
      "1.076\n",
      "1.050\n",
      "1.156\n",
      "1.243\n",
      "1.228\n",
      "1.166\n",
      "1.186\n",
      "1.196\n",
      "1.149\n",
      "1.173\n",
      "1.164\n",
      "1.166\n",
      "1.166\n",
      "1.166\n",
      "4.847\n",
      "14.634\n",
      "14.618\n",
      "14.238\n",
      "33.997\n",
      "32.278\n"
     ]
    }
   ],
   "source": [
    "bets = odds.loc[backtest_indices]\n",
    "bets['model_predict_prob'] = podium_model.predict_proba(df_bet_backtest.iloc[:,3:])[:,1]\n",
    "bets['normalized_predict_prob'] = 0\n",
    "bets['adjusted_predict_prob'] = 0\n",
    "bets['bet_relative_size'] = 0\n",
    "bets['outcome'] = df_bet_backtest['top3']\n",
    "bets['bet_size'] = 0\n",
    "bets['PnL'] = 0\n",
    "bets['pct_PnL'] = 0\n",
    "bankroll = 1\n",
    "for raceround, round_df in bets.groupby(['year','round']):\n",
    "    # Normalize to unity. There is a coefficient of 3 because there are 3 spots on the podium.\n",
    "    round_df['normalized_predict_prob'] = 3*round_df['model_predict_prob']/round_df['model_predict_prob'].sum()\n",
    "    # Adjust probability prediction\n",
    "    round_df['adjusted_predict_prob'] = BUFFER * round_df['normalized_predict_prob'] * model_weight \\\n",
    "                                        + (1-model_weight) * round_df['juiceless_prob']\n",
    "    # Kelly Criterion\n",
    "    kelly_betsize = np.maximum(round_df['adjusted_predict_prob'] -\n",
    "                               (1-round_df['adjusted_predict_prob'])/(round_df['podium_finish_odds']-1), 0)\n",
    "    round_df['bet_relative_size'] = kelly_betsize / 3\n",
    "    round_df['bet_size'] = round_df['bet_relative_size']*bankroll\n",
    "    round_df['PnL'] = round_df['bet_size']*(round_df['outcome']*round_df['podium_finish_odds']-1)\n",
    "    round_df['pct_PnL'] = round_df['PnL'] / bankroll\n",
    "    bankroll += round_df['PnL'].sum()\n",
    "    bets.loc[round_df.index] = round_df\n",
    "    print(f'{bankroll:.3f}')"
   ]
  },
  {
   "cell_type": "code",
   "execution_count": 240,
   "id": "d02a20b3",
   "metadata": {},
   "outputs": [
    {
     "name": "stdout",
     "output_type": "stream",
     "text": [
      "0.3135358076416262\n"
     ]
    }
   ],
   "source": [
    "pct_returns = bets.groupby(['year','round'])['pct_PnL'].sum()\n",
    "sharpe = pct_returns.mean()/pct_returns.std()\n",
    "print(sharpe)"
   ]
  },
  {
   "cell_type": "markdown",
   "id": "118fced0",
   "metadata": {},
   "source": [
    "The model can ocassionally achieve large returns. The Sharpe ratio penalizes upward and downward volatility equally, while the Sortino ratio only accounts for the downward risk."
   ]
  },
  {
   "cell_type": "code",
   "execution_count": 245,
   "id": "e9441c53",
   "metadata": {},
   "outputs": [
    {
     "data": {
      "text/plain": [
       "11.889297550885807"
      ]
     },
     "execution_count": 245,
     "metadata": {},
     "output_type": "execute_result"
    }
   ],
   "source": [
    "downside_deviation = np.sqrt(np.mean(np.square(np.minimum(0, pct_returns))))\n",
    "sortino = pct_returns.mean() / downside_deviation\n",
    "sortino"
   ]
  },
  {
   "cell_type": "markdown",
   "id": "9bc51770",
   "metadata": {},
   "source": [
    "The probabilities predicted by the model and implied by the odds are only moderately correlated. But the model and sports books achieve similar level of accuracy in terms of the ROC-AUC score. This explains why using a Bayesian model and averaging the implied probability and the model-predicted probability enhances the performance of the model."
   ]
  },
  {
   "cell_type": "code",
   "execution_count": 204,
   "id": "2d1cee58",
   "metadata": {},
   "outputs": [
    {
     "data": {
      "text/html": [
       "<div>\n",
       "<style scoped>\n",
       "    .dataframe tbody tr th:only-of-type {\n",
       "        vertical-align: middle;\n",
       "    }\n",
       "\n",
       "    .dataframe tbody tr th {\n",
       "        vertical-align: top;\n",
       "    }\n",
       "\n",
       "    .dataframe thead th {\n",
       "        text-align: right;\n",
       "    }\n",
       "</style>\n",
       "<table border=\"1\" class=\"dataframe\">\n",
       "  <thead>\n",
       "    <tr style=\"text-align: right;\">\n",
       "      <th></th>\n",
       "      <th>buffered_predict_prob</th>\n",
       "      <th>juiceless_prob</th>\n",
       "    </tr>\n",
       "  </thead>\n",
       "  <tbody>\n",
       "    <tr>\n",
       "      <th>buffered_predict_prob</th>\n",
       "      <td>1.000000</td>\n",
       "      <td>0.688737</td>\n",
       "    </tr>\n",
       "    <tr>\n",
       "      <th>juiceless_prob</th>\n",
       "      <td>0.688737</td>\n",
       "      <td>1.000000</td>\n",
       "    </tr>\n",
       "  </tbody>\n",
       "</table>\n",
       "</div>"
      ],
      "text/plain": [
       "                       buffered_predict_prob  juiceless_prob\n",
       "buffered_predict_prob               1.000000        0.688737\n",
       "juiceless_prob                      0.688737        1.000000"
      ]
     },
     "execution_count": 204,
     "metadata": {},
     "output_type": "execute_result"
    }
   ],
   "source": [
    "bets[['normalized_predict_prob','juiceless_prob']].corr()"
   ]
  },
  {
   "cell_type": "code",
   "execution_count": 111,
   "id": "c67e7fa7",
   "metadata": {},
   "outputs": [
    {
     "data": {
      "image/png": "[encoded data removed]",
      "text/plain": [
       "<Figure size 360x360 with 1 Axes>"
      ]
     },
     "metadata": {
      "needs_background": "light"
     },
     "output_type": "display_data"
    }
   ],
   "source": [
    "plt.figure(figsize=(5,5))\n",
    "\n",
    "fpr, tpr, thresholds = roc_curve(bets['outcome'], bets['normalized_predict_prob'])\n",
    "roc_auc = auc(fpr, tpr)\n",
    "plt.plot(fpr, tpr, label=f'model (area = {roc_auc:.2f})')\n",
    "\n",
    "fpr, tpr, thresholds = roc_curve(bets['outcome'], bets['juiceless_prob'])\n",
    "roc_auc = auc(fpr, tpr)\n",
    "plt.plot(fpr, tpr, label=f'sportsbook (area = {roc_auc:.2f})')\n",
    "\n",
    "plt.legend()\n",
    "\n",
    "plt.show()"
   ]
  },
  {
   "cell_type": "markdown",
   "id": "e67f8222",
   "metadata": {},
   "source": [
    "### 4.3 Further Investigations"
   ]
  },
  {
   "cell_type": "markdown",
   "id": "fe2798cd",
   "metadata": {},
   "source": [
    "The outcomes may be correlated. For example, a driver being on the podium may indicate that their team have a particularly strong car in the race, increasing the chance of his teammate being on the podium and decreasing the chance of other drivers."
   ]
  },
  {
   "cell_type": "code",
   "execution_count": 197,
   "id": "16a3a185",
   "metadata": {},
   "outputs": [
    {
     "data": {
      "text/html": [
       "<div>\n",
       "<style scoped>\n",
       "    .dataframe tbody tr th:only-of-type {\n",
       "        vertical-align: middle;\n",
       "    }\n",
       "\n",
       "    .dataframe tbody tr th {\n",
       "        vertical-align: top;\n",
       "    }\n",
       "\n",
       "    .dataframe thead th {\n",
       "        text-align: right;\n",
       "    }\n",
       "</style>\n",
       "<table border=\"1\" class=\"dataframe\">\n",
       "  <thead>\n",
       "    <tr style=\"text-align: right;\">\n",
       "      <th></th>\n",
       "      <th></th>\n",
       "      <th>830.0</th>\n",
       "      <th>815.0</th>\n",
       "      <th>1.0</th>\n",
       "      <th>847.0</th>\n",
       "      <th>844.0</th>\n",
       "      <th>832.0</th>\n",
       "      <th>846.0</th>\n",
       "    </tr>\n",
       "    <tr>\n",
       "      <th>year</th>\n",
       "      <th>round</th>\n",
       "      <th></th>\n",
       "      <th></th>\n",
       "      <th></th>\n",
       "      <th></th>\n",
       "      <th></th>\n",
       "      <th></th>\n",
       "      <th></th>\n",
       "    </tr>\n",
       "  </thead>\n",
       "  <tbody>\n",
       "    <tr>\n",
       "      <th rowspan=\"5\" valign=\"top\">2022</th>\n",
       "      <th>18</th>\n",
       "      <td>1.0</td>\n",
       "      <td>1.0</td>\n",
       "      <td>0</td>\n",
       "      <td>0.0</td>\n",
       "      <td>1.0</td>\n",
       "      <td>0.0</td>\n",
       "      <td>0.0</td>\n",
       "    </tr>\n",
       "    <tr>\n",
       "      <th>19</th>\n",
       "      <td>1.0</td>\n",
       "      <td>0.0</td>\n",
       "      <td>1</td>\n",
       "      <td>0.0</td>\n",
       "      <td>1.0</td>\n",
       "      <td>0.0</td>\n",
       "      <td>0.0</td>\n",
       "    </tr>\n",
       "    <tr>\n",
       "      <th>20</th>\n",
       "      <td>1.0</td>\n",
       "      <td>1.0</td>\n",
       "      <td>1</td>\n",
       "      <td>0.0</td>\n",
       "      <td>0.0</td>\n",
       "      <td>0.0</td>\n",
       "      <td>0.0</td>\n",
       "    </tr>\n",
       "    <tr>\n",
       "      <th>21</th>\n",
       "      <td>0.0</td>\n",
       "      <td>0.0</td>\n",
       "      <td>1</td>\n",
       "      <td>1.0</td>\n",
       "      <td>0.0</td>\n",
       "      <td>1.0</td>\n",
       "      <td>0.0</td>\n",
       "    </tr>\n",
       "    <tr>\n",
       "      <th>22</th>\n",
       "      <td>1.0</td>\n",
       "      <td>1.0</td>\n",
       "      <td>0</td>\n",
       "      <td>0.0</td>\n",
       "      <td>1.0</td>\n",
       "      <td>0.0</td>\n",
       "      <td>0.0</td>\n",
       "    </tr>\n",
       "  </tbody>\n",
       "</table>\n",
       "</div>"
      ],
      "text/plain": [
       "            830.0  815.0  1.0    847.0  844.0  832.0  846.0\n",
       "year round                                                 \n",
       "2022 18       1.0    1.0      0    0.0    1.0    0.0    0.0\n",
       "     19       1.0    0.0      1    0.0    1.0    0.0    0.0\n",
       "     20       1.0    1.0      1    0.0    0.0    0.0    0.0\n",
       "     21       0.0    0.0      1    1.0    0.0    1.0    0.0\n",
       "     22       1.0    1.0      0    0.0    1.0    0.0    0.0"
      ]
     },
     "execution_count": 197,
     "metadata": {},
     "output_type": "execute_result"
    }
   ],
   "source": [
    "# Outcome by driver\n",
    "podium_result_grouped = df[df['driverId'].isin(betting_id_subset)\n",
    "                           & df['resultId'].isin(train_indices)][['year','round','driverId','top3']].set_index(\n",
    "                            ['year','round']).groupby('driverId')\n",
    "podium_by_driver = pd.DataFrame()\n",
    "for driver_id, sub_df in podium_result_grouped:\n",
    "    podium_by_driver[driver_id] = sub_df['top3']\n",
    "podium_by_driver = podium_by_driver[betting_id_subset]\n",
    "podium_by_driver.tail(5)"
   ]
  },
  {
   "cell_type": "markdown",
   "id": "85cb20cc",
   "metadata": {},
   "source": [
    "The columns in the DataFrame is in the same order as the drivers' names: ['Max Verstappen', 'Sergio Pérez', 'Lewis Hamilton', 'George Russell', 'Charles Leclerc', 'Carlos Sainz', 'Lando Norris']. The correlation matrix shown below is not well-explained by the aforementioned rationale."
   ]
  },
  {
   "cell_type": "code",
   "execution_count": 198,
   "id": "3b0c4c8b",
   "metadata": {},
   "outputs": [
    {
     "data": {
      "text/html": [
       "<div>\n",
       "<style scoped>\n",
       "    .dataframe tbody tr th:only-of-type {\n",
       "        vertical-align: middle;\n",
       "    }\n",
       "\n",
       "    .dataframe tbody tr th {\n",
       "        vertical-align: top;\n",
       "    }\n",
       "\n",
       "    .dataframe thead th {\n",
       "        text-align: right;\n",
       "    }\n",
       "</style>\n",
       "<table border=\"1\" class=\"dataframe\">\n",
       "  <thead>\n",
       "    <tr style=\"text-align: right;\">\n",
       "      <th></th>\n",
       "      <th>830.0</th>\n",
       "      <th>815.0</th>\n",
       "      <th>1.0</th>\n",
       "      <th>847.0</th>\n",
       "      <th>844.0</th>\n",
       "      <th>832.0</th>\n",
       "      <th>846.0</th>\n",
       "    </tr>\n",
       "  </thead>\n",
       "  <tbody>\n",
       "    <tr>\n",
       "      <th>830.0</th>\n",
       "      <td>1.000000</td>\n",
       "      <td>0.027789</td>\n",
       "      <td>-0.100300</td>\n",
       "      <td>-0.012423</td>\n",
       "      <td>-0.195065</td>\n",
       "      <td>0.062246</td>\n",
       "      <td>0.008006</td>\n",
       "    </tr>\n",
       "    <tr>\n",
       "      <th>815.0</th>\n",
       "      <td>0.027789</td>\n",
       "      <td>1.000000</td>\n",
       "      <td>-0.114055</td>\n",
       "      <td>0.023204</td>\n",
       "      <td>0.059017</td>\n",
       "      <td>0.124751</td>\n",
       "      <td>-0.074651</td>\n",
       "    </tr>\n",
       "    <tr>\n",
       "      <th>1.0</th>\n",
       "      <td>-0.100300</td>\n",
       "      <td>-0.114055</td>\n",
       "      <td>1.000000</td>\n",
       "      <td>-0.204124</td>\n",
       "      <td>-0.215353</td>\n",
       "      <td>-0.220458</td>\n",
       "      <td>-0.306970</td>\n",
       "    </tr>\n",
       "    <tr>\n",
       "      <th>847.0</th>\n",
       "      <td>-0.012423</td>\n",
       "      <td>0.023204</td>\n",
       "      <td>-0.204124</td>\n",
       "      <td>1.000000</td>\n",
       "      <td>0.130437</td>\n",
       "      <td>-0.120701</td>\n",
       "      <td>-0.134272</td>\n",
       "    </tr>\n",
       "    <tr>\n",
       "      <th>844.0</th>\n",
       "      <td>-0.195065</td>\n",
       "      <td>0.059017</td>\n",
       "      <td>-0.215353</td>\n",
       "      <td>0.130437</td>\n",
       "      <td>1.000000</td>\n",
       "      <td>-0.074536</td>\n",
       "      <td>-0.160128</td>\n",
       "    </tr>\n",
       "    <tr>\n",
       "      <th>832.0</th>\n",
       "      <td>0.062246</td>\n",
       "      <td>0.124751</td>\n",
       "      <td>-0.220458</td>\n",
       "      <td>-0.120701</td>\n",
       "      <td>-0.074536</td>\n",
       "      <td>1.000000</td>\n",
       "      <td>-0.020745</td>\n",
       "    </tr>\n",
       "    <tr>\n",
       "      <th>846.0</th>\n",
       "      <td>0.008006</td>\n",
       "      <td>-0.074651</td>\n",
       "      <td>-0.306970</td>\n",
       "      <td>-0.134272</td>\n",
       "      <td>-0.160128</td>\n",
       "      <td>-0.020745</td>\n",
       "      <td>1.000000</td>\n",
       "    </tr>\n",
       "  </tbody>\n",
       "</table>\n",
       "</div>"
      ],
      "text/plain": [
       "          830.0     815.0     1.0       847.0     844.0     832.0     846.0\n",
       "830.0  1.000000  0.027789 -0.100300 -0.012423 -0.195065  0.062246  0.008006\n",
       "815.0  0.027789  1.000000 -0.114055  0.023204  0.059017  0.124751 -0.074651\n",
       "1.0   -0.100300 -0.114055  1.000000 -0.204124 -0.215353 -0.220458 -0.306970\n",
       "847.0 -0.012423  0.023204 -0.204124  1.000000  0.130437 -0.120701 -0.134272\n",
       "844.0 -0.195065  0.059017 -0.215353  0.130437  1.000000 -0.074536 -0.160128\n",
       "832.0  0.062246  0.124751 -0.220458 -0.120701 -0.074536  1.000000 -0.020745\n",
       "846.0  0.008006 -0.074651 -0.306970 -0.134272 -0.160128 -0.020745  1.000000"
      ]
     },
     "execution_count": 198,
     "metadata": {},
     "output_type": "execute_result"
    }
   ],
   "source": [
    "# Correlation\n",
    "corr_mat = podium_by_driver.corr()\n",
    "corr_mat"
   ]
  },
  {
   "cell_type": "markdown",
   "id": "5b36d70c",
   "metadata": {},
   "source": [
    "Construct an maximization problem with log utility minus variance penalty as the target function to optimize the portfolio. This model does not take into consideration the uncertainty of prediction--to do so, use a Beta (or another) distribution to model the underlying probability. However, it has little effect on the model because it simply penalizes every portfolio combination by (almost) the same amount, unless we have an effective way of estimating the coefficients of the Beta distribution."
   ]
  },
  {
   "cell_type": "code",
   "execution_count": 199,
   "id": "453d9691",
   "metadata": {},
   "outputs": [],
   "source": [
    "from scipy.optimize import minimize\n",
    "def optimize_log_utility(p, odds, correlation_matrix, variance_penalty=0.25):\n",
    "\n",
    "    # p: (adjusted) model-predicted probabilities; 1D np array\n",
    "    # odds: corresponding odds; 1D np array\n",
    "    # correlation matrix: 2D np array\n",
    "\n",
    "    # Define expected return function\n",
    "    def expected_return(b):\n",
    "        return np.sum(b * (p * (odds - 1) - (1 - p)))\n",
    "\n",
    "    # Define variance of return function\n",
    "    def portfolio_variance(b):\n",
    "        variances = p * (odds - 1)**2 + (1 - p)\n",
    "        covariance_matrix = np.outer(variances, variances) * correlation_matrix\n",
    "        return b @ covariance_matrix @ b\n",
    "\n",
    "    # Define objective function\n",
    "    def neg_log_utility(b):\n",
    "        return -np.log(1+expected_return(b)) + variance_penalty * np.sqrt(portfolio_variance(b))\n",
    "\n",
    "    # Constraints: sum of bets < total budget, and bets are non-negative\n",
    "    constraints = ({'type': 'ineq', 'fun': lambda b: 1-np.sum(b)})  # Total budget = 1 (normalized)\n",
    "    bounds = [(0, 1) for _ in range(len(p))]  # No short selling, no negative bets\n",
    "\n",
    "    # Initial guess for the optimization\n",
    "    initial_bets = np.ones(len(p)) * 0.005\n",
    "\n",
    "    # Run the optimization\n",
    "    result = minimize(neg_log_utility, initial_bets, constraints=constraints, bounds=bounds)\n",
    "\n",
    "    # Optimal bet sizes\n",
    "    optimal_bets = result.x\n",
    "    # optimal_sharpe_ratio = -result.fun\n",
    "    \n",
    "    return [weight if weight > 0.005 else 0 for weight in optimal_bets]"
   ]
  },
  {
   "cell_type": "code",
   "execution_count": 200,
   "id": "9316dfe0",
   "metadata": {},
   "outputs": [
    {
     "name": "stdout",
     "output_type": "stream",
     "text": [
      "1.000\n",
      "1.000\n",
      "1.000\n",
      "1.000\n",
      "1.000\n",
      "1.000\n",
      "1.000\n",
      "1.122\n",
      "1.122\n",
      "1.122\n",
      "1.122\n",
      "1.122\n",
      "1.122\n",
      "1.122\n",
      "1.122\n",
      "1.122\n",
      "1.122\n",
      "1.122\n",
      "1.122\n",
      "1.122\n",
      "1.122\n",
      "1.122\n",
      "1.122\n",
      "1.122\n",
      "1.122\n"
     ]
    },
    {
     "name": "stderr",
     "output_type": "stream",
     "text": [
      "/var/folders/kr/cnpgsh614gv1nqx54q95w2y00000gn/T/ipykernel_39671/2120918230.py:4: UserWarning: Possible missing Data for (year, round): (2024, 2). Skipping the round.\n",
      "  warnings.warn(f'Possible missing Data for (year, round): {raceround}. Skipping the round.')\n"
     ]
    },
    {
     "name": "stdout",
     "output_type": "stream",
     "text": [
      "1.122\n",
      "1.122\n",
      "1.122\n",
      "1.662\n",
      "1.566\n"
     ]
    }
   ],
   "source": [
    "bankroll = 1\n",
    "for raceround, sub_df in bets.groupby(['year','round']):\n",
    "    if len(sub_df) < len(betting_subset):\n",
    "        warnings.warn(f'Possible missing Data for (year, round): {raceround}. Skipping the round.')\n",
    "        sub_df['bet_relative_size'] = 0\n",
    "    else:\n",
    "        sub_df['driver_order'] = pd.Categorical(sub_df['driver'], categories=betting_subset, ordered=True)\n",
    "        sub_df_sorted = sub_df.sort_values('driver_order')\n",
    "        sub_df_sorted['bet_relative_size'] = optimize_log_utility(sub_df_sorted['adjusted_predict_prob'].values,\n",
    "                                                               sub_df_sorted['podium_finish_odds'], corr_mat)\n",
    "    sub_df_sorted['bet_size'] = sub_df_sorted['bet_relative_size']*bankroll\n",
    "    sub_df_sorted['PnL'] = sub_df_sorted['bet_size']*(sub_df_sorted['outcome']*sub_df_sorted['podium_finish_odds']-1)\n",
    "    sub_df_sorted['pct_PnL'] = sub_df_sorted['PnL'] / bankroll\n",
    "    bankroll += sub_df_sorted['PnL'].sum()\n",
    "    bets.loc[sub_df_sorted.index] = sub_df_sorted\n",
    "    print(f'{bankroll:.3f}')"
   ]
  },
  {
   "cell_type": "code",
   "execution_count": 201,
   "id": "8c5d065a",
   "metadata": {},
   "outputs": [
    {
     "name": "stdout",
     "output_type": "stream",
     "text": [
      "0.21296816735538052\n"
     ]
    }
   ],
   "source": [
    "pct_returns = bets.groupby(['year','round'])['pct_PnL'].sum()\n",
    "sharpe = pct_returns.mean()/pct_returns.std()\n",
    "print(sharpe)"
   ]
  },
  {
   "cell_type": "markdown",
   "id": "8639bc7e",
   "metadata": {},
   "source": [
    "## Comments"
   ]
  },
  {
   "cell_type": "markdown",
   "id": "920cd572",
   "metadata": {},
   "source": [
    "This notebook demonstrates a strategy to bet on F1 podium finish. The performance of the model is mainly limited by the number of alpha factors and the availability of historical odds data. As a type of generalized linear models, the logistic model also may not be effective with some non-linear predictors.\n",
    "\n",
    "The result of a race is an ordinal outcome. Directly predicting the marginal probability of each driver's podium finish may not fully capture the dependency between outcomes, even with the correlation matrix. Using an ordinal logistic regression (only if the proportional odds assumption holds), pairwise comparisons, or a \"skill-level\" rank may be some alternatives."
   ]
  },
  {
   "cell_type": "code",
   "execution_count": 120,
   "id": "ba4ddf41",
   "metadata": {},
   "outputs": [],
   "source": []
  },
  {
   "cell_type": "code",
   "execution_count": null,
   "id": "c2aceea2",
   "metadata": {},
   "outputs": [],
   "source": []
  }
 ],
 "metadata": {
  "kernelspec": {
   "display_name": "Python 3 (ipykernel)",
   "language": "python",
   "name": "python3"
  },
  "language_info": {
   "codemirror_mode": {
    "name": "ipython",
    "version": 3
   },
   "file_extension": ".py",
   "mimetype": "text/x-python",
   "name": "python",
   "nbconvert_exporter": "python",
   "pygments_lexer": "ipython3",
   "version": "3.9.12"
  }
 },
 "nbformat": 4,
 "nbformat_minor": 5
}
