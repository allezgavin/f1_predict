{
 "cells": [
  {
   "cell_type": "code",
   "execution_count": 1,
   "id": "5845b880",
   "metadata": {},
   "outputs": [
    {
     "name": "stdout",
     "output_type": "stream",
     "text": [
      "Intel MKL WARNING: Support of Intel(R) Streaming SIMD Extensions 4.2 (Intel(R) SSE4.2) enabled only processors has been deprecated. Intel oneAPI Math Kernel Library 2025.0 will require Intel(R) Advanced Vector Extensions (Intel(R) AVX) instructions.\n",
      "Intel MKL WARNING: Support of Intel(R) Streaming SIMD Extensions 4.2 (Intel(R) SSE4.2) enabled only processors has been deprecated. Intel oneAPI Math Kernel Library 2025.0 will require Intel(R) Advanced Vector Extensions (Intel(R) AVX) instructions.\n"
     ]
    }
   ],
   "source": [
    "import csv\n",
    "import numpy as np\n",
    "import pandas as pd\n",
    "import datetime"
   ]
  },
  {
   "cell_type": "code",
   "execution_count": 2,
   "id": "aeda3f12",
   "metadata": {},
   "outputs": [],
   "source": [
    "MINIMUM_UPDATE_INTERVAL = datetime.timedelta(days=1)\n",
    "src = 'sportsbook_data/fanduel.csv'"
   ]
  },
  {
   "cell_type": "code",
   "execution_count": 3,
   "id": "803fbcc6",
   "metadata": {},
   "outputs": [],
   "source": [
    "from seleniumwire import webdriver\n",
    "from selenium.webdriver.chrome.service import Service\n",
    "from selenium.webdriver.common.by import By\n",
    "from selenium.webdriver.common.keys import Keys\n",
    "from selenium.common.exceptions import NoSuchElementException\n",
    "from time import sleep"
   ]
  },
  {
   "cell_type": "code",
   "execution_count": 4,
   "id": "c8cfe369",
   "metadata": {},
   "outputs": [],
   "source": [
    "import json\n",
    "with open('config.json', 'r') as file:\n",
    "    proxy_options = json.load(file)['proxy']"
   ]
  },
  {
   "cell_type": "code",
   "execution_count": 5,
   "id": "e708794a",
   "metadata": {},
   "outputs": [],
   "source": [
    "def read_last_line(file_path):\n",
    "    with open(file_path, mode='r') as file:\n",
    "        # Using a CSV reader to read the file\n",
    "        reader = csv.reader(file)\n",
    "        # Convert reader to list and return the last row\n",
    "        lines = list(reader)\n",
    "        return lines[-1]"
   ]
  },
  {
   "cell_type": "code",
   "execution_count": 6,
   "id": "a5d076f4",
   "metadata": {},
   "outputs": [],
   "source": [
    "def calculate_elapsed_time(last_update_time):\n",
    "    # Assuming last_update_time is a string in ISO 8601 format\n",
    "    last_update_datetime = datetime.datetime.fromisoformat(last_update_time)\n",
    "    current_datetime = datetime.datetime.now()\n",
    "    elapsed_time = current_datetime - last_update_datetime\n",
    "    return elapsed_time"
   ]
  },
  {
   "cell_type": "code",
   "execution_count": 7,
   "id": "e26b3d03",
   "metadata": {},
   "outputs": [],
   "source": [
    "def starts_with_any(string, substrings):\n",
    "    for substring in substrings:\n",
    "        if string.startswith(substring):\n",
    "            return True\n",
    "    return False"
   ]
  },
  {
   "cell_type": "code",
   "execution_count": 8,
   "id": "9437904a",
   "metadata": {},
   "outputs": [],
   "source": [
    "def update1_src(sel_driver, file_path, url = 'https://sportsbook.fanduel.com/motorsport?tab=formula-1'):\n",
    "    sel_driver.get(url)\n",
    "    sel_driver.implicitly_wait(10)\n",
    "\n",
    "    show_more_buttons = sel_driver.find_elements('xpath', '//div[@aria-label=\"Show more\"]')\n",
    "    for button in show_more_buttons:\n",
    "        button.click()\n",
    "\n",
    "# Grand Prix-specific outright betting may not be available immediately. Hence we relax the condition a bit.\n",
    "#     tab = sel_driver.find_element('xpath',\n",
    "#                               '//ul[contains(., \" Grand Prix\") and contains(., \"F1 Outrights\")][not(.//ul)]')\n",
    "    tab = sel_driver.find_element('xpath',\n",
    "                              '//ul[contains(., \"F1 Outrights\")][not(.//ul)]')\n",
    "    \n",
    "    rates_text = tab.text.split('\\n')\n",
    "    #print(rates_text)\n",
    "    \n",
    "    with open(file_path, mode='a', newline='') as file:\n",
    "        writer = csv.writer(file)\n",
    "        time = pd.Timestamp.now()\n",
    "        race = rates_text[0]\n",
    "        i = 0\n",
    "        \n",
    "        if rates_text[1] == 'Outright Betting':\n",
    "            i += 2\n",
    "            while (i < len(rates_text)) and not rates_text[i+1].startswith('Show'):\n",
    "                driver = rates_text[i]\n",
    "                value = rates_text[i+1]\n",
    "                try:\n",
    "                    value = float(value)\n",
    "                except Exception as e:\n",
    "                    print(\"Invalid value:\\n\", value)\n",
    "                    break\n",
    "                new_row = [race, 'win', time, driver, value]\n",
    "                writer.writerow(new_row)\n",
    "                i += 2\n",
    "                \n",
    "            print(\"Fanduel outright betting data updated successfully.\")\n",
    "            i += 2\n",
    "        \n",
    "        if rates_text[i] == 'F1 Outrights':\n",
    "            outright_items = ['F1 Drivers Championship','F1 Constructors Championship', 'Betting Without']\n",
    "            item = ''\n",
    "            i += 1\n",
    "            while (i < len(rates_text)) and not rates_text[i].startswith('Overall H2H'):\n",
    "                if rates_text[i+1].startswith('Show'):\n",
    "                    i += 2\n",
    "                    continue\n",
    "                if starts_with_any(rates_text[i], outright_items):\n",
    "                    item = rates_text[i]\n",
    "                    i += 1\n",
    "                    continue\n",
    "                driver = rates_text[i]\n",
    "                value = rates_text[i+1]\n",
    "                try:\n",
    "                    value = float(value)\n",
    "                except Exception as e:\n",
    "                    print(\"Invalid value:\\n\", value)\n",
    "                    break\n",
    "                new_row = [race, item, time, driver, value]\n",
    "                writer.writerow(new_row)\n",
    "                i += 2\n",
    "                \n",
    "            print(\"Fanduel season-long data updated successfully.\")\n",
    "                \n",
    "        if rates_text[i].startswith('Overall H2H'):\n",
    "            while (i+5 < len(rates_text)):\n",
    "                item = rates_text[i]\n",
    "                \n",
    "                driver = rates_text[i+2]\n",
    "                value = rates_text[i+3]\n",
    "                try:\n",
    "                    value = float(value)\n",
    "                except Exception as e:\n",
    "                    print(\"Invalid value:\\n\", value)\n",
    "                    break\n",
    "                new_row = [race, item, time, driver, value]\n",
    "                writer.writerow(new_row)\n",
    "                \n",
    "                driver = rates_text[i+4]\n",
    "                value = rates_text[i+5]\n",
    "                try:\n",
    "                    value = float(value)\n",
    "                except Exception as e:\n",
    "                    print(\"Invalid value:\\n\", value)\n",
    "                    break\n",
    "                new_row = [race, item, time, driver, value]\n",
    "                writer.writerow(new_row)\n",
    "                \n",
    "                i += 7\n",
    "    \n",
    "            print('Fanduel H2H data updated successfully.')"
   ]
  },
  {
   "cell_type": "code",
   "execution_count": 9,
   "id": "75999dff",
   "metadata": {},
   "outputs": [],
   "source": [
    "# This may not be available immediately after the last Grand Prix finishes\n",
    "def update2_src(sel_driver, file_path, url = 'https://sportsbook.fanduel.com/motorsport?tab=f1-race-props'):\n",
    "    try:\n",
    "        sel_driver.get(url)\n",
    "        sel_driver.implicitly_wait(10) # Wait for dynamically loaded content\n",
    "        sel_driver.find_element('xpath', '//div[@aria-label=\"Show more\"]').click()\n",
    "        tab = sel_driver.find_element('xpath',\n",
    "                                  '//ul[contains(., \" Grand Prix\") and contains(., \"Podium Finish\")][not(.//ul)]')\n",
    "        podium_texts = tab.text.split('\\n')\n",
    "        race = podium_texts[0]\n",
    "        podium_texts = podium_texts[2:-2]\n",
    "\n",
    "    except NoSuchElementException as n:\n",
    "        print('Cannot find the element. Error message as below:\\n', n)\n",
    "\n",
    "    except Exception as e:\n",
    "        print(\"An error occurred:\\n\", e)\n",
    "        \n",
    "    with open(file_path, mode='a', newline='') as file:\n",
    "        writer = csv.writer(file)\n",
    "        time = pd.Timestamp.now()\n",
    "        \n",
    "        for i in range(len(podium_texts)//2):\n",
    "            driver = podium_texts[2*i]\n",
    "            value = podium_texts[2*i+1]\n",
    "            try:\n",
    "                value = float(value)\n",
    "            except Exception as e:\n",
    "                print(\"Invalid value:\\n\", value)\n",
    "                break\n",
    "            new_row = [race, 'podium finish', time, driver, value]\n",
    "            writer.writerow(new_row)\n",
    "\n",
    "    print(\"Fanduel podium finish data updated successfully.\")\n",
    "    # pd.read_csv(src).tail()"
   ]
  },
  {
   "cell_type": "code",
   "execution_count": 10,
   "id": "707c2cef",
   "metadata": {},
   "outputs": [],
   "source": [
    "def update_src_all(file_path):\n",
    "    # We use sel_driver instead of the usual nomenclature driver to avoid conflict with racing driver\n",
    "    sel_driver = webdriver.Chrome(seleniumwire_options={'proxy': proxy_options})\n",
    "    \n",
    "    # Must use the same driver, or the \"options\" dictionary would be mutated and reset.\n",
    "    update1_src(sel_driver, file_path)\n",
    "    update2_src(sel_driver, file_path)\n",
    "    \n",
    "    sel_driver.quit()"
   ]
  },
  {
   "cell_type": "code",
   "execution_count": null,
   "id": "fc95854e",
   "metadata": {},
   "outputs": [],
   "source": [
    "test_mode = False\n",
    "\n",
    "if test_mode:\n",
    "    src = 'sportsbook_data/fanduel_test.csv'\n",
    "    update_src_all(src) # forced update\n",
    "\n",
    "else:\n",
    "    last_line = read_last_line(src)\n",
    "    last_update_time = last_line[2]\n",
    "    elapsed_time = calculate_elapsed_time(last_update_time)\n",
    "\n",
    "    if elapsed_time >= MINIMUM_UPDATE_INTERVAL:\n",
    "        update_src_all(src)\n",
    "\n",
    "    else:\n",
    "        print(\"No need to update the CSV files.\")"
   ]
  },
  {
   "cell_type": "markdown",
   "id": "2c047ede",
   "metadata": {},
   "source": [
    "Run this in the command line to compile the .py file for task scheduling\n",
    "\n",
    "jupyter nbconvert --to script proxy_scraper.ipynb"
   ]
  },
  {
   "cell_type": "code",
   "execution_count": null,
   "id": "cb7002c0",
   "metadata": {},
   "outputs": [],
   "source": []
  }
 ],
 "metadata": {
  "kernelspec": {
   "display_name": "Python 3 (ipykernel)",
   "language": "python",
   "name": "python3"
  },
  "language_info": {
   "codemirror_mode": {
    "name": "ipython",
    "version": 3
   },
   "file_extension": ".py",
   "mimetype": "text/x-python",
   "name": "python",
   "nbconvert_exporter": "python",
   "pygments_lexer": "ipython3",
   "version": "3.12.4"
  }
 },
 "nbformat": 4,
 "nbformat_minor": 5
}
