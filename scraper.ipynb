{
 "cells": [
  {
   "cell_type": "code",
   "execution_count": 4,
   "id": "e269931e",
   "metadata": {},
   "outputs": [],
   "source": [
    "import requests\n",
    "from bs4 import BeautifulSoup\n",
    "import random"
   ]
  },
  {
   "cell_type": "code",
   "execution_count": 5,
   "id": "584321c0",
   "metadata": {},
   "outputs": [],
   "source": [
    "url = 'https://sportsbook.fanduel.com/motorsport?tab=f1-race-props'"
   ]
  },
  {
   "cell_type": "code",
   "execution_count": 6,
   "id": "6912b738",
   "metadata": {},
   "outputs": [],
   "source": [
    "user_agents = [\n",
    "    \"Mozilla/5.0 (Windows NT 10.0; Win64; x64) AppleWebKit/537.36 (KHTML, like Gecko) Chrome/58.0.3029.110 Safari/537.3\",\n",
    "    \"Mozilla/5.0 (Windows NT 6.1; Win64; x64) AppleWebKit/537.36 (KHTML, like Gecko) Chrome/58.0.3029.110 Safari/537.3\",\n",
    "    \"Mozilla/5.0 (Macintosh; Intel Mac OS X 10_12_6) AppleWebKit/537.36 (KHTML, like Gecko) Chrome/58.0.3029.110 Safari/537.3\",\n",
    "    # Add more user agents as needed\n",
    "]"
   ]
  },
  {
   "cell_type": "code",
   "execution_count": 14,
   "id": "472ba832",
   "metadata": {},
   "outputs": [
    {
     "data": {
      "text/plain": [
       "0         Lewis Hamilton\n",
       "1          Nick Heidfeld\n",
       "2           Nico Rosberg\n",
       "3        Fernando Alonso\n",
       "4      Heikki Kovalainen\n",
       "             ...        \n",
       "852      Mick Schumacher\n",
       "853          Guanyu Zhou\n",
       "854        Nyck de Vries\n",
       "855        Oscar Piastri\n",
       "856       Logan Sargeant\n",
       "Length: 857, dtype: object"
      ]
     },
     "execution_count": 14,
     "metadata": {},
     "output_type": "execute_result"
    }
   ],
   "source": [
    "import numpy as np\n",
    "import pandas as pd\n",
    "d = pd.read_csv('data/drivers.csv')\n",
    "drivers = d['forename'] + ' ' + d['surname']\n",
    "drivers.head()"
   ]
  },
  {
   "cell_type": "code",
   "execution_count": 7,
   "id": "ab040703",
   "metadata": {},
   "outputs": [
    {
     "data": {
      "text/plain": [
       "{'User-Agent': 'Mozilla/5.0 (Windows NT 6.1; Win64; x64) AppleWebKit/537.36 (KHTML, like Gecko) Chrome/58.0.3029.110 Safari/537.3'}"
      ]
     },
     "execution_count": 7,
     "metadata": {},
     "output_type": "execute_result"
    }
   ],
   "source": [
    "HEADERS = {'User-Agent': random.choice(user_agents)}\n",
    "HEADERS"
   ]
  },
  {
   "cell_type": "code",
   "execution_count": 9,
   "id": "66aee745",
   "metadata": {},
   "outputs": [
    {
     "name": "stdout",
     "output_type": "stream",
     "text": [
      "200\n"
     ]
    }
   ],
   "source": [
    "response = requests.get(url, headers = HEADERS)\n",
    "print(response.status_code)"
   ]
  },
  {
   "cell_type": "code",
   "execution_count": 41,
   "id": "952cd68c",
   "metadata": {},
   "outputs": [],
   "source": [
    "soup = BeautifulSoup(response.text, 'html.parser')"
   ]
  },
  {
   "cell_type": "code",
   "execution_count": 42,
   "id": "2ab38c09",
   "metadata": {},
   "outputs": [
    {
     "data": {
      "text/plain": [
       "[<noscript>You need to enable JavaScript to run this app.</noscript>,\n",
       " <noscript><iframe height=\"0\" src=\"https://www.googletagmanager.com/ns.html?id=GTM-557C6Q2\" style=\"display:none;visibility:hidden\" width=\"0\"></iframe></noscript>]"
      ]
     },
     "execution_count": 42,
     "metadata": {},
     "output_type": "execute_result"
    }
   ],
   "source": [
    "soup.find_all('noscript', recursive = True)"
   ]
  },
  {
   "cell_type": "code",
   "execution_count": 44,
   "id": "dd62026c",
   "metadata": {},
   "outputs": [
    {
     "data": {
      "text/plain": [
       "[<div id=\"root\"></div>]"
      ]
     },
     "execution_count": 44,
     "metadata": {},
     "output_type": "execute_result"
    }
   ],
   "source": [
    "root_div = soup.find_all('div', {'id': 'root'}, recursive = True)\n",
    "root_div"
   ]
  },
  {
   "cell_type": "code",
   "execution_count": 45,
   "id": "362f1cc5",
   "metadata": {},
   "outputs": [
    {
     "data": {
      "text/plain": [
       "<!DOCTYPE html>\n",
       "<html lang=\"en\"><head><meta charset=\"utf-8\"/><meta content=\"width=device-width,initial-scale=1,shrink-to-fit=no\" name=\"viewport\"/><title>FanDuel Sportsbook</title><link href=\"https://sportsbook.fanduel.com/favicon.ico\" rel=\"shortcut icon\"/><link crossorigin=\"anonymous\" href=\"https://cdnjs.cloudflare.com/ajax/libs/normalize/8.0.1/normalize.min.css\" integrity=\"sha512-NhSC1YmyruXifcj/KFRWoC561YpHpc5Jtzgvbuzx5VozKpWvQ+4nXhPdFgmx8xqexRcpAglTj9sIBWINXa8x5w==\" referrerpolicy=\"no-referrer\" rel=\"stylesheet\"/><link href=\"/assets/css/reset-2022-12-07.css\" rel=\"stylesheet\"/><meta content=\"#000000\" name=\"theme-color\"/><script>document.cookie=\"SB_GTM_VERSION=2\",window.dataLayer=window.dataLayer||[],window.dataLayer.push({\"gtm.start\":(new Date).getTime(),event:\"gtm.js\"}),window.startTimestamp=Date.now();var FD={CONFIG: {\"clientId\":\"77328380f75f1a9f52341f6c44c6fba6\",\"statusEndPoint\":\"https:\\u002F\\u002Fstatus.fanduel.com\",\"cookieDomain\":\"sportsbook.fanduel.com\",\"fdCookieDomain\":\"fanduel.com\",\"apiKey\":\"FhMFpcPWXMeyZxOx\",\"maintenanceHost\":\"https:\\u002F\\u002Fmaintenance.sportsbook.fanduel.com\",\"cppApi\":\"https:\\u002F\\u002Fpromos-api.sportsbook.fanduel.com\\u002Fapi\\u002FcustomisedPromotions\",\"fdxApi\":\"https:\\u002F\\u002Ffdx-api.sportsbook.fanduel.com\\u002Fapi\",\"singleStateAccountWeb\":\"https:\\u002F\\u002Faccount.sportsbook.fanduel.com\",\"runtimeEnv\":\"PROD\",\"cppHost\":\"https:\\u002F\\u002Fpromos.sportsbook.fanduel.com\",\"geoComplyInstallerKeys\":\"{\\\"VA\\\":\\\"0KrNT071rs\\\", \\\"AZ\\\":\\\"6gC8D2wLu3\\\", \\\"CO\\\":\\\"kTckb3DKdW\\\", \\\"IA\\\":\\\"CQkUdpqlm8\\\", \\\"IL\\\":\\\"QTgEoU9hdH\\\", \\\"IN\\\":\\\"auqpwHvjQZ\\\", \\\"MI\\\":\\\"Ac9QBOKYRs\\\", \\\"NJ\\\":\\\"48ESpoB5JF\\\", \\\"PA\\\":\\\"Pe1pU0EUPZ\\\", \\\"TN\\\":\\\"VrJDi6rpzk\\\", \\\"WV\\\":\\\"izB796DMwa\\\", \\\"CT\\\":\\\"cLDKygPBEI\\\", \\\"WY\\\":\\\"C4aiOxJgNl\\\", \\\"LA\\\":\\\"lQtpovTB5t\\\", \\\"NY\\\":\\\"veN4y0FUEZ\\\", \\\"MR\\\":\\\"lEU7w30f7t\\\", \\\"KS\\\":\\\"2V9N8bMJ2i\\\", \\\"OH\\\":\\\"XH0TZe5YnU\\\", \\\"MD\\\":\\\"ipcfyiX3aS\\\", \\\"PR\\\":\\\"Hh9abmFt7m\\\", \\\"MA\\\":\\\"3LggmN7wCi\\\", \\\"FD\\\":\\\"bAKV25BFf2\\\", \\\"KY\\\":\\\"DFTL4HyMod\\\", \\\"VT\\\":\\\"hEHYpJ7Wa2\\\", \\\"NC\\\":\\\"UJ4kILmK9h\\\", \\\"ON\\\":\\\"kO3vggju7R\\\"}\",\"brazeApiKey\":\"de97bfbd-f043-4228-8cf1-4e42e6947527\",\"perimeterXAppId\":\"JMCVuBG8\",\"sentryEnvironment\":\"production\",\"siftBeaconKey\":\"d07cf1ead4\",\"stateFeatureFlags\":\"{\\\"ENABLE_SIFT\\\":{\\\"allStatesEnabled\\\":false, \\\"states\\\":[\\\"AZ\\\", \\\"CO\\\", \\\"CT\\\", \\\"IL\\\", \\\"IN\\\", \\\"IA\\\", \\\"KS\\\", \\\"KY\\\", \\\"LA\\\", \\\"MD\\\", \\\"MA\\\", \\\"MI\\\", \\\"MR\\\", \\\"NC\\\", \\\"NJ\\\", \\\"NY\\\", \\\"OH\\\", \\\"PA\\\", \\\"TN\\\", \\\"VA\\\", \\\"VT\\\", \\\"WV\\\", \\\"WY\\\"]}, \\\"ENABLE_AMPLITUDE_EXP_WEB\\\":{\\\"allStatesEnabled\\\":true, \\\"states\\\":[]}, \\\"BEAR_ENABLE_AW_GEOCOMPLY_SDK_WEB\\\":{\\\"allStatesEnabled\\\":true, \\\"states\\\":[]}, \\\"ENABLE_SEASON_DATA_HOOK\\\":{\\\"allStatesEnabled\\\":true, \\\"states\\\":[]}, \\\"ENABLE_CASINO_QUICK_LAUNCH_EXPERIENCE\\\":{\\\"allStatesEnabled\\\":false, \\\"states\\\":[]}, \\\"BEARS_ENABLE_SESSION_ID_GEOLOCATION_GUARD\\\":{\\\"allStatesEnabled\\\":false, \\\"states\\\":[\\\"MR\\\", \\\"WV\\\", \\\"WY\\\"]}, \\\"BEARS_END_GEOLOCATION_SESSION_ON_LOGOUT\\\":{\\\"allStatesEnabled\\\":false, \\\"states\\\":[\\\"MR\\\", \\\"WV\\\", \\\"WY\\\"]}, \\\"BEARS_END_GEOLOCATION_SESSION_ON_DELETE_SESSION\\\":{\\\"allStatesEnabled\\\":false, \\\"states\\\":[\\\"MR\\\", \\\"WV\\\", \\\"WY\\\"]}, \\\"BEARS_SHOW_GEOLOCATION_DIALOG_ON_CONFIG_SET_FAILURE\\\":{\\\"allStatesEnabled\\\":false, \\\"states\\\":[\\\"MR\\\", \\\"WV\\\", \\\"WY\\\"]}, \\\"BEARS_ENABLE_PROFIT_BOOST_PARLAYS_1_73\\\":{\\\"allStatesEnabled\\\":true, \\\"states\\\":[]}, \\\"BEARS_ENABLE_PROFIT_BOOST_SGP_1_73\\\":{\\\"allStatesEnabled\\\":true, \\\"states\\\":[]}, \\\"ENABLE_COMBINE_TOUCHDOWN_SCORER_MARKETS\\\":{\\\"allStatesEnabled\\\":true, \\\"states\\\":[]}, \\\"GARD_CONTEXTUAL_PULSE_HOME_PAGE_1_86\\\":{\\\"allStatesEnabled\\\":true, \\\"states\\\":[]}, \\\"GARD_PULSE_HOME_PAGE_FOOTER_LINK_1_85\\\":{\\\"allStatesEnabled\\\":true, \\\"states\\\":[]}, \\\"BEARS_ENABLE_PROFIT_BOOST_SGP_PLUS_1_73\\\":{\\\"allStatesEnabled\\\":true, \\\"states\\\":[]}, \\\"GARD_ENABLE_NFL_PLAY_BY_PLAY_1_84\\\":{\\\"allStatesEnabled\\\":true, \\\"states\\\":[]}, \\\"GARD_ENABLE_NCAAF_PLAY_BY_PLAY_1_86\\\":{\\\"allStatesEnabled\\\":true, \\\"states\\\":[]}, \\\"BULLDOGS_BOX_SCORE\\\":{\\\"allStatesEnabled\\\":true, \\\"states\\\":[]}, \\\"GARD_PARLAY_HUB_1_78\\\":{\\\"allStatesEnabled\\\":true, \\\"states\\\":[]}, \\\"GARD_PARLAY_HUB_SGP_1_78\\\":{\\\"allStatesEnabled\\\":true, \\\"states\\\":[]}, \\\"GARD_PARLAY_HUB_PARLAY_1_78\\\":{\\\"allStatesEnabled\\\":true, \\\"states\\\":[]}, \\\"GARD_PARLAY_HUB_NEXT_TO_START_1_78\\\":{\\\"allStatesEnabled\\\":true, \\\"states\\\":[]}, \\\"GARD_PARLAY_HUB_SGP_PLUS_1_78\\\":{\\\"allStatesEnabled\\\":true, \\\"states\\\":[]}, \\\"GARD_PARLAY_HUB_SPORTS_FILTER_1_78\\\":{\\\"allStatesEnabled\\\":true, \\\"states\\\":[]}, \\\"GARD_PARLAY_HUB_EXPANDABLE_HEADER_IOS_1_78\\\":{\\\"allStatesEnabled\\\":true, \\\"states\\\":[]}, \\\"GARD_PARLAY_HUB_EXPANDABLE_HEADER_ANDROID_1_78\\\":{\\\"allStatesEnabled\\\":true, \\\"states\\\":[]}, \\\"BULLDOGS_EXTEND_PROPS\\\":{\\\"allStatesEnabled\\\":true, \\\"states\\\":[]}, \\\"BULLDOGS_PLAYER_HEADSHOTS_1_76\\\":{\\\"allStatesEnabled\\\":true, \\\"states\\\":[]}, \\\"BULLDOGS_PLAYER_HEADSHOTS_1_81\\\":{\\\"allStatesEnabled\\\":true, \\\"states\\\":[]}, \\\"BULLDOGS_ENHANCE_TO_WIN_MARKETS_1_79\\\":{\\\"allStatesEnabled\\\":true, \\\"states\\\":[]}, \\\"BULLDOGS_EVENT_MEDIA_NAVIGATION_DISPLAY\\\":{\\\"allStatesEnabled\\\":true, \\\"states\\\":[]}, \\\"BULLDOGS_ENABLE_COMPETITION_ID_RANKINGS\\\":{\\\"allStatesEnabled\\\":true, \\\"states\\\":[]}, \\\"DREAM_CORDISH_LOYALTY\\\":{\\\"allStatesEnabled\\\":false, \\\"states\\\":[\\\"MD\\\", \\\"PA\\\"]}, \\\"ENABLE_PROMO_MERCH\\\":{\\\"allStatesEnabled\\\":true, \\\"states\\\":[]}, \\\"GARD_ENABLE_RACING_WEB\\\":{\\\"allStatesEnabled\\\":false, \\\"states\\\":[\\\"CO\\\", \\\"IL\\\", \\\"IN\\\", \\\"LA\\\", \\\"KY\\\", \\\"MA\\\", \\\"MD\\\", \\\"MI\\\", \\\"NY\\\", \\\"OH\\\", \\\"PA\\\", \\\"VA\\\", \\\"WV\\\", \\\"WY\\\"]}, \\\"GARD_ENABLE_BOAPI_PP_PSGP_1_75\\\":{\\\"allStatesEnabled\\\":true, \\\"states\\\":[]}, \\\"WIZ_ENABLE_QUBIT_EXPERIENCES\\\":{\\\"allStatesEnabled\\\":false, \\\"states\\\":[]}, \\\"WIZ_ENABLE_QUBIT_ANALYTICS_VENDOR\\\":{\\\"allStatesEnabled\\\":false, \\\"states\\\":[]}, \\\"TRAMS_USE_ENHANCED_SCAN\\\":{\\\"allStatesEnabled\\\":true, \\\"states\\\":[]}, \\\"TRAMS_MY_BETS_HEADSHOTS\\\":{\\\"allStatesEnabled\\\":true, \\\"states\\\":[]}, \\\"TRAMS_BETSLIP_REDESIGN\\\":{\\\"allStatesEnabled\\\":false, \\\"states\\\":[]}, \\\"WIZARDS_ENABLE_LIVE_CASINO_TAB\\\":{\\\"allStatesEnabled\\\":false, \\\"states\\\":[\\\"PA\\\", \\\"MI\\\", \\\"CT\\\"]}, \\\"BEARS_ENABLE_PREFERENCES_ODDS_MOVEMENT_TOGGLE\\\":{\\\"allStatesEnabled\\\":true, \\\"states\\\":[]}, \\\"BEAR_ENABLE_BETSLIP_REDUX_TOOLKIT_V4\\\":{\\\"allStatesEnabled\\\":true, \\\"states\\\":[]}, \\\"BEARS_FAST_BET_MULTIPLES\\\":{\\\"allStatesEnabled\\\":false, \\\"states\\\":[]}, \\\"BEARS_BETSLIP_REDESIGN_UI_1_80\\\":{\\\"allStatesEnabled\\\":true, \\\"states\\\":[]}, \\\"ENABLE_REWARDS_SELECTION_VIEW\\\":{\\\"allStatesEnabled\\\":true, \\\"states\\\":[]}, \\\"ENABLE_PROFIT_BOOST_REWARDS\\\":{\\\"allStatesEnabled\\\":true, \\\"states\\\":[]}, \\\"ENABLE_REWARDS_NOTIFICATION_VIEW\\\":{\\\"allStatesEnabled\\\":true, \\\"states\\\":[]}, \\\"ENABLE_REUSE_SELECTION_FOR_SETTLED_BETS\\\":{\\\"allStatesEnabled\\\":true, \\\"states\\\":[]}, \\\"CABERS_ENABLE_CASINO_BONUS\\\":{\\\"allStatesEnabled\\\":true, \\\"states\\\":[]}, \\\"CABERS_ENABLE_RACING_BONUS\\\":{\\\"allStatesEnabled\\\":true, \\\"states\\\":[]}, \\\"WIZ_ENABLE_DARK_MODE_WEB\\\":{\\\"allStatesEnabled\\\":true, \\\"states\\\":[]}, \\\"WIZ_ENABLE_LIVE_RACING_TAB\\\":{\\\"allStatesEnabled\\\":false, \\\"states\\\":[\\\"CO\\\", \\\"IL\\\", \\\"IN\\\", \\\"KY\\\", \\\"LA\\\", \\\"MA\\\", \\\"MD\\\", \\\"MI\\\", \\\"NY\\\", \\\"OH\\\", \\\"VA\\\", \\\"WY\\\", \\\"WV\\\"]}, \\\"WIZ_ENABLE_CUSTOM_PAGE_IMG_DATA_VIZ\\\":{\\\"allStatesEnabled\\\":true, \\\"states\\\":[]}, \\\"ENABLE_AMPLITUDE\\\":{\\\"allStatesEnabled\\\":true, \\\"states\\\":[]}, \\\"WIZ_ENABLE_CMS_PROMOTION_CARD\\\":{\\\"allStatesEnabled\\\":true, \\\"states\\\":[]}, \\\"WIZ_SMALL_TRANSFER_SCREEN_INTO\\\":{\\\"allStatesEnabled\\\":false, \\\"states\\\":[\\\"CO\\\", \\\"IL\\\", \\\"LA\\\", \\\"MD\\\", \\\"WY\\\"]}, \\\"WIZ_SMALL_TRANSFER_SCREEN_OUTOF\\\":{\\\"allStatesEnabled\\\":false, \\\"states\\\":[\\\"CO\\\", \\\"IL\\\", \\\"LA\\\", \\\"MD\\\", \\\"WY\\\"]}, \\\"ENABLE_LINK_TO_NEW_TSANDCS\\\":{\\\"allStatesEnabled\\\":true, \\\"states\\\":[]}, \\\"FLM_ENABLE_ACQUISITION_BANNER_DEV\\\":{\\\"allStatesEnabled\\\":false, \\\"states\\\":[]}, \\\"HERKY_ENABLE_CAROUSEL_ABOVE_TABS_SPORT_PAGES\\\":{\\\"allStatesEnabled\\\":false, \\\"states\\\":[]}, \\\"HERKY_NST_FS_1_85_0\\\":{\\\"allStatesEnabled\\\":true, \\\"states\\\":[]}, \\\"EAGLES_PREVENT_AUTH_HEADER_SMP\\\":{\\\"allStatesEnabled\\\":true, \\\"states\\\":[]}, \\\"WIZ_ENABLE_CONFIG\\\":{\\\"allStatesEnabled\\\":true, \\\"states\\\":[]}, \\\"WIZ_ENABLE_FOOTER_LINKS_WITH_CONFIG\\\":{\\\"allStatesEnabled\\\":true, \\\"states\\\":[]}, \\\"WIZ_ENABLE_DFS_TAB_VIEW_CONFIG_SERVICE\\\":{\\\"allStatesEnabled\\\":true, \\\"states\\\":[]}, \\\"HAWK_NO_SWEAT_TOKEN\\\":{\\\"allStatesEnabled\\\":false, \\\"states\\\":[]}, \\\"HAWK_NO_SWEAT_TOKEN_2\\\":{\\\"allStatesEnabled\\\":true, \\\"states\\\":[]}, \\\"WIZ_ENABLE_RG_LOGO_SPORTSBOOK_CONFIG\\\":{\\\"allStatesEnabled\\\":true, \\\"states\\\":[]}, \\\"ATLUTD_ENABLE_PX_LOGGING_WEB_1_86\\\":{\\\"allStatesEnabled\\\":true, \\\"states\\\":[]}, \\\"WIZ_PRE_LIVE_STATE\\\":{\\\"allStatesEnabled\\\":false, \\\"states\\\":[]}, \\\"FLM_PULSE_INCLUDE_SGP_PARLAY\\\":{\\\"allStatesEnabled\\\":true, \\\"states\\\":[]}, \\\"WIZ_ENABLE_ADD_RUNNER_IMPROVEMENTS\\\":{\\\"allStatesEnabled\\\":true, \\\"states\\\":[]}, \\\"WIZ_ENABLE_SHOW_ALERT_ON_ERROR_DIALOG_IMPROVEMENTS\\\":{\\\"allStatesEnabled\\\":true, \\\"states\\\":[]}, \\\"FLM_PULSE_EVT_HZT\\\":{\\\"allStatesEnabled\\\":true, \\\"states\\\":[]}, \\\"DREAM_ENABLE_DEEPLINK_HOLDING_PAGE\\\":{\\\"allStatesEnabled\\\":false, \\\"states\\\":[\\\"VT\\\"]}}\",\"boapiHost\":\"https:\\u002F\\u002Fboapi.sportsbook.fanduel.com\",\"webHosts\":{\"SPB\":\"https:\\u002F\\u002Fspb.{STATE}.sportsbook.fanduel.com\",\"SMP\":\"https:\\u002F\\u002Fsmp.{STATE}.sportsbook.fanduel.com\",\"MGASBPP\":\"https:\\u002F\\u002Fscan.{STATE}.sportsbook.fanduel.com\",\"MGA\":\"https:\\u002F\\u002Fscan.{STATE}.sportsbook.fanduel.com\",\"SIB\":\"https:\\u002F\\u002Fsib.{STATE}.sportsbook.fanduel.com\",\"IPS\":\"https:\\u002F\\u002Fips.sportsbook.fanduel.com\",\"FCQ\":\"https:\\u002F\\u002Ffcq.{STATE}.sportsbook.fanduel.com\",\"SCO\":\"https:\\u002F\\u002Fsco.{STATE}.sportsbook.fanduel.com\",\"API\":\"https:\\u002F\\u002Fsbapi.{STATE}.sportsbook.fanduel.com\\u002Fapi\",\"CPP\":\"https:\\u002F\\u002Fpromos.sportsbook.fanduel.com\",\"CPP_API\":\"https:\\u002F\\u002Fpromos-api.sportsbook.fanduel.com\\u002Fapi\\u002FcustomisedPromotions\",\"CTS\":\"https:\\u002F\\u002Fcts.sportsbook.fanduel.com\",\"FDX_API\":\"https:\\u002F\\u002Ffdx-api.sportsbook.fanduel.com\\u002Fapi\",\"PAPI\":\"https:\\u002F\\u002Fpapi.sportsbook.fanduel.com\\u002Fapi\",\"BVP\":\"https:\\u002F\\u002Fbvp.sportsbook.fanduel.com\",\"RAF\":\"https:\\u002F\\u002Frefer.sportsbook.fanduel.com\",\"SEARCH_SERVICE\":\"https:\\u002F\\u002Fsearch.sportsbook.fanduel.com\",\"ACCOUNT_WEB\":\"https:\\u002F\\u002Faccount.{STATE}.sportsbook.fanduel.com\",\"SS_ACCOUNT_DOMAIN\":\"https:\\u002F\\u002Faccount.sportsbook.fanduel.com\",\"ACCOUNT_API\":\"https:\\u002F\\u002Fapi.fanduel.com\",\"MAINTENANCE\":\"https:\\u002F\\u002Fmaintenance.sportsbook.fanduel.com\",\"EXPERIMENTATION_SERVICE_API\":\"https:\\u002F\\u002Fexperimentation.sportsbook.fanduel.com\",\"BOAPI\":\"https:\\u002F\\u002Fboapi.sportsbook.fanduel.com\",\"CONFIG\":\"https:\\u002F\\u002Fconfig.sportsbook.fanduel.com\",\"QIB\":\"https:\\u002F\\u002Fqib.sportsbook.fanduel.com\",\"QIB_BS\":\"https:\\u002F\\u002Fqib.{STATE}.sportsbook.fanduel.com\",\"QPB\":\"https:\\u002F\\u002Fqpb.{STATE}.sportsbook.fanduel.com\",\"PULSE\":\"https:\\u002F\\u002Fpulse.sportsbook.fanduel.com\",\"REALITY_CHECKS\":\"https:\\u002F\\u002Fapi.fanduel.com\"}} },initialState={eventTypes:{1:{name:\"Soccer\",eventTypeId:1},2:{name:\"Tennis\",eventTypeId:2},3:{name:\"Golf\",eventTypeId:3},4:{name:\"Cricket\",eventTypeId:4},5:{name:\"Rugby Union\",eventTypeId:5},6:{name:\"Boxing\",eventTypeId:6},7:{name:\"Horse Racing\",eventTypeId:7},8:{name:\"Motor Sport\",eventTypeId:8},10:{name:\"Special Bets\",eventTypeId:10},11:{name:\"Cycling\",eventTypeId:11},12:{name:\"Rowing\",eventTypeId:12},1477:{name:\"Rugby League\",eventTypeId:1477},3503:{name:\"Darts\",eventTypeId:3503},3988:{name:\"Athletics\",eventTypeId:3988},4339:{name:\"Greyhound Racing\",eventTypeId:4339},6422:{name:\"Snooker\",eventTypeId:6422},6423:{name:\"American Football\",eventTypeId:6423},7511:{name:\"Baseball\",eventTypeId:7511},7522:{name:\"Basketball\",eventTypeId:7522},7523:{name:\"Hockey\",eventTypeId:7523},7524:{name:\"Ice Hockey\",eventTypeId:7524},61420:{name:\"Australian Rules\",eventTypeId:61420},451485:{name:\"Winter Sports\",eventTypeId:451485},468328:{name:\"Handball\",eventTypeId:468328},606611:{name:\"Netball\",eventTypeId:606611},620576:{name:\"Swimming\",eventTypeId:620576},627555:{name:\"Badminton\",eventTypeId:627555},998917:{name:\"Volleyball\",eventTypeId:998917},2152880:{name:\"Gaelic Games\",eventTypeId:2152880},2378961:{name:\"Politics\",eventTypeId:2378961},2593174:{name:\"Table Tennis\",eventTypeId:2593174},2872194:{name:\"Beach Volleyball\",eventTypeId:2872194},2872196:{name:\"Canoeing\",eventTypeId:2872196},2901849:{name:\"Water Polo\",eventTypeId:2901849},4726642:{name:\"Surfing\",eventTypeId:4726642},18643353:{name:\"Equestrian\",eventTypeId:18643353},26420387:{name:\"Mixed Martial Arts\",eventTypeId:26420387},27065662:{name:\"Triathlon\",eventTypeId:27065662},27388198:{name:\"Current Affairs\",eventTypeId:27388198},27454571:{name:\"Esports\",eventTypeId:27454571},27485048:{name:\"Wrestling\",eventTypeId:27485048},27589895:{name:\"Olympics\",eventTypeId:27589895},28347302:{name:\"Gymnastics\",eventTypeId:28347302},28361978:{name:\"Lottery Specials\",eventTypeId:28361978},28361982:{name:\"Weightlifting\",eventTypeId:28361982},28608993:{name:\"Sailing\",eventTypeId:28608993},28608996:{name:\"Diving\",eventTypeId:28608996},28608997:{name:\"Lacrosse\",eventTypeId:28608997},28609001:{name:\"Archery\",eventTypeId:28609001},28609004:{name:\"Judo\",eventTypeId:28609004},28609005:{name:\"Fencing\",eventTypeId:28609005},28609006:{name:\"Modern Pentathlon\",eventTypeId:28609006},28609007:{name:\"Shooting\",eventTypeId:28609007},28609008:{name:\"Synchronized Swimming\",eventTypeId:28609008},28609009:{name:\"Taekwondo\",eventTypeId:28609009},28609010:{name:\"Trampoline\",eventTypeId:28609010},32356775:{name:\"Pickleball\",eventTypeId:32356775}}}</script><script defer=\"defer\" src=\"https://www.googletagmanager.com/gtm.js?id=GTM-557C6Q2\"></script><script defer=\"defer\" src=\"/static/js/runtime.65be6b825990d06b1ba6.js\"></script><script defer=\"defer\" src=\"/static/js/utility-vendor.307e0d9e2a7a97332721.js\"></script><script defer=\"defer\" src=\"/static/js/react-vendor.edef654bc129498c8884.js\"></script><script defer=\"defer\" src=\"/static/js/store-vendor.4724d521600e3c720872.js\"></script><script defer=\"defer\" src=\"/static/js/date-utility-vendor.e498d7bf4ece2c0817bd.js\"></script><script defer=\"defer\" src=\"/static/js/vendor.5d339fb258e9303a555e.js\"></script><script defer=\"defer\" src=\"/static/js/dependencies.3c8cabf386777db919e8.js\"></script><script defer=\"defer\" src=\"/static/js/store.3cb083906821b3cf9831.js\"></script><script defer=\"defer\" src=\"/static/js/screens.57f3828c72864b46a319.js\"></script><script defer=\"defer\" src=\"/static/js/icons.89eecfc4e3bc0c5815e5.js\"></script><script defer=\"defer\" src=\"/static/js/api.e755ac9f0b19815cff96.js\"></script><script defer=\"defer\" src=\"/static/js/main.5a973a75e537ba8effa3.js\"></script></head><body><noscript>You need to enable JavaScript to run this app.</noscript><div id=\"root\"></div><noscript><iframe height=\"0\" src=\"https://www.googletagmanager.com/ns.html?id=GTM-557C6Q2\" style=\"display:none;visibility:hidden\" width=\"0\"></iframe></noscript></body></html>"
      ]
     },
     "execution_count": 45,
     "metadata": {},
     "output_type": "execute_result"
    }
   ],
   "source": [
    "soup"
   ]
  },
  {
   "cell_type": "code",
   "execution_count": 47,
   "id": "8cd6af11",
   "metadata": {},
   "outputs": [],
   "source": [
    "from selenium import webdriver"
   ]
  },
  {
   "cell_type": "code",
   "execution_count": null,
   "id": "9db894fe",
   "metadata": {},
   "outputs": [],
   "source": []
  },
  {
   "cell_type": "code",
   "execution_count": 23,
   "id": "560c0960",
   "metadata": {},
   "outputs": [],
   "source": [
    "divs_with_max_verstappen = soup.find_all('div', {'aria-label': lambda x: x and 'Max Verstappen' in x}, recursive = True)"
   ]
  },
  {
   "cell_type": "code",
   "execution_count": 24,
   "id": "4f05383c",
   "metadata": {},
   "outputs": [
    {
     "data": {
      "text/plain": [
       "[]"
      ]
     },
     "execution_count": 24,
     "metadata": {},
     "output_type": "execute_result"
    }
   ],
   "source": [
    "divs_with_max_verstappen"
   ]
  },
  {
   "cell_type": "code",
   "execution_count": 29,
   "id": "a1623c11",
   "metadata": {},
   "outputs": [
    {
     "data": {
      "text/plain": [
       "[]"
      ]
     },
     "execution_count": 29,
     "metadata": {},
     "output_type": "execute_result"
    }
   ],
   "source": [
    "soup.find('head').find_all('div')"
   ]
  },
  {
   "cell_type": "code",
   "execution_count": 31,
   "id": "5967d25b",
   "metadata": {},
   "outputs": [
    {
     "data": {
      "text/plain": [
       "[]"
      ]
     },
     "execution_count": 31,
     "metadata": {},
     "output_type": "execute_result"
    }
   ],
   "source": [
    "soup.find_all('main', recursive = True)"
   ]
  },
  {
   "cell_type": "code",
   "execution_count": 37,
   "id": "7da9105b",
   "metadata": {},
   "outputs": [],
   "source": [
    "from bs4 import BeautifulSoup\n",
    "\n",
    "# HTML snippet provided\n",
    "html_snippet = '''\n",
    "<div aria-label=\"Max Verstappen, -700\" role=\"button\" aria-selected=\"false\" tabindex=\"0\" class=\"am an bb ba cl cv ae af cw hs cy s cj iv bl y jf jg bo jh h i j ah ai m aj o ak q al\" style=\"cursor: pointer;\"><span class=\"iq ir ez es iz jc fq\">-700</span></div>\n",
    "'''\n",
    "\n",
    "# Parse the HTML snippet\n",
    "soup = BeautifulSoup(html_snippet, 'html.parser')\n",
    "\n",
    "# Find all <div> elements recursively with aria-label containing 'Max Verstappen'\n",
    "divs_with_max_verstappen = soup.find_all('div', {'aria-label': lambda x: x and 'Max Verstappen' in x}, recursive=True)\n"
   ]
  },
  {
   "cell_type": "code",
   "execution_count": 40,
   "id": "61aba671",
   "metadata": {},
   "outputs": [
    {
     "data": {
      "text/plain": [
       "'<!doctype html><html lang=\"en\"><head><meta charset=\"utf-8\"/><meta name=\"viewport\" content=\"width=device-width,initial-scale=1,shrink-to-fit=no\"/><title>FanDuel Sportsbook</title><link rel=\"shortcut icon\" href=\"https://sportsbook.fanduel.com/favicon.ico\"/><link rel=\"stylesheet\" href=\"https://cdnjs.cloudflare.com/ajax/libs/normalize/8.0.1/normalize.min.css\" integrity=\"sha512-NhSC1YmyruXifcj/KFRWoC561YpHpc5Jtzgvbuzx5VozKpWvQ+4nXhPdFgmx8xqexRcpAglTj9sIBWINXa8x5w==\" crossorigin=\"anonymous\" referrerpolicy=\"no-referrer\"/><link rel=\"stylesheet\" href=\"/assets/css/reset-2022-12-07.css\"/><meta name=\"theme-color\" content=\"#000000\"/><script>document.cookie=\"SB_GTM_VERSION=2\",window.dataLayer=window.dataLayer||[],window.dataLayer.push({\"gtm.start\":(new Date).getTime(),event:\"gtm.js\"}),window.startTimestamp=Date.now();var FD={CONFIG: {\"clientId\":\"77328380f75f1a9f52341f6c44c6fba6\",\"statusEndPoint\":\"https:\\\\u002F\\\\u002Fstatus.fanduel.com\",\"cookieDomain\":\"sportsbook.fanduel.com\",\"fdCookieDomain\":\"fanduel.com\",\"apiKey\":\"FhMFpcPWXMeyZxOx\",\"maintenanceHost\":\"https:\\\\u002F\\\\u002Fmaintenance.sportsbook.fanduel.com\",\"cppApi\":\"https:\\\\u002F\\\\u002Fpromos-api.sportsbook.fanduel.com\\\\u002Fapi\\\\u002FcustomisedPromotions\",\"fdxApi\":\"https:\\\\u002F\\\\u002Ffdx-api.sportsbook.fanduel.com\\\\u002Fapi\",\"singleStateAccountWeb\":\"https:\\\\u002F\\\\u002Faccount.sportsbook.fanduel.com\",\"runtimeEnv\":\"PROD\",\"cppHost\":\"https:\\\\u002F\\\\u002Fpromos.sportsbook.fanduel.com\",\"geoComplyInstallerKeys\":\"{\\\\\"VA\\\\\":\\\\\"0KrNT071rs\\\\\", \\\\\"AZ\\\\\":\\\\\"6gC8D2wLu3\\\\\", \\\\\"CO\\\\\":\\\\\"kTckb3DKdW\\\\\", \\\\\"IA\\\\\":\\\\\"CQkUdpqlm8\\\\\", \\\\\"IL\\\\\":\\\\\"QTgEoU9hdH\\\\\", \\\\\"IN\\\\\":\\\\\"auqpwHvjQZ\\\\\", \\\\\"MI\\\\\":\\\\\"Ac9QBOKYRs\\\\\", \\\\\"NJ\\\\\":\\\\\"48ESpoB5JF\\\\\", \\\\\"PA\\\\\":\\\\\"Pe1pU0EUPZ\\\\\", \\\\\"TN\\\\\":\\\\\"VrJDi6rpzk\\\\\", \\\\\"WV\\\\\":\\\\\"izB796DMwa\\\\\", \\\\\"CT\\\\\":\\\\\"cLDKygPBEI\\\\\", \\\\\"WY\\\\\":\\\\\"C4aiOxJgNl\\\\\", \\\\\"LA\\\\\":\\\\\"lQtpovTB5t\\\\\", \\\\\"NY\\\\\":\\\\\"veN4y0FUEZ\\\\\", \\\\\"MR\\\\\":\\\\\"lEU7w30f7t\\\\\", \\\\\"KS\\\\\":\\\\\"2V9N8bMJ2i\\\\\", \\\\\"OH\\\\\":\\\\\"XH0TZe5YnU\\\\\", \\\\\"MD\\\\\":\\\\\"ipcfyiX3aS\\\\\", \\\\\"PR\\\\\":\\\\\"Hh9abmFt7m\\\\\", \\\\\"MA\\\\\":\\\\\"3LggmN7wCi\\\\\", \\\\\"FD\\\\\":\\\\\"bAKV25BFf2\\\\\", \\\\\"KY\\\\\":\\\\\"DFTL4HyMod\\\\\", \\\\\"VT\\\\\":\\\\\"hEHYpJ7Wa2\\\\\", \\\\\"NC\\\\\":\\\\\"UJ4kILmK9h\\\\\", \\\\\"ON\\\\\":\\\\\"kO3vggju7R\\\\\"}\",\"brazeApiKey\":\"de97bfbd-f043-4228-8cf1-4e42e6947527\",\"perimeterXAppId\":\"JMCVuBG8\",\"sentryEnvironment\":\"production\",\"siftBeaconKey\":\"d07cf1ead4\",\"stateFeatureFlags\":\"{\\\\\"ENABLE_SIFT\\\\\":{\\\\\"allStatesEnabled\\\\\":false, \\\\\"states\\\\\":[\\\\\"AZ\\\\\", \\\\\"CO\\\\\", \\\\\"CT\\\\\", \\\\\"IL\\\\\", \\\\\"IN\\\\\", \\\\\"IA\\\\\", \\\\\"KS\\\\\", \\\\\"KY\\\\\", \\\\\"LA\\\\\", \\\\\"MD\\\\\", \\\\\"MA\\\\\", \\\\\"MI\\\\\", \\\\\"MR\\\\\", \\\\\"NC\\\\\", \\\\\"NJ\\\\\", \\\\\"NY\\\\\", \\\\\"OH\\\\\", \\\\\"PA\\\\\", \\\\\"TN\\\\\", \\\\\"VA\\\\\", \\\\\"VT\\\\\", \\\\\"WV\\\\\", \\\\\"WY\\\\\"]}, \\\\\"ENABLE_AMPLITUDE_EXP_WEB\\\\\":{\\\\\"allStatesEnabled\\\\\":true, \\\\\"states\\\\\":[]}, \\\\\"BEAR_ENABLE_AW_GEOCOMPLY_SDK_WEB\\\\\":{\\\\\"allStatesEnabled\\\\\":true, \\\\\"states\\\\\":[]}, \\\\\"ENABLE_SEASON_DATA_HOOK\\\\\":{\\\\\"allStatesEnabled\\\\\":true, \\\\\"states\\\\\":[]}, \\\\\"ENABLE_CASINO_QUICK_LAUNCH_EXPERIENCE\\\\\":{\\\\\"allStatesEnabled\\\\\":false, \\\\\"states\\\\\":[]}, \\\\\"BEARS_ENABLE_SESSION_ID_GEOLOCATION_GUARD\\\\\":{\\\\\"allStatesEnabled\\\\\":false, \\\\\"states\\\\\":[\\\\\"MR\\\\\", \\\\\"WV\\\\\", \\\\\"WY\\\\\"]}, \\\\\"BEARS_END_GEOLOCATION_SESSION_ON_LOGOUT\\\\\":{\\\\\"allStatesEnabled\\\\\":false, \\\\\"states\\\\\":[\\\\\"MR\\\\\", \\\\\"WV\\\\\", \\\\\"WY\\\\\"]}, \\\\\"BEARS_END_GEOLOCATION_SESSION_ON_DELETE_SESSION\\\\\":{\\\\\"allStatesEnabled\\\\\":false, \\\\\"states\\\\\":[\\\\\"MR\\\\\", \\\\\"WV\\\\\", \\\\\"WY\\\\\"]}, \\\\\"BEARS_SHOW_GEOLOCATION_DIALOG_ON_CONFIG_SET_FAILURE\\\\\":{\\\\\"allStatesEnabled\\\\\":false, \\\\\"states\\\\\":[\\\\\"MR\\\\\", \\\\\"WV\\\\\", \\\\\"WY\\\\\"]}, \\\\\"BEARS_ENABLE_PROFIT_BOOST_PARLAYS_1_73\\\\\":{\\\\\"allStatesEnabled\\\\\":true, \\\\\"states\\\\\":[]}, \\\\\"BEARS_ENABLE_PROFIT_BOOST_SGP_1_73\\\\\":{\\\\\"allStatesEnabled\\\\\":true, \\\\\"states\\\\\":[]}, \\\\\"ENABLE_COMBINE_TOUCHDOWN_SCORER_MARKETS\\\\\":{\\\\\"allStatesEnabled\\\\\":true, \\\\\"states\\\\\":[]}, \\\\\"GARD_CONTEXTUAL_PULSE_HOME_PAGE_1_86\\\\\":{\\\\\"allStatesEnabled\\\\\":true, \\\\\"states\\\\\":[]}, \\\\\"GARD_PULSE_HOME_PAGE_FOOTER_LINK_1_85\\\\\":{\\\\\"allStatesEnabled\\\\\":true, \\\\\"states\\\\\":[]}, \\\\\"BEARS_ENABLE_PROFIT_BOOST_SGP_PLUS_1_73\\\\\":{\\\\\"allStatesEnabled\\\\\":true, \\\\\"states\\\\\":[]}, \\\\\"GARD_ENABLE_NFL_PLAY_BY_PLAY_1_84\\\\\":{\\\\\"allStatesEnabled\\\\\":true, \\\\\"states\\\\\":[]}, \\\\\"GARD_ENABLE_NCAAF_PLAY_BY_PLAY_1_86\\\\\":{\\\\\"allStatesEnabled\\\\\":true, \\\\\"states\\\\\":[]}, \\\\\"BULLDOGS_BOX_SCORE\\\\\":{\\\\\"allStatesEnabled\\\\\":true, \\\\\"states\\\\\":[]}, \\\\\"GARD_PARLAY_HUB_1_78\\\\\":{\\\\\"allStatesEnabled\\\\\":true, \\\\\"states\\\\\":[]}, \\\\\"GARD_PARLAY_HUB_SGP_1_78\\\\\":{\\\\\"allStatesEnabled\\\\\":true, \\\\\"states\\\\\":[]}, \\\\\"GARD_PARLAY_HUB_PARLAY_1_78\\\\\":{\\\\\"allStatesEnabled\\\\\":true, \\\\\"states\\\\\":[]}, \\\\\"GARD_PARLAY_HUB_NEXT_TO_START_1_78\\\\\":{\\\\\"allStatesEnabled\\\\\":true, \\\\\"states\\\\\":[]}, \\\\\"GARD_PARLAY_HUB_SGP_PLUS_1_78\\\\\":{\\\\\"allStatesEnabled\\\\\":true, \\\\\"states\\\\\":[]}, \\\\\"GARD_PARLAY_HUB_SPORTS_FILTER_1_78\\\\\":{\\\\\"allStatesEnabled\\\\\":true, \\\\\"states\\\\\":[]}, \\\\\"GARD_PARLAY_HUB_EXPANDABLE_HEADER_IOS_1_78\\\\\":{\\\\\"allStatesEnabled\\\\\":true, \\\\\"states\\\\\":[]}, \\\\\"GARD_PARLAY_HUB_EXPANDABLE_HEADER_ANDROID_1_78\\\\\":{\\\\\"allStatesEnabled\\\\\":true, \\\\\"states\\\\\":[]}, \\\\\"BULLDOGS_EXTEND_PROPS\\\\\":{\\\\\"allStatesEnabled\\\\\":true, \\\\\"states\\\\\":[]}, \\\\\"BULLDOGS_PLAYER_HEADSHOTS_1_76\\\\\":{\\\\\"allStatesEnabled\\\\\":true, \\\\\"states\\\\\":[]}, \\\\\"BULLDOGS_PLAYER_HEADSHOTS_1_81\\\\\":{\\\\\"allStatesEnabled\\\\\":true, \\\\\"states\\\\\":[]}, \\\\\"BULLDOGS_ENHANCE_TO_WIN_MARKETS_1_79\\\\\":{\\\\\"allStatesEnabled\\\\\":true, \\\\\"states\\\\\":[]}, \\\\\"BULLDOGS_EVENT_MEDIA_NAVIGATION_DISPLAY\\\\\":{\\\\\"allStatesEnabled\\\\\":true, \\\\\"states\\\\\":[]}, \\\\\"BULLDOGS_ENABLE_COMPETITION_ID_RANKINGS\\\\\":{\\\\\"allStatesEnabled\\\\\":true, \\\\\"states\\\\\":[]}, \\\\\"DREAM_CORDISH_LOYALTY\\\\\":{\\\\\"allStatesEnabled\\\\\":false, \\\\\"states\\\\\":[\\\\\"MD\\\\\", \\\\\"PA\\\\\"]}, \\\\\"ENABLE_PROMO_MERCH\\\\\":{\\\\\"allStatesEnabled\\\\\":true, \\\\\"states\\\\\":[]}, \\\\\"GARD_ENABLE_RACING_WEB\\\\\":{\\\\\"allStatesEnabled\\\\\":false, \\\\\"states\\\\\":[\\\\\"CO\\\\\", \\\\\"IL\\\\\", \\\\\"IN\\\\\", \\\\\"LA\\\\\", \\\\\"KY\\\\\", \\\\\"MA\\\\\", \\\\\"MD\\\\\", \\\\\"MI\\\\\", \\\\\"NY\\\\\", \\\\\"OH\\\\\", \\\\\"PA\\\\\", \\\\\"VA\\\\\", \\\\\"WV\\\\\", \\\\\"WY\\\\\"]}, \\\\\"GARD_ENABLE_BOAPI_PP_PSGP_1_75\\\\\":{\\\\\"allStatesEnabled\\\\\":true, \\\\\"states\\\\\":[]}, \\\\\"WIZ_ENABLE_QUBIT_EXPERIENCES\\\\\":{\\\\\"allStatesEnabled\\\\\":false, \\\\\"states\\\\\":[]}, \\\\\"WIZ_ENABLE_QUBIT_ANALYTICS_VENDOR\\\\\":{\\\\\"allStatesEnabled\\\\\":false, \\\\\"states\\\\\":[]}, \\\\\"TRAMS_USE_ENHANCED_SCAN\\\\\":{\\\\\"allStatesEnabled\\\\\":true, \\\\\"states\\\\\":[]}, \\\\\"TRAMS_MY_BETS_HEADSHOTS\\\\\":{\\\\\"allStatesEnabled\\\\\":true, \\\\\"states\\\\\":[]}, \\\\\"TRAMS_BETSLIP_REDESIGN\\\\\":{\\\\\"allStatesEnabled\\\\\":false, \\\\\"states\\\\\":[]}, \\\\\"WIZARDS_ENABLE_LIVE_CASINO_TAB\\\\\":{\\\\\"allStatesEnabled\\\\\":false, \\\\\"states\\\\\":[\\\\\"PA\\\\\", \\\\\"MI\\\\\", \\\\\"CT\\\\\"]}, \\\\\"BEARS_ENABLE_PREFERENCES_ODDS_MOVEMENT_TOGGLE\\\\\":{\\\\\"allStatesEnabled\\\\\":true, \\\\\"states\\\\\":[]}, \\\\\"BEAR_ENABLE_BETSLIP_REDUX_TOOLKIT_V4\\\\\":{\\\\\"allStatesEnabled\\\\\":true, \\\\\"states\\\\\":[]}, \\\\\"BEARS_FAST_BET_MULTIPLES\\\\\":{\\\\\"allStatesEnabled\\\\\":false, \\\\\"states\\\\\":[]}, \\\\\"BEARS_BETSLIP_REDESIGN_UI_1_80\\\\\":{\\\\\"allStatesEnabled\\\\\":true, \\\\\"states\\\\\":[]}, \\\\\"ENABLE_REWARDS_SELECTION_VIEW\\\\\":{\\\\\"allStatesEnabled\\\\\":true, \\\\\"states\\\\\":[]}, \\\\\"ENABLE_PROFIT_BOOST_REWARDS\\\\\":{\\\\\"allStatesEnabled\\\\\":true, \\\\\"states\\\\\":[]}, \\\\\"ENABLE_REWARDS_NOTIFICATION_VIEW\\\\\":{\\\\\"allStatesEnabled\\\\\":true, \\\\\"states\\\\\":[]}, \\\\\"ENABLE_REUSE_SELECTION_FOR_SETTLED_BETS\\\\\":{\\\\\"allStatesEnabled\\\\\":true, \\\\\"states\\\\\":[]}, \\\\\"CABERS_ENABLE_CASINO_BONUS\\\\\":{\\\\\"allStatesEnabled\\\\\":true, \\\\\"states\\\\\":[]}, \\\\\"CABERS_ENABLE_RACING_BONUS\\\\\":{\\\\\"allStatesEnabled\\\\\":true, \\\\\"states\\\\\":[]}, \\\\\"WIZ_ENABLE_DARK_MODE_WEB\\\\\":{\\\\\"allStatesEnabled\\\\\":true, \\\\\"states\\\\\":[]}, \\\\\"WIZ_ENABLE_LIVE_RACING_TAB\\\\\":{\\\\\"allStatesEnabled\\\\\":false, \\\\\"states\\\\\":[\\\\\"CO\\\\\", \\\\\"IL\\\\\", \\\\\"IN\\\\\", \\\\\"KY\\\\\", \\\\\"LA\\\\\", \\\\\"MA\\\\\", \\\\\"MD\\\\\", \\\\\"MI\\\\\", \\\\\"NY\\\\\", \\\\\"OH\\\\\", \\\\\"VA\\\\\", \\\\\"WY\\\\\", \\\\\"WV\\\\\"]}, \\\\\"WIZ_ENABLE_CUSTOM_PAGE_IMG_DATA_VIZ\\\\\":{\\\\\"allStatesEnabled\\\\\":true, \\\\\"states\\\\\":[]}, \\\\\"ENABLE_AMPLITUDE\\\\\":{\\\\\"allStatesEnabled\\\\\":true, \\\\\"states\\\\\":[]}, \\\\\"WIZ_ENABLE_CMS_PROMOTION_CARD\\\\\":{\\\\\"allStatesEnabled\\\\\":true, \\\\\"states\\\\\":[]}, \\\\\"WIZ_SMALL_TRANSFER_SCREEN_INTO\\\\\":{\\\\\"allStatesEnabled\\\\\":false, \\\\\"states\\\\\":[\\\\\"CO\\\\\", \\\\\"IL\\\\\", \\\\\"LA\\\\\", \\\\\"MD\\\\\", \\\\\"WY\\\\\"]}, \\\\\"WIZ_SMALL_TRANSFER_SCREEN_OUTOF\\\\\":{\\\\\"allStatesEnabled\\\\\":false, \\\\\"states\\\\\":[\\\\\"CO\\\\\", \\\\\"IL\\\\\", \\\\\"LA\\\\\", \\\\\"MD\\\\\", \\\\\"WY\\\\\"]}, \\\\\"ENABLE_LINK_TO_NEW_TSANDCS\\\\\":{\\\\\"allStatesEnabled\\\\\":true, \\\\\"states\\\\\":[]}, \\\\\"FLM_ENABLE_ACQUISITION_BANNER_DEV\\\\\":{\\\\\"allStatesEnabled\\\\\":false, \\\\\"states\\\\\":[]}, \\\\\"HERKY_ENABLE_CAROUSEL_ABOVE_TABS_SPORT_PAGES\\\\\":{\\\\\"allStatesEnabled\\\\\":false, \\\\\"states\\\\\":[]}, \\\\\"HERKY_NST_FS_1_85_0\\\\\":{\\\\\"allStatesEnabled\\\\\":true, \\\\\"states\\\\\":[]}, \\\\\"EAGLES_PREVENT_AUTH_HEADER_SMP\\\\\":{\\\\\"allStatesEnabled\\\\\":true, \\\\\"states\\\\\":[]}, \\\\\"WIZ_ENABLE_CONFIG\\\\\":{\\\\\"allStatesEnabled\\\\\":true, \\\\\"states\\\\\":[]}, \\\\\"WIZ_ENABLE_FOOTER_LINKS_WITH_CONFIG\\\\\":{\\\\\"allStatesEnabled\\\\\":true, \\\\\"states\\\\\":[]}, \\\\\"WIZ_ENABLE_DFS_TAB_VIEW_CONFIG_SERVICE\\\\\":{\\\\\"allStatesEnabled\\\\\":true, \\\\\"states\\\\\":[]}, \\\\\"HAWK_NO_SWEAT_TOKEN\\\\\":{\\\\\"allStatesEnabled\\\\\":false, \\\\\"states\\\\\":[]}, \\\\\"HAWK_NO_SWEAT_TOKEN_2\\\\\":{\\\\\"allStatesEnabled\\\\\":true, \\\\\"states\\\\\":[]}, \\\\\"WIZ_ENABLE_RG_LOGO_SPORTSBOOK_CONFIG\\\\\":{\\\\\"allStatesEnabled\\\\\":true, \\\\\"states\\\\\":[]}, \\\\\"ATLUTD_ENABLE_PX_LOGGING_WEB_1_86\\\\\":{\\\\\"allStatesEnabled\\\\\":true, \\\\\"states\\\\\":[]}, \\\\\"WIZ_PRE_LIVE_STATE\\\\\":{\\\\\"allStatesEnabled\\\\\":false, \\\\\"states\\\\\":[]}, \\\\\"FLM_PULSE_INCLUDE_SGP_PARLAY\\\\\":{\\\\\"allStatesEnabled\\\\\":true, \\\\\"states\\\\\":[]}, \\\\\"WIZ_ENABLE_ADD_RUNNER_IMPROVEMENTS\\\\\":{\\\\\"allStatesEnabled\\\\\":true, \\\\\"states\\\\\":[]}, \\\\\"WIZ_ENABLE_SHOW_ALERT_ON_ERROR_DIALOG_IMPROVEMENTS\\\\\":{\\\\\"allStatesEnabled\\\\\":true, \\\\\"states\\\\\":[]}, \\\\\"FLM_PULSE_EVT_HZT\\\\\":{\\\\\"allStatesEnabled\\\\\":true, \\\\\"states\\\\\":[]}, \\\\\"DREAM_ENABLE_DEEPLINK_HOLDING_PAGE\\\\\":{\\\\\"allStatesEnabled\\\\\":false, \\\\\"states\\\\\":[\\\\\"VT\\\\\"]}}\",\"boapiHost\":\"https:\\\\u002F\\\\u002Fboapi.sportsbook.fanduel.com\",\"webHosts\":{\"SPB\":\"https:\\\\u002F\\\\u002Fspb.{STATE}.sportsbook.fanduel.com\",\"SMP\":\"https:\\\\u002F\\\\u002Fsmp.{STATE}.sportsbook.fanduel.com\",\"MGASBPP\":\"https:\\\\u002F\\\\u002Fscan.{STATE}.sportsbook.fanduel.com\",\"MGA\":\"https:\\\\u002F\\\\u002Fscan.{STATE}.sportsbook.fanduel.com\",\"SIB\":\"https:\\\\u002F\\\\u002Fsib.{STATE}.sportsbook.fanduel.com\",\"IPS\":\"https:\\\\u002F\\\\u002Fips.sportsbook.fanduel.com\",\"FCQ\":\"https:\\\\u002F\\\\u002Ffcq.{STATE}.sportsbook.fanduel.com\",\"SCO\":\"https:\\\\u002F\\\\u002Fsco.{STATE}.sportsbook.fanduel.com\",\"API\":\"https:\\\\u002F\\\\u002Fsbapi.{STATE}.sportsbook.fanduel.com\\\\u002Fapi\",\"CPP\":\"https:\\\\u002F\\\\u002Fpromos.sportsbook.fanduel.com\",\"CPP_API\":\"https:\\\\u002F\\\\u002Fpromos-api.sportsbook.fanduel.com\\\\u002Fapi\\\\u002FcustomisedPromotions\",\"CTS\":\"https:\\\\u002F\\\\u002Fcts.sportsbook.fanduel.com\",\"FDX_API\":\"https:\\\\u002F\\\\u002Ffdx-api.sportsbook.fanduel.com\\\\u002Fapi\",\"PAPI\":\"https:\\\\u002F\\\\u002Fpapi.sportsbook.fanduel.com\\\\u002Fapi\",\"BVP\":\"https:\\\\u002F\\\\u002Fbvp.sportsbook.fanduel.com\",\"RAF\":\"https:\\\\u002F\\\\u002Frefer.sportsbook.fanduel.com\",\"SEARCH_SERVICE\":\"https:\\\\u002F\\\\u002Fsearch.sportsbook.fanduel.com\",\"ACCOUNT_WEB\":\"https:\\\\u002F\\\\u002Faccount.{STATE}.sportsbook.fanduel.com\",\"SS_ACCOUNT_DOMAIN\":\"https:\\\\u002F\\\\u002Faccount.sportsbook.fanduel.com\",\"ACCOUNT_API\":\"https:\\\\u002F\\\\u002Fapi.fanduel.com\",\"MAINTENANCE\":\"https:\\\\u002F\\\\u002Fmaintenance.sportsbook.fanduel.com\",\"EXPERIMENTATION_SERVICE_API\":\"https:\\\\u002F\\\\u002Fexperimentation.sportsbook.fanduel.com\",\"BOAPI\":\"https:\\\\u002F\\\\u002Fboapi.sportsbook.fanduel.com\",\"CONFIG\":\"https:\\\\u002F\\\\u002Fconfig.sportsbook.fanduel.com\",\"QIB\":\"https:\\\\u002F\\\\u002Fqib.sportsbook.fanduel.com\",\"QIB_BS\":\"https:\\\\u002F\\\\u002Fqib.{STATE}.sportsbook.fanduel.com\",\"QPB\":\"https:\\\\u002F\\\\u002Fqpb.{STATE}.sportsbook.fanduel.com\",\"PULSE\":\"https:\\\\u002F\\\\u002Fpulse.sportsbook.fanduel.com\",\"REALITY_CHECKS\":\"https:\\\\u002F\\\\u002Fapi.fanduel.com\"}} },initialState={eventTypes:{1:{name:\"Soccer\",eventTypeId:1},2:{name:\"Tennis\",eventTypeId:2},3:{name:\"Golf\",eventTypeId:3},4:{name:\"Cricket\",eventTypeId:4},5:{name:\"Rugby Union\",eventTypeId:5},6:{name:\"Boxing\",eventTypeId:6},7:{name:\"Horse Racing\",eventTypeId:7},8:{name:\"Motor Sport\",eventTypeId:8},10:{name:\"Special Bets\",eventTypeId:10},11:{name:\"Cycling\",eventTypeId:11},12:{name:\"Rowing\",eventTypeId:12},1477:{name:\"Rugby League\",eventTypeId:1477},3503:{name:\"Darts\",eventTypeId:3503},3988:{name:\"Athletics\",eventTypeId:3988},4339:{name:\"Greyhound Racing\",eventTypeId:4339},6422:{name:\"Snooker\",eventTypeId:6422},6423:{name:\"American Football\",eventTypeId:6423},7511:{name:\"Baseball\",eventTypeId:7511},7522:{name:\"Basketball\",eventTypeId:7522},7523:{name:\"Hockey\",eventTypeId:7523},7524:{name:\"Ice Hockey\",eventTypeId:7524},61420:{name:\"Australian Rules\",eventTypeId:61420},451485:{name:\"Winter Sports\",eventTypeId:451485},468328:{name:\"Handball\",eventTypeId:468328},606611:{name:\"Netball\",eventTypeId:606611},620576:{name:\"Swimming\",eventTypeId:620576},627555:{name:\"Badminton\",eventTypeId:627555},998917:{name:\"Volleyball\",eventTypeId:998917},2152880:{name:\"Gaelic Games\",eventTypeId:2152880},2378961:{name:\"Politics\",eventTypeId:2378961},2593174:{name:\"Table Tennis\",eventTypeId:2593174},2872194:{name:\"Beach Volleyball\",eventTypeId:2872194},2872196:{name:\"Canoeing\",eventTypeId:2872196},2901849:{name:\"Water Polo\",eventTypeId:2901849},4726642:{name:\"Surfing\",eventTypeId:4726642},18643353:{name:\"Equestrian\",eventTypeId:18643353},26420387:{name:\"Mixed Martial Arts\",eventTypeId:26420387},27065662:{name:\"Triathlon\",eventTypeId:27065662},27388198:{name:\"Current Affairs\",eventTypeId:27388198},27454571:{name:\"Esports\",eventTypeId:27454571},27485048:{name:\"Wrestling\",eventTypeId:27485048},27589895:{name:\"Olympics\",eventTypeId:27589895},28347302:{name:\"Gymnastics\",eventTypeId:28347302},28361978:{name:\"Lottery Specials\",eventTypeId:28361978},28361982:{name:\"Weightlifting\",eventTypeId:28361982},28608993:{name:\"Sailing\",eventTypeId:28608993},28608996:{name:\"Diving\",eventTypeId:28608996},28608997:{name:\"Lacrosse\",eventTypeId:28608997},28609001:{name:\"Archery\",eventTypeId:28609001},28609004:{name:\"Judo\",eventTypeId:28609004},28609005:{name:\"Fencing\",eventTypeId:28609005},28609006:{name:\"Modern Pentathlon\",eventTypeId:28609006},28609007:{name:\"Shooting\",eventTypeId:28609007},28609008:{name:\"Synchronized Swimming\",eventTypeId:28609008},28609009:{name:\"Taekwondo\",eventTypeId:28609009},28609010:{name:\"Trampoline\",eventTypeId:28609010},32356775:{name:\"Pickleball\",eventTypeId:32356775}}}</script><script defer=\"defer\" src=\"https://www.googletagmanager.com/gtm.js?id=GTM-557C6Q2\"></script><script defer=\"defer\" src=\"/static/js/runtime.65be6b825990d06b1ba6.js\"></script><script defer=\"defer\" src=\"/static/js/utility-vendor.307e0d9e2a7a97332721.js\"></script><script defer=\"defer\" src=\"/static/js/react-vendor.edef654bc129498c8884.js\"></script><script defer=\"defer\" src=\"/static/js/store-vendor.4724d521600e3c720872.js\"></script><script defer=\"defer\" src=\"/static/js/date-utility-vendor.e498d7bf4ece2c0817bd.js\"></script><script defer=\"defer\" src=\"/static/js/vendor.5d339fb258e9303a555e.js\"></script><script defer=\"defer\" src=\"/static/js/dependencies.3c8cabf386777db919e8.js\"></script><script defer=\"defer\" src=\"/static/js/store.3cb083906821b3cf9831.js\"></script><script defer=\"defer\" src=\"/static/js/screens.57f3828c72864b46a319.js\"></script><script defer=\"defer\" src=\"/static/js/icons.89eecfc4e3bc0c5815e5.js\"></script><script defer=\"defer\" src=\"/static/js/api.e755ac9f0b19815cff96.js\"></script><script defer=\"defer\" src=\"/static/js/main.5a973a75e537ba8effa3.js\"></script></head><body><noscript>You need to enable JavaScript to run this app.</noscript><div id=\"root\"></div><noscript><iframe src=\"https://www.googletagmanager.com/ns.html?id=GTM-557C6Q2\" height=\"0\" width=\"0\" style=\"display:none;visibility:hidden\"></iframe></noscript></body></html>'"
      ]
     },
     "execution_count": 40,
     "metadata": {},
     "output_type": "execute_result"
    }
   ],
   "source": [
    "response.text"
   ]
  },
  {
   "cell_type": "code",
   "execution_count": null,
   "id": "a2d9687f",
   "metadata": {},
   "outputs": [],
   "source": []
  }
 ],
 "metadata": {
  "kernelspec": {
   "display_name": "Python 3 (ipykernel)",
   "language": "python",
   "name": "python3"
  },
  "language_info": {
   "codemirror_mode": {
    "name": "ipython",
    "version": 3
   },
   "file_extension": ".py",
   "mimetype": "text/x-python",
   "name": "python",
   "nbconvert_exporter": "python",
   "pygments_lexer": "ipython3",
   "version": "3.11.4"
  }
 },
 "nbformat": 4,
 "nbformat_minor": 5
}
