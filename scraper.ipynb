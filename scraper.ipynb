{
 "cells": [
  {
   "cell_type": "code",
   "execution_count": 14,
   "id": "0afc45b9",
   "metadata": {},
   "outputs": [],
   "source": [
    "from selenium import webdriver\n",
    "PROXY = \"123.456.789.000:1234\"\n",
    "chrome_options = webdriver.ChromeOptions()\n",
    "chrome_options.add_argument('–proxy-server=%s' % PROXY)\n",
    "chrome = webdriver.Chrome(options=chrome_options)\n",
    "chrome.get(\"https://whatismyipaddress.com\")"
   ]
  },
  {
   "cell_type": "code",
   "execution_count": 1,
   "id": "2d0efb76",
   "metadata": {},
   "outputs": [
    {
     "data": {
      "text/plain": [
       "0       Lewis Hamilton\n",
       "1        Nick Heidfeld\n",
       "2         Nico Rosberg\n",
       "3      Fernando Alonso\n",
       "4    Heikki Kovalainen\n",
       "dtype: object"
      ]
     },
     "execution_count": 1,
     "metadata": {},
     "output_type": "execute_result"
    }
   ],
   "source": [
    "import numpy as np\n",
    "import pandas as pd\n",
    "d = pd.read_csv('data/drivers.csv')\n",
    "drivers = d['forename'] + ' ' + d['surname']\n",
    "drivers.head()"
   ]
  },
  {
   "cell_type": "code",
   "execution_count": 15,
   "id": "3728feb0",
   "metadata": {},
   "outputs": [
    {
     "name": "stderr",
     "output_type": "stream",
     "text": [
      "could not detect version_main.therefore, we are assuming it is chrome 108 or higher\n"
     ]
    }
   ],
   "source": [
    "import undetected_chromedriver as uc\n",
    "driver = uc.Chrome(headless=True,use_subprocess=False, options=chrome_options)"
   ]
  },
  {
   "cell_type": "code",
   "execution_count": 16,
   "id": "898cc08d",
   "metadata": {},
   "outputs": [],
   "source": [
    "url = 'https://sportsbook.fanduel.com/motorsport?tab=f1-race-props'\n",
    "driver.get(url)\n",
    "driver.implicitly_wait(3) # Wait for dynamically loaded content"
   ]
  },
  {
   "cell_type": "code",
   "execution_count": 7,
   "id": "4967839b",
   "metadata": {},
   "outputs": [],
   "source": [
    "max_divs = driver.find_elements('xpath',\n",
    "                    \"//div[contains(@aria-label, 'Max Verstappen, 700')]\")"
   ]
  },
  {
   "cell_type": "code",
   "execution_count": 8,
   "id": "eca71c9c",
   "metadata": {},
   "outputs": [
    {
     "data": {
      "text/plain": [
       "[]"
      ]
     },
     "execution_count": 8,
     "metadata": {},
     "output_type": "execute_result"
    }
   ],
   "source": [
    "max_divs"
   ]
  },
  {
   "cell_type": "code",
   "execution_count": 17,
   "id": "276219d7",
   "metadata": {},
   "outputs": [
    {
     "data": {
      "text/plain": [
       "'<html lang=\"en\"><head>\\n    <meta charset=\"utf-8\">\\n    <meta name=\"viewport\" content=\"width=device-width, initial-scale=1\">\\n    <title>Access to this page has been denied.</title>\\n    <link href=\"https://fonts.googleapis.com/css?family=Open+Sans:300\" rel=\"stylesheet\">\\n    <style>\\n        html, body {\\n            margin: 0;\\n            padding: 0;\\n            font-family: \\'Open Sans\\', sans-serif;\\n            color: #000;\\n        }\\n\\n        a {\\n            color: #c5c5c5;\\n            text-decoration: none;\\n        }\\n\\n        .container {\\n            align-items: center;\\n            display: flex;\\n            flex: 1;\\n            justify-content: space-between;\\n            flex-direction: column;\\n            height: 100%;\\n        }\\n\\n        .container > div {\\n            width: 100%;\\n            display: flex;\\n            justify-content: center;\\n        }\\n\\n        .container > div > div {\\n            display: flex;\\n            width: 80%;\\n        }\\n\\n        .customer-logo-wrapper {\\n            padding-top: 2rem;\\n            flex-grow: 0;\\n            background-color: #fff;\\n            visibility: hidden;\\n        }\\n\\n        .customer-logo {\\n            border-bottom: 1px solid #000;\\n        }\\n\\n        .customer-logo > img {\\n            padding-bottom: 1rem;\\n            max-height: 50px;\\n            max-width: 100%;\\n        }\\n\\n        .page-title-wrapper {\\n            flex-grow: 2;\\n        }\\n\\n        .page-title {\\n            flex-direction: column-reverse;\\n        }\\n\\n        .content-wrapper {\\n            flex-grow: 5;\\n        }\\n\\n        .content {\\n            flex-direction: column;\\n        }\\n\\n        .page-footer-wrapper {\\n            align-items: center;\\n            flex-grow: 0.2;\\n            background-color: #000;\\n            color: #c5c5c5;\\n            font-size: 70%;\\n        }\\n\\n        @media (min-width: 768px) {\\n            html, body {\\n                height: 100%;\\n            }\\n        }\\n    </style>\\n    <!-- Custom CSS -->\\n    \\n<script src=\"/JMCVuBG8/captcha/captcha.js?a=c&amp;u=8d191b77-eed9-11ee-bda2-ebd188e1f648&amp;v=&amp;m=0\"></script><style type=\"text/css\">.px-loader-wrapper {    display: flex;}@keyframes loadingEffect {    0% {        background-position: 0;    }    100% {        background-position: 60vw;    }}.px-inner-loading-area {    width: 310px;    height: 100px;    animation-name: loadingEffect;    animation-duration: 1.2s;    animation-iteration-count: infinite;    animation-timing-function: ease;    animation-fill-mode: forwards;    background: linear-gradient(to right, #f6f6f6 8%, #f0f0f0 18%, #f6f6f6 33%);}.px-loading-area {    width: 310px;    height: 100px;    margin: undefined;}</style><script src=\"https://client.px-cloud.net/PXJMCVuBG8/main.min.js\"></script></head>\\n\\n<body>\\n<section class=\"container\">\\n    <div class=\"customer-logo-wrapper\">\\n        <div class=\"customer-logo\">\\n            <img src=\"\" alt=\"Logo\">\\n        </div>\\n    </div>\\n    <div class=\"page-title-wrapper\">\\n        <div class=\"page-title\">\\n            <h1>Please verify you are a human</h1>\\n        </div>\\n    </div>\\n    <div class=\"content-wrapper\">\\n        <div class=\"content\">\\n\\n            <div id=\"px-captcha\" style=\"display: block; min-width: 310px;\"><iframe style=\"display: none; width: 100%; height: 100px; border: 0px; user-select: none;\" token=\"168d39723c1f816a8f91fa94c3d1b3e103087365a083575ffe42e043f79718c343722be564f9b13533432ecfe4caf5bf8415d81dab51385b4d571170f16212d2\" title=\"人工验证挑战\"></iframe></div>\\n            <p>\\n                Access to this page has been denied because we believe you are using automation tools to browse the\\n                website.\\n            </p>\\n            <p>\\n                This may happen as a result of the following:\\n            </p>\\n            <ul>\\n                <li>\\n                    Javascript is disabled or blocked by an extension (ad blockers for example)\\n                </li>\\n                <li>\\n                    Your browser does not support cookies\\n                </li>\\n            </ul>\\n            <p>\\n                Please make sure that Javascript and cookies are enabled on your browser and that you are not blocking\\n                them from loading.\\n            </p>\\n            <p>\\n                Reference ID: #8d191b77-eed9-11ee-bda2-ebd188e1f648\\n            </p>\\n        <div id=\"px-block-form-wrapper\"><div><style>#px-block-form-wrapper{width:400px;position:fixed;left:calc(50% - 200px);bottom:0;animation-name:formSlideIn;animation-duration:.5s;-webkit-animation-name:formSlideIn;-webkit-animation-duration:.5s}@keyframes formSlideIn{from{bottom:-500px}to{bottom:0}}@-webkit-keyframes formSlideIn{from{bottom:-500px}to{bottom:0}}#px-block-toggle-button{height:20px;background:#fff;color:#000;border-radius:3px;padding:10px;cursor:pointer;font-size:13px;text-align:center;width:270px;border:1px solid #000;font-weight:900;margin-left:75px;text-decoration:underline}#px-block-form{background:#f3f4f5;color:#000;border-radius:7px;font-size:12px;font-family:Heebo,\\'Open Sans\\',sans-serif}#px-buttons-container{display:flex;justify-content:flex-end}#px-buttons-container button{bottom:10px;cursor:pointer;align-self:flex-end;width:80px;height:30px;margin-left:20px;border-radius:20px;border:none}button#px-form-submit:disabled{background:#ddd;cursor:not-allowed;color:#000}#px-form-submit{background-color:#0091ff;color:#fff;box-shadow:0 1px 3px 0 rgba(0,0,0,.15)}#px-form-submit:hover{background-color:#0085eb}#px-form-cancel{background-color:#f3f4f5;color:#949ca6}#px-form-cancel:hover{background-color:#ebeced;box-shadow:0 2px 4px 0 rgba(0,0,0,.11)}div#px-form{color:#000;padding:15px}#px-form span#px-form-subtitle{color:#858c95}div#px-form-head{display:inline-block;color:#fff;background:#6a747f;border-top-left-radius:4px;border-top-right-radius:4px;font-size:16px;height:50px;width:100%}#copy-icon:hover path[id^=line]{stroke:#81858a}#px-reference-id{display:inline-flex;cursor:pointer}#px-form-title{margin:13px;display:inline-block}div#px-form textarea{width:300px;height:70px;max-height:200px;border-radius:7px;border:solid 1px #ebeced;margin-bottom:5px;resize:none;font-family:inherit;font-size:inherit}div#px-form div{margin-bottom:6px}#px-form-thank-you{background:#fff;color:#000;border:1px solid;border-color:#404040;border-radius:3px;height:35px;padding:5px 10px;text-align:center;width:330px;margin-left:24px}#px-form-thank-you div{font-size:15px;margin-top:4px}#px-form-thank-you span.checkmark{margin-right:8px;color:green;font-size:20px}div#px-form form h4{margin:30px 0 5px 7px}#px-form-close{width:20px;height:20px;position:relative;border-radius:2px;margin:15px;float:right;background:0 0;border:none;cursor:pointer}#px-form-close::after,#px-form-close::before{position:absolute;top:9px;left:0;content:\\'\\';display:block;width:20px;height:2px;background-color:#fff}#px-form-close::after{-webkit-transform:rotate(45deg);-moz-transform:rotate(45deg);-ms-transform:rotate(45deg);-o-transform:rotate(45deg);transform:rotate(45deg)}#px-form-close::before{-webkit-transform:rotate(-45deg);-moz-transform:rotate(-45deg);-ms-transform:rotate(-45deg);-o-transform:rotate(-45deg);transform:rotate(-45deg)}.px-block-item{margin:9px;padding:13px 25px 11px 25px;border-radius:7px;border:solid 1px #ebeced;background-color:#fff}#px-uuid-copy{color:#0b97ff;text-decoration:underline}form div{margin-top:10px;height:auto}form label{vertical-align:middle}input[id^=opt]{margin:2px;vertical-align:middle}@media (max-height:380px){#px-block-toggle-button{visibility:hidden}}@media (max-width:400px){#px-block-form-wrapper{width:96%;position:fixed;left:2%}#px-block-toggle-button{height:20px;background:#fff;color:#000;padding:3px;cursor:pointer;font-size:13px;text-align:center;border:none;font-weight:900;text-decoration:underline;margin-left:0;position:fixed;bottom:5px;right:10px;width:initial}#px-block-form{background:#f3f4f5;color:#000;border-radius:7px;height:auto;font-size:12px;font-family:Heebo,\\'Open Sans\\',sans-serif}div#px-form textarea{width:100%}#px-form-thank-you{background:#fff;color:#000;border:1px solid #404040;border-radius:3px;height:25px;padding:5px 10px;text-align:center;width:90%;margin-left:0}#px-form-thank-you div{font-size:15px;margin:auto}#px-form-thank-you span.checkmark{margin-right:8px;color:green;font-size:20px}.container{display:block;position:relative}.container .content-wrapper{padding-bottom:40px}.container .page-footer-wrapper{position:fixed;bottom:0}.container .content-wrapper .content{margin:0 auto}}</style><div id=\"px-block-toggle-button\" tabindex=\"0\" onclick=\"_pxToggleOpenForm(true)\" onkeyup=\"_pxToggleOpenForm(true, event)\" aria-label=\"Feedback form\">Report an issue</div><div hidden=\"\" id=\"px-block-form\"><div id=\"px-form-head\"><div id=\"px-form-title\">报告问题</div><button onclick=\"_pxToggleOpenForm(!1)\" id=\"px-form-close\"></button></div><div id=\"px-form\"><span id=\"px-form-subtitle\">此页面遇到问题？请告诉我们：</span><div class=\"px-block-item\"><span id=\"px-form-item-ref-id\">您可以联系我们以寻求帮助。您应该使用参考ID</span><span>: <div id=\"px-reference-id\" onclick=\"_pxUuidCopyToClipboard()\"><div id=\"px-uuid-copy\">8d191b77-eed9-11ee-bda2-ebd188e1f648</div>&nbsp; <svg xmlns=\"http://www.w3.org/2000/svg\" width=\"15\" height=\"16\" viewBox=\"0 0 15 16\" id=\"copy-icon\"><g fill=\"none\" fill-rule=\"evenodd\"><g><g><path d=\"M0 0H14.354V14.354H0z\" transform=\"translate(-121 -66) translate(121 67)\"></path><path id=\"line\" fill=\"#BDC1C7\" fill-rule=\"nonzero\" stroke=\"#BDC1C7\" stroke-width=\".4\" d=\"M10.765 12.554c0 .179 0 .384-.003.615-.007.656-.579 1.185-1.282 1.185H3.076c-.708 0-1.282-.536-1.282-1.196V4.787c0-.66.571-1.194 1.277-1.196l.64-.003.002.599-.64.002c-.352 0-.638.268-.638.598v8.37c0 .331.287.599.64.599H9.48c.352 0 .638-.264.641-.592.002-.23.004-.433.004-.61h.64z\" transform=\"translate(-121 -66) translate(121 67)\"></path><path id=\"line\" fill=\"#BDC1C7\" fill-rule=\"nonzero\" stroke=\"#BDC1C7\" stroke-width=\".4\" d=\"M9.625.598H6.682c-.354 0-.64.267-.641.597l-.017 8.373c-.001.33.285.599.64.6h6.408c.354 0 .64-.268.64-.599V3.864L9.626.598zM9.862 0l4.492 3.588V9.57c0 .66-.574 1.196-1.282 1.196H6.665c-.71 0-1.284-.537-1.282-1.198L5.4 1.194C5.4.534 5.975 0 6.682 0h3.18z\" transform=\"translate(-121 -66) translate(121 67)\"></path><path id=\"line\" fill=\"#BDC1C7\" fill-rule=\"nonzero\" stroke=\"#BDC1C7\" stroke-linejoin=\"round\" stroke-width=\".4\" d=\"M9.644 3.076L9.644 0.449 8.971 0 8.971 3.588 14.354 3.588 13.585 3.076z\" transform=\"translate(-121 -66) translate(121 67)\"></path></g></g></g></svg></div></span></div><div class=\"px-block-item\"><span id=\"px-form-item-options-title\">您也可以向我们发送您的反馈：</span><form><div style=\"display:none\"><input onchange=\"_pxItemSelected()\" type=\"radio\" id=\"opt0\" name=\"px-report-reason\" value=\"-1\"> <label for=\"opt0\">I’m a bot</label></div><div><input onchange=\"_pxItemSelected()\" type=\"radio\" id=\"opt1\" name=\"px-report-reason\" value=\"1\"> <label for=\"opt1\" id=\"px-form-item-option-1\">我不知道在哪里进行确认</label></div><div><input onchange=\"_pxItemSelected()\" type=\"radio\" id=\"opt2\" name=\"px-report-reason\" value=\"2\"> <label for=\"opt2\" id=\"px-form-item-option-2\">我一直收到“请再试一次”的消息</label></div><div><input onchange=\"_pxItemSelected()\" type=\"radio\" id=\"opt3\" name=\"px-report-reason\" value=\"3\"> <label for=\"opt3\" id=\"px-form-item-option-3\">其他（请在下面详细说明）</label></div><h4 id=\"px-form-textarea-title\">遇到其他问题？</h4><textarea id=\"px-form-free-text\"></textarea></form><div id=\"px-buttons-container\"><button id=\"px-form-cancel\" onclick=\"_pxToggleOpenForm(!1)\">取消</button> <button disabled=\"disabled\" id=\"px-form-submit\" onclick=\"_pxSubmitForm()\">发送</button></div></div></div></div><div hidden=\"\" id=\"px-form-thank-you\"><div><span class=\"checkmark\">✓</span><span id=\"px-form-thank-you-text\">感谢您的反馈</span></div></div></div></div></div>\\n    </div>\\n    <div class=\"page-footer-wrapper\">\\n        <div class=\"page-footer\">\\n            <p>\\n                Powered by\\n                <a href=\"https://www.perimeterx.com/whywasiblocked\">PerimeterX</a>\\n                , Inc.\\n            </p>\\n        </div>\\n    </div>\\n</section>\\n<!-- Px -->\\n<script>\\n    window._pxAppId = \\'PXJMCVuBG8\\';\\n    window._pxJsClientSrc = \\'/JMCVuBG8/init.js\\';\\n    window._pxFirstPartyEnabled = true;\\n    window._pxVid = \\'\\';\\n    window._pxUuid = \\'8d191b77-eed9-11ee-bda2-ebd188e1f648\\';\\n    window._pxHostUrl = \\'/JMCVuBG8/xhr\\';\\n</script>\\n<script>\\n    var s = document.createElement(\\'script\\');\\n    s.src = \\'/JMCVuBG8/captcha/captcha.js?a=c&u=8d191b77-eed9-11ee-bda2-ebd188e1f648&v=&m=0\\';\\n    var p = document.getElementsByTagName(\\'head\\')[0];\\n    p.insertBefore(s, null);\\n    if (true) {\\n        s.onerror = function () {\\n            s = document.createElement(\\'script\\');\\n            var suffixIndex = \\'/JMCVuBG8/captcha/captcha.js?a=c&u=8d191b77-eed9-11ee-bda2-ebd188e1f648&v=&m=0\\'.indexOf(\\'captcha.js\\');\\n            var temperedBlockScript = \\'/JMCVuBG8/captcha/captcha.js?a=c&u=8d191b77-eed9-11ee-bda2-ebd188e1f648&v=&m=0\\'.substring(suffixIndex);\\n            s.src = \\'//captcha.px-cdn.net/PXJMCVuBG8/\\' + temperedBlockScript;\\n            p.parentNode.insertBefore(s, p);\\n        };\\n    }\\n</script>\\n\\n<!-- Custom Script -->\\n\\n\\n\\n</body></html>'"
      ]
     },
     "execution_count": 17,
     "metadata": {},
     "output_type": "execute_result"
    }
   ],
   "source": [
    "driver.page_source"
   ]
  },
  {
   "cell_type": "code",
   "execution_count": 9,
   "id": "0a7ec778",
   "metadata": {},
   "outputs": [
    {
     "ename": "NoSuchElementException",
     "evalue": "Message: no such element: Unable to locate element: {\"method\":\"xpath\",\"selector\":\"/html/body/div[1]/div/div/div[1]/main/div/div[1]/div/div/div[2]/div[2]/ul/li[3]/div/div/div/div/div[1]/div[1]/div/span\"}\n  (Session info: chrome=123.0.6312.86); For documentation on this error, please visit: https://www.selenium.dev/documentation/webdriver/troubleshooting/errors#no-such-element-exception\nStacktrace:\n\tGetHandleVerifier [0x00544CC3+225091]\n\t(No symbol) [0x00474E11]\n\t(No symbol) [0x00319A7A]\n\t(No symbol) [0x0035175B]\n\t(No symbol) [0x0035188B]\n\t(No symbol) [0x00387882]\n\t(No symbol) [0x0036F5A4]\n\t(No symbol) [0x00385CB0]\n\t(No symbol) [0x0036F2F6]\n\t(No symbol) [0x003479B9]\n\t(No symbol) [0x0034879D]\n\tsqlite3_dbdata_init [0x009B9A63+4064547]\n\tsqlite3_dbdata_init [0x009C106A+4094762]\n\tsqlite3_dbdata_init [0x009BB968+4072488]\n\tsqlite3_dbdata_init [0x006BC9C9+930953]\n\t(No symbol) [0x004807E4]\n\t(No symbol) [0x0047AD08]\n\t(No symbol) [0x0047AE31]\n\t(No symbol) [0x0046CAA0]\n\tBaseThreadInitThunk [0x776B6359+25]\n\tRtlGetAppContainerNamedObjectPath [0x77DF87D4+228]\n\tRtlGetAppContainerNamedObjectPath [0x77DF87A4+180]\n",
     "output_type": "error",
     "traceback": [
      "\u001b[1;31m---------------------------------------------------------------------------\u001b[0m",
      "\u001b[1;31mNoSuchElementException\u001b[0m                    Traceback (most recent call last)",
      "Cell \u001b[1;32mIn[9], line 1\u001b[0m\n\u001b[1;32m----> 1\u001b[0m driver\u001b[38;5;241m.\u001b[39mfind_element(\u001b[38;5;124m'\u001b[39m\u001b[38;5;124mxpath\u001b[39m\u001b[38;5;124m'\u001b[39m,\n\u001b[0;32m      2\u001b[0m                    \u001b[38;5;124m'\u001b[39m\u001b[38;5;124m/html/body/div[1]/div/div/div[1]/main/div/div[1]/div/div/div[2]/div[2]/ul/li[3]/div/div/div/div/div[1]/div[1]/div/span\u001b[39m\u001b[38;5;124m'\u001b[39m)\n",
      "File \u001b[1;32m~\\anaconda3\\Lib\\site-packages\\selenium\\webdriver\\remote\\webdriver.py:741\u001b[0m, in \u001b[0;36mWebDriver.find_element\u001b[1;34m(self, by, value)\u001b[0m\n\u001b[0;32m    738\u001b[0m     by \u001b[38;5;241m=\u001b[39m By\u001b[38;5;241m.\u001b[39mCSS_SELECTOR\n\u001b[0;32m    739\u001b[0m     value \u001b[38;5;241m=\u001b[39m \u001b[38;5;124mf\u001b[39m\u001b[38;5;124m'\u001b[39m\u001b[38;5;124m[name=\u001b[39m\u001b[38;5;124m\"\u001b[39m\u001b[38;5;132;01m{\u001b[39;00mvalue\u001b[38;5;132;01m}\u001b[39;00m\u001b[38;5;124m\"\u001b[39m\u001b[38;5;124m]\u001b[39m\u001b[38;5;124m'\u001b[39m\n\u001b[1;32m--> 741\u001b[0m \u001b[38;5;28;01mreturn\u001b[39;00m \u001b[38;5;28mself\u001b[39m\u001b[38;5;241m.\u001b[39mexecute(Command\u001b[38;5;241m.\u001b[39mFIND_ELEMENT, {\u001b[38;5;124m\"\u001b[39m\u001b[38;5;124musing\u001b[39m\u001b[38;5;124m\"\u001b[39m: by, \u001b[38;5;124m\"\u001b[39m\u001b[38;5;124mvalue\u001b[39m\u001b[38;5;124m\"\u001b[39m: value})[\u001b[38;5;124m\"\u001b[39m\u001b[38;5;124mvalue\u001b[39m\u001b[38;5;124m\"\u001b[39m]\n",
      "File \u001b[1;32m~\\anaconda3\\Lib\\site-packages\\selenium\\webdriver\\remote\\webdriver.py:347\u001b[0m, in \u001b[0;36mWebDriver.execute\u001b[1;34m(self, driver_command, params)\u001b[0m\n\u001b[0;32m    345\u001b[0m response \u001b[38;5;241m=\u001b[39m \u001b[38;5;28mself\u001b[39m\u001b[38;5;241m.\u001b[39mcommand_executor\u001b[38;5;241m.\u001b[39mexecute(driver_command, params)\n\u001b[0;32m    346\u001b[0m \u001b[38;5;28;01mif\u001b[39;00m response:\n\u001b[1;32m--> 347\u001b[0m     \u001b[38;5;28mself\u001b[39m\u001b[38;5;241m.\u001b[39merror_handler\u001b[38;5;241m.\u001b[39mcheck_response(response)\n\u001b[0;32m    348\u001b[0m     response[\u001b[38;5;124m\"\u001b[39m\u001b[38;5;124mvalue\u001b[39m\u001b[38;5;124m\"\u001b[39m] \u001b[38;5;241m=\u001b[39m \u001b[38;5;28mself\u001b[39m\u001b[38;5;241m.\u001b[39m_unwrap_value(response\u001b[38;5;241m.\u001b[39mget(\u001b[38;5;124m\"\u001b[39m\u001b[38;5;124mvalue\u001b[39m\u001b[38;5;124m\"\u001b[39m, \u001b[38;5;28;01mNone\u001b[39;00m))\n\u001b[0;32m    349\u001b[0m     \u001b[38;5;28;01mreturn\u001b[39;00m response\n",
      "File \u001b[1;32m~\\anaconda3\\Lib\\site-packages\\selenium\\webdriver\\remote\\errorhandler.py:229\u001b[0m, in \u001b[0;36mErrorHandler.check_response\u001b[1;34m(self, response)\u001b[0m\n\u001b[0;32m    227\u001b[0m         alert_text \u001b[38;5;241m=\u001b[39m value[\u001b[38;5;124m\"\u001b[39m\u001b[38;5;124malert\u001b[39m\u001b[38;5;124m\"\u001b[39m]\u001b[38;5;241m.\u001b[39mget(\u001b[38;5;124m\"\u001b[39m\u001b[38;5;124mtext\u001b[39m\u001b[38;5;124m\"\u001b[39m)\n\u001b[0;32m    228\u001b[0m     \u001b[38;5;28;01mraise\u001b[39;00m exception_class(message, screen, stacktrace, alert_text)  \u001b[38;5;66;03m# type: ignore[call-arg]  # mypy is not smart enough here\u001b[39;00m\n\u001b[1;32m--> 229\u001b[0m \u001b[38;5;28;01mraise\u001b[39;00m exception_class(message, screen, stacktrace)\n",
      "\u001b[1;31mNoSuchElementException\u001b[0m: Message: no such element: Unable to locate element: {\"method\":\"xpath\",\"selector\":\"/html/body/div[1]/div/div/div[1]/main/div/div[1]/div/div/div[2]/div[2]/ul/li[3]/div/div/div/div/div[1]/div[1]/div/span\"}\n  (Session info: chrome=123.0.6312.86); For documentation on this error, please visit: https://www.selenium.dev/documentation/webdriver/troubleshooting/errors#no-such-element-exception\nStacktrace:\n\tGetHandleVerifier [0x00544CC3+225091]\n\t(No symbol) [0x00474E11]\n\t(No symbol) [0x00319A7A]\n\t(No symbol) [0x0035175B]\n\t(No symbol) [0x0035188B]\n\t(No symbol) [0x00387882]\n\t(No symbol) [0x0036F5A4]\n\t(No symbol) [0x00385CB0]\n\t(No symbol) [0x0036F2F6]\n\t(No symbol) [0x003479B9]\n\t(No symbol) [0x0034879D]\n\tsqlite3_dbdata_init [0x009B9A63+4064547]\n\tsqlite3_dbdata_init [0x009C106A+4094762]\n\tsqlite3_dbdata_init [0x009BB968+4072488]\n\tsqlite3_dbdata_init [0x006BC9C9+930953]\n\t(No symbol) [0x004807E4]\n\t(No symbol) [0x0047AD08]\n\t(No symbol) [0x0047AE31]\n\t(No symbol) [0x0046CAA0]\n\tBaseThreadInitThunk [0x776B6359+25]\n\tRtlGetAppContainerNamedObjectPath [0x77DF87D4+228]\n\tRtlGetAppContainerNamedObjectPath [0x77DF87A4+180]\n"
     ]
    }
   ],
   "source": [
    "driver.find_element('xpath',\n",
    "                   '/html/body/div[1]/div/div/div[1]/main/div/div[1]/div/div/div[2]/div[2]/ul/li[3]/div/div/div/div/div[1]/div[1]/div/span')"
   ]
  },
  {
   "cell_type": "markdown",
   "id": "e2fbb539",
   "metadata": {},
   "source": [
    "BeautifulSoup cannot parse dynamically rendered pages"
   ]
  },
  {
   "cell_type": "code",
   "execution_count": null,
   "id": "369793ca",
   "metadata": {},
   "outputs": [],
   "source": [
    "# import requests\n",
    "# import random"
   ]
  },
  {
   "cell_type": "code",
   "execution_count": null,
   "id": "5befdf97",
   "metadata": {},
   "outputs": [],
   "source": [
    "# user_agents = [\n",
    "#     \"Mozilla/5.0 (Windows NT 10.0; Win64; x64) AppleWebKit/537.36 (KHTML, like Gecko) Chrome/58.0.3029.110 Safari/537.3\",\n",
    "#     \"Mozilla/5.0 (Windows NT 6.1; Win64; x64) AppleWebKit/537.36 (KHTML, like Gecko) Chrome/58.0.3029.110 Safari/537.3\",\n",
    "#     \"Mozilla/5.0 (Macintosh; Intel Mac OS X 10_12_6) AppleWebKit/537.36 (KHTML, like Gecko) Chrome/58.0.3029.110 Safari/537.3\",\n",
    "# ]\n",
    "# HEADERS = {'User-Agent': random.choice(user_agents)}\n",
    "# HEADERS"
   ]
  },
  {
   "cell_type": "code",
   "execution_count": null,
   "id": "5c926826",
   "metadata": {},
   "outputs": [],
   "source": [
    "# response = requests.get(url, headers = HEADERS)\n",
    "# print(response.status_code)"
   ]
  },
  {
   "cell_type": "code",
   "execution_count": null,
   "id": "b4e9236b",
   "metadata": {},
   "outputs": [],
   "source": [
    "# from bs4 import BeautifulSoup\n",
    "# soup = BeautifulSoup(response.text, 'html')\n",
    "# root_div = soup.find_all('div', {'id': 'root'}, recursive = True)\n",
    "# root_div"
   ]
  },
  {
   "cell_type": "markdown",
   "id": "fb8fdcf2",
   "metadata": {},
   "source": [
    "Normal chrome driver gets detected easily and does not work either"
   ]
  },
  {
   "cell_type": "code",
   "execution_count": null,
   "id": "42ecfa65",
   "metadata": {},
   "outputs": [],
   "source": [
    "# from selenium import webdriver\n",
    "# from selenium.webdriver.chrome.service import Service\n",
    "# from selenium.webdriver.common.by import By\n",
    "# from selenium.webdriver.chrome.options import Options\n",
    "\n",
    "# # Set up Chrome options\n",
    "# chrome_options = Options()\n",
    "# chrome_options.add_argument(\"--disable-dev-shm-usage\")  # Disable shared memory usage\n",
    "\n",
    "# # Path to chromedriver executable\n",
    "# chrome_driver_path = 'C:/Program Files/chromedriver-win64/chromedriver.exe'\n",
    "\n",
    "# driver = webdriver.Chrome(executable_path=chrome_driver_path, options=chrome_options)\n",
    "# driver.get(url)\n",
    "# driver.implicitly_wait(10) # Wait for dynamically loaded content\n",
    "\n",
    "# element = driver.find_element('xpath', \"//div[@id='root']\")\n",
    "# content = element.text\n",
    "# # content = driver.page_source\n",
    "# # print(content)"
   ]
  },
  {
   "cell_type": "code",
   "execution_count": null,
   "id": "b44e2a89",
   "metadata": {},
   "outputs": [],
   "source": []
  },
  {
   "cell_type": "code",
   "execution_count": null,
   "id": "526a4050",
   "metadata": {},
   "outputs": [],
   "source": []
  },
  {
   "cell_type": "code",
   "execution_count": null,
   "id": "0cf5bc29",
   "metadata": {},
   "outputs": [],
   "source": []
  }
 ],
 "metadata": {
  "kernelspec": {
   "display_name": "Python 3 (ipykernel)",
   "language": "python",
   "name": "python3"
  },
  "language_info": {
   "codemirror_mode": {
    "name": "ipython",
    "version": 3
   },
   "file_extension": ".py",
   "mimetype": "text/x-python",
   "name": "python",
   "nbconvert_exporter": "python",
   "pygments_lexer": "ipython3",
   "version": "3.11.4"
  }
 },
 "nbformat": 4,
 "nbformat_minor": 5
}
