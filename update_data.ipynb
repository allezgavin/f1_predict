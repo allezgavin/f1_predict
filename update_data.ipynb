{
 "cells": [
  {
   "cell_type": "markdown",
   "id": "da9e2913",
   "metadata": {},
   "source": [
    "Adapted from https://github.com/ritomsonowal/F1-Data-Analysis/blob/master/update.py"
   ]
  },
  {
   "cell_type": "code",
   "execution_count": 2,
   "id": "4351dff7",
   "metadata": {},
   "outputs": [],
   "source": [
    "import wget\n",
    "import os, shutil\n",
    "import zipfile"
   ]
  },
  {
   "cell_type": "code",
   "execution_count": 2,
   "id": "f95f1ff4",
   "metadata": {},
   "outputs": [
    {
     "name": "stdout",
     "output_type": "stream",
     "text": [
      "===================================\n",
      "Updating CSV files\n",
      "===================================\n"
     ]
    }
   ],
   "source": [
    "print('===================================')\n",
    "print('Updating CSV files')\n",
    "print('===================================')"
   ]
  },
  {
   "cell_type": "code",
   "execution_count": 8,
   "id": "2f626938",
   "metadata": {},
   "outputs": [],
   "source": [
    "folder = 'updated_data/'"
   ]
  },
  {
   "cell_type": "code",
   "execution_count": 9,
   "id": "8aac8473",
   "metadata": {},
   "outputs": [],
   "source": [
    "# Remove outdated files\n",
    "for file in os.listdir(folder):\n",
    "    file_path = os.path.join(folder, file)\n",
    "    try:\n",
    "        if os.path.isfile(file_path):\n",
    "            os.unlink(file_path)\n",
    "    except Exception as e:\n",
    "        print(e)"
   ]
  },
  {
   "cell_type": "code",
   "execution_count": 10,
   "id": "fcfa1290",
   "metadata": {},
   "outputs": [
    {
     "name": "stdout",
     "output_type": "stream",
     "text": [
      "100% [......................................................] 6381483 / 6381483"
     ]
    }
   ],
   "source": [
    "# Download csv zip\n",
    "url = 'http://ergast.com/downloads/f1db_csv.zip'\n",
    "\n",
    "wget.download(url, folder)\n",
    "\n",
    "# Unzip csv files\n",
    "zip_path = folder+'f1db_csv.zip'\n",
    "\n",
    "with zipfile.ZipFile(zip_path, 'r') as zip_ref:\n",
    "    zip_ref.extractall(folder)\n",
    "\n",
    "# Delete zip file\n",
    "os.remove(folder+'f1db_csv.zip')"
   ]
  },
  {
   "cell_type": "code",
   "execution_count": null,
   "id": "01bb63a7",
   "metadata": {},
   "outputs": [],
   "source": []
  }
 ],
 "metadata": {
  "kernelspec": {
   "display_name": "Python 3 (ipykernel)",
   "language": "python",
   "name": "python3"
  },
  "language_info": {
   "codemirror_mode": {
    "name": "ipython",
    "version": 3
   },
   "file_extension": ".py",
   "mimetype": "text/x-python",
   "name": "python",
   "nbconvert_exporter": "python",
   "pygments_lexer": "ipython3",
   "version": "3.12.4"
  }
 },
 "nbformat": 4,
 "nbformat_minor": 5
}
