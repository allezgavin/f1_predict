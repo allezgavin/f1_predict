{
 "cells": [
  {
   "cell_type": "code",
   "execution_count": 12,
   "id": "340d1ed9",
   "metadata": {},
   "outputs": [],
   "source": [
    "from openai import OpenAI\n",
    "import json"
   ]
  },
  {
   "cell_type": "code",
   "execution_count": 14,
   "id": "2e5df5b0",
   "metadata": {},
   "outputs": [],
   "source": [
    "with open('config.json', 'r') as file:\n",
    "    api_key = json.load(file)['OPENAI_API_KEY']"
   ]
  },
  {
   "cell_type": "code",
   "execution_count": 15,
   "id": "32d48b23",
   "metadata": {},
   "outputs": [],
   "source": [
    "client = OpenAI(\n",
    "    organization='org-kUuKMbe5W2ClnvM8A10kzCOr',\n",
    "    project='proj_HYkHTMjhrk2kpKP1pwlpPVBw',\n",
    "    api_key = api_key\n",
    ")"
   ]
  },
  {
   "cell_type": "markdown",
   "id": "c2327afb",
   "metadata": {},
   "source": [
    "## TEST"
   ]
  },
  {
   "cell_type": "code",
   "execution_count": 21,
   "id": "9ccff3eb",
   "metadata": {},
   "outputs": [
    {
     "data": {
      "text/plain": [
       "ChatCompletion(id='chatcmpl-9eaxwcJ1Lytn7ClDz5mbJB77rQCv8', choices=[Choice(finish_reason='stop', index=0, logprobs=None, message=ChatCompletionMessage(content='This is a test.', role='assistant', function_call=None, tool_calls=None))], created=1719462244, model='gpt-3.5-turbo-0125', object='chat.completion', service_tier=None, system_fingerprint=None, usage=CompletionUsage(completion_tokens=5, prompt_tokens=12, total_tokens=17))"
      ]
     },
     "execution_count": 21,
     "metadata": {},
     "output_type": "execute_result"
    }
   ],
   "source": [
    "client.chat.completions.create(\n",
    "    model=\"gpt-3.5-turbo\",\n",
    "    messages=[{\"role\": \"user\", \"content\": \"Say this is a test\"}])"
   ]
  },
  {
   "cell_type": "markdown",
   "id": "167b3ad7",
   "metadata": {},
   "source": [
    "### STREAMING"
   ]
  },
  {
   "cell_type": "code",
   "execution_count": 23,
   "id": "7e340634",
   "metadata": {},
   "outputs": [
    {
     "name": "stdout",
     "output_type": "stream",
     "text": [
      "This is a test."
     ]
    }
   ],
   "source": [
    "stream = client.chat.completions.create(\n",
    "    model=\"gpt-3.5-turbo\",\n",
    "    messages=[{\"role\": \"user\", \"content\": \"Say this is a test\"}],\n",
    "    stream=True,\n",
    ")\n",
    "\n",
    "for chunk in stream:\n",
    "    if chunk.choices[0].delta.content is not None:\n",
    "        print(chunk.choices[0].delta.content, end=\"\")"
   ]
  },
  {
   "cell_type": "code",
   "execution_count": 29,
   "id": "6813e71b",
   "metadata": {},
   "outputs": [
    {
     "name": "stdout",
     "output_type": "stream",
     "text": [
      "ChatCompletion(id='chatcmpl-9elwatlUvhPpKhHJRexa9KxX8iswf', choices=[Choice(finish_reason='stop', index=0, logprobs=None, message=ChatCompletionMessage(content='You have asked me a total of 4 questions so far.', role='assistant', function_call=None, tool_calls=None))], created=1719504444, model='gpt-3.5-turbo-0125', object='chat.completion', service_tier=None, system_fingerprint=None, usage=CompletionUsage(completion_tokens=13, prompt_tokens=17, total_tokens=30))\n"
     ]
    }
   ],
   "source": [
    "print(response)"
   ]
  },
  {
   "cell_type": "code",
   "execution_count": 77,
   "id": "4cb8d09e",
   "metadata": {},
   "outputs": [
    {
     "data": {
      "text/plain": [
       "'You have asked me 1 question so far.'"
      ]
     },
     "execution_count": 77,
     "metadata": {},
     "output_type": "execute_result"
    }
   ],
   "source": [
    "response.choices[0].message.content"
   ]
  },
  {
   "cell_type": "code",
   "execution_count": 76,
   "id": "62db385a",
   "metadata": {},
   "outputs": [],
   "source": [
    "response = client.chat.completions.create(\n",
    "    model=\"gpt-3.5-turbo\",\n",
    "    messages=[{\"role\": \"user\", \"content\": \"How many questions have I asked you so far?\"}],\n",
    "    temperature=0)\n"
   ]
  },
  {
   "cell_type": "code",
   "execution_count": null,
   "id": "1d8f440d",
   "metadata": {},
   "outputs": [],
   "source": []
  },
  {
   "cell_type": "markdown",
   "id": "c2e1a124",
   "metadata": {},
   "source": [
    "### Back-and-Forth"
   ]
  },
  {
   "cell_type": "code",
   "execution_count": 45,
   "id": "9db6cb4e",
   "metadata": {},
   "outputs": [
    {
     "name": "stdout",
     "output_type": "stream",
     "text": [
      "GPT Chatbot is Ready!\n",
      "quit()\n",
      "\n",
      "Goodbye! If you have any more questions in the future, feel free to come back. Have a great day!\n",
      "\n"
     ]
    }
   ],
   "source": [
    "model = 'gpt-3.5-turbo'\n",
    "\n",
    "messages = []\n",
    "message = ''\n",
    "system_msg = 'start'\n",
    "messages.append({'role':'system', 'content':system_msg})\n",
    "\n",
    "print(\"GPT Chatbot is Ready!\")\n",
    "while message != 'quit()':\n",
    "    message = input('')\n",
    "    messages.append({'role':'user','content':message})\n",
    "    response = client.chat.completions.create(\n",
    "        model=model,\n",
    "        messages=messages)\n",
    "    reply = response.choices[0].message.content\n",
    "    messages.append({'role':'assistant','content':reply})\n",
    "    print('\\n'+reply+'\\n')"
   ]
  },
  {
   "cell_type": "code",
   "execution_count": null,
   "id": "79f9d501",
   "metadata": {},
   "outputs": [],
   "source": []
  }
 ],
 "metadata": {
  "kernelspec": {
   "display_name": "Python 3 (ipykernel)",
   "language": "python",
   "name": "python3"
  },
  "language_info": {
   "codemirror_mode": {
    "name": "ipython",
    "version": 3
   },
   "file_extension": ".py",
   "mimetype": "text/x-python",
   "name": "python",
   "nbconvert_exporter": "python",
   "pygments_lexer": "ipython3",
   "version": "3.12.4"
  }
 },
 "nbformat": 4,
 "nbformat_minor": 5
}
